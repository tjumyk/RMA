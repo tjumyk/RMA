{
 "cells": [
  {
   "cell_type": "code",
   "execution_count": 1,
   "metadata": {},
   "outputs": [],
   "source": [
    "res_logs = '''n_estimators: 1000, max_depth: 6, acc_training: 0.6169356484542731, corr_num: 151148\n",
    "n_estimators: 1000, max_depth: 6, acc_testing: 0.5732758620689655, corr_num: 532\n",
    "---------------------------------\n",
    "n_estimators: 1000, max_depth: 8, acc_training: 0.623327537367652, corr_num: 152714\n",
    "n_estimators: 1000, max_depth: 8, acc_testing: 0.572198275862069, corr_num: 531\n",
    "---------------------------------\n",
    "n_estimators: 1000, max_depth: 10, acc_training: 0.63467456877199, corr_num: 155494\n",
    "n_estimators: 1000, max_depth: 10, acc_testing: 0.5754310344827587, corr_num: 534\n",
    "---------------------------------\n",
    "n_estimators: 1000, max_depth: 12, acc_training: 0.6518012391937893, corr_num: 159690\n",
    "n_estimators: 1000, max_depth: 12, acc_testing: 0.5765086206896551, corr_num: 535\n",
    "---------------------------------\n",
    "n_estimators: 1000, max_depth: 16, acc_training: 0.6718544641180745, corr_num: 164603\n",
    "n_estimators: 1000, max_depth: 16, acc_testing: 0.5765086206896551, corr_num: 535\n",
    "---------------------------------\n",
    "n_estimators: 1000, max_depth: 18, acc_training: 0.6721442624021421, corr_num: 164674\n",
    "n_estimators: 1000, max_depth: 18, acc_testing: 0.5711206896551724, corr_num: 530\n",
    "---------------------------------\n",
    "n_estimators: 1400, max_depth: 6, acc_training: 0.6195928130025551, corr_num: 151799\n",
    "n_estimators: 1400, max_depth: 6, acc_testing: 0.5775862068965517, corr_num: 536\n",
    "---------------------------------\n",
    "n_estimators: 1400, max_depth: 8, acc_training: 0.6267112384590895, corr_num: 153543\n",
    "n_estimators: 1400, max_depth: 8, acc_testing: 0.5700431034482759, corr_num: 529\n",
    "---------------------------------\n",
    "n_estimators: 1400, max_depth: 10, acc_training: 0.6399072645490984, corr_num: 156776\n",
    "n_estimators: 1400, max_depth: 10, acc_testing: 0.5808189655172413, corr_num: 539\n",
    "---------------------------------\n",
    "n_estimators: 1400, max_depth: 12, acc_training: 0.6579767998106107, corr_num: 161203\n",
    "n_estimators: 1400, max_depth: 12, acc_testing: 0.5754310344827587, corr_num: 534\n",
    "---------------------------------\n",
    "n_estimators: 1400, max_depth: 16, acc_training: 0.6720871190785231, corr_num: 164660\n",
    "n_estimators: 1400, max_depth: 16, acc_testing: 0.5775862068965517, corr_num: 536\n",
    "---------------------------------\n",
    "n_estimators: 1400, max_depth: 18, acc_training: 0.6721605890660332, corr_num: 164678\n",
    "n_estimators: 1400, max_depth: 18, acc_testing: 0.5689655172413793, corr_num: 528\n",
    "---------------------------------\n",
    "n_estimators: 1800, max_depth: 6, acc_training: 0.6210622127527572, corr_num: 152159\n",
    "n_estimators: 1800, max_depth: 6, acc_testing: 0.5765086206896551, corr_num: 535\n",
    "---------------------------------\n",
    "n_estimators: 1800, max_depth: 8, acc_training: 0.6292867696879159, corr_num: 154174\n",
    "n_estimators: 1800, max_depth: 8, acc_testing: 0.572198275862069, corr_num: 531\n",
    "---------------------------------\n",
    "n_estimators: 1800, max_depth: 10, acc_training: 0.6438787255406166, corr_num: 157749\n",
    "n_estimators: 1800, max_depth: 10, acc_testing: 0.5818965517241379, corr_num: 540\n",
    "---------------------------------\n",
    "n_estimators: 1800, max_depth: 12, acc_training: 0.6622543857500878, corr_num: 162251\n",
    "n_estimators: 1800, max_depth: 12, acc_testing: 0.5743534482758621, corr_num: 533\n",
    "---------------------------------\n",
    "n_estimators: 1800, max_depth: 16, acc_training: 0.6721320174042237, corr_num: 164671\n",
    "n_estimators: 1800, max_depth: 16, acc_testing: 0.5754310344827587, corr_num: 534\n",
    "---------------------------------\n",
    "n_estimators: 1800, max_depth: 18, acc_training: 0.6721687523979788, corr_num: 164680\n",
    "n_estimators: 1800, max_depth: 18, acc_testing: 0.5732758620689655, corr_num: 532\n",
    "---------------------------------\n",
    "n_estimators: 2200, max_depth: 6, acc_training: 0.6223193658723745, corr_num: 152467\n",
    "n_estimators: 2200, max_depth: 6, acc_testing: 0.5786637931034483, corr_num: 537\n",
    "---------------------------------\n",
    "n_estimators: 2200, max_depth: 8, acc_training: 0.6312459693548519, corr_num: 154654\n",
    "n_estimators: 2200, max_depth: 8, acc_testing: 0.5732758620689655, corr_num: 532\n",
    "---------------------------------\n",
    "n_estimators: 2200, max_depth: 10, acc_training: 0.6471807933125985, corr_num: 158558\n",
    "n_estimators: 2200, max_depth: 10, acc_testing: 0.5829741379310345, corr_num: 541\n",
    "---------------------------------\n",
    "n_estimators: 2200, max_depth: 12, acc_training: 0.6652054302484102, corr_num: 162974\n",
    "n_estimators: 2200, max_depth: 12, acc_testing: 0.5765086206896551, corr_num: 535\n",
    "---------------------------------\n",
    "n_estimators: 2200, max_depth: 16, acc_training: 0.6721605890660332, corr_num: 164678\n",
    "n_estimators: 2200, max_depth: 16, acc_testing: 0.5765086206896551, corr_num: 535\n",
    "---------------------------------\n",
    "n_estimators: 2200, max_depth: 18, acc_training: 0.6721687523979788, corr_num: 164680\n",
    "n_estimators: 2200, max_depth: 18, acc_testing: 0.5743534482758621, corr_num: 533\n",
    "---------------------------------\n",
    "n_estimators: 2600, max_depth: 6, acc_training: 0.6233030473718153, corr_num: 152708\n",
    "n_estimators: 2600, max_depth: 6, acc_testing: 0.5818965517241379, corr_num: 540\n",
    "---------------------------------\n",
    "n_estimators: 2600, max_depth: 8, acc_training: 0.6327561857647818, corr_num: 155024\n",
    "n_estimators: 2600, max_depth: 8, acc_testing: 0.5743534482758621, corr_num: 533\n",
    "---------------------------------\n",
    "n_estimators: 2600, max_depth: 10, acc_training: 0.6496134662323774, corr_num: 159154\n",
    "n_estimators: 2600, max_depth: 10, acc_testing: 0.5818965517241379, corr_num: 540\n",
    "---------------------------------\n",
    "n_estimators: 2600, max_depth: 12, acc_training: 0.6668013616437686, corr_num: 163365\n",
    "n_estimators: 2600, max_depth: 12, acc_testing: 0.5765086206896551, corr_num: 535\n",
    "---------------------------------\n",
    "n_estimators: 2600, max_depth: 16, acc_training: 0.672164670732006, corr_num: 164679\n",
    "n_estimators: 2600, max_depth: 16, acc_testing: 0.5765086206896551, corr_num: 535\n",
    "---------------------------------\n",
    "n_estimators: 2600, max_depth: 18, acc_training: 0.6721687523979788, corr_num: 164680\n",
    "n_estimators: 2600, max_depth: 18, acc_testing: 0.5743534482758621, corr_num: 533\n",
    "---------------------------------\n",
    "n_estimators: 3000, max_depth: 6, acc_training: 0.6240377472469163, corr_num: 152888\n",
    "n_estimators: 3000, max_depth: 6, acc_testing: 0.5808189655172413, corr_num: 539\n",
    "---------------------------------\n",
    "n_estimators: 3000, max_depth: 8, acc_training: 0.634372525490004, corr_num: 155420\n",
    "n_estimators: 3000, max_depth: 8, acc_testing: 0.5743534482758621, corr_num: 533\n",
    "---------------------------------\n",
    "n_estimators: 3000, max_depth: 10, acc_training: 0.6515522575694496, corr_num: 159629\n",
    "n_estimators: 3000, max_depth: 10, acc_testing: 0.5829741379310345, corr_num: 541\n",
    "---------------------------------\n",
    "n_estimators: 3000, max_depth: 12, acc_training: 0.6680054531057397, corr_num: 163660\n",
    "n_estimators: 3000, max_depth: 12, acc_testing: 0.5775862068965517, corr_num: 536\n",
    "---------------------------------'''"
   ]
  },
  {
   "cell_type": "code",
   "execution_count": 32,
   "metadata": {
    "collapsed": true
   },
   "outputs": [],
   "source": [
    "import numpy as np\n",
    "import re\n",
    "from collections import defaultdict\n",
    "import json"
   ]
  },
  {
   "cell_type": "code",
   "execution_count": 33,
   "metadata": {},
   "outputs": [
    {
     "data": {
      "text/plain": [
       "[100, 500, 900, 1300, 1700, 2100, 2500, 2900, 3300, 3700, 4100, 4500, 4900]"
      ]
     },
     "execution_count": 33,
     "metadata": {},
     "output_type": "execute_result"
    }
   ],
   "source": [
    "n_estimators = range(100, 5000, 400)\n",
    "max_depth = [4, 6, 8, 10]\n",
    "n_est = [x for x in n_estimators]\n",
    "n_est"
   ]
  },
  {
   "cell_type": "code",
   "execution_count": 34,
   "metadata": {
    "collapsed": true
   },
   "outputs": [],
   "source": [
    "res_logs = re.sub(r'\\n[-]+', '', res_logs)"
   ]
  },
  {
   "cell_type": "code",
   "execution_count": 35,
   "metadata": {},
   "outputs": [],
   "source": [
    "res = res_logs.splitlines()"
   ]
  },
  {
   "cell_type": "code",
   "execution_count": 18,
   "metadata": {},
   "outputs": [],
   "source": [
    "train_s = defaultdict(list)\n",
    "test_s = defaultdict(list)\n",
    "for idx, item in enumerate(res):\n",
    "    itm_lst = re.findall(r'[.\\d]+', item)\n",
    "    if idx % 2:\n",
    "        test_s[int(itm_lst[1])].append(itm_lst[2])\n",
    "    else:\n",
    "        train_s[int(itm_lst[1])].append(itm_lst[2])"
   ]
  },
  {
   "cell_type": "code",
   "execution_count": 19,
   "metadata": {},
   "outputs": [],
   "source": [
    "train_scores = np.array(list(train_s.values()), dtype=np.float32)\n",
    "test_scores = np.array(list(test_s.values()), dtype=np.float32)"
   ]
  },
  {
   "cell_type": "code",
   "execution_count": 37,
   "metadata": {
    "scrolled": true
   },
   "outputs": [
    {
     "name": "stdout",
     "output_type": "stream",
     "text": [
      "n_estimators: 100, max_depth: 4, acc_testing: 0.7163879598662207, corr_num: 3213\n",
      "n_estimators: 100, max_depth: 6, acc_testing: 0.7868450390189521, corr_num: 3529\n",
      "n_estimators: 100, max_depth: 8, acc_testing: 0.8133779264214047, corr_num: 3648\n",
      "n_estimators: 100, max_depth: 10, acc_testing: 0.8251950947603122, corr_num: 3701\n",
      "n_estimators: 500, max_depth: 4, acc_testing: 0.8013377926421404, corr_num: 3594\n",
      "n_estimators: 500, max_depth: 6, acc_testing: 0.8401337792642141, corr_num: 3768\n",
      "n_estimators: 500, max_depth: 8, acc_testing: 0.8479375696767001, corr_num: 3803\n",
      "n_estimators: 500, max_depth: 10, acc_testing: 0.8416945373467113, corr_num: 3775\n",
      "n_estimators: 900, max_depth: 4, acc_testing: 0.8323299888517279, corr_num: 3733\n",
      "n_estimators: 900, max_depth: 6, acc_testing: 0.8552954292084727, corr_num: 3836\n",
      "n_estimators: 900, max_depth: 8, acc_testing: 0.862876254180602, corr_num: 3870\n",
      "n_estimators: 900, max_depth: 10, acc_testing: 0.8564102564102564, corr_num: 3841\n",
      "n_estimators: 1300, max_depth: 4, acc_testing: 0.8535117056856187, corr_num: 3828\n",
      "n_estimators: 1300, max_depth: 6, acc_testing: 0.862876254180602, corr_num: 3870\n",
      "n_estimators: 1300, max_depth: 8, acc_testing: 0.8668896321070234, corr_num: 3888\n",
      "n_estimators: 1300, max_depth: 10, acc_testing: 0.8597547380156075, corr_num: 3856\n",
      "n_estimators: 1700, max_depth: 4, acc_testing: 0.8615384615384616, corr_num: 3864\n",
      "n_estimators: 1700, max_depth: 6, acc_testing: 0.869788182831661, corr_num: 3901\n",
      "n_estimators: 1700, max_depth: 8, acc_testing: 0.8706800445930881, corr_num: 3905\n",
      "n_estimators: 1700, max_depth: 10, acc_testing: 0.8617614269788183, corr_num: 3865\n",
      "n_estimators: 2100, max_depth: 4, acc_testing: 0.8633221850613155, corr_num: 3872\n",
      "n_estimators: 2100, max_depth: 6, acc_testing: 0.8740245261984393, corr_num: 3920\n",
      "n_estimators: 2100, max_depth: 8, acc_testing: 0.8724637681159421, corr_num: 3913\n",
      "n_estimators: 2100, max_depth: 10, acc_testing: 0.8653288740245262, corr_num: 3881\n",
      "n_estimators: 2500, max_depth: 4, acc_testing: 0.8662207357859532, corr_num: 3885\n",
      "n_estimators: 2500, max_depth: 6, acc_testing: 0.8749163879598663, corr_num: 3924\n",
      "n_estimators: 2500, max_depth: 8, acc_testing: 0.8735785953177257, corr_num: 3918\n",
      "n_estimators: 2500, max_depth: 10, acc_testing: 0.8655518394648829, corr_num: 3882\n",
      "n_estimators: 2900, max_depth: 4, acc_testing: 0.8691192865105909, corr_num: 3898\n",
      "n_estimators: 2900, max_depth: 6, acc_testing: 0.8778149386845039, corr_num: 3937\n",
      "n_estimators: 2900, max_depth: 8, acc_testing: 0.8735785953177257, corr_num: 3918\n",
      "n_estimators: 2900, max_depth: 10, acc_testing: 0.8651059085841695, corr_num: 3880\n",
      "n_estimators: 3300, max_depth: 4, acc_testing: 0.8706800445930881, corr_num: 3905\n",
      "n_estimators: 3300, max_depth: 6, acc_testing: 0.8784838350055741, corr_num: 3940\n",
      "n_estimators: 3300, max_depth: 8, acc_testing: 0.8722408026755852, corr_num: 3912\n",
      "n_estimators: 3300, max_depth: 10, acc_testing: 0.8668896321070234, corr_num: 3888\n",
      "n_estimators: 3700, max_depth: 4, acc_testing: 0.8706800445930881, corr_num: 3905\n",
      "n_estimators: 3700, max_depth: 6, acc_testing: 0.8791527313266444, corr_num: 3943\n",
      "n_estimators: 3700, max_depth: 8, acc_testing: 0.8711259754738016, corr_num: 3907\n",
      "n_estimators: 3700, max_depth: 10, acc_testing: 0.8675585284280937, corr_num: 3891\n",
      "n_estimators: 4100, max_depth: 4, acc_testing: 0.8740245261984393, corr_num: 3920\n",
      "n_estimators: 4100, max_depth: 6, acc_testing: 0.8804905239687848, corr_num: 3949\n",
      "n_estimators: 4100, max_depth: 8, acc_testing: 0.8709030100334448, corr_num: 3906\n",
      "n_estimators: 4100, max_depth: 10, acc_testing: 0.8668896321070234, corr_num: 3888\n",
      "n_estimators: 4500, max_depth: 4, acc_testing: 0.8746934225195094, corr_num: 3923\n",
      "n_estimators: 4500, max_depth: 6, acc_testing: 0.8793756967670011, corr_num: 3944\n",
      "n_estimators: 4500, max_depth: 8, acc_testing: 0.8706800445930881, corr_num: 3905\n",
      "n_estimators: 4500, max_depth: 10, acc_testing: 0.867335562987737, corr_num: 3890\n",
      "n_estimators: 4900, max_depth: 4, acc_testing: 0.8764771460423635, corr_num: 3931\n",
      "n_estimators: 4900, max_depth: 6, acc_testing: 0.8798216276477147, corr_num: 3946\n",
      "n_estimators: 4900, max_depth: 8, acc_testing: 0.8711259754738016, corr_num: 3907\n",
      "n_estimators: 4900, max_depth: 10, acc_testing: 0.8677814938684504, corr_num: 3892\n"
     ]
    }
   ],
   "source": [
    "for idx, item in enumerate(res):\n",
    "    if idx % 2:\n",
    "        print(item)"
   ]
  },
  {
   "cell_type": "code",
   "execution_count": 21,
   "metadata": {},
   "outputs": [
    {
     "data": {
      "text/plain": [
       "array([[ 0.76840514,  0.84774286,  0.8784855 ,  0.89051294,  0.89860308,\n",
       "         0.90793377,  0.91634756,  0.92281967,  0.92794347,  0.93209642,\n",
       "         0.93587184,  0.93862253,  0.94191253],\n",
       "       [ 0.82897365,  0.89364111,  0.9200151 ,  0.93727416,  0.9477914 ,\n",
       "         0.95410174,  0.9597109 ,  0.96456504,  0.9680168 ,  0.97055173,\n",
       "         0.97319454,  0.97497439,  0.976107  ],\n",
       "       [ 0.88129014,  0.9402945 ,  0.96391779,  0.97432715,  0.97869587,\n",
       "         0.98047572,  0.98128474,  0.98166227,  0.98177016,  0.98187798,\n",
       "         0.98187798,  0.98187798,  0.98187798],\n",
       "       [ 0.92055446,  0.96763927,  0.98004425,  0.98166227,  0.98187798,\n",
       "         0.98187798,  0.98187798,  0.98187798,  0.98187798,  0.98187798,\n",
       "         0.98187798,  0.98187798,  0.98187798]], dtype=float32)"
      ]
     },
     "execution_count": 21,
     "metadata": {},
     "output_type": "execute_result"
    }
   ],
   "source": [
    "train_scores"
   ]
  },
  {
   "cell_type": "code",
   "execution_count": 22,
   "metadata": {},
   "outputs": [
    {
     "name": "stdout",
     "output_type": "stream",
     "text": [
      "0\n",
      "1\n",
      "2\n",
      "3\n"
     ]
    }
   ],
   "source": [
    "for idx, x in enumerate(train_scores):\n",
    "    \n",
    "    print(idx)"
   ]
  },
  {
   "cell_type": "code",
   "execution_count": 30,
   "metadata": {},
   "outputs": [
    {
     "name": "stdout",
     "output_type": "stream",
     "text": [
      "1\n",
      "1\n",
      "1\n",
      "1\n"
     ]
    }
   ],
   "source": [
    "import matplotlib\n",
    "matplotlib.use('Agg')\n",
    "\n",
    "import matplotlib.pyplot as pyplot\n",
    "import numpy as np\n",
    "\n",
    "for idx, scores in enumerate(train_scores):\n",
    "#     pyplot.figure(idx)\n",
    "#     pyplot.plot(n_est, scores, label='training')\n",
    "    pyplot.plot(n_est, test_scores[idx], label='Depth: '+ str(4 + idx * 2))\n",
    "pyplot.legend()\n",
    "pyplot.xlabel('n_estimators')\n",
    "pyplot.ylabel('Accuracy')\n",
    "# pyplot.title('Accuracy on Development Dataset with different number and depth of trees')\n",
    "pyplot.show()\n",
    "# pyplot.savefig('n_estimators_vs_max_depth.png')"
   ]
  },
  {
   "cell_type": "code",
   "execution_count": 11,
   "metadata": {},
   "outputs": [
    {
     "name": "stdout",
     "output_type": "stream",
     "text": [
      "n_estimators: 1000, max_depth: 6, acc_training: 0.9139602242149755, corr_num: 151148\n",
      "n_estimators: 1000, max_depth: 6, acc_testing: 0.865040650406504, corr_num: 532\n",
      "---------------------------------\n",
      "n_estimators: 1000, max_depth: 8, acc_training: 0.923429497451278, corr_num: 152714\n",
      "n_estimators: 1000, max_depth: 8, acc_testing: 0.8634146341463415, corr_num: 531\n",
      "---------------------------------\n",
      "n_estimators: 1000, max_depth: 10, acc_training: 0.9402395738222364, corr_num: 155494\n",
      "n_estimators: 1000, max_depth: 10, acc_testing: 0.8682926829268293, corr_num: 534\n",
      "---------------------------------\n",
      "n_estimators: 1000, max_depth: 12, acc_training: 0.965611904920273, corr_num: 159690\n",
      "n_estimators: 1000, max_depth: 12, acc_testing: 0.8699186991869918, corr_num: 535\n",
      "---------------------------------\n",
      "n_estimators: 1000, max_depth: 16, acc_training: 0.9953197844924022, corr_num: 164603\n",
      "n_estimators: 1000, max_depth: 16, acc_testing: 0.8699186991869918, corr_num: 535\n",
      "---------------------------------\n",
      "n_estimators: 1000, max_depth: 18, acc_training: 0.9957491065867684, corr_num: 164674\n",
      "n_estimators: 1000, max_depth: 18, acc_testing: 0.8617886178861789, corr_num: 530\n",
      "---------------------------------\n",
      "n_estimators: 1400, max_depth: 6, acc_training: 0.9178966845450093, corr_num: 151799\n",
      "n_estimators: 1400, max_depth: 6, acc_testing: 0.8715447154471545, corr_num: 536\n",
      "---------------------------------\n",
      "n_estimators: 1400, max_depth: 8, acc_training: 0.928442286412258, corr_num: 153543\n",
      "n_estimators: 1400, max_depth: 8, acc_testing: 0.8601626016260162, corr_num: 529\n",
      "---------------------------------\n",
      "n_estimators: 1400, max_depth: 10, acc_training: 0.9479915586810741, corr_num: 156776\n",
      "n_estimators: 1400, max_depth: 10, acc_testing: 0.8764227642276423, corr_num: 539\n",
      "---------------------------------\n",
      "n_estimators: 1400, max_depth: 12, acc_training: 0.9747606982833164, corr_num: 161203\n",
      "n_estimators: 1400, max_depth: 12, acc_testing: 0.8682926829268293, corr_num: 534\n",
      "---------------------------------\n",
      "n_estimators: 1400, max_depth: 16, acc_training: 0.9956644515259074, corr_num: 164660\n",
      "n_estimators: 1400, max_depth: 16, acc_testing: 0.8715447154471545, corr_num: 536\n",
      "---------------------------------\n",
      "n_estimators: 1400, max_depth: 18, acc_training: 0.9957732937470144, corr_num: 164678\n",
      "n_estimators: 1400, max_depth: 18, acc_testing: 0.8585365853658536, corr_num: 528\n",
      "---------------------------------\n",
      "n_estimators: 1800, max_depth: 6, acc_training: 0.9200735289671478, corr_num: 152159\n",
      "n_estimators: 1800, max_depth: 6, acc_testing: 0.8699186991869918, corr_num: 535\n",
      "---------------------------------\n",
      "n_estimators: 1800, max_depth: 8, acc_training: 0.932257810941062, corr_num: 154174\n",
      "n_estimators: 1800, max_depth: 8, acc_testing: 0.8634146341463415, corr_num: 531\n",
      "---------------------------------\n",
      "n_estimators: 1800, max_depth: 10, acc_training: 0.9538750854109096, corr_num: 157749\n",
      "n_estimators: 1800, max_depth: 10, acc_testing: 0.8780487804878049, corr_num: 540\n",
      "---------------------------------\n",
      "n_estimators: 1800, max_depth: 12, acc_training: 0.9810977342677639, corr_num: 162251\n",
      "n_estimators: 1800, max_depth: 12, acc_testing: 0.8666666666666667, corr_num: 533\n",
      "---------------------------------\n",
      "n_estimators: 1800, max_depth: 16, acc_training: 0.995730966216584, corr_num: 164671\n",
      "n_estimators: 1800, max_depth: 16, acc_testing: 0.8682926829268293, corr_num: 534\n",
      "---------------------------------\n",
      "n_estimators: 1800, max_depth: 18, acc_training: 0.9957853873271374, corr_num: 164680\n",
      "n_estimators: 1800, max_depth: 18, acc_testing: 0.865040650406504, corr_num: 532\n",
      "---------------------------------\n",
      "n_estimators: 2200, max_depth: 6, acc_training: 0.9219359403060885, corr_num: 152467\n",
      "n_estimators: 2200, max_depth: 6, acc_testing: 0.8731707317073171, corr_num: 537\n",
      "---------------------------------\n",
      "n_estimators: 2200, max_depth: 8, acc_training: 0.9351602701705799, corr_num: 154654\n",
      "n_estimators: 2200, max_depth: 8, acc_testing: 0.865040650406504, corr_num: 532\n",
      "---------------------------------\n",
      "n_estimators: 2200, max_depth: 10, acc_training: 0.9587669385706598, corr_num: 158558\n",
      "n_estimators: 2200, max_depth: 10, acc_testing: 0.8796747967479674, corr_num: 541\n",
      "---------------------------------\n",
      "n_estimators: 2200, max_depth: 12, acc_training: 0.9854695634822255, corr_num: 162974\n",
      "n_estimators: 2200, max_depth: 12, acc_testing: 0.8699186991869918, corr_num: 535\n",
      "---------------------------------\n",
      "n_estimators: 2200, max_depth: 16, acc_training: 0.9957732937470144, corr_num: 164678\n",
      "n_estimators: 2200, max_depth: 16, acc_testing: 0.8699186991869918, corr_num: 535\n",
      "---------------------------------\n",
      "n_estimators: 2200, max_depth: 18, acc_training: 0.9957853873271374, corr_num: 164680\n",
      "n_estimators: 2200, max_depth: 18, acc_testing: 0.8666666666666667, corr_num: 533\n",
      "---------------------------------\n",
      "n_estimators: 2600, max_depth: 6, acc_training: 0.923393216710909, corr_num: 152708\n",
      "n_estimators: 2600, max_depth: 6, acc_testing: 0.8780487804878049, corr_num: 540\n",
      "---------------------------------\n",
      "n_estimators: 2600, max_depth: 8, acc_training: 0.9373975824933334, corr_num: 155024\n",
      "n_estimators: 2600, max_depth: 8, acc_testing: 0.8666666666666667, corr_num: 533\n",
      "---------------------------------\n",
      "n_estimators: 2600, max_depth: 10, acc_training: 0.9623708254473113, corr_num: 159154\n",
      "n_estimators: 2600, max_depth: 10, acc_testing: 0.8780487804878049, corr_num: 540\n",
      "---------------------------------\n",
      "n_estimators: 2600, max_depth: 12, acc_training: 0.9878338583962704, corr_num: 163365\n",
      "n_estimators: 2600, max_depth: 12, acc_testing: 0.8699186991869918, corr_num: 535\n",
      "---------------------------------\n",
      "n_estimators: 2600, max_depth: 16, acc_training: 0.9957793405370758, corr_num: 164679\n",
      "n_estimators: 2600, max_depth: 16, acc_testing: 0.8699186991869918, corr_num: 535\n",
      "---------------------------------\n",
      "n_estimators: 2600, max_depth: 18, acc_training: 0.9957853873271374, corr_num: 164680\n",
      "n_estimators: 2600, max_depth: 18, acc_testing: 0.8666666666666667, corr_num: 533\n",
      "---------------------------------\n",
      "n_estimators: 3000, max_depth: 6, acc_training: 0.9244816389219783, corr_num: 152888\n",
      "n_estimators: 3000, max_depth: 6, acc_testing: 0.8764227642276423, corr_num: 539\n",
      "---------------------------------\n",
      "n_estimators: 3000, max_depth: 8, acc_training: 0.9397921113576858, corr_num: 155420\n",
      "n_estimators: 3000, max_depth: 8, acc_testing: 0.8666666666666667, corr_num: 533\n",
      "---------------------------------\n",
      "n_estimators: 3000, max_depth: 10, acc_training: 0.9652430507265218, corr_num: 159629\n",
      "n_estimators: 3000, max_depth: 10, acc_testing: 0.8796747967479674, corr_num: 541\n",
      "---------------------------------\n",
      "n_estimators: 3000, max_depth: 12, acc_training: 0.9896176614644117, corr_num: 163660\n",
      "n_estimators: 3000, max_depth: 12, acc_testing: 0.8715447154471545, corr_num: 536\n",
      "---------------------------------\n"
     ]
    }
   ],
   "source": [
    "for line_no, x in enumerate(res_logs.split('\\n')):\n",
    "    if '---' in x:\n",
    "        print(x)\n",
    "        continue\n",
    "    if not line_no % 3:\n",
    "        pre_strs = x.split(', corr_num: ')\n",
    "        corr_num = int(pre_strs[1])\n",
    "        acc_training = corr_num/165377\n",
    "        print(pre_strs[0].split(', acc_training: ')[0] + ', acc_training: ' + str(acc_training) + ', corr_num: ' + pre_strs[1])\n",
    "    else:\n",
    "        pre_strs = x.split(', corr_num: ')\n",
    "        corr_num = int(pre_strs[1])\n",
    "        acc_testing = corr_num/615\n",
    "        print(pre_strs[0].split(', acc_testing: ')[0] + ', acc_testing: ' + str(acc_testing) + ', corr_num: ' + pre_strs[1])"
   ]
  },
  {
   "cell_type": "code",
   "execution_count": null,
   "metadata": {
    "collapsed": true
   },
   "outputs": [],
   "source": []
  }
 ],
 "metadata": {
  "kernelspec": {
   "display_name": "Python 3",
   "language": "python",
   "name": "python3"
  },
  "language_info": {
   "codemirror_mode": {
    "name": "ipython",
    "version": 3
   },
   "file_extension": ".py",
   "mimetype": "text/x-python",
   "name": "python",
   "nbconvert_exporter": "python",
   "pygments_lexer": "ipython3",
   "version": "3.5.2"
  }
 },
 "nbformat": 4,
 "nbformat_minor": 2
}
