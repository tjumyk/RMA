{
 "cells": [
  {
   "cell_type": "code",
   "execution_count": 2,
   "metadata": {},
   "outputs": [],
   "source": [
    "import numpy as np\n",
    "import scipy.sparse\n",
    "import pickle\n",
    "import xgboost as xgb\n",
    "import csv\n",
    "from collections import defaultdict\n",
    "import redis\n",
    "import json\n",
    "import time\n",
    "import sklearn.utils\n",
    "import psycopg2\n",
    "from psycopg2.sql import Identifier, SQL\n",
    "from datetime import datetime\n",
    "import os"
   ]
  },
  {
   "cell_type": "code",
   "execution_count": 3,
   "metadata": {},
   "outputs": [],
   "source": [
    "conn = redis.Redis(password='3oSYTdtZjsuSigRWLcG6VJt9gm4IMvYjQiqsSuGcAc-U4gMNpWGERAevXi9_SHNrn19piz7bBJG0iTLgx7DvknLHTECcHYrqmWb2rsuCWs89svKmhKDD_aMYaXq8IhSeg_89ooPZb0AqLRyR1-fa1zVjrh2UuV0sWFGSk5SjtW0', \n",
    "                   host='pangu', port=6379, decode_responses=True)\n",
    "conn_psql_kongzi2 = psycopg2.connect(database='aida', user='zding', password='dingzishuo', host='localhost',\n",
    "                                     port=5432)\n",
    "conn_psql = psycopg2.connect(database='zding', user='zding', password='dingzishuo', host='localhost',\n",
    "                                     port=5432)"
   ]
  },
  {
   "cell_type": "code",
   "execution_count": 4,
   "metadata": {},
   "outputs": [],
   "source": [
    "def get_feature_results(exp_id, d_t, data_source='aida_conll'):\n",
    "    fea_res = conn.lrange('result:::::' + str(exp_id) + ':::::' + data_source + ':::::' + str(d_t), 0, -1)\n",
    "    fea_vecs = [json.loads(res) for res in fea_res]\n",
    "    return fea_vecs\n",
    "\n",
    "def get_dataset_info(exp_id, d_t, data_source='aida_conll', can_size=50):\n",
    "    valid_mens_size = conn.scard('valid_qry_ids:::::' + str(exp_id) + ':::::' + data_source + ':::::' + str(d_t))\n",
    "    no_g_can_info_size = conn.scard('no_g_candidate_info:::::' + str(exp_id) + ':::::' + data_source + ':::::' + str(d_t))\n",
    "    missed_g_candidate_size = conn.scard('missed_g_candidate:::::' + str(exp_id) + ':::::' + data_source + \n",
    "                                         ':::::' + str(d_t) + ':::::' + str(can_size))\n",
    "    no_candidate_size = conn.scard('no_candidate:::::' + str(exp_id) + ':::::' + data_source + ':::::' + str(d_t))\n",
    "    return valid_mens_size, no_candidate_size, no_g_can_info_size, missed_g_candidate_size\n",
    "\n",
    "def fetch_all_features(exp_id, data_type, data_source='aida_conll'):\n",
    "    res_feas = get_feature_results(exp_id, data_type, data_source)\n",
    "    res_feas_ids = [[res[0].strip('(').split(', ')[0]] + res[1:-1] + [res[-1]] for res in res_feas]\n",
    "    res_feas_ids = np.array(res_feas_ids, dtype=np.float64)\n",
    "    return res_feas_ids\n",
    "\n",
    "def fetch_all_features_delete_max_prior(exp_id, data_type, data_source='aida_conll'):\n",
    "    res_feas = get_feature_results(exp_id, data_type, data_source)\n",
    "    res_feas_ids = [[res[0].strip('(').split(', ')[0]] + res[1:2] + [res[2] if res[2]!=0 else res[1]] + res[3:] for res in res_feas]\n",
    "    res_feas_ids = np.array(res_feas_ids, dtype=np.float64)\n",
    "    return res_feas_ids\n",
    "\n",
    "def trans_data(data):\n",
    "    d_np = data[:, 1:-1]\n",
    "    #print(d_np)\n",
    "    d_labels = data[:, -1]\n",
    "    #print(d_labels)\n",
    "    idxs = np.where(d_labels == 1)[0]\n",
    "    d_groups = np.append(np.delete(idxs, 0), len(d_labels)) - idxs\n",
    "    xgb_data = xgb.DMatrix(data=d_np, label=d_labels)\n",
    "    xgb_data.set_group(d_groups)\n",
    "    return xgb_data\n",
    "\n",
    "def combine_features(original_feas, new_features):\n",
    "    men_id_feas_dict = defaultdict(list)\n",
    "    print(\"Building idx for new features...\")\n",
    "    for fea in new_features:\n",
    "        men_id_feas_dict[fea[0]].append(fea)\n",
    "    #for k, v in men_id_feas_dict.items():\n",
    "    #    print(k)\n",
    "    #    print(v)\n",
    "    comb_feas = []\n",
    "    pre_men_id = 0\n",
    "    print(\"Combine original and new features...\")\n",
    "    for fea_idx, fea in enumerate(original_feas):\n",
    "        #print('Processing: [%d] %s' % (fea_idx, fea))\n",
    "        if pre_men_id == fea[0]:\n",
    "            #print('skip')\n",
    "            continue\n",
    "        else:\n",
    "            pre_men_id = fea[0]\n",
    "            fea_size = len(men_id_feas_dict[fea[0]])\n",
    "            res = np.append(original_feas[fea_idx: fea_idx + fea_size, :-1], np.array(men_id_feas_dict[fea[0]])[:, 1:], axis=1)\n",
    "            #print('res:', res)\n",
    "            comb_feas.append(res)\n",
    "    return np.concatenate(comb_feas, axis=0)\n",
    "\n",
    "def evalerror(preds, dt, d_tal_size):\n",
    "    d_l = dt.get_label()\n",
    "    idxs = np.where(d_l == 1)[0]\n",
    "    d_groups = np.append(np.delete(idxs, 0), len(d_l)) - idxs\n",
    "    matched_ids = []\n",
    "    q_id = 0\n",
    "    for x in d_groups:\n",
    "        pre_res = preds[q_id: x + q_id]\n",
    "        if(preds[q_id] == max(pre_res)):\n",
    "            if len([x for x in pre_res if x == preds[q_id]]) == 1:\n",
    "                matched_ids.append(q_id)\n",
    "        q_id += x\n",
    "    precision = float(len(matched_ids)) / len(d_groups)\n",
    "    recall = float(len(matched_ids)) / d_tal_size\n",
    "    f1 = 2 * precision * recall / (precision + recall)\n",
    "    return len(matched_ids), precision, recall, f1\n",
    "\n",
    "from collections import defaultdict\n",
    "def evalerror_detail_log(preds, dt, d_tal_size):\n",
    "    d_l = dt.get_label()\n",
    "    idxs = np.where(d_l == 1)[0]\n",
    "    d_groups = np.append(np.delete(idxs, 0), len(d_l)) - idxs\n",
    "    correct_results = {}\n",
    "    wrong_results = {}\n",
    "    duplicates_results = {}\n",
    "    group_info = {}\n",
    "    matched_ids = []\n",
    "    q_id = 0\n",
    "    for x in d_groups:\n",
    "        pre_res = preds[q_id: x + q_id]\n",
    "        if(preds[q_id] == max(pre_res)):\n",
    "            correct_results[q_id] = pre_res\n",
    "            if len([x for x in pre_res if x == preds[q_id]]) == 1:\n",
    "                matched_ids.append(q_id)\n",
    "            else:\n",
    "                duplicates_results[q_id] = pre_res\n",
    "        else:\n",
    "            wrong_results[q_id] = pre_res\n",
    "        q_id += x\n",
    "    precision = float(len(matched_ids)) / len(d_groups)\n",
    "    recall = float(len(matched_ids)) / d_tal_size\n",
    "    f1 = 2 * precision * recall / (precision + recall)\n",
    "    return len(matched_ids), precision, recall, f1, correct_results, wrong_results, duplicates_results\n",
    "\n",
    "from collections import defaultdict\n",
    "from ast import literal_eval\n",
    "def get_groups_results(preds, dt, res_features, top_k=None):\n",
    "    d_l = dt.get_label()\n",
    "    idxs = np.where(d_l == 1)[0]\n",
    "    d_groups = np.append(np.delete(idxs, 0), len(d_l)) - idxs\n",
    "    correct_res_groups = []\n",
    "    wrong_res_groups = []\n",
    "    dup_res_groups = []\n",
    "    top_k_indices = [] if top_k is not None else None\n",
    "    q_id = 0\n",
    "    for x in d_groups:\n",
    "        pre_res = preds[q_id: x + q_id]\n",
    "        pre_res_feas = res_features[q_id: x + q_id]\n",
    "        pred_q_id, pred_ent = literal_eval(res_features[q_id+np.argmax(pre_res)][0])\n",
    "        \n",
    "        if(preds[q_id] == max(pre_res)):\n",
    "            correct_res_groups.append([pred_q_id, pred_ent])\n",
    "        else:\n",
    "            wrong_res_groups.append([pred_q_id, pred_ent])\n",
    "            \n",
    "        if top_k is not None:  # save indices of top-k scores in each group\n",
    "            for i, score in sorted(enumerate(pre_res),key=lambda x:x[1], reverse=True)[:top_k]:\n",
    "                # print(i, score)\n",
    "                top_k_indices.append(i+q_id)\n",
    "            \n",
    "        q_id += x\n",
    "        \n",
    "    return correct_res_groups, wrong_res_groups, top_k_indices\n",
    "\n",
    "def fetch_inlinks_by_ent(ent):\n",
    "    cur = conn_psql_kongzi2.cursor()\n",
    "    sql = \"SELECT _id FROM wikipedia_links_2014 WHERE target=%s;\"\n",
    "    cur.execute(sql, (ent,))\n",
    "    rows = cur.fetchall()\n",
    "    cur.close()\n",
    "    return rows\n",
    "\n",
    "# fetch an entity's outlinks with duplicates\n",
    "def fetch_outlinks_by_ent(ent):\n",
    "    cur = conn_psql_kongzi2.cursor()\n",
    "    sql = \"SELECT target FROM wikipedia_links_2014 WHERE _id=%s;\"\n",
    "    cur.execute(sql, (ent,))\n",
    "    rows = cur.fetchall()\n",
    "    cur.close()\n",
    "    return rows\n",
    "\n",
    "def fetch_entity_by_mention_emnlp17(mention):\n",
    "    # print(mention)\n",
    "    cur = conn_psql_kongzi2.cursor()\n",
    "    # do a PostgreSQL join to select the entity namestring from the tables dictionary and entity_ids\n",
    "    sql = \"SELECT entity, prior FROM men_ent_dict_emnlp2017 WHERE men_ent_dict_emnlp2017.mention = (E\\'%s\\') ORDER BY prior DESC;\"\n",
    "    cur.execute(sql % mention.replace(\"'\", \"\\\\'\"))\n",
    "    rows = cur.fetchall()\n",
    "    cur.close()\n",
    "    return rows\n",
    "\n",
    "def fetch_inlinks_redis(ent, link_type='inlinks'):\n",
    "    inlinks = conn.hmget(link_type, ent)[0]\n",
    "    return json.loads(inlinks) if inlinks else []\n",
    "\n",
    "def has_inlinks_redis(ent, link_type='inlinks'):\n",
    "    inlinks = conn.hexists(link_type, ent)\n",
    "    return inlinks\n",
    "\n",
    "def save_inlinks_redis(ent, inlinks, link_type='inlinks'):\n",
    "    conn.hset(link_type, ent, json.dumps(inlinks))\n",
    "    \n",
    "def fetch_outlinks_redis(ent, link_type='outlinks'):\n",
    "    outlinks = conn.hmget(link_type, ent)[0]\n",
    "    return json.loads(outlinks) if outlinks else []\n",
    "\n",
    "def has_outlinks_redis(ent, link_type='outlinks'):\n",
    "    inlinks = conn.hexists(link_type, ent)\n",
    "    return inlinks\n",
    "\n",
    "def save_outlinks_redis(ent, outlinks, link_type='outlinks'):\n",
    "    conn.hset(link_type, ent, json.dumps(outlinks))\n",
    "    \n",
    "def check_links_between_ents(ent_1, ent_2, bidirection=False):\n",
    "    wiki_pre_str = 'en.wikipedia.org/wiki/'\n",
    "    inlinks_ent_1 = fetch_inlinks_redis(ent_1, link_type='inlinks')\n",
    "    if not inlinks_ent_1 and not has_inlinks_redis(ent_1):\n",
    "        print(\"PostgreSQL: fetching inlinks for entity {}...\".format(ent_1))\n",
    "        wiki_ents_1 = wiki_pre_str + ent_1\n",
    "        inlinks_ent_1_db = fetch_inlinks_by_ent(wiki_ents_1)\n",
    "        inlinks_ent_1 = [x[0].replace(wiki_pre_str, '') for x in inlinks_ent_1_db]\n",
    "        print(\"Redis: caching inlinks for entity {}...\".format(ent_1))\n",
    "        save_inlinks_redis(ent_1, inlinks_ent_1)\n",
    "    inlinks_ent_2 = fetch_inlinks_redis(ent_2, link_type='inlinks')\n",
    "    if not inlinks_ent_2 and not has_inlinks_redis(ent_2):        \n",
    "        wiki_ents_2 = wiki_pre_str + ent_2\n",
    "        print(\"PostgreSQL: fetching inlinks for entity {}...\".format(ent_2))\n",
    "        inlinks_ent_2_db = fetch_inlinks_by_ent(wiki_ents_2)\n",
    "        inlinks_ent_2 = [x[0].replace(wiki_pre_str, '') for x in inlinks_ent_2_db]\n",
    "        print(\"Redis: caching inlinks for entity {}...\".format(ent_2))\n",
    "        save_inlinks_redis(ent_2, inlinks_ent_2)\n",
    "    return (ent_1 in inlinks_ent_2 or ent_2 in inlinks_ent_1) if not bidirection else (ent_1 in inlinks_ent_2 and ent_2 in inlinks_ent_1)\n",
    "\n",
    "def get_links_by_ent(ent, link_type='inlinks'):\n",
    "    wiki_pre_str = 'en.wikipedia.org/wiki/'\n",
    "    if link_type == 'inlinks':\n",
    "        inlinks_ent = fetch_inlinks_redis(ent, link_type='inlinks')\n",
    "        if not inlinks_ent and not has_inlinks_redis(ent):\n",
    "#             print(\"PostgreSQL: fetching inlinks for entity {}...\".format(ent))\n",
    "            wiki_ents = wiki_pre_str + ent\n",
    "            inlinks_ent_db = fetch_inlinks_by_ent(wiki_ents)\n",
    "            inlinks_ent = [x[0].replace(wiki_pre_str, '') for x in inlinks_ent_db]\n",
    "            print(\"Redis: caching inlinks for entity {}...\".format(ent))\n",
    "            save_inlinks_redis(ent, inlinks_ent)\n",
    "        return inlinks_ent\n",
    "    if link_type == 'outlinks':\n",
    "        outlinks_ent = fetch_outlinks_redis(ent)\n",
    "        if not outlinks_ent and not has_outlinks_redis(ent):\n",
    "#             print(\"PostgreSQL: fetching outlinks for entity {}...\".format(ent))\n",
    "            wiki_ents = wiki_pre_str + ent\n",
    "            outlinks_ent_db = fetch_outlinks_by_ent(wiki_ents)\n",
    "            outlinks_ent = [x[0].replace(wiki_pre_str, '') for x in outlinks_ent_db]\n",
    "            print(\"Redis: caching outlinks for entity {}...\".format(ent))\n",
    "            save_outlinks_redis(ent, outlinks_ent)\n",
    "        return outlinks_ent\n",
    "    \n",
    "def fetch_ents_by_doc_redis(doc_id):\n",
    "    id_ents = conn.hmget('doc-predicted-ents-coref-new', doc_id)[0]\n",
    "    return json.loads(id_ents) if id_ents else []\n",
    "\n",
    "## Normalized Google Distance\n",
    "import math\n",
    "def ngd_similarity(ents_s, ents_t, index_size = 6274625):\n",
    "    ent_sets_s = set(ents_s)\n",
    "    ent_sets_t = set(ents_t)\n",
    "    min_links, max_links = min(len(ent_sets_s), len(ent_sets_t)), max(len(ent_sets_s), len(ent_sets_t))\n",
    "    com_links = len(ent_sets_s & ent_sets_t)\n",
    "    if min_links and max_links and com_links:\n",
    "        return 1 - (math.log(max_links) - math.log(com_links))/ (math.log(index_size) - math.log(min_links))\n",
    "    else:\n",
    "        return 0\n",
    "    \n",
    "# PMI\n",
    "def pmi_similarity(ents_s, ents_t, index_size = 6274625, normalize=False):\n",
    "    ent_sets_s = set(ents_s)\n",
    "    ent_sets_t = set(ents_t)\n",
    "    s_links, t_links = len(ent_sets_s), len(ent_sets_t)\n",
    "    com_links = len(ent_sets_s & ent_sets_t)\n",
    "    p_s = s_links / index_size\n",
    "    p_t = t_links / index_size\n",
    "    p_c = com_links / index_size\n",
    "    print(p_s, p_t, p_c)\n",
    "    if p_s and p_t and p_c:\n",
    "        return p_c/(p_s * p_t) if not normalize else p_c / (p_s * p_t) / min(1/p_s, 1/p_t)\n",
    "    else:\n",
    "        return 0"
   ]
  },
  {
   "cell_type": "code",
   "execution_count": 20,
   "metadata": {},
   "outputs": [],
   "source": [
    "model_dir_path = './new_models_14_Aug'\n",
    "def save_model(model, name):\n",
    "    if not os.path.exists(model_dir_path):\n",
    "        os.makedirs(model_dir_path)\n",
    "    model_path = os.path.join(model_dir_path, '%s.mdl' % name)\n",
    "    with open(model_path, 'wb') as f:\n",
    "        pickle.dump(model, f)\n",
    "        \n",
    "def load_model(name):\n",
    "    model_path = os.path.join(model_dir_path, '%s.mdl' % name)\n",
    "    with open(model_path, 'rb') as f:\n",
    "        return pickle.load(f)\n",
    "    \n",
    "def get_total_mentions(data_source, data_type) -> int:\n",
    "    with conn_psql.cursor() as cur:\n",
    "        sql = SQL(\"select count(*) from {} where annotation != 'NIL' and annotation !='none' and type=%s\").format(Identifier(data_source))\n",
    "        cur.execute(sql, (data_type,))\n",
    "        return cur.fetchone()[0]\n",
    "    \n",
    "def process(process_name ,test_set, test_total, \n",
    "            n_estimators, max_depths, test_filter=None,\n",
    "            eval_func=evalerror_detail_log):\n",
    "    if test_filter is not None:\n",
    "        dtest_xgboost = trans_data(test_set[test_filter])    \n",
    "    else:\n",
    "        dtest_xgboost = trans_data(test_set)\n",
    "    \n",
    "    for x in n_estimators:\n",
    "        num_round = x\n",
    "        for dep in max_depths:\n",
    "            model_name = '%d_%d_%s' % (num_round, dep, process_name)\n",
    "            print(datetime.now(), 'Loading model: %s' % model_name)\n",
    "            bst = load_model(model_name)\n",
    "\n",
    "            print(datetime.now(), 'Start evaluation')\n",
    "            preds = bst.predict(dtest_xgboost)\n",
    "            a = eval_func(preds, dtest_xgboost, test_total)\n",
    "            print(\"n_estimators: {}, max_depth: {}, precision: {}, recall: {}, f1: {}, corr_num: {}\"\n",
    "                  .format(num_round, dep, a[1] ,a[2], a[3], a[0]))\n",
    "            print(datetime.now(), 'Evaluation finished')\n",
    "            \n",
    "\n",
    "def process_model(model ,test_set, test_total, test_filter=None, eval_func=evalerror_detail_log):\n",
    "    if test_filter is not None:\n",
    "        dtest_xgboost = trans_data(test_set[test_filter])    \n",
    "    else:\n",
    "        dtest_xgboost = trans_data(test_set)\n",
    "\n",
    "    print(datetime.now(), 'Start evaluation')\n",
    "    preds = model.predict(dtest_xgboost)\n",
    "    a = eval_func(preds, dtest_xgboost, test_total)\n",
    "    print(\"precision: {}, recall: {}, f1: {}, corr_num: {}\"\n",
    "          .format(a[1] ,a[2], a[3], a[0]))\n",
    "    print(datetime.now(), 'Evaluation finished')\n",
    "    \n",
    "    \n",
    "def process_iterative_filtering(data_source):\n",
    "    # get dict of current global values for dynamic variable lookup\n",
    "    global_vals = globals()  \n",
    "    \n",
    "    ctx_raw = global_vals['d_%s_ctx_emnlp17_raw' % data_source]\n",
    "    docs_dict = global_vals['docs_dict_%s' % data_source]\n",
    "    total = global_vals['d_%s_total' % data_source]\n",
    "    \n",
    "    model_names = []\n",
    "    models = []\n",
    "    features = []\n",
    "    for i in range(0, 6):\n",
    "        if i == 0:  # local \n",
    "            model_name = '4900_6_ctx_coref'\n",
    "            feature_name = 'd_%s_ctx_coref_emnlp17' % data_source\n",
    "        elif i == 1: # initial global\n",
    "            model_name = '4900_6_ctx_coref_coh'\n",
    "            feature_name = 'd_%s_ctx_coref_coh_emnlp17' % data_source\n",
    "        elif i == 2: # first iterated global\n",
    "            model_name = '4900_6_ctx_coref_coh_global'\n",
    "            feature_name = 'd_%s_ctx_coref_coh_emnlp17_global' % data_source\n",
    "        else:  # next iterated global\n",
    "            model_name = '4900_6_ctx_coref_coh_global%d' % (i-1)\n",
    "            feature_name = 'd_%s_ctx_coref_coh_emnlp17_global%d' % (data_source, (i-1))\n",
    "            \n",
    "        model_names.append(model_name)\n",
    "        models.append(load_model(model_name))\n",
    "        features.append(global_vals[feature_name])\n",
    "    \n",
    "    for top_k in [3, 5]:\n",
    "        print('=== Top K=%d ===' % top_k)\n",
    "\n",
    "        for i in range(1, 6):\n",
    "            print(datetime.now(), 'Processing model: %s' % model_names[i])\n",
    "            \n",
    "            # get filters from the model for the previous iteration\n",
    "            test_filter=get_top_k_prediction_indices(models[i-1], features[i-1], ctx_raw, docs_dict, top_k)\n",
    "            print(datetime.now(), 'test_filter', len(test_filter))\n",
    "            \n",
    "            # evaluate the model for the current iteration\n",
    "            process_model(models[i], features[i], total, test_filter=test_filter)\n",
    "            \n",
    "\n",
    "def fetch_q_ids_docs(data_source):\n",
    "    cur = conn_psql.cursor()\n",
    "    sql = \"SELECT id, doc_id FROM %s WHERE annotation != 'NIL' and annotation != 'none';\" % data_source\n",
    "    cur.execute(sql)\n",
    "    row = cur.fetchall()\n",
    "    cur.close()\n",
    "    return dict(row)\n",
    "        \n",
    "def get_top_k_prediction_indices(model, d_test, raw_test, docs_dict, top_k):\n",
    "    d_test_xgboost = trans_data(d_test)\n",
    "    preds_test = model.predict(d_test_xgboost)\n",
    "    \n",
    "    correct_test, wrong_test, top_k_indices_test = get_groups_results(preds_test, d_test_xgboost, raw_test, top_k)\n",
    "    return top_k_indices_test\n",
    "        \n",
    "def get_true_labels(data_set):\n",
    "    return data_set[:, -1].nonzero()[0].size"
   ]
  },
  {
   "cell_type": "code",
   "execution_count": 6,
   "metadata": {},
   "outputs": [],
   "source": [
    "def evalerror_detail_log_xl(preds, dt, d_tal_size):\n",
    "    top2_correct = 0\n",
    "    top3_correct = 0\n",
    "    correct_top2_diff_total = 0\n",
    "    wrong_top2_diff_total = 0\n",
    "    correct_has_top2 = 0\n",
    "    wrong_has_top2 = 0\n",
    "    \n",
    "    \n",
    "    d_l = dt.get_label()\n",
    "    idxs = np.where(d_l == 1)[0]\n",
    "    d_groups = np.append(np.delete(idxs, 0), len(d_l)) - idxs\n",
    "    correct_results = {}\n",
    "    wrong_results = {}\n",
    "    duplicates_results = {}\n",
    "    group_info = {}\n",
    "    matched_ids = []\n",
    "    q_id = 0\n",
    "    for x in d_groups:\n",
    "        #print(\"For group {}, id = {}\".format(x, q_id+x))\n",
    "        pre_res = preds[q_id: x + q_id]\n",
    "        \n",
    "        sorted_pre_res = np.sort(pre_res)\n",
    "        reverse_res = sorted_pre_res[::-1]\n",
    "        #print(reverse_res[0:3])\n",
    "        pre_res = reverse_res\n",
    "        if (max(pre_res) != pre_res[0]):\n",
    "            print(\"ERROR\")\n",
    "            break\n",
    "        \n",
    "        if(len(pre_res) == 1 or preds[q_id] == pre_res[0] or preds[q_id] == pre_res[1]):\n",
    "                top2_correct += 1\n",
    "                top3_correct += 1\n",
    "        else:   \n",
    "            if(len(pre_res) == 2 or preds[q_id] == pre_res[2]):\n",
    "                top3_correct += 1\n",
    "\n",
    "        \n",
    "        if(preds[q_id] == max(pre_res)):\n",
    "            correct_results[q_id] = pre_res\n",
    "            \n",
    "            if len([x for x in pre_res if x == preds[q_id]]) == 1:\n",
    "                matched_ids.append(q_id)\n",
    "                \n",
    "                if (len(pre_res) > 1):\n",
    "                    correct_top2_diff_total += ( pre_res[0] - pre_res[1]) \n",
    "                    correct_has_top2 +=1\n",
    "                    \n",
    "            else:\n",
    "                duplicates_results[q_id] = pre_res\n",
    "        else:\n",
    "            wrong_results[q_id] = pre_res\n",
    "            if (len(pre_res) > 1):\n",
    "                wrong_top2_diff_total += ( pre_res[0] - pre_res[1])\n",
    "                wrong_has_top2 += 1\n",
    "                \n",
    "            #print (pre_res[0:3])\n",
    "        q_id += x\n",
    "    precision = float(len(matched_ids)) / len(d_groups)\n",
    "    recall = float(len(matched_ids)) / d_tal_size\n",
    "    f1 = 2 * precision * recall / (precision + recall)\n",
    "    top2_acc = top2_correct / d_tal_size\n",
    "    top3_acc = top3_correct / d_tal_size\n",
    "    print (top2_correct, top3_correct, top2_acc, top3_acc)\n",
    "    \n",
    "    correct_top2_diff_avg = correct_top2_diff_total / correct_has_top2\n",
    "    wrong_top2_diff_avg = wrong_top2_diff_total / wrong_has_top2\n",
    "    print (correct_top2_diff_avg, wrong_top2_diff_avg)\n",
    "    \n",
    "    return len(matched_ids), precision, recall, f1, correct_results, wrong_results, duplicates_results"
   ]
  },
  {
   "cell_type": "code",
   "execution_count": 7,
   "metadata": {},
   "outputs": [],
   "source": [
    "docs_dict_msnbc = fetch_q_ids_docs('msnbc_new')\n",
    "docs_dict_aquaint = fetch_q_ids_docs('aquaint_new')"
   ]
  },
  {
   "cell_type": "code",
   "execution_count": 139,
   "metadata": {},
   "outputs": [
    {
     "name": "stdout",
     "output_type": "stream",
     "text": [
      "(10316, 21)\n",
      "(10316, 13)\n",
      "656\n",
      "543\n",
      "upper bound 0.8277439024390244\n",
      "\n",
      "(7410, 21)\n",
      "(7410, 13)\n",
      "727\n",
      "422\n",
      "upper bound 0.5804676753782668\n"
     ]
    }
   ],
   "source": [
    "d_msnbc_ctx = fetch_all_features('basic_fea_ctx', 'test', 'msnbc_new')\n",
    "d_msnbc_ctx_raw = get_feature_results('basic_fea_ctx', 'test', 'msnbc_new')\n",
    "d_msnbc_coref = fetch_all_features('basic_fea_coref', 'test', 'msnbc_new')\n",
    "d_msnbc_total = get_total_mentions('msnbc_new', 'test')\n",
    "d_msnbc_true_labels = get_true_labels(d_msnbc_ctx)\n",
    "\n",
    "d_aquaint_ctx = fetch_all_features('basic_fea_ctx', 'test', 'aquaint_new')\n",
    "d_aquaint_ctx_raw = get_feature_results('basic_fea_ctx', 'test', 'aquaint_new')\n",
    "d_aquaint_coref = fetch_all_features('basic_fea_coref', 'test', 'aquaint_new')\n",
    "d_aquaint_total = get_total_mentions('aquaint_new', 'test')\n",
    "d_aquaint_true_labels = get_true_labels(d_aquaint_ctx)\n",
    "\n",
    "print(d_msnbc_ctx.shape)\n",
    "print(d_msnbc_coref.shape)\n",
    "print(d_msnbc_total)\n",
    "print(d_msnbc_true_labels)\n",
    "print('upper bound', d_msnbc_true_labels / d_msnbc_total)\n",
    "print()\n",
    "print(d_aquaint_ctx.shape)\n",
    "print(d_aquaint_coref.shape)\n",
    "print(d_aquaint_total)\n",
    "print(d_aquaint_true_labels)\n",
    "print('upper bound', d_aquaint_true_labels / d_aquaint_total)"
   ]
  },
  {
   "cell_type": "code",
   "execution_count": 140,
   "metadata": {},
   "outputs": [
    {
     "name": "stdout",
     "output_type": "stream",
     "text": [
      "Building idx for new features...\n",
      "Combine original and new features...\n",
      "Building idx for new features...\n",
      "Combine original and new features...\n",
      "(10316, 32)\n",
      "(7410, 32)\n"
     ]
    }
   ],
   "source": [
    "d_msnbc_ctx_coref = combine_features(d_msnbc_ctx, d_msnbc_coref)\n",
    "d_aquaint_ctx_coref = combine_features(d_aquaint_ctx, d_aquaint_coref)\n",
    "\n",
    "print(d_msnbc_ctx_coref.shape)\n",
    "print(d_aquaint_ctx_coref.shape)"
   ]
  },
  {
   "cell_type": "code",
   "execution_count": 18,
   "metadata": {},
   "outputs": [
    {
     "name": "stdout",
     "output_type": "stream",
     "text": [
      "2019-08-19 14:49:08.349804 Loading model: 4900_6_ctx\n",
      "2019-08-19 14:49:08.370359 Start evaluation\n",
      "n_estimators: 4900, max_depth: 6, acc_validation: 0.6278755074424899, corr_num: 464\n",
      "2019-08-19 14:49:08.662315 Evaluation finished\n",
      "2019-08-19 14:49:08.667954 Loading model: 4900_6_ctx_coref\n",
      "2019-08-19 14:49:08.693380 Start evaluation\n",
      "n_estimators: 4900, max_depth: 6, acc_validation: 0.7117726657645467, corr_num: 526\n",
      "2019-08-19 14:49:09.003979 Evaluation finished\n"
     ]
    }
   ],
   "source": [
    "process('ctx', d_msnbc_ctx, d_msnbc_total, n_estimators=[4900], max_depths=[6])\n",
    "process('ctx_coref', d_msnbc_ctx_coref, d_msnbc_total, n_estimators=[4900], max_depths=[6])"
   ]
  },
  {
   "cell_type": "code",
   "execution_count": 19,
   "metadata": {},
   "outputs": [
    {
     "name": "stdout",
     "output_type": "stream",
     "text": [
      "2019-08-19 14:49:24.595869 Loading model: 4900_6_ctx\n",
      "2019-08-19 14:49:24.616475 Start evaluation\n",
      "n_estimators: 4900, max_depth: 6, acc_validation: 0.53232462173315, corr_num: 387\n",
      "2019-08-19 14:49:24.859625 Evaluation finished\n",
      "2019-08-19 14:49:24.865911 Loading model: 4900_6_ctx_coref\n",
      "2019-08-19 14:49:24.884611 Start evaluation\n",
      "n_estimators: 4900, max_depth: 6, acc_validation: 0.5281980742778541, corr_num: 384\n",
      "2019-08-19 14:49:25.100430 Evaluation finished\n"
     ]
    }
   ],
   "source": [
    "process('ctx', d_aquaint_ctx, d_aquaint_total, n_estimators=[4900], max_depths=[6])\n",
    "process('ctx_coref', d_aquaint_ctx_coref, d_aquaint_total, n_estimators=[4900], max_depths=[6])"
   ]
  },
  {
   "cell_type": "code",
   "execution_count": 37,
   "metadata": {},
   "outputs": [
    {
     "name": "stdout",
     "output_type": "stream",
     "text": [
      "Number of groups: 543\n"
     ]
    }
   ],
   "source": [
    "model = load_model('4900_6_ctx_coref')\n",
    "save_local_model_predictions(model, d_msnbc_ctx_coref, d_msnbc_ctx_raw, docs_dict_msnbc, top_k=None)"
   ]
  },
  {
   "cell_type": "code",
   "execution_count": 141,
   "metadata": {},
   "outputs": [
    {
     "name": "stdout",
     "output_type": "stream",
     "text": [
      "(10316, 24)\n",
      "Building idx for new features...\n",
      "Combine original and new features...\n",
      "(10316, 54)\n"
     ]
    }
   ],
   "source": [
    "d_msnbc_coh = fetch_all_features('basic_fea_coh', 'test', 'msnbc_new')\n",
    "print(d_msnbc_coh.shape)\n",
    "d_msnbc_ctx_coref_coh = combine_features(d_msnbc_ctx_coref, d_msnbc_coh)\n",
    "print(d_msnbc_ctx_coref_coh.shape)"
   ]
  },
  {
   "cell_type": "code",
   "execution_count": 56,
   "metadata": {},
   "outputs": [
    {
     "name": "stdout",
     "output_type": "stream",
     "text": [
      "2019-08-19 20:05:38.915382 Loading model: 4900_6_ctx_coref_coh\n",
      "2019-08-19 20:05:38.969239 Start evaluation\n",
      "n_estimators: 4900, max_depth: 6, acc_validation: 0.7090663058186739, corr_num: 524\n",
      "2019-08-19 20:05:39.317069 Evaluation finished\n",
      "2019-08-19 20:05:39.322345 Loading model: 4900_6_ctx_coref_coh_global\n",
      "2019-08-19 20:05:39.357196 Start evaluation\n",
      "n_estimators: 4900, max_depth: 6, acc_validation: 0.7009472259810555, corr_num: 518\n",
      "2019-08-19 20:05:39.685902 Evaluation finished\n",
      "2019-08-19 20:05:39.698341 Loading model: 4900_6_ctx_coref_coh_global2\n",
      "2019-08-19 20:05:39.729205 Start evaluation\n",
      "n_estimators: 4900, max_depth: 6, acc_validation: 0.7036535859269283, corr_num: 520\n",
      "2019-08-19 20:05:40.099459 Evaluation finished\n",
      "2019-08-19 20:05:40.106258 Loading model: 4900_6_ctx_coref_coh_global3\n",
      "2019-08-19 20:05:40.139155 Start evaluation\n",
      "n_estimators: 4900, max_depth: 6, acc_validation: 0.7036535859269283, corr_num: 520\n",
      "2019-08-19 20:05:40.460328 Evaluation finished\n"
     ]
    }
   ],
   "source": [
    "process('ctx_coref_coh', d_msnbc_ctx_coref_coh, d_msnbc_total, n_estimators=[4900], max_depths=[6])\n",
    "process('ctx_coref_coh_global', d_msnbc_ctx_coref_coh, d_msnbc_total, n_estimators=[4900], max_depths=[6])\n",
    "process('ctx_coref_coh_global2', d_msnbc_ctx_coref_coh, d_msnbc_total, n_estimators=[4900], max_depths=[6])\n",
    "process('ctx_coref_coh_global3', d_msnbc_ctx_coref_coh, d_msnbc_total, n_estimators=[4900], max_depths=[6])"
   ]
  },
  {
   "cell_type": "code",
   "execution_count": 43,
   "metadata": {},
   "outputs": [
    {
     "name": "stdout",
     "output_type": "stream",
     "text": [
      "Number of groups: 422\n"
     ]
    }
   ],
   "source": [
    "model = load_model('4900_6_ctx_coref')\n",
    "save_local_model_predictions(model, d_aquaint_ctx_coref, d_aquaint_ctx_raw, docs_dict_aquaint, top_k=None)"
   ]
  },
  {
   "cell_type": "code",
   "execution_count": 142,
   "metadata": {},
   "outputs": [
    {
     "name": "stdout",
     "output_type": "stream",
     "text": [
      "(7410, 24)\n",
      "Building idx for new features...\n",
      "Combine original and new features...\n",
      "(7410, 54)\n"
     ]
    }
   ],
   "source": [
    "d_aquaint_coh = fetch_all_features('basic_fea_coh', 'test', 'aquaint_new')\n",
    "print(d_aquaint_coh.shape)\n",
    "d_aquaint_ctx_coref_coh = combine_features(d_aquaint_ctx_coref, d_aquaint_coh)\n",
    "print(d_aquaint_ctx_coref_coh.shape)"
   ]
  },
  {
   "cell_type": "code",
   "execution_count": 57,
   "metadata": {},
   "outputs": [
    {
     "name": "stdout",
     "output_type": "stream",
     "text": [
      "2019-08-19 20:06:04.207108 Loading model: 4900_6_ctx_coref_coh\n",
      "2019-08-19 20:06:04.229556 Start evaluation\n",
      "n_estimators: 4900, max_depth: 6, acc_validation: 0.546079779917469, corr_num: 397\n",
      "2019-08-19 20:06:04.496667 Evaluation finished\n",
      "2019-08-19 20:06:04.504233 Loading model: 4900_6_ctx_coref_coh_global\n",
      "2019-08-19 20:06:04.525355 Start evaluation\n",
      "n_estimators: 4900, max_depth: 6, acc_validation: 0.5433287482806052, corr_num: 395\n",
      "2019-08-19 20:06:04.761073 Evaluation finished\n",
      "2019-08-19 20:06:04.766377 Loading model: 4900_6_ctx_coref_coh_global2\n",
      "2019-08-19 20:06:04.797776 Start evaluation\n",
      "n_estimators: 4900, max_depth: 6, acc_validation: 0.5433287482806052, corr_num: 395\n",
      "2019-08-19 20:06:05.042151 Evaluation finished\n",
      "2019-08-19 20:06:05.048701 Loading model: 4900_6_ctx_coref_coh_global3\n",
      "2019-08-19 20:06:05.071005 Start evaluation\n",
      "n_estimators: 4900, max_depth: 6, acc_validation: 0.5433287482806052, corr_num: 395\n",
      "2019-08-19 20:06:05.322700 Evaluation finished\n"
     ]
    }
   ],
   "source": [
    "process('ctx_coref_coh', d_aquaint_ctx_coref_coh, d_aquaint_total, n_estimators=[4900], max_depths=[6])\n",
    "process('ctx_coref_coh_global', d_aquaint_ctx_coref_coh, d_aquaint_total, n_estimators=[4900], max_depths=[6])\n",
    "process('ctx_coref_coh_global2', d_aquaint_ctx_coref_coh, d_aquaint_total, n_estimators=[4900], max_depths=[6])\n",
    "process('ctx_coref_coh_global3', d_aquaint_ctx_coref_coh, d_aquaint_total, n_estimators=[4900], max_depths=[6])"
   ]
  },
  {
   "cell_type": "code",
   "execution_count": 58,
   "metadata": {},
   "outputs": [
    {
     "name": "stdout",
     "output_type": "stream",
     "text": [
      "Number of groups: 543\n",
      "test_filter 3154\n",
      "2019-08-19 20:06:41.339525 Loading model: 4900_6_ctx_coref_coh\n",
      "2019-08-19 20:06:41.361468 Start evaluation\n",
      "n_estimators: 4900, max_depth: 6, acc_validation: 0.7090663058186739, corr_num: 524\n",
      "2019-08-19 20:06:41.509527 Evaluation finished\n",
      "2019-08-19 20:06:41.514514 Loading model: 4900_6_ctx_coref_coh_global\n",
      "2019-08-19 20:06:41.538876 Start evaluation\n",
      "n_estimators: 4900, max_depth: 6, acc_validation: 0.7023004059539919, corr_num: 519\n",
      "2019-08-19 20:06:41.673800 Evaluation finished\n",
      "2019-08-19 20:06:41.678678 Loading model: 4900_6_ctx_coref_coh_global2\n",
      "2019-08-19 20:06:41.715452 Start evaluation\n",
      "n_estimators: 4900, max_depth: 6, acc_validation: 0.7050067658998647, corr_num: 521\n",
      "2019-08-19 20:06:41.863569 Evaluation finished\n",
      "2019-08-19 20:06:41.868628 Loading model: 4900_6_ctx_coref_coh_global3\n",
      "2019-08-19 20:06:41.889333 Start evaluation\n",
      "n_estimators: 4900, max_depth: 6, acc_validation: 0.7036535859269283, corr_num: 520\n",
      "2019-08-19 20:06:42.036787 Evaluation finished\n"
     ]
    }
   ],
   "source": [
    "model = load_model('4900_6_ctx_coref')\n",
    "save_local_model_predictions(model, d_msnbc_ctx_coref, d_msnbc_ctx_raw, docs_dict_msnbc, top_k=10)\n",
    "\n",
    "test_filter=json.loads(conn.hget('doc-predicted-ents-top-k', 'test'))\n",
    "print('test_filter', len(test_filter))\n",
    "\n",
    "process('ctx_coref_coh', d_msnbc_ctx_coref_coh, d_msnbc_total, n_estimators=[4900], max_depths=[6],\n",
    "       test_filter=test_filter)\n",
    "process('ctx_coref_coh_global', d_msnbc_ctx_coref_coh, d_msnbc_total, n_estimators=[4900], max_depths=[6],\n",
    "       test_filter=test_filter)\n",
    "process('ctx_coref_coh_global2', d_msnbc_ctx_coref_coh, d_msnbc_total, n_estimators=[4900], max_depths=[6],\n",
    "       test_filter=test_filter)\n",
    "process('ctx_coref_coh_global3', d_msnbc_ctx_coref_coh, d_msnbc_total, n_estimators=[4900], max_depths=[6],\n",
    "       test_filter=test_filter)"
   ]
  },
  {
   "cell_type": "code",
   "execution_count": 21,
   "metadata": {},
   "outputs": [
    {
     "name": "stderr",
     "output_type": "stream",
     "text": [
      "/home/ymiao/.venvs/nerd/lib/python3.5/site-packages/xgboost/core.py:614: UserWarning: Use subset (sliced data) of np.ndarray is not recommended because it will generate extra copies and increase memory consumption\n",
      "  \"because it will generate extra copies and increase memory consumption\")\n"
     ]
    },
    {
     "name": "stdout",
     "output_type": "stream",
     "text": [
      "Number of groups: 543\n",
      "test_filter 1888\n",
      "2019-08-20 15:55:45.590694 Loading model: 4900_6_ctx_coref_coh\n",
      "2019-08-20 15:55:45.621928 Start evaluation\n",
      "n_estimators: 4900, max_depth: 6, precision: 0.9704251386321626, recall: 0.7104194857916103, f1: 0.8203125, corr_num: 525\n",
      "2019-08-20 15:55:45.721348 Evaluation finished\n",
      "2019-08-20 15:55:45.725157 Loading model: 4900_6_ctx_coref_coh_global\n",
      "2019-08-20 15:55:45.746560 Start evaluation\n",
      "n_estimators: 4900, max_depth: 6, precision: 0.9611829944547134, recall: 0.7036535859269283, f1: 0.8125, corr_num: 520\n",
      "2019-08-20 15:55:45.826134 Evaluation finished\n",
      "2019-08-20 15:55:45.829885 Loading model: 4900_6_ctx_coref_coh_global2\n",
      "2019-08-20 15:55:45.859472 Start evaluation\n",
      "n_estimators: 4900, max_depth: 6, precision: 0.9648798521256932, recall: 0.706359945872801, f1: 0.8156249999999999, corr_num: 522\n",
      "2019-08-20 15:55:45.928826 Evaluation finished\n",
      "2019-08-20 15:55:45.932619 Loading model: 4900_6_ctx_coref_coh_global3\n",
      "2019-08-20 15:55:45.950334 Start evaluation\n",
      "n_estimators: 4900, max_depth: 6, precision: 0.9630314232902033, recall: 0.7050067658998647, f1: 0.8140624999999999, corr_num: 521\n",
      "2019-08-20 15:55:46.018328 Evaluation finished\n"
     ]
    }
   ],
   "source": [
    "model = load_model('4900_6_ctx_coref')\n",
    "save_local_model_predictions(model, d_msnbc_ctx_coref, d_msnbc_ctx_raw, docs_dict_msnbc, top_k=5)\n",
    "\n",
    "test_filter=json.loads(conn.hget('doc-predicted-ents-top-k', 'test'))\n",
    "print('test_filter', len(test_filter))\n",
    "\n",
    "process('ctx_coref_coh', d_msnbc_ctx_coref_coh, d_msnbc_total, n_estimators=[4900], max_depths=[6],\n",
    "       test_filter=test_filter)\n",
    "process('ctx_coref_coh_global', d_msnbc_ctx_coref_coh, d_msnbc_total, n_estimators=[4900], max_depths=[6],\n",
    "       test_filter=test_filter)\n",
    "process('ctx_coref_coh_global2', d_msnbc_ctx_coref_coh, d_msnbc_total, n_estimators=[4900], max_depths=[6],\n",
    "       test_filter=test_filter)\n",
    "process('ctx_coref_coh_global3', d_msnbc_ctx_coref_coh, d_msnbc_total, n_estimators=[4900], max_depths=[6],\n",
    "       test_filter=test_filter)"
   ]
  },
  {
   "cell_type": "code",
   "execution_count": 23,
   "metadata": {},
   "outputs": [
    {
     "name": "stderr",
     "output_type": "stream",
     "text": [
      "/home/ymiao/.venvs/nerd/lib/python3.5/site-packages/xgboost/core.py:614: UserWarning: Use subset (sliced data) of np.ndarray is not recommended because it will generate extra copies and increase memory consumption\n",
      "  \"because it will generate extra copies and increase memory consumption\")\n"
     ]
    },
    {
     "name": "stdout",
     "output_type": "stream",
     "text": [
      "2019-08-20 16:06:55.150812 Loading model: 4900_6_ctx_coref_coh\n",
      "2019-08-20 16:06:55.181316 Start evaluation\n",
      "536 539 0.7253044654939107 0.7293640054127198\n",
      "6.3292312818621825 2.353678960549204\n",
      "n_estimators: 4900, max_depth: 6, precision: 0.9650092081031307, recall: 0.7090663058186739, f1: 0.8174726989079564, corr_num: 524\n",
      "2019-08-20 16:06:55.488000 Evaluation finished\n"
     ]
    }
   ],
   "source": [
    "process('ctx_coref_coh', d_msnbc_ctx_coref_coh, d_msnbc_total, n_estimators=[4900], max_depths=[6],\n",
    "       eval_func=evalerror_detail_log_xl)"
   ]
  },
  {
   "cell_type": "code",
   "execution_count": 60,
   "metadata": {},
   "outputs": [
    {
     "name": "stdout",
     "output_type": "stream",
     "text": [
      "Number of groups: 422\n",
      "test_filter 2449\n",
      "2019-08-19 20:07:13.622427 Loading model: 4900_6_ctx_coref_coh\n",
      "2019-08-19 20:07:13.644330 Start evaluation\n",
      "n_estimators: 4900, max_depth: 6, acc_validation: 0.5433287482806052, corr_num: 395\n",
      "2019-08-19 20:07:13.747977 Evaluation finished\n",
      "2019-08-19 20:07:13.751916 Loading model: 4900_6_ctx_coref_coh_global\n",
      "2019-08-19 20:07:13.772372 Start evaluation\n",
      "n_estimators: 4900, max_depth: 6, acc_validation: 0.5488308115543329, corr_num: 399\n",
      "2019-08-19 20:07:13.875349 Evaluation finished\n",
      "2019-08-19 20:07:13.879932 Loading model: 4900_6_ctx_coref_coh_global2\n",
      "2019-08-19 20:07:13.910235 Start evaluation\n",
      "n_estimators: 4900, max_depth: 6, acc_validation: 0.5433287482806052, corr_num: 395\n",
      "2019-08-19 20:07:14.021755 Evaluation finished\n",
      "2019-08-19 20:07:14.027908 Loading model: 4900_6_ctx_coref_coh_global3\n",
      "2019-08-19 20:07:14.047841 Start evaluation\n",
      "n_estimators: 4900, max_depth: 6, acc_validation: 0.547455295735901, corr_num: 398\n",
      "2019-08-19 20:07:14.158286 Evaluation finished\n"
     ]
    }
   ],
   "source": [
    "model = load_model('4900_6_ctx_coref')\n",
    "save_local_model_predictions(model, d_aquaint_ctx_coref, d_aquaint_ctx_raw, docs_dict_aquaint, top_k=10)\n",
    "\n",
    "test_filter=json.loads(conn.hget('doc-predicted-ents-top-k', 'test'))\n",
    "print('test_filter', len(test_filter))\n",
    "\n",
    "process('ctx_coref_coh', d_aquaint_ctx_coref_coh, d_aquaint_total, n_estimators=[4900], max_depths=[6],\n",
    "       test_filter=test_filter)\n",
    "process('ctx_coref_coh_global', d_aquaint_ctx_coref_coh, d_aquaint_total, n_estimators=[4900], max_depths=[6],\n",
    "       test_filter=test_filter)\n",
    "process('ctx_coref_coh_global2', d_aquaint_ctx_coref_coh, d_aquaint_total, n_estimators=[4900], max_depths=[6],\n",
    "       test_filter=test_filter)\n",
    "process('ctx_coref_coh_global3', d_aquaint_ctx_coref_coh, d_aquaint_total, n_estimators=[4900], max_depths=[6],\n",
    "       test_filter=test_filter)"
   ]
  },
  {
   "cell_type": "code",
   "execution_count": 61,
   "metadata": {},
   "outputs": [
    {
     "name": "stdout",
     "output_type": "stream",
     "text": [
      "Number of groups: 422\n",
      "test_filter 1459\n",
      "2019-08-19 20:07:26.549779 Loading model: 4900_6_ctx_coref_coh\n",
      "2019-08-19 20:07:26.572371 Start evaluation\n",
      "n_estimators: 4900, max_depth: 6, acc_validation: 0.5447042640990372, corr_num: 396\n",
      "2019-08-19 20:07:26.644762 Evaluation finished\n",
      "2019-08-19 20:07:26.648254 Loading model: 4900_6_ctx_coref_coh_global\n",
      "2019-08-19 20:07:26.668812 Start evaluation\n",
      "n_estimators: 4900, max_depth: 6, acc_validation: 0.547455295735901, corr_num: 398\n",
      "2019-08-19 20:07:26.733905 Evaluation finished\n",
      "2019-08-19 20:07:26.737629 Loading model: 4900_6_ctx_coref_coh_global2\n",
      "2019-08-19 20:07:26.768811 Start evaluation\n",
      "n_estimators: 4900, max_depth: 6, acc_validation: 0.5433287482806052, corr_num: 395\n",
      "2019-08-19 20:07:26.837858 Evaluation finished\n",
      "2019-08-19 20:07:26.841833 Loading model: 4900_6_ctx_coref_coh_global3\n",
      "2019-08-19 20:07:26.860268 Start evaluation\n",
      "n_estimators: 4900, max_depth: 6, acc_validation: 0.546079779917469, corr_num: 397\n",
      "2019-08-19 20:07:26.930322 Evaluation finished\n"
     ]
    }
   ],
   "source": [
    "model = load_model('4900_6_ctx_coref')\n",
    "save_local_model_predictions(model, d_aquaint_ctx_coref, d_aquaint_ctx_raw, docs_dict_aquaint, top_k=5)\n",
    "\n",
    "test_filter=json.loads(conn.hget('doc-predicted-ents-top-k', 'test'))\n",
    "print('test_filter', len(test_filter))\n",
    "\n",
    "process('ctx_coref_coh', d_aquaint_ctx_coref_coh, d_aquaint_total, n_estimators=[4900], max_depths=[6],\n",
    "       test_filter=test_filter)\n",
    "process('ctx_coref_coh_global', d_aquaint_ctx_coref_coh, d_aquaint_total, n_estimators=[4900], max_depths=[6],\n",
    "       test_filter=test_filter)\n",
    "process('ctx_coref_coh_global2', d_aquaint_ctx_coref_coh, d_aquaint_total, n_estimators=[4900], max_depths=[6],\n",
    "       test_filter=test_filter)\n",
    "process('ctx_coref_coh_global3', d_aquaint_ctx_coref_coh, d_aquaint_total, n_estimators=[4900], max_depths=[6],\n",
    "       test_filter=test_filter)"
   ]
  },
  {
   "cell_type": "code",
   "execution_count": 12,
   "metadata": {},
   "outputs": [
    {
     "name": "stdout",
     "output_type": "stream",
     "text": [
      "Number of groups: 422\n",
      "test_filter 422\n",
      "2019-08-20 15:30:42.316719 Loading model: 4900_6_ctx_coref_coh\n",
      "2019-08-20 15:30:42.342411 Start evaluation\n",
      "n_estimators: 4900, max_depth: 6, acc_validation: 0.5144429160935351, corr_num: 374\n",
      "2019-08-20 15:30:42.371565 Evaluation finished\n",
      "2019-08-20 15:30:42.374310 Loading model: 4900_6_ctx_coref_coh_global\n",
      "2019-08-20 15:30:42.394737 Start evaluation\n",
      "n_estimators: 4900, max_depth: 6, acc_validation: 0.5185694635488308, corr_num: 377\n",
      "2019-08-20 15:30:42.423970 Evaluation finished\n",
      "2019-08-20 15:30:42.426259 Loading model: 4900_6_ctx_coref_coh_global2\n",
      "2019-08-20 15:30:42.456364 Start evaluation\n",
      "n_estimators: 4900, max_depth: 6, acc_validation: 0.515818431911967, corr_num: 375\n",
      "2019-08-20 15:30:42.481416 Evaluation finished\n",
      "2019-08-20 15:30:42.484440 Loading model: 4900_6_ctx_coref_coh_global3\n",
      "2019-08-20 15:30:42.502135 Start evaluation\n",
      "n_estimators: 4900, max_depth: 6, acc_validation: 0.5185694635488308, corr_num: 377\n",
      "2019-08-20 15:30:42.531739 Evaluation finished\n"
     ]
    }
   ],
   "source": [
    "model = load_model('4900_6_ctx_coref')\n",
    "save_local_model_predictions(model, d_aquaint_ctx_coref, d_aquaint_ctx_raw, docs_dict_aquaint, top_k=1)\n",
    "\n",
    "test_filter=json.loads(conn.hget('doc-predicted-ents-top-k', 'test'))\n",
    "print('test_filter', len(test_filter))\n",
    "\n",
    "process('ctx_coref_coh', d_aquaint_ctx_coref_coh, d_aquaint_total, n_estimators=[4900], max_depths=[6],\n",
    "       test_filter=test_filter)\n",
    "process('ctx_coref_coh_global', d_aquaint_ctx_coref_coh, d_aquaint_total, n_estimators=[4900], max_depths=[6],\n",
    "       test_filter=test_filter)\n",
    "process('ctx_coref_coh_global2', d_aquaint_ctx_coref_coh, d_aquaint_total, n_estimators=[4900], max_depths=[6],\n",
    "       test_filter=test_filter)\n",
    "process('ctx_coref_coh_global3', d_aquaint_ctx_coref_coh, d_aquaint_total, n_estimators=[4900], max_depths=[6],\n",
    "       test_filter=test_filter)"
   ]
  },
  {
   "cell_type": "code",
   "execution_count": 31,
   "metadata": {},
   "outputs": [
    {
     "name": "stdout",
     "output_type": "stream",
     "text": [
      "(44901, 21)\n",
      "573\n",
      "upper bound 0.7753721244925575\n",
      "\n",
      "(14417, 21)\n",
      "422\n",
      "upper bound 0.5804676753782668\n"
     ]
    }
   ],
   "source": [
    "d_msnbc_ctx_all_can = fetch_all_features('basic_fea_ctx_all_can', 'test', 'msnbc_new')\n",
    "d_msnbc_ctx_all_can_raw = get_feature_results('basic_fea_ctx_all_can', 'test', 'msnbc_new')\n",
    "d_msnbc_all_can_true_labels = get_true_labels(d_msnbc_ctx_all_can)\n",
    "\n",
    "d_aquaint_ctx_all_can = fetch_all_features('basic_fea_ctx_all_can', 'test', 'aquaint_new')\n",
    "d_aquaint_ctx_all_can_raw = get_feature_results('basic_fea_ctx_all_can', 'test', 'aquaint_new')\n",
    "d_aquaint_all_can_true_labels = get_true_labels(d_aquaint_ctx_all_can)\n",
    "\n",
    "print(d_msnbc_ctx_all_can.shape)\n",
    "print(d_msnbc_all_can_true_labels)\n",
    "print('upper bound', d_msnbc_all_can_true_labels / d_msnbc_total)\n",
    "print()\n",
    "print(d_aquaint_ctx_all_can.shape)\n",
    "print(d_aquaint_all_can_true_labels)\n",
    "print('upper bound', d_aquaint_all_can_true_labels / d_aquaint_total)"
   ]
  },
  {
   "cell_type": "code",
   "execution_count": 30,
   "metadata": {},
   "outputs": [
    {
     "name": "stdout",
     "output_type": "stream",
     "text": [
      "2019-08-20 20:57:46.296654 Loading model: 4900_6_ctx\n",
      "2019-08-20 20:57:46.326381 Start evaluation\n",
      "n_estimators: 4900, max_depth: 6, precision: 0.806282722513089, recall: 0.625169147496617, f1: 0.7042682926829268, corr_num: 462\n",
      "2019-08-20 20:57:47.476605 Evaluation finished\n"
     ]
    }
   ],
   "source": [
    "process('ctx', d_msnbc_ctx_all_can, d_msnbc_total, n_estimators=[4900], max_depths=[6])"
   ]
  },
  {
   "cell_type": "code",
   "execution_count": 10,
   "metadata": {},
   "outputs": [
    {
     "name": "stdout",
     "output_type": "stream",
     "text": [
      "(14287, 21)\n",
      "625\n",
      "upper bound 0.9527439024390244\n",
      "\n",
      "(15255, 21)\n",
      "674\n",
      "upper bound 0.9270976616231087\n"
     ]
    }
   ],
   "source": [
    "d_msnbc_ctx_emnlp17 = fetch_all_features('basic_fea_ctx_emnlp17', 'test', 'msnbc_new')\n",
    "d_msnbc_ctx_emnlp17_raw = get_feature_results('basic_fea_ctx_emnlp17', 'test', 'msnbc_new')\n",
    "d_msnbc_ctx_emnlp17_true_labels = get_true_labels(d_msnbc_ctx_emnlp17)\n",
    "d_msnbc_total = get_total_mentions('msnbc_new', 'test')\n",
    "\n",
    "d_aquaint_ctx_emnlp17 = fetch_all_features('basic_fea_ctx_emnlp17', 'test', 'aquaint_new')\n",
    "d_aquaint_ctx_emnlp17_raw = get_feature_results('basic_fea_ctx_emnlp17', 'test', 'aquaint_new')\n",
    "d_aquaint_ctx_emnlp17_true_labels = get_true_labels(d_aquaint_ctx_emnlp17)\n",
    "d_aquaint_total = get_total_mentions('aquaint_new', 'test')\n",
    "\n",
    "print(d_msnbc_ctx_emnlp17.shape)\n",
    "print(d_msnbc_ctx_emnlp17_true_labels)\n",
    "print('upper bound', d_msnbc_ctx_emnlp17_true_labels / d_msnbc_total)\n",
    "print()\n",
    "print(d_aquaint_ctx_emnlp17.shape)\n",
    "print(d_aquaint_ctx_emnlp17_true_labels)\n",
    "print('upper bound', d_aquaint_ctx_emnlp17_true_labels / d_aquaint_total)"
   ]
  },
  {
   "cell_type": "code",
   "execution_count": 11,
   "metadata": {},
   "outputs": [
    {
     "name": "stdout",
     "output_type": "stream",
     "text": [
      "(14287, 13)\n",
      "(15255, 13)\n"
     ]
    }
   ],
   "source": [
    "d_msnbc_coref_emnlp17 = fetch_all_features('basic_fea_coref_emnlp17', 'test', 'msnbc_new')\n",
    "d_aquaint_coref_emnlp17 = fetch_all_features('basic_fea_coref_emnlp17', 'test', 'aquaint_new')\n",
    "\n",
    "print(d_msnbc_coref_emnlp17.shape)\n",
    "print(d_aquaint_coref_emnlp17.shape)"
   ]
  },
  {
   "cell_type": "code",
   "execution_count": 12,
   "metadata": {},
   "outputs": [
    {
     "name": "stdout",
     "output_type": "stream",
     "text": [
      "Building idx for new features...\n",
      "Combine original and new features...\n",
      "Building idx for new features...\n",
      "Combine original and new features...\n",
      "(14287, 32)\n",
      "(15255, 32)\n"
     ]
    }
   ],
   "source": [
    "d_msnbc_ctx_coref_emnlp17 = combine_features(d_msnbc_ctx_emnlp17, d_msnbc_coref_emnlp17)\n",
    "d_aquaint_ctx_coref_emnlp17 = combine_features(d_aquaint_ctx_emnlp17, d_aquaint_coref_emnlp17)\n",
    "\n",
    "print(d_msnbc_ctx_coref_emnlp17.shape)\n",
    "print(d_aquaint_ctx_coref_emnlp17.shape)"
   ]
  },
  {
   "cell_type": "code",
   "execution_count": 41,
   "metadata": {},
   "outputs": [
    {
     "name": "stderr",
     "output_type": "stream",
     "text": [
      "/home/ymiao/.venvs/nerd/lib/python3.5/site-packages/xgboost/core.py:614: UserWarning: Use subset (sliced data) of np.ndarray is not recommended because it will generate extra copies and increase memory consumption\n",
      "  \"because it will generate extra copies and increase memory consumption\")\n"
     ]
    },
    {
     "name": "stdout",
     "output_type": "stream",
     "text": [
      "2019-08-22 02:28:00.157089 Loading model: 4900_6_ctx\n",
      "2019-08-22 02:28:00.198489 Start evaluation\n",
      "n_estimators: 4900, max_depth: 6, precision: 0.848, recall: 0.8079268292682927, f1: 0.8274785323965652, corr_num: 530\n",
      "2019-08-22 02:28:00.588304 Evaluation finished\n",
      "2019-08-22 02:28:00.596332 Loading model: 4900_6_ctx_coref\n",
      "2019-08-22 02:28:00.636391 Start evaluation\n",
      "n_estimators: 4900, max_depth: 6, precision: 0.9424, recall: 0.8978658536585366, f1: 0.9195940671350508, corr_num: 589\n",
      "2019-08-22 02:28:01.028469 Evaluation finished\n"
     ]
    }
   ],
   "source": [
    "process('ctx', d_msnbc_ctx_emnlp17, d_msnbc_total, n_estimators=[4900], max_depths=[6])\n",
    "process('ctx_coref', d_msnbc_ctx_coref_emnlp17, d_msnbc_total, n_estimators=[4900], max_depths=[6])"
   ]
  },
  {
   "cell_type": "code",
   "execution_count": 55,
   "metadata": {},
   "outputs": [
    {
     "name": "stdout",
     "output_type": "stream",
     "text": [
      "2019-08-22 05:18:54.067484 Loading model: 4900_6_ctx\n",
      "2019-08-22 05:18:54.103691 Start evaluation\n",
      "n_estimators: 4900, max_depth: 6, precision: 0.8768545994065282, recall: 0.81292984869326, f1: 0.8436830835117772, corr_num: 591\n",
      "2019-08-22 05:18:54.507712 Evaluation finished\n",
      "2019-08-22 05:18:54.512944 Loading model: 4900_6_ctx_coref\n",
      "2019-08-22 05:18:54.529308 Start evaluation\n",
      "n_estimators: 4900, max_depth: 6, precision: 0.8961424332344213, recall: 0.8308115543328748, f1: 0.8622412562455389, corr_num: 604\n",
      "2019-08-22 05:18:54.913751 Evaluation finished\n"
     ]
    }
   ],
   "source": [
    "process('ctx', d_aquaint_ctx_emnlp17, d_aquaint_total, n_estimators=[4900], max_depths=[6])\n",
    "process('ctx_coref', d_aquaint_ctx_coref_emnlp17, d_aquaint_total, n_estimators=[4900], max_depths=[6])"
   ]
  },
  {
   "cell_type": "code",
   "execution_count": 45,
   "metadata": {},
   "outputs": [
    {
     "name": "stderr",
     "output_type": "stream",
     "text": [
      "/home/ymiao/.venvs/nerd/lib/python3.5/site-packages/xgboost/core.py:614: UserWarning: Use subset (sliced data) of np.ndarray is not recommended because it will generate extra copies and increase memory consumption\n",
      "  \"because it will generate extra copies and increase memory consumption\")\n"
     ]
    },
    {
     "name": "stdout",
     "output_type": "stream",
     "text": [
      "Number of groups: 625\n"
     ]
    }
   ],
   "source": [
    "model = load_model('4900_6_ctx_coref')\n",
    "save_local_model_predictions(model, d_msnbc_ctx_coref_emnlp17, d_msnbc_ctx_emnlp17_raw, docs_dict_msnbc)"
   ]
  },
  {
   "cell_type": "code",
   "execution_count": 15,
   "metadata": {},
   "outputs": [
    {
     "name": "stdout",
     "output_type": "stream",
     "text": [
      "(14287, 24)\n",
      "Building idx for new features...\n",
      "Combine original and new features...\n",
      "(14287, 54)\n"
     ]
    }
   ],
   "source": [
    "d_msnbc_coh_emnlp17 = fetch_all_features('basic_fea_coh_emnlp17', 'test', 'msnbc_new')\n",
    "print(d_msnbc_coh_emnlp17.shape)\n",
    "d_msnbc_ctx_coref_coh_emnlp17 = combine_features(d_msnbc_ctx_coref_emnlp17, d_msnbc_coh_emnlp17)\n",
    "print(d_msnbc_ctx_coref_coh_emnlp17.shape)"
   ]
  },
  {
   "cell_type": "code",
   "execution_count": 13,
   "metadata": {},
   "outputs": [
    {
     "name": "stdout",
     "output_type": "stream",
     "text": [
      "Building idx for new features...\n",
      "Combine original and new features...\n",
      "Building idx for new features...\n",
      "Combine original and new features...\n",
      "Building idx for new features...\n",
      "Combine original and new features...\n",
      "Building idx for new features...\n",
      "Combine original and new features...\n"
     ]
    }
   ],
   "source": [
    "d_msnbc_coh_emnlp17_global = fetch_all_features('basic_fea_coh_emnlp17_global', 'test', 'msnbc_new')\n",
    "d_msnbc_coh_emnlp17_global2 = fetch_all_features('basic_fea_coh_emnlp17_global2', 'test', 'msnbc_new')\n",
    "d_msnbc_coh_emnlp17_global3 = fetch_all_features('basic_fea_coh_emnlp17_global3', 'test', 'msnbc_new')\n",
    "d_msnbc_coh_emnlp17_global4 = fetch_all_features('basic_fea_coh_emnlp17_global4', 'test', 'msnbc_new')\n",
    "\n",
    "d_msnbc_ctx_coref_coh_emnlp17_global = combine_features(d_msnbc_ctx_coref_emnlp17, d_msnbc_coh_emnlp17_global)\n",
    "d_msnbc_ctx_coref_coh_emnlp17_global2 = combine_features(d_msnbc_ctx_coref_emnlp17, d_msnbc_coh_emnlp17_global2)\n",
    "d_msnbc_ctx_coref_coh_emnlp17_global3 = combine_features(d_msnbc_ctx_coref_emnlp17, d_msnbc_coh_emnlp17_global3)\n",
    "d_msnbc_ctx_coref_coh_emnlp17_global4 = combine_features(d_msnbc_ctx_coref_emnlp17, d_msnbc_coh_emnlp17_global4)"
   ]
  },
  {
   "cell_type": "code",
   "execution_count": 16,
   "metadata": {},
   "outputs": [
    {
     "name": "stderr",
     "output_type": "stream",
     "text": [
      "/home/ymiao/.venvs/nerd/lib/python3.5/site-packages/xgboost/core.py:614: UserWarning: Use subset (sliced data) of np.ndarray is not recommended because it will generate extra copies and increase memory consumption\n",
      "  \"because it will generate extra copies and increase memory consumption\")\n"
     ]
    },
    {
     "name": "stdout",
     "output_type": "stream",
     "text": [
      "2019-08-26 06:56:54.121861 Loading model: 4900_6_ctx_coref_coh\n",
      "2019-08-26 06:56:54.169507 Start evaluation\n",
      "n_estimators: 4900, max_depth: 6, precision: 0.9632, recall: 0.9176829268292683, f1: 0.9398907103825137, corr_num: 602\n",
      "2019-08-26 06:56:54.722508 Evaluation finished\n",
      "2019-08-26 06:56:54.729642 Loading model: 4900_6_ctx_coref_coh_global\n",
      "2019-08-26 06:56:54.753766 Start evaluation\n",
      "n_estimators: 4900, max_depth: 6, precision: 0.9488, recall: 0.9039634146341463, f1: 0.9258391881342701, corr_num: 593\n",
      "2019-08-26 06:56:55.227299 Evaluation finished\n",
      "2019-08-26 06:56:55.234578 Loading model: 4900_6_ctx_coref_coh_global2\n",
      "2019-08-26 06:56:55.260403 Start evaluation\n",
      "n_estimators: 4900, max_depth: 6, precision: 0.9552, recall: 0.9100609756097561, f1: 0.9320843091334894, corr_num: 597\n",
      "2019-08-26 06:56:55.729951 Evaluation finished\n",
      "2019-08-26 06:56:55.737569 Loading model: 4900_6_ctx_coref_coh_global3\n",
      "2019-08-26 06:56:55.756187 Start evaluation\n",
      "n_estimators: 4900, max_depth: 6, precision: 0.9568, recall: 0.9115853658536586, f1: 0.9336455893832944, corr_num: 598\n",
      "2019-08-26 06:56:56.269791 Evaluation finished\n",
      "2019-08-26 06:56:56.277560 Loading model: 4900_6_ctx_coref_coh_global4\n",
      "2019-08-26 06:56:56.295422 Start evaluation\n",
      "n_estimators: 4900, max_depth: 6, precision: 0.9616, recall: 0.9161585365853658, f1: 0.9383294301327088, corr_num: 601\n",
      "2019-08-26 06:56:56.791289 Evaluation finished\n"
     ]
    }
   ],
   "source": [
    "process('ctx_coref_coh', d_msnbc_ctx_coref_coh_emnlp17, d_msnbc_total, n_estimators=[4900], max_depths=[6])\n",
    "process('ctx_coref_coh_global', d_msnbc_ctx_coref_coh_emnlp17_global, d_msnbc_total, n_estimators=[4900], max_depths=[6])\n",
    "process('ctx_coref_coh_global2', d_msnbc_ctx_coref_coh_emnlp17_global2, d_msnbc_total, n_estimators=[4900], max_depths=[6])\n",
    "process('ctx_coref_coh_global3', d_msnbc_ctx_coref_coh_emnlp17_global3, d_msnbc_total, n_estimators=[4900], max_depths=[6])\n",
    "process('ctx_coref_coh_global4', d_msnbc_ctx_coref_coh_emnlp17_global4, d_msnbc_total, n_estimators=[4900], max_depths=[6])"
   ]
  },
  {
   "cell_type": "code",
   "execution_count": 37,
   "metadata": {},
   "outputs": [
    {
     "name": "stdout",
     "output_type": "stream",
     "text": [
      "=== Top K=3 ===\n",
      "2019-08-26 14:46:09.167239 Processing model: 4900_6_ctx_coref_coh\n",
      "2019-08-26 14:46:09.551352 test_filter 1599\n",
      "2019-08-26 14:46:09.552966 Start evaluation\n",
      "precision: 0.9824, recall: 0.9359756097560976, f1: 0.9586260733801717, corr_num: 614\n",
      "2019-08-26 14:46:09.614585 Evaluation finished\n",
      "2019-08-26 14:46:09.615152 Processing model: 4900_6_ctx_coref_coh_global\n",
      "2019-08-26 14:46:09.983221 test_filter 1599\n",
      "2019-08-26 14:46:09.984651 Start evaluation\n",
      "precision: 0.9759615384615384, recall: 0.9283536585365854, f1: 0.9515625, corr_num: 609\n",
      "2019-08-26 14:46:10.048960 Evaluation finished\n",
      "2019-08-26 14:46:10.049404 Processing model: 4900_6_ctx_coref_coh_global2\n",
      "2019-08-26 14:46:10.413397 test_filter 1599\n",
      "2019-08-26 14:46:10.415058 Start evaluation\n",
      "precision: 0.9871794871794872, recall: 0.9390243902439024, f1: 0.9625, corr_num: 616\n",
      "2019-08-26 14:46:10.478534 Evaluation finished\n",
      "2019-08-26 14:46:10.479373 Processing model: 4900_6_ctx_coref_coh_global3\n",
      "2019-08-26 14:46:10.863881 test_filter 1599\n",
      "2019-08-26 14:46:10.865413 Start evaluation\n",
      "precision: 0.9791666666666666, recall: 0.9314024390243902, f1: 0.9546874999999999, corr_num: 611\n",
      "2019-08-26 14:46:10.931529 Evaluation finished\n",
      "2019-08-26 14:46:10.931902 Processing model: 4900_6_ctx_coref_coh_global4\n",
      "2019-08-26 14:46:11.312082 test_filter 1599\n",
      "2019-08-26 14:46:11.313622 Start evaluation\n",
      "precision: 0.9855769230769231, recall: 0.9375, f1: 0.9609375, corr_num: 615\n",
      "2019-08-26 14:46:11.378331 Evaluation finished\n",
      "=== Top K=5 ===\n",
      "2019-08-26 14:46:11.378805 Processing model: 4900_6_ctx_coref_coh\n",
      "2019-08-26 14:46:11.743704 test_filter 2432\n",
      "2019-08-26 14:46:11.745460 Start evaluation\n",
      "precision: 0.9792, recall: 0.9329268292682927, f1: 0.955503512880562, corr_num: 612\n",
      "2019-08-26 14:46:11.826511 Evaluation finished\n",
      "2019-08-26 14:46:11.827260 Processing model: 4900_6_ctx_coref_coh_global\n",
      "2019-08-26 14:46:12.190128 test_filter 2432\n",
      "2019-08-26 14:46:12.191910 Start evaluation\n",
      "precision: 0.976, recall: 0.9298780487804879, f1: 0.9523809523809524, corr_num: 610\n",
      "2019-08-26 14:46:12.275595 Evaluation finished\n",
      "2019-08-26 14:46:12.275963 Processing model: 4900_6_ctx_coref_coh_global2\n",
      "2019-08-26 14:46:12.645106 test_filter 2432\n",
      "2019-08-26 14:46:12.646753 Start evaluation\n",
      "precision: 0.9872, recall: 0.9405487804878049, f1: 0.9633099141295862, corr_num: 617\n",
      "2019-08-26 14:46:12.732074 Evaluation finished\n",
      "2019-08-26 14:46:12.732449 Processing model: 4900_6_ctx_coref_coh_global3\n",
      "2019-08-26 14:46:13.119522 test_filter 2432\n",
      "2019-08-26 14:46:13.121335 Start evaluation\n",
      "precision: 0.9792, recall: 0.9329268292682927, f1: 0.955503512880562, corr_num: 612\n",
      "2019-08-26 14:46:13.208502 Evaluation finished\n",
      "2019-08-26 14:46:13.208872 Processing model: 4900_6_ctx_coref_coh_global4\n",
      "2019-08-26 14:46:13.590286 test_filter 2432\n",
      "2019-08-26 14:46:13.592073 Start evaluation\n",
      "precision: 0.9856, recall: 0.9390243902439024, f1: 0.9617486338797814, corr_num: 616\n",
      "2019-08-26 14:46:13.673612 Evaluation finished\n"
     ]
    }
   ],
   "source": [
    "process_iterative_filtering('msnbc')"
   ]
  },
  {
   "cell_type": "code",
   "execution_count": 50,
   "metadata": {},
   "outputs": [
    {
     "name": "stdout",
     "output_type": "stream",
     "text": [
      "Number of groups: 674\n"
     ]
    }
   ],
   "source": [
    "model = load_model('4900_6_ctx_coref')\n",
    "save_local_model_predictions(model, d_aquaint_ctx_coref_emnlp17, d_aquaint_ctx_emnlp17_raw, docs_dict_aquaint)"
   ]
  },
  {
   "cell_type": "code",
   "execution_count": 42,
   "metadata": {},
   "outputs": [
    {
     "name": "stdout",
     "output_type": "stream",
     "text": [
      "(15255, 24)\n",
      "Building idx for new features...\n",
      "Combine original and new features...\n",
      "(15255, 54)\n"
     ]
    }
   ],
   "source": [
    "d_aquaint_coh_emnlp17 = fetch_all_features('basic_fea_coh_emnlp17', 'test', 'aquaint_new')\n",
    "print(d_aquaint_coh_emnlp17.shape)\n",
    "d_aquaint_ctx_coref_coh_emnlp17 = combine_features(d_aquaint_ctx_coref_emnlp17, d_aquaint_coh_emnlp17)\n",
    "print(d_aquaint_ctx_coref_coh_emnlp17.shape)"
   ]
  },
  {
   "cell_type": "code",
   "execution_count": 43,
   "metadata": {},
   "outputs": [
    {
     "name": "stdout",
     "output_type": "stream",
     "text": [
      "Building idx for new features...\n",
      "Combine original and new features...\n",
      "Building idx for new features...\n",
      "Combine original and new features...\n",
      "Building idx for new features...\n",
      "Combine original and new features...\n",
      "Building idx for new features...\n",
      "Combine original and new features...\n"
     ]
    }
   ],
   "source": [
    "d_aquaint_coh_emnlp17_global = fetch_all_features('basic_fea_coh_emnlp17_global', 'test', 'aquaint_new')\n",
    "d_aquaint_coh_emnlp17_global2 = fetch_all_features('basic_fea_coh_emnlp17_global2', 'test', 'aquaint_new')\n",
    "d_aquaint_coh_emnlp17_global3 = fetch_all_features('basic_fea_coh_emnlp17_global3', 'test', 'aquaint_new')\n",
    "d_aquaint_coh_emnlp17_global4 = fetch_all_features('basic_fea_coh_emnlp17_global4', 'test', 'aquaint_new')\n",
    "\n",
    "d_aquaint_ctx_coref_coh_emnlp17_global = combine_features(d_aquaint_ctx_coref_emnlp17, d_aquaint_coh_emnlp17_global)\n",
    "d_aquaint_ctx_coref_coh_emnlp17_global2 = combine_features(d_aquaint_ctx_coref_emnlp17, d_aquaint_coh_emnlp17_global2)\n",
    "d_aquaint_ctx_coref_coh_emnlp17_global3 = combine_features(d_aquaint_ctx_coref_emnlp17, d_aquaint_coh_emnlp17_global3)\n",
    "d_aquaint_ctx_coref_coh_emnlp17_global4 = combine_features(d_aquaint_ctx_coref_emnlp17, d_aquaint_coh_emnlp17_global4)"
   ]
  },
  {
   "cell_type": "code",
   "execution_count": 44,
   "metadata": {},
   "outputs": [
    {
     "name": "stdout",
     "output_type": "stream",
     "text": [
      "2019-08-26 14:57:56.690012 Loading model: 4900_6_ctx_coref_coh\n",
      "2019-08-26 14:57:56.716544 Start evaluation\n",
      "n_estimators: 4900, max_depth: 6, precision: 0.9109792284866469, recall: 0.844566712517194, f1: 0.8765167737330479, corr_num: 614\n",
      "2019-08-26 14:57:57.145629 Evaluation finished\n",
      "2019-08-26 14:57:57.152432 Loading model: 4900_6_ctx_coref_coh_global\n",
      "2019-08-26 14:57:57.168327 Start evaluation\n",
      "n_estimators: 4900, max_depth: 6, precision: 0.9169139465875371, recall: 0.8500687757909215, f1: 0.8822269807280514, corr_num: 618\n",
      "2019-08-26 14:57:57.573218 Evaluation finished\n",
      "2019-08-26 14:57:57.580772 Loading model: 4900_6_ctx_coref_coh_global2\n",
      "2019-08-26 14:57:57.597046 Start evaluation\n",
      "n_estimators: 4900, max_depth: 6, precision: 0.9183976261127597, recall: 0.8514442916093535, f1: 0.8836545324768023, corr_num: 619\n",
      "2019-08-26 14:57:57.997194 Evaluation finished\n",
      "2019-08-26 14:57:58.004542 Loading model: 4900_6_ctx_coref_coh_global3\n",
      "2019-08-26 14:57:58.020674 Start evaluation\n",
      "n_estimators: 4900, max_depth: 6, precision: 0.9198813056379822, recall: 0.8528198074277854, f1: 0.8850820842255532, corr_num: 620\n",
      "2019-08-26 14:57:58.420609 Evaluation finished\n",
      "2019-08-26 14:57:58.427782 Loading model: 4900_6_ctx_coref_coh_global4\n",
      "2019-08-26 14:57:58.443386 Start evaluation\n",
      "n_estimators: 4900, max_depth: 6, precision: 0.9213649851632048, recall: 0.8541953232462174, f1: 0.8865096359743042, corr_num: 621\n",
      "2019-08-26 14:57:58.845311 Evaluation finished\n"
     ]
    }
   ],
   "source": [
    "process('ctx_coref_coh', d_aquaint_ctx_coref_coh_emnlp17, d_aquaint_total, n_estimators=[4900], max_depths=[6])\n",
    "process('ctx_coref_coh_global', d_aquaint_ctx_coref_coh_emnlp17_global, d_aquaint_total, n_estimators=[4900], max_depths=[6])\n",
    "process('ctx_coref_coh_global2', d_aquaint_ctx_coref_coh_emnlp17_global2, d_aquaint_total, n_estimators=[4900], max_depths=[6])\n",
    "process('ctx_coref_coh_global3', d_aquaint_ctx_coref_coh_emnlp17_global3, d_aquaint_total, n_estimators=[4900], max_depths=[6])\n",
    "process('ctx_coref_coh_global4', d_aquaint_ctx_coref_coh_emnlp17_global4, d_aquaint_total, n_estimators=[4900], max_depths=[6])"
   ]
  },
  {
   "cell_type": "code",
   "execution_count": 45,
   "metadata": {},
   "outputs": [
    {
     "name": "stdout",
     "output_type": "stream",
     "text": [
      "=== Top K=3 ===\n",
      "2019-08-26 14:59:11.641162 Processing model: 4900_6_ctx_coref_coh\n"
     ]
    },
    {
     "name": "stderr",
     "output_type": "stream",
     "text": [
      "/home/ymiao/.venvs/nerd/lib/python3.5/site-packages/xgboost/core.py:614: UserWarning: Use subset (sliced data) of np.ndarray is not recommended because it will generate extra copies and increase memory consumption\n",
      "  \"because it will generate extra copies and increase memory consumption\")\n"
     ]
    },
    {
     "name": "stdout",
     "output_type": "stream",
     "text": [
      "2019-08-26 14:59:12.029981 test_filter 1732\n",
      "2019-08-26 14:59:12.031547 Start evaluation\n",
      "precision: 0.9484066767830045, recall: 0.859697386519945, f1: 0.9018759018759018, corr_num: 625\n",
      "2019-08-26 14:59:12.107318 Evaluation finished\n",
      "2019-08-26 14:59:12.107791 Processing model: 4900_6_ctx_coref_coh_global\n",
      "2019-08-26 14:59:12.483615 test_filter 1732\n",
      "2019-08-26 14:59:12.485193 Start evaluation\n",
      "precision: 0.9636363636363636, recall: 0.874828060522696, f1: 0.9170872386445567, corr_num: 636\n",
      "2019-08-26 14:59:12.550547 Evaluation finished\n",
      "2019-08-26 14:59:12.551320 Processing model: 4900_6_ctx_coref_coh_global2\n",
      "2019-08-26 14:59:12.947782 test_filter 1732\n",
      "2019-08-26 14:59:12.949313 Start evaluation\n",
      "precision: 0.9653092006033183, recall: 0.8803301237964236, f1: 0.9208633093525179, corr_num: 640\n",
      "2019-08-26 14:59:13.016273 Evaluation finished\n",
      "2019-08-26 14:59:13.016662 Processing model: 4900_6_ctx_coref_coh_global3\n",
      "2019-08-26 14:59:13.404597 test_filter 1732\n",
      "2019-08-26 14:59:13.406234 Start evaluation\n",
      "precision: 0.9667170953101362, recall: 0.8789546079779917, f1: 0.9207492795389048, corr_num: 639\n",
      "2019-08-26 14:59:13.473412 Evaluation finished\n",
      "2019-08-26 14:59:13.473803 Processing model: 4900_6_ctx_coref_coh_global4\n",
      "2019-08-26 14:59:13.840413 test_filter 1732\n",
      "2019-08-26 14:59:13.841942 Start evaluation\n",
      "precision: 0.9652567975830816, recall: 0.8789546079779917, f1: 0.920086393088553, corr_num: 639\n",
      "2019-08-26 14:59:13.903408 Evaluation finished\n",
      "=== Top K=5 ===\n",
      "2019-08-26 14:59:13.903912 Processing model: 4900_6_ctx_coref_coh\n",
      "2019-08-26 14:59:14.273241 test_filter 2647\n",
      "2019-08-26 14:59:14.275050 Start evaluation\n",
      "precision: 0.9400299850074962, recall: 0.8624484181568088, f1: 0.8995695839311334, corr_num: 627\n",
      "2019-08-26 14:59:14.370163 Evaluation finished\n",
      "2019-08-26 14:59:14.370558 Processing model: 4900_6_ctx_coref_coh_global\n",
      "2019-08-26 14:59:14.749989 test_filter 2647\n",
      "2019-08-26 14:59:14.751928 Start evaluation\n",
      "precision: 0.9581464872944694, recall: 0.8817056396148556, f1: 0.9183381088825215, corr_num: 641\n",
      "2019-08-26 14:59:14.844985 Evaluation finished\n",
      "2019-08-26 14:59:14.845375 Processing model: 4900_6_ctx_coref_coh_global2\n",
      "2019-08-26 14:59:15.240164 test_filter 2647\n",
      "2019-08-26 14:59:15.241976 Start evaluation\n",
      "precision: 0.9640718562874252, recall: 0.8858321870701513, f1: 0.9232974910394265, corr_num: 644\n",
      "2019-08-26 14:59:15.334241 Evaluation finished\n",
      "2019-08-26 14:59:15.334639 Processing model: 4900_6_ctx_coref_coh_global3\n",
      "2019-08-26 14:59:15.714063 test_filter 2647\n",
      "2019-08-26 14:59:15.715787 Start evaluation\n",
      "precision: 0.9640718562874252, recall: 0.8858321870701513, f1: 0.9232974910394265, corr_num: 644\n",
      "2019-08-26 14:59:15.801806 Evaluation finished\n",
      "2019-08-26 14:59:15.802194 Processing model: 4900_6_ctx_coref_coh_global4\n",
      "2019-08-26 14:59:16.170714 test_filter 2647\n",
      "2019-08-26 14:59:16.173100 Start evaluation\n",
      "precision: 0.9625748502994012, recall: 0.8844566712517193, f1: 0.9218637992831542, corr_num: 643\n",
      "2019-08-26 14:59:16.258764 Evaluation finished\n"
     ]
    }
   ],
   "source": [
    "process_iterative_filtering('aquaint')"
   ]
  },
  {
   "cell_type": "code",
   "execution_count": 143,
   "metadata": {},
   "outputs": [
    {
     "name": "stdout",
     "output_type": "stream",
     "text": [
      "(6733, 21)\n",
      "(6733, 13)\n",
      "257\n",
      "225\n",
      "upper bound 0.8754863813229572\n"
     ]
    }
   ],
   "source": [
    "d_ace_ctx_emnlp17 = fetch_all_features('basic_fea_ctx_emnlp17', 'test', 'ace2014_uiuc')\n",
    "d_ace_ctx_emnlp17_raw = get_feature_results('basic_fea_ctx_emnlp17', 'test', 'ace2014_uiuc')\n",
    "d_ace_coref_emnlp17 = fetch_all_features('basic_fea_coref_emnlp17', 'test', 'ace2014_uiuc')\n",
    "d_ace_ctx_emnlp17_true_labels = get_true_labels(d_ace_ctx_emnlp17)\n",
    "d_ace_total = get_total_mentions('ace2014_uiuc', 'test')\n",
    "docs_dict_ace = fetch_q_ids_docs('ace2014_uiuc')\n",
    "\n",
    "print(d_ace_ctx_emnlp17.shape)\n",
    "print(d_ace_coref_emnlp17.shape)\n",
    "print(d_ace_total)\n",
    "print(d_ace_ctx_emnlp17_true_labels)\n",
    "print('upper bound', d_ace_ctx_emnlp17_true_labels / d_ace_total)"
   ]
  },
  {
   "cell_type": "code",
   "execution_count": 144,
   "metadata": {},
   "outputs": [
    {
     "name": "stdout",
     "output_type": "stream",
     "text": [
      "Building idx for new features...\n",
      "Combine original and new features...\n",
      "(6733, 32)\n"
     ]
    }
   ],
   "source": [
    "d_ace_ctx_coref_emnlp17 = combine_features(d_ace_ctx_emnlp17, d_ace_coref_emnlp17)\n",
    "print(d_ace_ctx_coref_emnlp17.shape)"
   ]
  },
  {
   "cell_type": "code",
   "execution_count": 60,
   "metadata": {},
   "outputs": [
    {
     "name": "stderr",
     "output_type": "stream",
     "text": [
      "/home/ymiao/.venvs/nerd/lib/python3.5/site-packages/xgboost/core.py:614: UserWarning: Use subset (sliced data) of np.ndarray is not recommended because it will generate extra copies and increase memory consumption\n",
      "  \"because it will generate extra copies and increase memory consumption\")\n"
     ]
    },
    {
     "name": "stdout",
     "output_type": "stream",
     "text": [
      "2019-08-22 13:02:05.423324 Loading model: 4900_6_ctx\n",
      "2019-08-22 13:02:05.472597 Start evaluation\n",
      "n_estimators: 4900, max_depth: 6, precision: 0.9377777777777778, recall: 0.8210116731517509, f1: 0.8755186721991702, corr_num: 211\n",
      "2019-08-22 13:02:05.678417 Evaluation finished\n",
      "2019-08-22 13:02:05.682331 Loading model: 4900_6_ctx_coref\n",
      "2019-08-22 13:02:05.706784 Start evaluation\n",
      "n_estimators: 4900, max_depth: 6, precision: 0.9377777777777778, recall: 0.8210116731517509, f1: 0.8755186721991702, corr_num: 211\n",
      "2019-08-22 13:02:05.888451 Evaluation finished\n"
     ]
    }
   ],
   "source": [
    "process('ctx', d_ace_ctx_emnlp17, d_ace_total, n_estimators=[4900], max_depths=[6])\n",
    "process('ctx_coref', d_ace_ctx_coref_emnlp17, d_ace_total, n_estimators=[4900], max_depths=[6])"
   ]
  },
  {
   "cell_type": "code",
   "execution_count": 62,
   "metadata": {},
   "outputs": [
    {
     "name": "stdout",
     "output_type": "stream",
     "text": [
      "Number of groups: 225\n"
     ]
    }
   ],
   "source": [
    "model = load_model('4900_6_ctx_coref')\n",
    "save_local_model_predictions(model, d_ace_ctx_coref_emnlp17, d_ace_ctx_emnlp17_raw, docs_dict_ace)"
   ]
  },
  {
   "cell_type": "code",
   "execution_count": 145,
   "metadata": {},
   "outputs": [
    {
     "name": "stdout",
     "output_type": "stream",
     "text": [
      "(6733, 24)\n",
      "Building idx for new features...\n",
      "Combine original and new features...\n",
      "(6733, 54)\n"
     ]
    }
   ],
   "source": [
    "d_ace_coh_emnlp17 = fetch_all_features('basic_fea_coh_emnlp17', 'test', 'ace2014_uiuc')\n",
    "print(d_ace_coh_emnlp17.shape)\n",
    "\n",
    "d_ace_ctx_coref_coh_emnlp17 = combine_features(d_ace_ctx_coref_emnlp17, d_ace_coh_emnlp17)\n",
    "print(d_ace_ctx_coref_coh_emnlp17.shape)"
   ]
  },
  {
   "cell_type": "code",
   "execution_count": 49,
   "metadata": {},
   "outputs": [
    {
     "name": "stdout",
     "output_type": "stream",
     "text": [
      "Building idx for new features...\n",
      "Combine original and new features...\n",
      "Building idx for new features...\n",
      "Combine original and new features...\n",
      "Building idx for new features...\n",
      "Combine original and new features...\n",
      "Building idx for new features...\n",
      "Combine original and new features...\n"
     ]
    }
   ],
   "source": [
    "d_ace_coh_emnlp17_global = fetch_all_features('basic_fea_coh_emnlp17_global', 'test', 'ace2014_uiuc')\n",
    "d_ace_coh_emnlp17_global2 = fetch_all_features('basic_fea_coh_emnlp17_global2', 'test', 'ace2014_uiuc')\n",
    "d_ace_coh_emnlp17_global3 = fetch_all_features('basic_fea_coh_emnlp17_global3', 'test', 'ace2014_uiuc')\n",
    "d_ace_coh_emnlp17_global4 = fetch_all_features('basic_fea_coh_emnlp17_global4', 'test', 'ace2014_uiuc')\n",
    "\n",
    "d_ace_ctx_coref_coh_emnlp17_global = combine_features(d_ace_ctx_coref_emnlp17, d_ace_coh_emnlp17_global)\n",
    "d_ace_ctx_coref_coh_emnlp17_global2 = combine_features(d_ace_ctx_coref_emnlp17, d_ace_coh_emnlp17_global2)\n",
    "d_ace_ctx_coref_coh_emnlp17_global3 = combine_features(d_ace_ctx_coref_emnlp17, d_ace_coh_emnlp17_global3)\n",
    "d_ace_ctx_coref_coh_emnlp17_global4 = combine_features(d_ace_ctx_coref_emnlp17, d_ace_coh_emnlp17_global4)"
   ]
  },
  {
   "cell_type": "code",
   "execution_count": 50,
   "metadata": {},
   "outputs": [
    {
     "name": "stdout",
     "output_type": "stream",
     "text": [
      "2019-08-26 15:04:26.663873 Loading model: 4900_6_ctx_coref_coh\n",
      "2019-08-26 15:04:26.692278 Start evaluation\n",
      "n_estimators: 4900, max_depth: 6, precision: 0.9333333333333333, recall: 0.8171206225680934, f1: 0.871369294605809, corr_num: 210\n",
      "2019-08-26 15:04:26.914122 Evaluation finished\n",
      "2019-08-26 15:04:26.918788 Loading model: 4900_6_ctx_coref_coh_global\n",
      "2019-08-26 15:04:26.936052 Start evaluation\n",
      "n_estimators: 4900, max_depth: 6, precision: 0.9377777777777778, recall: 0.8210116731517509, f1: 0.8755186721991702, corr_num: 211\n",
      "2019-08-26 15:04:27.120944 Evaluation finished\n",
      "2019-08-26 15:04:27.125794 Loading model: 4900_6_ctx_coref_coh_global2\n",
      "2019-08-26 15:04:27.142407 Start evaluation\n",
      "n_estimators: 4900, max_depth: 6, precision: 0.9377777777777778, recall: 0.8210116731517509, f1: 0.8755186721991702, corr_num: 211\n",
      "2019-08-26 15:04:27.325318 Evaluation finished\n",
      "2019-08-26 15:04:27.331678 Loading model: 4900_6_ctx_coref_coh_global3\n",
      "2019-08-26 15:04:27.348558 Start evaluation\n",
      "n_estimators: 4900, max_depth: 6, precision: 0.9377777777777778, recall: 0.8210116731517509, f1: 0.8755186721991702, corr_num: 211\n",
      "2019-08-26 15:04:27.524275 Evaluation finished\n",
      "2019-08-26 15:04:27.529561 Loading model: 4900_6_ctx_coref_coh_global4\n",
      "2019-08-26 15:04:27.545980 Start evaluation\n",
      "n_estimators: 4900, max_depth: 6, precision: 0.9422222222222222, recall: 0.8249027237354085, f1: 0.879668049792531, corr_num: 212\n",
      "2019-08-26 15:04:27.726016 Evaluation finished\n"
     ]
    }
   ],
   "source": [
    "process('ctx_coref_coh', d_ace_ctx_coref_coh_emnlp17, d_ace_total, n_estimators=[4900], max_depths=[6])\n",
    "process('ctx_coref_coh_global', d_ace_ctx_coref_coh_emnlp17_global, d_ace_total, n_estimators=[4900], max_depths=[6])\n",
    "process('ctx_coref_coh_global2', d_ace_ctx_coref_coh_emnlp17_global2, d_ace_total, n_estimators=[4900], max_depths=[6])\n",
    "process('ctx_coref_coh_global3', d_ace_ctx_coref_coh_emnlp17_global3, d_ace_total, n_estimators=[4900], max_depths=[6])\n",
    "process('ctx_coref_coh_global4', d_ace_ctx_coref_coh_emnlp17_global4, d_ace_total, n_estimators=[4900], max_depths=[6])"
   ]
  },
  {
   "cell_type": "code",
   "execution_count": 51,
   "metadata": {},
   "outputs": [
    {
     "name": "stdout",
     "output_type": "stream",
     "text": [
      "=== Top K=3 ===\n",
      "2019-08-26 15:05:14.770370 Processing model: 4900_6_ctx_coref_coh\n",
      "2019-08-26 15:05:14.966795 test_filter 607\n",
      "2019-08-26 15:05:14.968378 Start evaluation\n"
     ]
    },
    {
     "name": "stderr",
     "output_type": "stream",
     "text": [
      "/home/ymiao/.venvs/nerd/lib/python3.5/site-packages/xgboost/core.py:614: UserWarning: Use subset (sliced data) of np.ndarray is not recommended because it will generate extra copies and increase memory consumption\n",
      "  \"because it will generate extra copies and increase memory consumption\")\n"
     ]
    },
    {
     "name": "stdout",
     "output_type": "stream",
     "text": [
      "precision: 0.9596412556053812, recall: 0.8326848249027238, f1: 0.8916666666666667, corr_num: 214\n",
      "2019-08-26 15:05:14.998707 Evaluation finished\n",
      "2019-08-26 15:05:14.999358 Processing model: 4900_6_ctx_coref_coh_global\n",
      "2019-08-26 15:05:15.188781 test_filter 607\n",
      "2019-08-26 15:05:15.190097 Start evaluation\n",
      "precision: 0.9681818181818181, recall: 0.8287937743190662, f1: 0.8930817610062893, corr_num: 213\n",
      "2019-08-26 15:05:15.217604 Evaluation finished\n",
      "2019-08-26 15:05:15.217894 Processing model: 4900_6_ctx_coref_coh_global2\n",
      "2019-08-26 15:05:15.405608 test_filter 607\n",
      "2019-08-26 15:05:15.406703 Start evaluation\n",
      "precision: 0.9726027397260274, recall: 0.8287937743190662, f1: 0.8949579831932774, corr_num: 213\n",
      "2019-08-26 15:05:15.433971 Evaluation finished\n",
      "2019-08-26 15:05:15.434256 Processing model: 4900_6_ctx_coref_coh_global3\n",
      "2019-08-26 15:05:15.625145 test_filter 607\n",
      "2019-08-26 15:05:15.626339 Start evaluation\n",
      "precision: 0.9772727272727273, recall: 0.8365758754863813, f1: 0.9014675052410902, corr_num: 215\n",
      "2019-08-26 15:05:15.658357 Evaluation finished\n",
      "2019-08-26 15:05:15.658642 Processing model: 4900_6_ctx_coref_coh_global4\n",
      "2019-08-26 15:05:15.855557 test_filter 607\n",
      "2019-08-26 15:05:15.856728 Start evaluation\n",
      "precision: 0.9771689497716894, recall: 0.8326848249027238, f1: 0.8991596638655462, corr_num: 214\n",
      "2019-08-26 15:05:15.885609 Evaluation finished\n",
      "=== Top K=5 ===\n",
      "2019-08-26 15:05:15.886003 Processing model: 4900_6_ctx_coref_coh\n",
      "2019-08-26 15:05:16.080373 test_filter 951\n",
      "2019-08-26 15:05:16.081831 Start evaluation\n",
      "precision: 0.9596412556053812, recall: 0.8326848249027238, f1: 0.8916666666666667, corr_num: 214\n",
      "2019-08-26 15:05:16.121269 Evaluation finished\n",
      "2019-08-26 15:05:16.121556 Processing model: 4900_6_ctx_coref_coh_global\n",
      "2019-08-26 15:05:16.311098 test_filter 951\n",
      "2019-08-26 15:05:16.312292 Start evaluation\n",
      "precision: 0.9641255605381166, recall: 0.8365758754863813, f1: 0.8958333333333334, corr_num: 215\n",
      "2019-08-26 15:05:16.354020 Evaluation finished\n",
      "2019-08-26 15:05:16.354303 Processing model: 4900_6_ctx_coref_coh_global2\n",
      "2019-08-26 15:05:16.545100 test_filter 951\n",
      "2019-08-26 15:05:16.546533 Start evaluation\n",
      "precision: 0.972972972972973, recall: 0.8404669260700389, f1: 0.9018789144050106, corr_num: 216\n",
      "2019-08-26 15:05:16.585538 Evaluation finished\n",
      "2019-08-26 15:05:16.585827 Processing model: 4900_6_ctx_coref_coh_global3\n",
      "2019-08-26 15:05:16.779928 test_filter 951\n",
      "2019-08-26 15:05:16.781277 Start evaluation\n",
      "precision: 0.972972972972973, recall: 0.8404669260700389, f1: 0.9018789144050106, corr_num: 216\n",
      "2019-08-26 15:05:16.820586 Evaluation finished\n",
      "2019-08-26 15:05:16.820873 Processing model: 4900_6_ctx_coref_coh_global4\n",
      "2019-08-26 15:05:17.019191 test_filter 951\n",
      "2019-08-26 15:05:17.020461 Start evaluation\n",
      "precision: 0.9774774774774775, recall: 0.8443579766536965, f1: 0.906054279749478, corr_num: 217\n",
      "2019-08-26 15:05:17.058167 Evaluation finished\n"
     ]
    }
   ],
   "source": [
    "process_iterative_filtering('ace')"
   ]
  },
  {
   "cell_type": "code",
   "execution_count": 146,
   "metadata": {},
   "outputs": [
    {
     "name": "stdout",
     "output_type": "stream",
     "text": [
      "(277802, 21)\n",
      "(277802, 13)\n",
      "11154\n",
      "10372\n",
      "upper bound 0.9298906221983145\n"
     ]
    }
   ],
   "source": [
    "d_clueweb_ctx_emnlp17 = fetch_all_features('basic_fea_ctx_emnlp17', 'test', 'clueweb12')\n",
    "d_clueweb_ctx_emnlp17_raw = get_feature_results('basic_fea_ctx_emnlp17', 'test', 'clueweb12')\n",
    "d_clueweb_coref_emnlp17 = fetch_all_features('basic_fea_coref_emnlp17', 'test', 'clueweb12')\n",
    "d_clueweb_ctx_emnlp17_true_labels = get_true_labels(d_clueweb_ctx_emnlp17)\n",
    "d_clueweb_total = get_total_mentions('clueweb12', 'test')\n",
    "docs_dict_clueweb = fetch_q_ids_docs('clueweb12')\n",
    "\n",
    "print(d_clueweb_ctx_emnlp17.shape)\n",
    "print(d_clueweb_coref_emnlp17.shape)\n",
    "print(d_clueweb_total)\n",
    "print(d_clueweb_ctx_emnlp17_true_labels)\n",
    "print('upper bound', d_clueweb_ctx_emnlp17_true_labels / d_clueweb_total)"
   ]
  },
  {
   "cell_type": "code",
   "execution_count": 147,
   "metadata": {},
   "outputs": [
    {
     "name": "stdout",
     "output_type": "stream",
     "text": [
      "Building idx for new features...\n",
      "Combine original and new features...\n",
      "(277802, 32)\n"
     ]
    }
   ],
   "source": [
    "d_clueweb_ctx_coref_emnlp17 = combine_features(d_clueweb_ctx_emnlp17, d_clueweb_coref_emnlp17)\n",
    "print(d_clueweb_ctx_coref_emnlp17.shape)"
   ]
  },
  {
   "cell_type": "code",
   "execution_count": 76,
   "metadata": {},
   "outputs": [
    {
     "name": "stderr",
     "output_type": "stream",
     "text": [
      "/home/ymiao/.venvs/nerd/lib/python3.5/site-packages/xgboost/core.py:614: UserWarning: Use subset (sliced data) of np.ndarray is not recommended because it will generate extra copies and increase memory consumption\n",
      "  \"because it will generate extra copies and increase memory consumption\")\n"
     ]
    },
    {
     "name": "stdout",
     "output_type": "stream",
     "text": [
      "2019-08-23 16:43:34.544666 Loading model: 4900_6_ctx\n",
      "2019-08-23 16:43:34.575550 Start evaluation\n",
      "n_estimators: 4900, max_depth: 6, precision: 0.7525067489394524, recall: 0.6997489689797383, f1: 0.7251695623896683, corr_num: 7805\n",
      "2019-08-23 16:43:42.251803 Evaluation finished\n",
      "2019-08-23 16:43:42.370171 Loading model: 4900_6_ctx_coref\n",
      "2019-08-23 16:43:42.421077 Start evaluation\n",
      "n_estimators: 4900, max_depth: 6, precision: 0.7827805630543772, recall: 0.7279003048233817, f1: 0.7543435845024622, corr_num: 8119\n",
      "2019-08-23 16:43:49.961039 Evaluation finished\n"
     ]
    }
   ],
   "source": [
    "process('ctx', d_clueweb_ctx_emnlp17, d_clueweb_total, n_estimators=[4900], max_depths=[6])\n",
    "process('ctx_coref', d_clueweb_ctx_coref_emnlp17, d_clueweb_total, n_estimators=[4900], max_depths=[6])"
   ]
  },
  {
   "cell_type": "code",
   "execution_count": 77,
   "metadata": {},
   "outputs": [
    {
     "name": "stdout",
     "output_type": "stream",
     "text": [
      "Number of groups: 10372\n"
     ]
    }
   ],
   "source": [
    "model = load_model('4900_6_ctx_coref')\n",
    "save_local_model_predictions(model, d_clueweb_ctx_coref_emnlp17, d_clueweb_ctx_emnlp17_raw, docs_dict_clueweb)"
   ]
  },
  {
   "cell_type": "code",
   "execution_count": 148,
   "metadata": {},
   "outputs": [
    {
     "name": "stdout",
     "output_type": "stream",
     "text": [
      "(277802, 24)\n",
      "Building idx for new features...\n",
      "Combine original and new features...\n",
      "(277802, 54)\n"
     ]
    }
   ],
   "source": [
    "d_clueweb_coh_emnlp17 = fetch_all_features('basic_fea_coh_emnlp17', 'test', 'clueweb12')\n",
    "print(d_clueweb_coh_emnlp17.shape)\n",
    "\n",
    "d_clueweb_ctx_coref_coh_emnlp17 = combine_features(d_clueweb_ctx_coref_emnlp17, d_clueweb_coh_emnlp17)\n",
    "print(d_clueweb_ctx_coref_coh_emnlp17.shape)"
   ]
  },
  {
   "cell_type": "code",
   "execution_count": 55,
   "metadata": {},
   "outputs": [
    {
     "name": "stdout",
     "output_type": "stream",
     "text": [
      "Building idx for new features...\n",
      "Combine original and new features...\n",
      "Building idx for new features...\n",
      "Combine original and new features...\n",
      "Building idx for new features...\n",
      "Combine original and new features...\n",
      "Building idx for new features...\n",
      "Combine original and new features...\n"
     ]
    }
   ],
   "source": [
    "d_clueweb_coh_emnlp17_global = fetch_all_features('basic_fea_coh_emnlp17_global', 'test', 'clueweb12')\n",
    "d_clueweb_coh_emnlp17_global2 = fetch_all_features('basic_fea_coh_emnlp17_global2', 'test', 'clueweb12')\n",
    "d_clueweb_coh_emnlp17_global3 = fetch_all_features('basic_fea_coh_emnlp17_global3', 'test', 'clueweb12')\n",
    "d_clueweb_coh_emnlp17_global4 = fetch_all_features('basic_fea_coh_emnlp17_global4', 'test', 'clueweb12')\n",
    "\n",
    "d_clueweb_ctx_coref_coh_emnlp17_global = combine_features(d_clueweb_ctx_coref_emnlp17, d_clueweb_coh_emnlp17_global)\n",
    "d_clueweb_ctx_coref_coh_emnlp17_global2 = combine_features(d_clueweb_ctx_coref_emnlp17, d_clueweb_coh_emnlp17_global2)\n",
    "d_clueweb_ctx_coref_coh_emnlp17_global3 = combine_features(d_clueweb_ctx_coref_emnlp17, d_clueweb_coh_emnlp17_global3)\n",
    "d_clueweb_ctx_coref_coh_emnlp17_global4 = combine_features(d_clueweb_ctx_coref_emnlp17, d_clueweb_coh_emnlp17_global4)"
   ]
  },
  {
   "cell_type": "code",
   "execution_count": 56,
   "metadata": {},
   "outputs": [
    {
     "name": "stdout",
     "output_type": "stream",
     "text": [
      "2019-08-26 15:08:34.983044 Loading model: 4900_6_ctx_coref_coh\n",
      "2019-08-26 15:08:34.999386 Start evaluation\n",
      "n_estimators: 4900, max_depth: 6, precision: 0.8230813729271115, recall: 0.7653756499910346, f1: 0.7931803400538883, corr_num: 8537\n",
      "2019-08-26 15:08:42.549075 Evaluation finished\n",
      "2019-08-26 15:08:42.695944 Loading model: 4900_6_ctx_coref_coh_global\n",
      "2019-08-26 15:08:42.712014 Start evaluation\n",
      "n_estimators: 4900, max_depth: 6, precision: 0.8349402236791361, recall: 0.7764030840953918, f1: 0.8046083805630401, corr_num: 8660\n",
      "2019-08-26 15:08:50.223081 Evaluation finished\n",
      "2019-08-26 15:08:50.370131 Loading model: 4900_6_ctx_coref_coh_global2\n",
      "2019-08-26 15:08:50.386258 Start evaluation\n",
      "n_estimators: 4900, max_depth: 6, precision: 0.8349402236791361, recall: 0.7764030840953918, f1: 0.8046083805630401, corr_num: 8660\n",
      "2019-08-26 15:08:57.652245 Evaluation finished\n",
      "2019-08-26 15:08:57.799302 Loading model: 4900_6_ctx_coref_coh_global3\n",
      "2019-08-26 15:08:57.816136 Start evaluation\n",
      "n_estimators: 4900, max_depth: 6, precision: 0.8399537215580409, recall: 0.7810650887573964, f1: 0.8094397472823562, corr_num: 8712\n",
      "2019-08-26 15:09:05.489544 Evaluation finished\n",
      "2019-08-26 15:09:05.636073 Loading model: 4900_6_ctx_coref_coh_global4\n",
      "2019-08-26 15:09:05.651909 Start evaluation\n",
      "n_estimators: 4900, max_depth: 6, precision: 0.8370613189355959, recall: 0.778375470683163, f1: 0.8066524203289046, corr_num: 8682\n",
      "2019-08-26 15:09:12.868569 Evaluation finished\n"
     ]
    }
   ],
   "source": [
    "process('ctx_coref_coh', d_clueweb_ctx_coref_coh_emnlp17, d_clueweb_total, n_estimators=[4900], max_depths=[6])\n",
    "process('ctx_coref_coh_global', d_clueweb_ctx_coref_coh_emnlp17_global, d_clueweb_total, n_estimators=[4900], max_depths=[6])\n",
    "process('ctx_coref_coh_global2', d_clueweb_ctx_coref_coh_emnlp17_global2, d_clueweb_total, n_estimators=[4900], max_depths=[6])\n",
    "process('ctx_coref_coh_global3', d_clueweb_ctx_coref_coh_emnlp17_global3, d_clueweb_total, n_estimators=[4900], max_depths=[6])\n",
    "process('ctx_coref_coh_global4', d_clueweb_ctx_coref_coh_emnlp17_global4, d_clueweb_total, n_estimators=[4900], max_depths=[6])"
   ]
  },
  {
   "cell_type": "code",
   "execution_count": 57,
   "metadata": {},
   "outputs": [
    {
     "name": "stdout",
     "output_type": "stream",
     "text": [
      "=== Top K=3 ===\n",
      "2019-08-26 15:10:13.261103 Processing model: 4900_6_ctx_coref_coh\n"
     ]
    },
    {
     "name": "stderr",
     "output_type": "stream",
     "text": [
      "/home/ymiao/.venvs/nerd/lib/python3.5/site-packages/xgboost/core.py:614: UserWarning: Use subset (sliced data) of np.ndarray is not recommended because it will generate extra copies and increase memory consumption\n",
      "  \"because it will generate extra copies and increase memory consumption\")\n"
     ]
    },
    {
     "name": "stdout",
     "output_type": "stream",
     "text": [
      "2019-08-26 15:10:21.012128 test_filter 27342\n",
      "2019-08-26 15:10:21.030459 Start evaluation\n",
      "precision: 0.9040250914793518, recall: 0.7752375829298906, f1: 0.8346927940537672, corr_num: 8647\n",
      "2019-08-26 15:10:21.967892 Evaluation finished\n",
      "2019-08-26 15:10:21.969875 Processing model: 4900_6_ctx_coref_coh_global\n",
      "2019-08-26 15:10:29.543511 test_filter 27342\n",
      "2019-08-26 15:10:29.557366 Start evaluation\n",
      "precision: 0.91439332247557, recall: 0.8053613053613053, f1: 0.8564210124892745, corr_num: 8983\n",
      "2019-08-26 15:10:30.447095 Evaluation finished\n",
      "2019-08-26 15:10:30.449245 Processing model: 4900_6_ctx_coref_coh_global2\n",
      "2019-08-26 15:10:37.668362 test_filter 27342\n",
      "2019-08-26 15:10:37.682066 Start evaluation\n",
      "precision: 0.9243594957299716, recall: 0.8151335843643536, f1: 0.8663172939494997, corr_num: 9092\n",
      "2019-08-26 15:10:38.577835 Evaluation finished\n",
      "2019-08-26 15:10:38.580632 Processing model: 4900_6_ctx_coref_coh_global3\n",
      "2019-08-26 15:10:45.870292 test_filter 27342\n",
      "2019-08-26 15:10:45.884201 Start evaluation\n",
      "precision: 0.9259560618388935, recall: 0.816209431594047, f1: 0.8676260364052226, corr_num: 9104\n",
      "2019-08-26 15:10:46.833835 Evaluation finished\n",
      "2019-08-26 15:10:46.836577 Processing model: 4900_6_ctx_coref_coh_global4\n",
      "2019-08-26 15:10:54.419490 test_filter 27342\n",
      "2019-08-26 15:10:54.433440 Start evaluation\n",
      "precision: 0.9259900234144355, recall: 0.8154922001075847, f1: 0.8672355436907089, corr_num: 9096\n",
      "2019-08-26 15:10:55.350501 Evaluation finished\n",
      "=== Top K=5 ===\n",
      "2019-08-26 15:10:55.353454 Processing model: 4900_6_ctx_coref_coh\n",
      "2019-08-26 15:11:03.238577 test_filter 42649\n",
      "2019-08-26 15:11:03.258932 Start evaluation\n",
      "precision: 0.8816029143897997, recall: 0.7810650887573964, f1: 0.8282943525385054, corr_num: 8712\n",
      "2019-08-26 15:11:04.641093 Evaluation finished\n",
      "2019-08-26 15:11:04.643330 Processing model: 4900_6_ctx_coref_coh_global\n",
      "2019-08-26 15:11:12.081375 test_filter 42649\n",
      "2019-08-26 15:11:12.101224 Start evaluation\n",
      "precision: 0.9010999900901794, recall: 0.8152232383001614, f1: 0.8560131795716639, corr_num: 9093\n",
      "2019-08-26 15:11:13.393029 Evaluation finished\n",
      "2019-08-26 15:11:13.395359 Processing model: 4900_6_ctx_coref_coh_global2\n",
      "2019-08-26 15:11:20.512715 test_filter 42649\n",
      "2019-08-26 15:11:20.533045 Start evaluation\n",
      "precision: 0.9118172790466733, recall: 0.823202438587054, f1: 0.8652468903128534, corr_num: 9182\n",
      "2019-08-26 15:11:21.882006 Evaluation finished\n",
      "2019-08-26 15:11:21.885110 Processing model: 4900_6_ctx_coref_coh_global3\n",
      "2019-08-26 15:11:29.121335 test_filter 42649\n",
      "2019-08-26 15:11:29.141589 Start evaluation\n",
      "precision: 0.9157738095238095, recall: 0.8275954814416353, f1: 0.8694546482057078, corr_num: 9231\n",
      "2019-08-26 15:11:30.559944 Evaluation finished\n",
      "2019-08-26 15:11:30.562252 Processing model: 4900_6_ctx_coref_coh_global4\n",
      "2019-08-26 15:11:38.086291 test_filter 42649\n",
      "2019-08-26 15:11:38.106369 Start evaluation\n",
      "precision: 0.9139966273187183, recall: 0.826071364532903, f1: 0.8678125735813516, corr_num: 9214\n",
      "2019-08-26 15:11:39.452463 Evaluation finished\n"
     ]
    }
   ],
   "source": [
    "process_iterative_filtering('clueweb')"
   ]
  },
  {
   "cell_type": "code",
   "execution_count": 149,
   "metadata": {},
   "outputs": [
    {
     "name": "stdout",
     "output_type": "stream",
     "text": [
      "(119788, 21)\n",
      "(119788, 13)\n",
      "6821\n",
      "6224\n",
      "upper bound 0.9124761765137077\n"
     ]
    }
   ],
   "source": [
    "d_wiki_wned_ctx_emnlp17 = fetch_all_features('basic_fea_ctx_emnlp17', 'test', 'wiki_wned')\n",
    "d_wiki_wned_ctx_emnlp17_raw = get_feature_results('basic_fea_ctx_emnlp17', 'test', 'wiki_wned')\n",
    "d_wiki_wned_coref_emnlp17 = fetch_all_features('basic_fea_coref_emnlp17', 'test', 'wiki_wned')\n",
    "d_wiki_wned_ctx_emnlp17_true_labels = get_true_labels(d_wiki_wned_ctx_emnlp17)\n",
    "d_wiki_wned_total = get_total_mentions('wiki_wned', 'test')\n",
    "docs_dict_wiki_wned = fetch_q_ids_docs('wiki_wned')\n",
    "\n",
    "print(d_wiki_wned_ctx_emnlp17.shape)\n",
    "print(d_wiki_wned_coref_emnlp17.shape)\n",
    "print(d_wiki_wned_total)\n",
    "print(d_wiki_wned_ctx_emnlp17_true_labels)\n",
    "print('upper bound', d_wiki_wned_ctx_emnlp17_true_labels / d_wiki_wned_total)"
   ]
  },
  {
   "cell_type": "code",
   "execution_count": 150,
   "metadata": {},
   "outputs": [
    {
     "name": "stdout",
     "output_type": "stream",
     "text": [
      "Building idx for new features...\n",
      "Combine original and new features...\n",
      "(119788, 32)\n"
     ]
    }
   ],
   "source": [
    "d_wiki_wned_ctx_coref_emnlp17 = combine_features(d_wiki_wned_ctx_emnlp17, d_wiki_wned_coref_emnlp17)\n",
    "print(d_wiki_wned_ctx_coref_emnlp17.shape)"
   ]
  },
  {
   "cell_type": "code",
   "execution_count": 93,
   "metadata": {},
   "outputs": [
    {
     "name": "stdout",
     "output_type": "stream",
     "text": [
      "2019-08-24 16:40:46.985497 Loading model: 4900_6_ctx\n",
      "2019-08-24 16:40:47.012461 Start evaluation\n",
      "n_estimators: 4900, max_depth: 6, precision: 0.7802056555269923, recall: 0.7119190734496408, f1: 0.7444998083556917, corr_num: 4856\n",
      "2019-08-24 16:40:50.146120 Evaluation finished\n",
      "2019-08-24 16:40:50.171767 Loading model: 4900_6_ctx_coref\n",
      "2019-08-24 16:40:50.193264 Start evaluation\n",
      "n_estimators: 4900, max_depth: 6, precision: 0.7840616966580977, recall: 0.7154376191174314, f1: 0.7481793790724416, corr_num: 4880\n",
      "2019-08-24 16:40:53.655632 Evaluation finished\n"
     ]
    }
   ],
   "source": [
    "process('ctx', d_wiki_wned_ctx_emnlp17, d_wiki_wned_total, n_estimators=[4900], max_depths=[6])\n",
    "process('ctx_coref', d_wiki_wned_ctx_coref_emnlp17, d_wiki_wned_total, n_estimators=[4900], max_depths=[6])"
   ]
  },
  {
   "cell_type": "code",
   "execution_count": 90,
   "metadata": {},
   "outputs": [
    {
     "name": "stdout",
     "output_type": "stream",
     "text": [
      "Number of groups: 6224\n"
     ]
    }
   ],
   "source": [
    "model = load_model('4900_6_ctx_coref')\n",
    "save_local_model_predictions(model, d_wiki_wned_ctx_coref_emnlp17, d_wiki_wned_ctx_emnlp17_raw, \n",
    "                             docs_dict_wiki_wned)"
   ]
  },
  {
   "cell_type": "code",
   "execution_count": 151,
   "metadata": {},
   "outputs": [
    {
     "name": "stdout",
     "output_type": "stream",
     "text": [
      "(119788, 24)\n",
      "Building idx for new features...\n",
      "Combine original and new features...\n",
      "(119788, 54)\n"
     ]
    }
   ],
   "source": [
    "d_wiki_wned_coh_emnlp17 = fetch_all_features('basic_fea_coh_emnlp17', 'test', 'wiki_wned')\n",
    "print(d_wiki_wned_coh_emnlp17.shape)\n",
    "\n",
    "d_wiki_wned_ctx_coref_coh_emnlp17 = combine_features(d_wiki_wned_ctx_coref_emnlp17, d_wiki_wned_coh_emnlp17)\n",
    "print(d_wiki_wned_ctx_coref_coh_emnlp17.shape)"
   ]
  },
  {
   "cell_type": "code",
   "execution_count": 61,
   "metadata": {},
   "outputs": [
    {
     "name": "stdout",
     "output_type": "stream",
     "text": [
      "Building idx for new features...\n",
      "Combine original and new features...\n",
      "Building idx for new features...\n",
      "Combine original and new features...\n",
      "Building idx for new features...\n",
      "Combine original and new features...\n",
      "Building idx for new features...\n",
      "Combine original and new features...\n"
     ]
    }
   ],
   "source": [
    "d_wiki_wned_coh_emnlp17_global = fetch_all_features('basic_fea_coh_emnlp17_global', 'test', 'wiki_wned')\n",
    "d_wiki_wned_coh_emnlp17_global2 = fetch_all_features('basic_fea_coh_emnlp17_global2', 'test', 'wiki_wned')\n",
    "d_wiki_wned_coh_emnlp17_global3 = fetch_all_features('basic_fea_coh_emnlp17_global3', 'test', 'wiki_wned')\n",
    "d_wiki_wned_coh_emnlp17_global4 = fetch_all_features('basic_fea_coh_emnlp17_global4', 'test', 'wiki_wned')\n",
    "\n",
    "d_wiki_wned_ctx_coref_coh_emnlp17_global = combine_features(d_wiki_wned_ctx_coref_emnlp17, d_wiki_wned_coh_emnlp17_global)\n",
    "d_wiki_wned_ctx_coref_coh_emnlp17_global2 = combine_features(d_wiki_wned_ctx_coref_emnlp17, d_wiki_wned_coh_emnlp17_global2)\n",
    "d_wiki_wned_ctx_coref_coh_emnlp17_global3 = combine_features(d_wiki_wned_ctx_coref_emnlp17, d_wiki_wned_coh_emnlp17_global3)\n",
    "d_wiki_wned_ctx_coref_coh_emnlp17_global4 = combine_features(d_wiki_wned_ctx_coref_emnlp17, d_wiki_wned_coh_emnlp17_global4)"
   ]
  },
  {
   "cell_type": "code",
   "execution_count": 62,
   "metadata": {},
   "outputs": [
    {
     "name": "stdout",
     "output_type": "stream",
     "text": [
      "2019-08-26 15:13:48.607568 Loading model: 4900_6_ctx_coref_coh\n",
      "2019-08-26 15:13:48.637531 Start evaluation\n",
      "n_estimators: 4900, max_depth: 6, precision: 0.8550771208226221, recall: 0.7802375018325759, f1: 0.8159448064392488, corr_num: 5322\n",
      "2019-08-26 15:13:51.784403 Evaluation finished\n",
      "2019-08-26 15:13:51.843664 Loading model: 4900_6_ctx_coref_coh_global\n",
      "2019-08-26 15:13:51.867369 Start evaluation\n",
      "n_estimators: 4900, max_depth: 6, precision: 0.8639138817480719, recall: 0.7883008356545961, f1: 0.8243771559984668, corr_num: 5377\n",
      "2019-08-26 15:13:54.983183 Evaluation finished\n",
      "2019-08-26 15:13:55.042788 Loading model: 4900_6_ctx_coref_coh_global2\n",
      "2019-08-26 15:13:55.067164 Start evaluation\n",
      "n_estimators: 4900, max_depth: 6, precision: 0.8642352185089974, recall: 0.7885940477935787, f1: 0.8246837868915293, corr_num: 5379\n",
      "2019-08-26 15:13:58.089868 Evaluation finished\n",
      "2019-08-26 15:13:58.148941 Loading model: 4900_6_ctx_coref_coh_global3\n",
      "2019-08-26 15:13:58.173386 Start evaluation\n",
      "n_estimators: 4900, max_depth: 6, precision: 0.8674485861182519, recall: 0.7915261691834042, f1: 0.8277500958221541, corr_num: 5399\n",
      "2019-08-26 15:14:01.239056 Evaluation finished\n",
      "2019-08-26 15:14:01.299100 Loading model: 4900_6_ctx_coref_coh_global4\n",
      "2019-08-26 15:14:01.322377 Start evaluation\n",
      "n_estimators: 4900, max_depth: 6, precision: 0.8623071979434447, recall: 0.7868347749596833, f1: 0.8228440015331544, corr_num: 5367\n",
      "2019-08-26 15:14:04.413045 Evaluation finished\n"
     ]
    }
   ],
   "source": [
    "process('ctx_coref_coh', d_wiki_wned_ctx_coref_coh_emnlp17, d_wiki_wned_total, n_estimators=[4900], max_depths=[6])\n",
    "process('ctx_coref_coh_global', d_wiki_wned_ctx_coref_coh_emnlp17_global, d_wiki_wned_total, n_estimators=[4900], max_depths=[6])\n",
    "process('ctx_coref_coh_global2', d_wiki_wned_ctx_coref_coh_emnlp17_global2, d_wiki_wned_total, n_estimators=[4900], max_depths=[6])\n",
    "process('ctx_coref_coh_global3', d_wiki_wned_ctx_coref_coh_emnlp17_global3, d_wiki_wned_total, n_estimators=[4900], max_depths=[6])\n",
    "process('ctx_coref_coh_global4', d_wiki_wned_ctx_coref_coh_emnlp17_global4, d_wiki_wned_total, n_estimators=[4900], max_depths=[6])"
   ]
  },
  {
   "cell_type": "code",
   "execution_count": 63,
   "metadata": {},
   "outputs": [
    {
     "name": "stdout",
     "output_type": "stream",
     "text": [
      "=== Top K=3 ===\n",
      "2019-08-26 15:14:40.647852 Processing model: 4900_6_ctx_coref_coh\n"
     ]
    },
    {
     "name": "stderr",
     "output_type": "stream",
     "text": [
      "/home/ymiao/.venvs/nerd/lib/python3.5/site-packages/xgboost/core.py:614: UserWarning: Use subset (sliced data) of np.ndarray is not recommended because it will generate extra copies and increase memory consumption\n",
      "  \"because it will generate extra copies and increase memory consumption\")\n"
     ]
    },
    {
     "name": "stdout",
     "output_type": "stream",
     "text": [
      "2019-08-26 15:14:43.950725 test_filter 14827\n",
      "2019-08-26 15:14:43.958090 Start evaluation\n",
      "precision: 0.9201943095072866, recall: 0.7775985925817329, f1: 0.8429082240762813, corr_num: 5304\n",
      "2019-08-26 15:14:44.483611 Evaluation finished\n",
      "2019-08-26 15:14:44.485048 Processing model: 4900_6_ctx_coref_coh_global\n",
      "2019-08-26 15:14:47.703420 test_filter 14827\n",
      "2019-08-26 15:14:47.710742 Start evaluation\n",
      "precision: 0.9270157938487116, recall: 0.8174754434833602, f1: 0.8688064817700218, corr_num: 5576\n",
      "2019-08-26 15:14:48.235299 Evaluation finished\n",
      "2019-08-26 15:14:48.236655 Processing model: 4900_6_ctx_coref_coh_global2\n",
      "2019-08-26 15:14:51.449763 test_filter 14827\n",
      "2019-08-26 15:14:51.457345 Start evaluation\n",
      "precision: 0.9266886326194399, recall: 0.8246591408884327, f1: 0.8727018850360716, corr_num: 5625\n",
      "2019-08-26 15:14:51.997465 Evaluation finished\n",
      "2019-08-26 15:14:51.998865 Processing model: 4900_6_ctx_coref_coh_global3\n",
      "2019-08-26 15:14:55.243425 test_filter 14827\n",
      "2019-08-26 15:14:55.250991 Start evaluation\n",
      "precision: 0.9320468414976084, recall: 0.828470898695206, f1: 0.8772120459484632, corr_num: 5651\n",
      "2019-08-26 15:14:55.784209 Evaluation finished\n",
      "2019-08-26 15:14:55.785615 Processing model: 4900_6_ctx_coref_coh_global4\n",
      "2019-08-26 15:14:59.033442 test_filter 14827\n",
      "2019-08-26 15:14:59.040959 Start evaluation\n",
      "precision: 0.9278180619644034, recall: 0.8253921712358891, f1: 0.8736131585072543, corr_num: 5630\n",
      "2019-08-26 15:14:59.575842 Evaluation finished\n",
      "=== Top K=5 ===\n",
      "2019-08-26 15:14:59.577386 Processing model: 4900_6_ctx_coref_coh\n",
      "2019-08-26 15:15:02.876459 test_filter 22076\n",
      "2019-08-26 15:15:02.887059 Start evaluation\n",
      "precision: 0.9071248952221291, recall: 0.7932854420172996, f1: 0.8463944939777883, corr_num: 5411\n",
      "2019-08-26 15:15:03.618730 Evaluation finished\n",
      "2019-08-26 15:15:03.620263 Processing model: 4900_6_ctx_coref_coh_global\n",
      "2019-08-26 15:15:06.758975 test_filter 22076\n",
      "2019-08-26 15:15:06.769529 Start evaluation\n",
      "precision: 0.9211854746783912, recall: 0.8293505351121536, f1: 0.8728591266779819, corr_num: 5657\n",
      "2019-08-26 15:15:07.536010 Evaluation finished\n",
      "2019-08-26 15:15:07.537511 Processing model: 4900_6_ctx_coref_coh_global2\n",
      "2019-08-26 15:15:10.794006 test_filter 22076\n",
      "2019-08-26 15:15:10.804478 Start evaluation\n",
      "precision: 0.9209158817797987, recall: 0.8314030200850315, f1: 0.873873179751907, corr_num: 5671\n",
      "2019-08-26 15:15:11.549197 Evaluation finished\n",
      "2019-08-26 15:15:11.551382 Processing model: 4900_6_ctx_coref_coh_global3\n",
      "2019-08-26 15:15:14.828467 test_filter 22076\n",
      "2019-08-26 15:15:14.838996 Start evaluation\n",
      "precision: 0.9294174914814214, recall: 0.8397595660460343, f1: 0.8823166974738139, corr_num: 5728\n",
      "2019-08-26 15:15:15.587345 Evaluation finished\n",
      "2019-08-26 15:15:15.589400 Processing model: 4900_6_ctx_coref_coh_global4\n",
      "2019-08-26 15:15:18.844803 test_filter 22076\n",
      "2019-08-26 15:15:18.855168 Start evaluation\n",
      "precision: 0.9235637779941578, recall: 0.8343351414748571, f1: 0.8766848956327505, corr_num: 5691\n",
      "2019-08-26 15:15:19.628282 Evaluation finished\n"
     ]
    }
   ],
   "source": [
    "process_iterative_filtering('wiki_wned')"
   ]
  },
  {
   "cell_type": "code",
   "execution_count": 93,
   "metadata": {},
   "outputs": [
    {
     "name": "stdout",
     "output_type": "stream",
     "text": [
      "2019-08-26 17:19:52.621753 Loading model: 4900_6_ctx_coref_coh_gt\n",
      "2019-08-26 17:19:52.649353 Start evaluation\n",
      "n_estimators: 4900, max_depth: 6, precision: 0.9616, recall: 0.9161585365853658, f1: 0.9383294301327088, corr_num: 601\n",
      "2019-08-26 17:19:53.064080 Evaluation finished\n"
     ]
    }
   ],
   "source": [
    "process('ctx_coref_coh_gt', d_msnbc_ctx_coref_coh_emnlp17, d_msnbc_total, n_estimators=[4900], max_depths=[6])"
   ]
  },
  {
   "cell_type": "code",
   "execution_count": 94,
   "metadata": {},
   "outputs": [
    {
     "name": "stdout",
     "output_type": "stream",
     "text": [
      "=== Top K=3 ===\n",
      "test_filter 1599\n",
      "2019-08-26 17:20:08.327171 Loading model: 4900_6_ctx_coref_coh_gt\n",
      "2019-08-26 17:20:08.344111 Start evaluation\n",
      "n_estimators: 4900, max_depth: 6, precision: 0.9808, recall: 0.9344512195121951, f1: 0.957064793130367, corr_num: 613\n",
      "2019-08-26 17:20:08.416684 Evaluation finished\n",
      "=== Top K=5 ===\n",
      "test_filter 2432\n",
      "2019-08-26 17:20:08.831479 Loading model: 4900_6_ctx_coref_coh_gt\n",
      "2019-08-26 17:20:08.848586 Start evaluation\n",
      "n_estimators: 4900, max_depth: 6, precision: 0.9776, recall: 0.9314024390243902, f1: 0.9539422326307573, corr_num: 611\n",
      "2019-08-26 17:20:08.933964 Evaluation finished\n"
     ]
    }
   ],
   "source": [
    "model = load_model('4900_6_ctx_coref')\n",
    "\n",
    "for top_k in [3, 5]:\n",
    "    print('=== Top K=%d ===' % top_k)\n",
    "    test_filter=get_top_k_prediction_indices(model, d_msnbc_ctx_coref_emnlp17, \n",
    "                                             d_msnbc_ctx_emnlp17_raw, docs_dict_msnbc, top_k)\n",
    "    print('test_filter', len(test_filter))\n",
    "\n",
    "    process('ctx_coref_coh_gt', d_msnbc_ctx_coref_coh_emnlp17, d_msnbc_total, \n",
    "            n_estimators=[4900], max_depths=[6], test_filter=test_filter)"
   ]
  },
  {
   "cell_type": "code",
   "execution_count": 91,
   "metadata": {},
   "outputs": [
    {
     "name": "stdout",
     "output_type": "stream",
     "text": [
      "2019-08-26 17:17:30.376205 Loading model: 4900_6_ctx_coref_coh_gt\n",
      "2019-08-26 17:17:30.396524 Start evaluation\n",
      "n_estimators: 4900, max_depth: 6, precision: 0.8631105398457584, recall: 0.7875678053071398, f1: 0.8236105787658107, corr_num: 5372\n",
      "2019-08-26 17:17:33.495488 Evaluation finished\n"
     ]
    }
   ],
   "source": [
    "process('ctx_coref_coh_gt', d_wiki_wned_ctx_coref_coh_emnlp17, d_wiki_wned_total, n_estimators=[4900], max_depths=[6])"
   ]
  },
  {
   "cell_type": "code",
   "execution_count": 92,
   "metadata": {},
   "outputs": [
    {
     "name": "stdout",
     "output_type": "stream",
     "text": [
      "=== Top K=3 ===\n",
      "test_filter 14827\n",
      "2019-08-26 17:18:17.538507 Loading model: 4900_6_ctx_coref_coh_gt\n",
      "2019-08-26 17:18:17.554571 Start evaluation\n",
      "n_estimators: 4900, max_depth: 6, precision: 0.9200208188757807, recall: 0.7774519865122416, f1: 0.8427493047278506, corr_num: 5303\n",
      "2019-08-26 17:18:18.099190 Evaluation finished\n",
      "=== Top K=5 ===\n",
      "test_filter 22076\n",
      "2019-08-26 17:18:21.376689 Loading model: 4900_6_ctx_coref_coh_gt\n",
      "2019-08-26 17:18:21.392769 Start evaluation\n",
      "n_estimators: 4900, max_depth: 6, precision: 0.9076278290025147, recall: 0.7937252602257734, f1: 0.8468637572344753, corr_num: 5414\n",
      "2019-08-26 17:18:22.151045 Evaluation finished\n"
     ]
    }
   ],
   "source": [
    "model = load_model('4900_6_ctx_coref')\n",
    "\n",
    "for top_k in [3, 5]:\n",
    "    print('=== Top K=%d ===' % top_k)\n",
    "    test_filter=get_top_k_prediction_indices(model, d_wiki_wned_ctx_coref_emnlp17, \n",
    "                                             d_wiki_wned_ctx_emnlp17_raw, docs_dict_wiki_wned, top_k)\n",
    "    print('test_filter', len(test_filter))\n",
    "\n",
    "    process('ctx_coref_coh_gt', d_wiki_wned_ctx_coref_coh_emnlp17, d_wiki_wned_total, \n",
    "            n_estimators=[4900], max_depths=[6], test_filter=test_filter)"
   ]
  },
  {
   "cell_type": "code",
   "execution_count": 141,
   "metadata": {},
   "outputs": [],
   "source": [
    "def print_ground_truth_statistics(dataset_name, dataset_type, total):\n",
    "    count_has_ground_truth = conn.scard('dict-has-ground-truth:%s:%s' % (dataset_name, dataset_type))\n",
    "    count_top_is_ground_truth = conn.scard('dict-top-is-ground-truth:%s:%s' % (dataset_name, dataset_type))\n",
    "    \n",
    "    print('%s %s' % (dataset_name, dataset_type))\n",
    "    print('- dict has ground truth: %d (%.2f%%)' % (count_has_ground_truth, (100 * count_has_ground_truth / total)))\n",
    "    print('- dict top is ground truth: %d (%.2f%%)' % (count_top_is_ground_truth, (100 * count_top_is_ground_truth / total)))"
   ]
  },
  {
   "cell_type": "code",
   "execution_count": 132,
   "metadata": {},
   "outputs": [
    {
     "name": "stdout",
     "output_type": "stream",
     "text": [
      "18541 4791 4485\n"
     ]
    }
   ],
   "source": [
    "d_aida_conll_train_total = get_total_mentions('aida_conll', 'train')\n",
    "d_aida_conll_test_a_total = get_total_mentions('aida_conll', 'testa')\n",
    "d_aida_conll_test_b_total = get_total_mentions('aida_conll', 'testb')\n",
    "print(d_aida_conll_train_total, d_aida_conll_test_a_total, d_aida_conll_test_b_total)"
   ]
  },
  {
   "cell_type": "code",
   "execution_count": 142,
   "metadata": {},
   "outputs": [
    {
     "name": "stdout",
     "output_type": "stream",
     "text": [
      "aida_conll train\n",
      "- dict has ground truth: 18479 (99.67%)\n",
      "- dict top is ground truth: 13666 (73.71%)\n",
      "aida_conll testa\n",
      "- dict has ground truth: 4780 (99.77%)\n",
      "- dict top is ground truth: 3377 (70.49%)\n",
      "aida_conll testb\n",
      "- dict has ground truth: 4475 (99.78%)\n",
      "- dict top is ground truth: 3060 (68.23%)\n",
      "msnbc_new test\n",
      "- dict has ground truth: 641 (97.71%)\n",
      "- dict top is ground truth: 493 (75.15%)\n",
      "aquaint_new test\n",
      "- dict has ground truth: 677 (93.12%)\n",
      "- dict top is ground truth: 611 (84.04%)\n",
      "ace2014_uiuc test\n",
      "- dict has ground truth: 228 (88.72%)\n",
      "- dict top is ground truth: 209 (81.32%)\n",
      "clueweb12 test\n",
      "- dict has ground truth: 10565 (94.72%)\n",
      "- dict top is ground truth: 7436 (66.67%)\n",
      "wiki_wned test\n",
      "- dict has ground truth: 6406 (93.92%)\n",
      "- dict top is ground truth: 4357 (63.88%)\n"
     ]
    }
   ],
   "source": [
    "print_ground_truth_statistics('aida_conll', 'train', d_aida_conll_train_total)\n",
    "print_ground_truth_statistics('aida_conll', 'testa', d_aida_conll_test_a_total)\n",
    "print_ground_truth_statistics('aida_conll', 'testb', d_aida_conll_test_b_total)\n",
    "print_ground_truth_statistics('msnbc_new', 'test', d_msnbc_total)\n",
    "print_ground_truth_statistics('aquaint_new', 'test', d_aquaint_total)\n",
    "print_ground_truth_statistics('ace2014_uiuc', 'test', d_ace_total)\n",
    "print_ground_truth_statistics('clueweb12', 'test', d_clueweb_total)\n",
    "print_ground_truth_statistics('wiki_wned', 'test', d_wiki_wned_total)"
   ]
  },
  {
   "cell_type": "code",
   "execution_count": 89,
   "metadata": {},
   "outputs": [
    {
     "name": "stdout",
     "output_type": "stream",
     "text": [
      "2019-08-26 17:15:48.332295 Loading model: 4900_6_ctx_coref_coh_gt\n",
      "2019-08-26 17:15:48.348604 Start evaluation\n",
      "n_estimators: 4900, max_depth: 6, precision: 0.827998457385268, recall: 0.7699480007172315, f1: 0.7979187958747562, corr_num: 8588\n",
      "2019-08-26 17:15:55.422135 Evaluation finished\n"
     ]
    }
   ],
   "source": [
    "process('ctx_coref_coh_gt', d_clueweb_ctx_coref_coh_emnlp17, d_clueweb_total, n_estimators=[4900], max_depths=[6])"
   ]
  },
  {
   "cell_type": "code",
   "execution_count": 90,
   "metadata": {},
   "outputs": [
    {
     "name": "stdout",
     "output_type": "stream",
     "text": [
      "=== Top K=3 ===\n",
      "test_filter 27342\n",
      "2019-08-26 17:16:23.523512 Loading model: 4900_6_ctx_coref_coh_gt\n",
      "2019-08-26 17:16:23.539974 Start evaluation\n",
      "n_estimators: 4900, max_depth: 6, precision: 0.9029796131730267, recall: 0.7743410435718128, f1: 0.8337274965007964, corr_num: 8637\n",
      "2019-08-26 17:16:24.412521 Evaluation finished\n",
      "=== Top K=5 ===\n",
      "test_filter 42649\n",
      "2019-08-26 17:16:32.239568 Loading model: 4900_6_ctx_coref_coh_gt\n",
      "2019-08-26 17:16:32.256228 Start evaluation\n",
      "n_estimators: 4900, max_depth: 6, precision: 0.8811981380287391, recall: 0.7807064730141653, f1: 0.8279140521011599, corr_num: 8708\n",
      "2019-08-26 17:16:33.504030 Evaluation finished\n"
     ]
    }
   ],
   "source": [
    "model = load_model('4900_6_ctx_coref')\n",
    "\n",
    "for top_k in [3, 5]:\n",
    "    print('=== Top K=%d ===' % top_k)\n",
    "    test_filter=get_top_k_prediction_indices(model, d_clueweb_ctx_coref_emnlp17, \n",
    "                                             d_clueweb_ctx_emnlp17_raw, docs_dict_clueweb, top_k)\n",
    "    print('test_filter', len(test_filter))\n",
    "\n",
    "    process('ctx_coref_coh_gt', d_clueweb_ctx_coref_coh_emnlp17, d_clueweb_total, \n",
    "            n_estimators=[4900], max_depths=[6], test_filter=test_filter)"
   ]
  },
  {
   "cell_type": "code",
   "execution_count": 85,
   "metadata": {},
   "outputs": [
    {
     "name": "stdout",
     "output_type": "stream",
     "text": [
      "2019-08-26 17:09:03.581973 Loading model: 4900_6_ctx_coref_coh_gt\n",
      "2019-08-26 17:09:03.611694 Start evaluation\n",
      "n_estimators: 4900, max_depth: 6, precision: 0.9422222222222222, recall: 0.8249027237354085, f1: 0.879668049792531, corr_num: 212\n",
      "2019-08-26 17:09:03.820831 Evaluation finished\n"
     ]
    }
   ],
   "source": [
    "process('ctx_coref_coh_gt', d_ace_ctx_coref_coh_emnlp17, d_ace_total, n_estimators=[4900], max_depths=[6])"
   ]
  },
  {
   "cell_type": "code",
   "execution_count": 86,
   "metadata": {},
   "outputs": [
    {
     "name": "stdout",
     "output_type": "stream",
     "text": [
      "=== Top K=3 ===\n",
      "test_filter 607\n",
      "2019-08-26 17:09:44.331742 Loading model: 4900_6_ctx_coref_coh_gt\n",
      "2019-08-26 17:09:44.349502 Start evaluation\n",
      "n_estimators: 4900, max_depth: 6, precision: 0.9596412556053812, recall: 0.8326848249027238, f1: 0.8916666666666667, corr_num: 214\n",
      "2019-08-26 17:09:44.383515 Evaluation finished\n",
      "=== Top K=5 ===\n",
      "test_filter 951\n",
      "2019-08-26 17:09:44.576043 Loading model: 4900_6_ctx_coref_coh_gt\n",
      "2019-08-26 17:09:44.593605 Start evaluation\n",
      "n_estimators: 4900, max_depth: 6, precision: 0.9596412556053812, recall: 0.8326848249027238, f1: 0.8916666666666667, corr_num: 214\n",
      "2019-08-26 17:09:44.631508 Evaluation finished\n"
     ]
    }
   ],
   "source": [
    "model = load_model('4900_6_ctx_coref')\n",
    "\n",
    "for top_k in [3, 5]:\n",
    "    print('=== Top K=%d ===' % top_k)\n",
    "    test_filter=get_top_k_prediction_indices(model, d_ace_ctx_coref_emnlp17, \n",
    "                                             d_ace_ctx_emnlp17_raw, docs_dict_ace, top_k)\n",
    "    print('test_filter', len(test_filter))\n",
    "\n",
    "    process('ctx_coref_coh_gt', d_ace_ctx_coref_coh_emnlp17, d_ace_total, \n",
    "            n_estimators=[4900], max_depths=[6], test_filter=test_filter)"
   ]
  },
  {
   "cell_type": "code",
   "execution_count": 87,
   "metadata": {},
   "outputs": [
    {
     "name": "stdout",
     "output_type": "stream",
     "text": [
      "2019-08-26 17:12:28.328204 Loading model: 4900_6_ctx_coref_coh_gt\n",
      "2019-08-26 17:12:28.355620 Start evaluation\n",
      "n_estimators: 4900, max_depth: 6, precision: 0.9169139465875371, recall: 0.8500687757909215, f1: 0.8822269807280514, corr_num: 618\n",
      "2019-08-26 17:12:28.761684 Evaluation finished\n"
     ]
    }
   ],
   "source": [
    "process('ctx_coref_coh_gt', d_aquaint_ctx_coref_coh_emnlp17, d_aquaint_total, n_estimators=[4900], max_depths=[6])"
   ]
  },
  {
   "cell_type": "code",
   "execution_count": 88,
   "metadata": {},
   "outputs": [
    {
     "name": "stdout",
     "output_type": "stream",
     "text": [
      "=== Top K=3 ===\n",
      "test_filter 1732\n",
      "2019-08-26 17:12:38.644514 Loading model: 4900_6_ctx_coref_coh_gt\n",
      "2019-08-26 17:12:38.660718 Start evaluation\n",
      "n_estimators: 4900, max_depth: 6, precision: 0.9453717754172989, recall: 0.8569463548830811, f1: 0.898989898989899, corr_num: 623\n",
      "2019-08-26 17:12:38.728560 Evaluation finished\n",
      "=== Top K=5 ===\n",
      "test_filter 2647\n",
      "2019-08-26 17:12:39.172496 Loading model: 4900_6_ctx_coref_coh_gt\n",
      "2019-08-26 17:12:39.188736 Start evaluation\n",
      "n_estimators: 4900, max_depth: 6, precision: 0.9400299850074962, recall: 0.8624484181568088, f1: 0.8995695839311334, corr_num: 627\n",
      "2019-08-26 17:12:39.285363 Evaluation finished\n"
     ]
    }
   ],
   "source": [
    "model = load_model('4900_6_ctx_coref')\n",
    "\n",
    "for top_k in [3, 5]:\n",
    "    print('=== Top K=%d ===' % top_k)\n",
    "    test_filter=get_top_k_prediction_indices(model, d_aquaint_ctx_coref_emnlp17, \n",
    "                                             d_aquaint_ctx_emnlp17_raw, docs_dict_aquaint, top_k)\n",
    "    print('test_filter', len(test_filter))\n",
    "\n",
    "    process('ctx_coref_coh_gt', d_aquaint_ctx_coref_coh_emnlp17, d_aquaint_total, \n",
    "            n_estimators=[4900], max_depths=[6], test_filter=test_filter)"
   ]
  },
  {
   "cell_type": "code",
   "execution_count": 100,
   "metadata": {},
   "outputs": [
    {
     "name": "stdout",
     "output_type": "stream",
     "text": [
      "(14287, 35)\n",
      "(15255, 35)\n",
      "(6733, 35)\n",
      "(277802, 35)\n",
      "(119788, 35)\n",
      "Building idx for new features...\n",
      "Combine original and new features...\n",
      "Building idx for new features...\n",
      "Combine original and new features...\n",
      "Building idx for new features...\n",
      "Combine original and new features...\n",
      "Building idx for new features...\n",
      "Combine original and new features...\n",
      "Building idx for new features...\n",
      "Combine original and new features...\n",
      "(14287, 65)\n",
      "(15255, 65)\n",
      "(6733, 65)\n",
      "(277802, 65)\n",
      "(119788, 65)\n"
     ]
    }
   ],
   "source": [
    "d_msnbc_coh_ext = fetch_all_features('basic_fea_coh_ext', 'test', 'msnbc_new')\n",
    "d_aquaint_coh_ext = fetch_all_features('basic_fea_coh_ext', 'test', 'aquaint_new')\n",
    "d_ace_coh_ext = fetch_all_features('basic_fea_coh_ext', 'test', 'ace2014_uiuc')\n",
    "d_clueweb_coh_ext = fetch_all_features('basic_fea_coh_ext', 'test', 'clueweb12')\n",
    "d_wiki_wned_coh_ext = fetch_all_features('basic_fea_coh_ext', 'test', 'wiki_wned')\n",
    "\n",
    "print(d_msnbc_coh_ext.shape)\n",
    "print(d_aquaint_coh_ext.shape)\n",
    "print(d_ace_coh_ext.shape)\n",
    "print(d_clueweb_coh_ext.shape)\n",
    "print(d_wiki_wned_coh_ext.shape)\n",
    "\n",
    "d_msnbc_ctx_coref_coh_ext = combine_features(d_msnbc_ctx_coref_emnlp17, d_msnbc_coh_ext)\n",
    "d_aquaint_ctx_coref_coh_ext = combine_features(d_aquaint_ctx_coref_emnlp17, d_aquaint_coh_ext)\n",
    "d_ace_ctx_coref_coh_ext = combine_features(d_ace_ctx_coref_emnlp17, d_ace_coh_ext)\n",
    "d_clueweb_ctx_coref_coh_ext = combine_features(d_clueweb_ctx_coref_emnlp17, d_clueweb_coh_ext)\n",
    "d_wiki_wned_ctx_coref_coh_ext = combine_features(d_wiki_wned_ctx_coref_emnlp17, d_wiki_wned_coh_ext)\n",
    "\n",
    "print(d_msnbc_ctx_coref_coh_ext.shape)\n",
    "print(d_aquaint_ctx_coref_coh_ext.shape)\n",
    "print(d_ace_ctx_coref_coh_ext.shape)\n",
    "print(d_clueweb_ctx_coref_coh_ext.shape)\n",
    "print(d_wiki_wned_ctx_coref_coh_ext.shape)"
   ]
  },
  {
   "cell_type": "code",
   "execution_count": 101,
   "metadata": {},
   "outputs": [
    {
     "name": "stdout",
     "output_type": "stream",
     "text": [
      "2019-08-27 15:42:20.819096 Loading model: 4900_6_ctx_coref_coh_ext\n",
      "2019-08-27 15:42:20.842563 Start evaluation\n",
      "n_estimators: 4900, max_depth: 6, precision: 0.928, recall: 0.8841463414634146, f1: 0.9055425448868072, corr_num: 580\n",
      "2019-08-27 15:42:21.460525 Evaluation finished\n",
      "2019-08-27 15:42:21.470022 Loading model: 4900_6_ctx_coref_coh_ext\n",
      "2019-08-27 15:42:21.489455 Start evaluation\n",
      "n_estimators: 4900, max_depth: 6, precision: 0.9154302670623146, recall: 0.8486932599724897, f1: 0.8807994289793005, corr_num: 617\n",
      "2019-08-27 15:42:22.135302 Evaluation finished\n",
      "2019-08-27 15:42:22.143328 Loading model: 4900_6_ctx_coref_coh_ext\n",
      "2019-08-27 15:42:22.163014 Start evaluation\n",
      "n_estimators: 4900, max_depth: 6, precision: 0.9377777777777778, recall: 0.8210116731517509, f1: 0.8755186721991702, corr_num: 211\n",
      "2019-08-27 15:42:22.422456 Evaluation finished\n",
      "2019-08-27 15:42:22.609306 Loading model: 4900_6_ctx_coref_coh_ext\n",
      "2019-08-27 15:42:22.628698 Start evaluation\n",
      "n_estimators: 4900, max_depth: 6, precision: 0.8297338989587351, recall: 0.7715617715617715, f1: 0.7995911920468272, corr_num: 8606\n",
      "2019-08-27 15:42:31.264086 Evaluation finished\n",
      "2019-08-27 15:42:31.321222 Loading model: 4900_6_ctx_coref_coh_ext\n",
      "2019-08-27 15:42:31.340584 Start evaluation\n",
      "n_estimators: 4900, max_depth: 6, precision: 0.8637532133676092, recall: 0.7881542295851048, f1: 0.8242238405519356, corr_num: 5376\n",
      "2019-08-27 15:42:35.115033 Evaluation finished\n"
     ]
    }
   ],
   "source": [
    "process('ctx_coref_coh_ext', d_msnbc_ctx_coref_coh_ext, d_msnbc_total, n_estimators=[4900], max_depths=[6])\n",
    "process('ctx_coref_coh_ext', d_aquaint_ctx_coref_coh_ext, d_aquaint_total, n_estimators=[4900], max_depths=[6])\n",
    "process('ctx_coref_coh_ext', d_ace_ctx_coref_coh_ext, d_ace_total, n_estimators=[4900], max_depths=[6])\n",
    "process('ctx_coref_coh_ext', d_clueweb_ctx_coref_coh_ext, d_clueweb_total, n_estimators=[4900], max_depths=[6])\n",
    "process('ctx_coref_coh_ext', d_wiki_wned_ctx_coref_coh_ext, d_wiki_wned_total, n_estimators=[4900], max_depths=[6])"
   ]
  },
  {
   "cell_type": "code",
   "execution_count": 106,
   "metadata": {},
   "outputs": [
    {
     "name": "stdout",
     "output_type": "stream",
     "text": [
      "=== Top K=3 ===\n",
      "> msnbc\n"
     ]
    },
    {
     "name": "stderr",
     "output_type": "stream",
     "text": [
      "/home/ymiao/.venvs/nerd/lib/python3.5/site-packages/xgboost/core.py:614: UserWarning: Use subset (sliced data) of np.ndarray is not recommended because it will generate extra copies and increase memory consumption\n",
      "  \"because it will generate extra copies and increase memory consumption\")\n"
     ]
    },
    {
     "name": "stdout",
     "output_type": "stream",
     "text": [
      "test_filter 1599\n",
      "2019-08-27 16:37:28.024610 Loading model: 4900_6_ctx_coref_coh_ext\n",
      "2019-08-27 16:37:28.043869 Start evaluation\n",
      "n_estimators: 4900, max_depth: 6, precision: 0.9552, recall: 0.9100609756097561, f1: 0.9320843091334894, corr_num: 597\n",
      "2019-08-27 16:37:28.140216 Evaluation finished\n",
      "> aquaint\n",
      "test_filter 1732\n",
      "2019-08-27 16:37:28.664585 Loading model: 4900_6_ctx_coref_coh_ext\n",
      "2019-08-27 16:37:28.683532 Start evaluation\n",
      "n_estimators: 4900, max_depth: 6, precision: 0.9499241274658573, recall: 0.8610729023383769, f1: 0.9033189033189032, corr_num: 626\n",
      "2019-08-27 16:37:28.772121 Evaluation finished\n",
      "> ace\n",
      "test_filter 607\n",
      "2019-08-27 16:37:29.028715 Loading model: 4900_6_ctx_coref_coh_ext\n",
      "2019-08-27 16:37:29.047822 Start evaluation\n",
      "n_estimators: 4900, max_depth: 6, precision: 0.9641255605381166, recall: 0.8365758754863813, f1: 0.8958333333333334, corr_num: 215\n",
      "2019-08-27 16:37:29.093110 Evaluation finished\n",
      "> clueweb\n",
      "test_filter 27342\n",
      "2019-08-27 16:37:38.604979 Loading model: 4900_6_ctx_coref_coh_ext\n",
      "2019-08-27 16:37:38.623385 Start evaluation\n",
      "n_estimators: 4900, max_depth: 6, precision: 0.9028750653423941, recall: 0.774251389636005, f1: 0.8336309667454993, corr_num: 8636\n",
      "2019-08-27 16:37:39.908996 Evaluation finished\n",
      "> wiki\n",
      "test_filter 14827\n",
      "2019-08-27 16:37:43.934744 Loading model: 4900_6_ctx_coref_coh_ext\n",
      "2019-08-27 16:37:43.953225 Start evaluation\n",
      "n_estimators: 4900, max_depth: 6, precision: 0.9205412907702984, recall: 0.7778918047207154, f1: 0.8432260627731426, corr_num: 5306\n",
      "2019-08-27 16:37:44.705721 Evaluation finished\n",
      "=== Top K=5 ===\n",
      "> msnbc\n",
      "test_filter 2432\n",
      "2019-08-27 16:37:45.305475 Loading model: 4900_6_ctx_coref_coh_ext\n",
      "2019-08-27 16:37:45.324173 Start evaluation\n",
      "n_estimators: 4900, max_depth: 6, precision: 0.952, recall: 0.9070121951219512, f1: 0.9289617486338797, corr_num: 595\n",
      "2019-08-27 16:37:45.459491 Evaluation finished\n",
      "> aquaint\n",
      "test_filter 2647\n",
      "2019-08-27 16:37:46.026005 Loading model: 4900_6_ctx_coref_coh_ext\n",
      "2019-08-27 16:37:46.044505 Start evaluation\n",
      "n_estimators: 4900, max_depth: 6, precision: 0.9430284857571214, recall: 0.8651994497936726, f1: 0.9024390243902439, corr_num: 629\n",
      "2019-08-27 16:37:46.173068 Evaluation finished\n",
      "> ace\n",
      "test_filter 951\n",
      "2019-08-27 16:37:46.421997 Loading model: 4900_6_ctx_coref_coh_ext\n",
      "2019-08-27 16:37:46.440802 Start evaluation\n",
      "n_estimators: 4900, max_depth: 6, precision: 0.9641255605381166, recall: 0.8365758754863813, f1: 0.8958333333333334, corr_num: 215\n",
      "2019-08-27 16:37:46.498731 Evaluation finished\n",
      "> clueweb\n",
      "test_filter 42649\n",
      "2019-08-27 16:37:56.154202 Loading model: 4900_6_ctx_coref_coh_ext\n",
      "2019-08-27 16:37:56.178178 Start evaluation\n",
      "n_estimators: 4900, max_depth: 6, precision: 0.8811981380287391, recall: 0.7807064730141653, f1: 0.8279140521011599, corr_num: 8708\n",
      "2019-08-27 16:37:58.129236 Evaluation finished\n",
      "> wiki\n",
      "test_filter 22076\n",
      "2019-08-27 16:38:01.836697 Loading model: 4900_6_ctx_coref_coh_ext\n",
      "2019-08-27 16:38:01.854954 Start evaluation\n",
      "n_estimators: 4900, max_depth: 6, precision: 0.9079631181894384, recall: 0.7940184723647559, f1: 0.8471765994055999, corr_num: 5416\n",
      "2019-08-27 16:38:02.796327 Evaluation finished\n"
     ]
    }
   ],
   "source": [
    "model = load_model('4900_6_ctx_coref')\n",
    "\n",
    "for top_k in [3, 5]:\n",
    "    print('=== Top K=%d ===' % top_k)\n",
    "    \n",
    "    print('> msnbc')\n",
    "    test_filter=get_top_k_prediction_indices(model, d_msnbc_ctx_coref_emnlp17, \n",
    "                                             d_msnbc_ctx_emnlp17_raw, docs_dict_msnbc, top_k)\n",
    "    print('test_filter', len(test_filter))\n",
    "    process('ctx_coref_coh_ext', d_msnbc_ctx_coref_coh_ext, d_msnbc_total, \n",
    "            n_estimators=[4900], max_depths=[6], test_filter=test_filter)\n",
    "    \n",
    "    print('> aquaint')\n",
    "    test_filter=get_top_k_prediction_indices(model, d_aquaint_ctx_coref_emnlp17, \n",
    "                                             d_aquaint_ctx_emnlp17_raw, docs_dict_aquaint, top_k)\n",
    "    print('test_filter', len(test_filter))\n",
    "    process('ctx_coref_coh_ext', d_aquaint_ctx_coref_coh_ext, d_aquaint_total, \n",
    "            n_estimators=[4900], max_depths=[6], test_filter=test_filter)\n",
    "    \n",
    "    print('> ace')\n",
    "    test_filter=get_top_k_prediction_indices(model, d_ace_ctx_coref_emnlp17, \n",
    "                                             d_ace_ctx_emnlp17_raw, docs_dict_ace, top_k)\n",
    "    print('test_filter', len(test_filter))\n",
    "    process('ctx_coref_coh_ext', d_ace_ctx_coref_coh_ext, d_ace_total, \n",
    "            n_estimators=[4900], max_depths=[6], test_filter=test_filter)\n",
    "    \n",
    "    print('> clueweb')\n",
    "    test_filter=get_top_k_prediction_indices(model, d_clueweb_ctx_coref_emnlp17, \n",
    "                                             d_clueweb_ctx_emnlp17_raw, docs_dict_clueweb, top_k)\n",
    "    print('test_filter', len(test_filter))\n",
    "    process('ctx_coref_coh_ext', d_clueweb_ctx_coref_coh_ext, d_clueweb_total, \n",
    "            n_estimators=[4900], max_depths=[6], test_filter=test_filter)\n",
    "    \n",
    "    print('> wiki')\n",
    "    test_filter=get_top_k_prediction_indices(model, d_wiki_wned_ctx_coref_emnlp17, \n",
    "                                             d_wiki_wned_ctx_emnlp17_raw, docs_dict_wiki_wned, top_k)\n",
    "    print('test_filter', len(test_filter))\n",
    "    process('ctx_coref_coh_ext', d_wiki_wned_ctx_coref_coh_ext, d_wiki_wned_total, \n",
    "            n_estimators=[4900], max_depths=[6], test_filter=test_filter)"
   ]
  },
  {
   "cell_type": "code",
   "execution_count": 110,
   "metadata": {},
   "outputs": [
    {
     "name": "stdout",
     "output_type": "stream",
     "text": [
      "(14287, 35)\n",
      "(15255, 35)\n",
      "(6733, 35)\n",
      "(277802, 35)\n",
      "(119788, 35)\n",
      "Building idx for new features...\n",
      "Combine original and new features...\n",
      "Building idx for new features...\n",
      "Combine original and new features...\n",
      "Building idx for new features...\n",
      "Combine original and new features...\n",
      "Building idx for new features...\n",
      "Combine original and new features...\n",
      "Building idx for new features...\n",
      "Combine original and new features...\n",
      "(14287, 65)\n",
      "(15255, 65)\n",
      "(6733, 65)\n",
      "(277802, 65)\n",
      "(119788, 65)\n"
     ]
    }
   ],
   "source": [
    "d_msnbc_coh_ext_global = fetch_all_features('basic_fea_coh_ext_global', 'test', 'msnbc_new')\n",
    "d_aquaint_coh_ext_global = fetch_all_features('basic_fea_coh_ext_global', 'test', 'aquaint_new')\n",
    "d_ace_coh_ext_global = fetch_all_features('basic_fea_coh_ext_global', 'test', 'ace2014_uiuc')\n",
    "d_clueweb_coh_ext_global = fetch_all_features('basic_fea_coh_ext_global', 'test', 'clueweb12')\n",
    "d_wiki_wned_coh_ext_global = fetch_all_features('basic_fea_coh_ext_global', 'test', 'wiki_wned')\n",
    "\n",
    "print(d_msnbc_coh_ext_global.shape)\n",
    "print(d_aquaint_coh_ext_global.shape)\n",
    "print(d_ace_coh_ext_global.shape)\n",
    "print(d_clueweb_coh_ext_global.shape)\n",
    "print(d_wiki_wned_coh_ext_global.shape)\n",
    "\n",
    "d_msnbc_ctx_coref_coh_ext_global = combine_features(d_msnbc_ctx_coref_emnlp17, d_msnbc_coh_ext_global)\n",
    "d_aquaint_ctx_coref_coh_ext_global = combine_features(d_aquaint_ctx_coref_emnlp17, d_aquaint_coh_ext_global)\n",
    "d_ace_ctx_coref_coh_ext_global = combine_features(d_ace_ctx_coref_emnlp17, d_ace_coh_ext_global)\n",
    "d_clueweb_ctx_coref_coh_ext_global = combine_features(d_clueweb_ctx_coref_emnlp17, d_clueweb_coh_ext_global)\n",
    "d_wiki_wned_ctx_coref_coh_ext_global = combine_features(d_wiki_wned_ctx_coref_emnlp17, d_wiki_wned_coh_ext_global)\n",
    "\n",
    "print(d_msnbc_ctx_coref_coh_ext_global.shape)\n",
    "print(d_aquaint_ctx_coref_coh_ext_global.shape)\n",
    "print(d_ace_ctx_coref_coh_ext_global.shape)\n",
    "print(d_clueweb_ctx_coref_coh_ext_global.shape)\n",
    "print(d_wiki_wned_ctx_coref_coh_ext_global.shape)"
   ]
  },
  {
   "cell_type": "code",
   "execution_count": 111,
   "metadata": {},
   "outputs": [
    {
     "name": "stdout",
     "output_type": "stream",
     "text": [
      "2019-08-29 18:01:29.908649 Loading model: 4900_6_ctx_coref_coh_ext_global\n",
      "2019-08-29 18:01:29.987417 Start evaluation\n",
      "n_estimators: 4900, max_depth: 6, precision: 0.944, recall: 0.899390243902439, f1: 0.9211553473848556, corr_num: 590\n",
      "2019-08-29 18:01:30.916386 Evaluation finished\n",
      "2019-08-29 18:01:30.926792 Loading model: 4900_6_ctx_coref_coh_ext_global\n",
      "2019-08-29 18:01:30.956182 Start evaluation\n",
      "n_estimators: 4900, max_depth: 6, precision: 0.9183976261127597, recall: 0.8514442916093535, f1: 0.8836545324768023, corr_num: 619\n",
      "2019-08-29 18:01:31.841295 Evaluation finished\n",
      "2019-08-29 18:01:31.848710 Loading model: 4900_6_ctx_coref_coh_ext_global\n",
      "2019-08-29 18:01:31.874226 Start evaluation\n",
      "n_estimators: 4900, max_depth: 6, precision: 0.9333333333333333, recall: 0.8171206225680934, f1: 0.871369294605809, corr_num: 210\n",
      "2019-08-29 18:01:32.338649 Evaluation finished\n",
      "2019-08-29 18:01:32.578414 Loading model: 4900_6_ctx_coref_coh_ext_global\n",
      "2019-08-29 18:01:32.603426 Start evaluation\n",
      "n_estimators: 4900, max_depth: 6, precision: 0.8324334747396838, recall: 0.7740720817643895, f1: 0.8021926972033819, corr_num: 8634\n",
      "2019-08-29 18:01:46.728527 Evaluation finished\n",
      "2019-08-29 18:01:46.832913 Loading model: 4900_6_ctx_coref_coh_ext_global\n",
      "2019-08-29 18:01:46.858681 Start evaluation\n",
      "n_estimators: 4900, max_depth: 6, precision: 0.8713046272493573, recall: 0.7950447148511949, f1: 0.8314296665389038, corr_num: 5423\n",
      "2019-08-29 18:01:53.137614 Evaluation finished\n"
     ]
    }
   ],
   "source": [
    "process('ctx_coref_coh_ext_global', d_msnbc_ctx_coref_coh_ext_global, d_msnbc_total, n_estimators=[4900], max_depths=[6])\n",
    "process('ctx_coref_coh_ext_global', d_aquaint_ctx_coref_coh_ext_global, d_aquaint_total, n_estimators=[4900], max_depths=[6])\n",
    "process('ctx_coref_coh_ext_global', d_ace_ctx_coref_coh_ext_global, d_ace_total, n_estimators=[4900], max_depths=[6])\n",
    "process('ctx_coref_coh_ext_global', d_clueweb_ctx_coref_coh_ext_global, d_clueweb_total, n_estimators=[4900], max_depths=[6])\n",
    "process('ctx_coref_coh_ext_global', d_wiki_wned_ctx_coref_coh_ext_global, d_wiki_wned_total, n_estimators=[4900], max_depths=[6])"
   ]
  },
  {
   "cell_type": "code",
   "execution_count": 113,
   "metadata": {},
   "outputs": [
    {
     "name": "stdout",
     "output_type": "stream",
     "text": [
      "(14304, 21)\n",
      "(15288, 21)\n",
      "(6846, 21)\n",
      "(277997, 21)\n",
      "(123551, 21)\n"
     ]
    }
   ],
   "source": [
    "d_msnbc_ctx_can_fixed = fetch_all_features('basic_ctx_can_fixed', 'test', 'msnbc_new')\n",
    "d_aquaint_ctx_can_fixed = fetch_all_features('basic_ctx_can_fixed', 'test', 'aquaint_new')\n",
    "d_ace_ctx_can_fixed = fetch_all_features('basic_ctx_can_fixed', 'test', 'ace2004_wned')\n",
    "d_clueweb_ctx_can_fixed = fetch_all_features('basic_ctx_can_fixed', 'test', 'clueweb12')\n",
    "d_wiki_wned_ctx_can_fixed = fetch_all_features('basic_ctx_can_fixed', 'test', 'wiki_wned')\n",
    "\n",
    "print(d_msnbc_ctx_can_fixed.shape)\n",
    "print(d_aquaint_ctx_can_fixed.shape)\n",
    "print(d_ace_ctx_can_fixed.shape)\n",
    "print(d_clueweb_ctx_can_fixed.shape)\n",
    "print(d_wiki_wned_ctx_can_fixed.shape)"
   ]
  },
  {
   "cell_type": "code",
   "execution_count": 114,
   "metadata": {},
   "outputs": [
    {
     "name": "stdout",
     "output_type": "stream",
     "text": [
      "(14304, 13)\n",
      "(15288, 13)\n",
      "(6846, 13)\n",
      "(277997, 13)\n",
      "(123551, 13)\n"
     ]
    }
   ],
   "source": [
    "d_msnbc_coref_can_fixed = fetch_all_features('basic_coref_can_fixed', 'test', 'msnbc_new')\n",
    "d_aquaint_coref_can_fixed = fetch_all_features('basic_coref_can_fixed', 'test', 'aquaint_new')\n",
    "d_ace_coref_can_fixed = fetch_all_features('basic_coref_can_fixed', 'test', 'ace2004_wned')\n",
    "d_clueweb_coref_can_fixed = fetch_all_features('basic_coref_can_fixed', 'test', 'clueweb12')\n",
    "d_wiki_wned_coref_can_fixed = fetch_all_features('basic_coref_can_fixed', 'test', 'wiki_wned')\n",
    "\n",
    "print(d_msnbc_coref_can_fixed.shape)\n",
    "print(d_aquaint_coref_can_fixed.shape)\n",
    "print(d_ace_coref_can_fixed.shape)\n",
    "print(d_clueweb_coref_can_fixed.shape)\n",
    "print(d_wiki_wned_coref_can_fixed.shape)"
   ]
  },
  {
   "cell_type": "code",
   "execution_count": 115,
   "metadata": {},
   "outputs": [
    {
     "name": "stdout",
     "output_type": "stream",
     "text": [
      "Building idx for new features...\n",
      "Combine original and new features...\n",
      "Building idx for new features...\n",
      "Combine original and new features...\n",
      "Building idx for new features...\n",
      "Combine original and new features...\n",
      "Building idx for new features...\n",
      "Combine original and new features...\n",
      "Building idx for new features...\n",
      "Combine original and new features...\n",
      "(14304, 32)\n",
      "(15288, 32)\n",
      "(6846, 32)\n",
      "(277997, 32)\n",
      "(123551, 32)\n"
     ]
    }
   ],
   "source": [
    "d_msnbc_ctx_coref_can_fixed = combine_features(d_msnbc_ctx_can_fixed, d_msnbc_coref_can_fixed)\n",
    "d_aquaint_ctx_coref_can_fixed = combine_features(d_aquaint_ctx_can_fixed, d_aquaint_coref_can_fixed)\n",
    "d_ace_ctx_coref_can_fixed = combine_features(d_ace_ctx_can_fixed, d_ace_coref_can_fixed)\n",
    "d_clueweb_ctx_coref_can_fixed = combine_features(d_clueweb_ctx_can_fixed, d_clueweb_coref_can_fixed)\n",
    "d_wiki_wned_ctx_coref_can_fixed = combine_features(d_wiki_wned_ctx_can_fixed, d_wiki_wned_coref_can_fixed)\n",
    "\n",
    "print(d_msnbc_ctx_coref_can_fixed.shape)\n",
    "print(d_aquaint_ctx_coref_can_fixed.shape)\n",
    "print(d_ace_ctx_coref_can_fixed.shape)\n",
    "print(d_clueweb_ctx_coref_can_fixed.shape)\n",
    "print(d_wiki_wned_ctx_coref_can_fixed.shape)"
   ]
  },
  {
   "cell_type": "code",
   "execution_count": 121,
   "metadata": {},
   "outputs": [
    {
     "name": "stdout",
     "output_type": "stream",
     "text": [
      "257 257\n"
     ]
    }
   ],
   "source": [
    "print(get_total_mentions('ace2004_wned', 'test'), get_total_mentions('ace2014_uiuc', 'test'))"
   ]
  },
  {
   "cell_type": "code",
   "execution_count": 116,
   "metadata": {},
   "outputs": [
    {
     "name": "stdout",
     "output_type": "stream",
     "text": [
      "2019-08-29 21:49:15.570573 Loading model: 4900_6_ctx_coref\n",
      "2019-08-29 21:49:15.602251 Start evaluation\n",
      "n_estimators: 4900, max_depth: 6, precision: 0.9429477020602218, recall: 0.9070121951219512, f1: 0.9246309246309246, corr_num: 595\n",
      "2019-08-29 21:49:16.139383 Evaluation finished\n",
      "2019-08-29 21:49:16.147823 Loading model: 4900_6_ctx_coref\n",
      "2019-08-29 21:49:16.164728 Start evaluation\n",
      "n_estimators: 4900, max_depth: 6, precision: 0.8985507246376812, recall: 0.8528198074277854, f1: 0.8750882145377559, corr_num: 620\n",
      "2019-08-29 21:49:16.721732 Evaluation finished\n",
      "2019-08-29 21:49:16.728121 Loading model: 4900_6_ctx_coref\n",
      "2019-08-29 21:49:16.747115 Start evaluation\n",
      "n_estimators: 4900, max_depth: 6, precision: 0.9404255319148936, recall: 0.8599221789883269, f1: 0.8983739837398375, corr_num: 221\n",
      "2019-08-29 21:49:17.014528 Evaluation finished\n",
      "2019-08-29 21:49:17.123492 Loading model: 4900_6_ctx_coref\n",
      "2019-08-29 21:49:17.154269 Start evaluation\n",
      "n_estimators: 4900, max_depth: 6, precision: 0.7833668678739101, recall: 0.7330105791644254, f1: 0.7573526006206289, corr_num: 8176\n",
      "2019-08-29 21:49:26.807558 Evaluation finished\n",
      "2019-08-29 21:49:26.842887 Loading model: 4900_6_ctx_coref\n",
      "2019-08-29 21:49:26.869557 Start evaluation\n",
      "n_estimators: 4900, max_depth: 6, precision: 0.7785338694710795, recall: 0.7380149538190881, f1: 0.7577331226010386, corr_num: 5034\n",
      "2019-08-29 21:49:30.696875 Evaluation finished\n"
     ]
    }
   ],
   "source": [
    "process('ctx_coref', d_msnbc_ctx_coref_can_fixed, d_msnbc_total, n_estimators=[4900], max_depths=[6])\n",
    "process('ctx_coref', d_aquaint_ctx_coref_can_fixed, d_aquaint_total, n_estimators=[4900], max_depths=[6])\n",
    "process('ctx_coref', d_ace_ctx_coref_can_fixed, d_ace_total, n_estimators=[4900], max_depths=[6])\n",
    "process('ctx_coref', d_clueweb_ctx_coref_can_fixed, d_clueweb_total, n_estimators=[4900], max_depths=[6])\n",
    "process('ctx_coref', d_wiki_wned_ctx_coref_can_fixed, d_wiki_wned_total, n_estimators=[4900], max_depths=[6])"
   ]
  },
  {
   "cell_type": "code",
   "execution_count": 128,
   "metadata": {},
   "outputs": [
    {
     "name": "stdout",
     "output_type": "stream",
     "text": [
      "2019-08-30 03:26:01.405142 Loading model: 4900_6_ctx_coref_can_fixed\n",
      "2019-08-30 03:26:01.437742 Start evaluation\n",
      "n_estimators: 4900, max_depth: 6, precision: 0.9255150554675119, recall: 0.8902439024390244, f1: 0.9075369075369076, corr_num: 584\n",
      "2019-08-30 03:26:01.964892 Evaluation finished\n",
      "2019-08-30 03:26:01.974609 Loading model: 4900_6_ctx_coref_can_fixed\n",
      "2019-08-30 03:26:01.999686 Start evaluation\n",
      "n_estimators: 4900, max_depth: 6, precision: 0.8971014492753623, recall: 0.8514442916093535, f1: 0.8736767819336626, corr_num: 619\n",
      "2019-08-30 03:26:02.523069 Evaluation finished\n",
      "2019-08-30 03:26:02.528705 Loading model: 4900_6_ctx_coref_can_fixed\n",
      "2019-08-30 03:26:02.546755 Start evaluation\n",
      "n_estimators: 4900, max_depth: 6, precision: 0.9446808510638298, recall: 0.8638132295719845, f1: 0.9024390243902439, corr_num: 222\n",
      "2019-08-30 03:26:02.793726 Evaluation finished\n",
      "2019-08-30 03:26:02.890505 Loading model: 4900_6_ctx_coref_can_fixed\n",
      "2019-08-30 03:26:02.912656 Start evaluation\n",
      "n_estimators: 4900, max_depth: 6, precision: 0.781450608412379, recall: 0.7312175004482697, f1: 0.7554999768422028, corr_num: 8156\n",
      "2019-08-30 03:26:10.756982 Evaluation finished\n",
      "2019-08-30 03:26:10.792190 Loading model: 4900_6_ctx_coref_can_fixed\n",
      "2019-08-30 03:26:10.818983 Start evaluation\n",
      "n_estimators: 4900, max_depth: 6, precision: 0.7794618001855862, recall: 0.7388945902360358, f1: 0.7586362610069993, corr_num: 5040\n",
      "2019-08-30 03:26:14.546413 Evaluation finished\n"
     ]
    }
   ],
   "source": [
    "process('ctx_coref_can_fixed', d_msnbc_ctx_coref_can_fixed, d_msnbc_total, n_estimators=[4900], max_depths=[6])\n",
    "process('ctx_coref_can_fixed', d_aquaint_ctx_coref_can_fixed, d_aquaint_total, n_estimators=[4900], max_depths=[6])\n",
    "process('ctx_coref_can_fixed', d_ace_ctx_coref_can_fixed, d_ace_total, n_estimators=[4900], max_depths=[6])\n",
    "process('ctx_coref_can_fixed', d_clueweb_ctx_coref_can_fixed, d_clueweb_total, n_estimators=[4900], max_depths=[6])\n",
    "process('ctx_coref_can_fixed', d_wiki_wned_ctx_coref_can_fixed, d_wiki_wned_total, n_estimators=[4900], max_depths=[6])"
   ]
  },
  {
   "cell_type": "code",
   "execution_count": 125,
   "metadata": {},
   "outputs": [
    {
     "name": "stdout",
     "output_type": "stream",
     "text": [
      "(14304, 24)\n",
      "(15288, 24)\n",
      "(6846, 24)\n",
      "(277997, 24)\n",
      "(123551, 24)\n"
     ]
    }
   ],
   "source": [
    "d_msnbc_coh_can_fixed = fetch_all_features('basic_coh_can_fixed', 'test', 'msnbc_new')\n",
    "d_aquaint_coh_can_fixed = fetch_all_features('basic_coh_can_fixed', 'test', 'aquaint_new')\n",
    "d_ace_coh_can_fixed = fetch_all_features('basic_coh_can_fixed', 'test', 'ace2004_wned')\n",
    "d_clueweb_coh_can_fixed = fetch_all_features('basic_coh_can_fixed', 'test', 'clueweb12')\n",
    "d_wiki_wned_coh_can_fixed = fetch_all_features('basic_coh_can_fixed', 'test', 'wiki_wned')\n",
    "\n",
    "print(d_msnbc_coh_can_fixed.shape)\n",
    "print(d_aquaint_coh_can_fixed.shape)\n",
    "print(d_ace_coh_can_fixed.shape)\n",
    "print(d_clueweb_coh_can_fixed.shape)\n",
    "print(d_wiki_wned_coh_can_fixed.shape)"
   ]
  },
  {
   "cell_type": "code",
   "execution_count": 126,
   "metadata": {},
   "outputs": [
    {
     "name": "stdout",
     "output_type": "stream",
     "text": [
      "Building idx for new features...\n",
      "Combine original and new features...\n",
      "Building idx for new features...\n",
      "Combine original and new features...\n",
      "Building idx for new features...\n",
      "Combine original and new features...\n",
      "Building idx for new features...\n",
      "Combine original and new features...\n",
      "Building idx for new features...\n",
      "Combine original and new features...\n",
      "(14304, 54)\n",
      "(15288, 54)\n",
      "(6846, 54)\n",
      "(277997, 54)\n",
      "(123551, 54)\n"
     ]
    }
   ],
   "source": [
    "d_msnbc_ctx_coref_coh_can_fixed = combine_features(d_msnbc_ctx_coref_can_fixed, d_msnbc_coh_can_fixed)\n",
    "d_aquaint_ctx_coref_coh_can_fixed = combine_features(d_aquaint_ctx_coref_can_fixed, d_aquaint_coh_can_fixed)\n",
    "d_ace_ctx_coref_coh_can_fixed = combine_features(d_ace_ctx_coref_can_fixed, d_ace_coh_can_fixed)\n",
    "d_clueweb_ctx_coref_coh_can_fixed = combine_features(d_clueweb_ctx_coref_can_fixed, d_clueweb_coh_can_fixed)\n",
    "d_wiki_wned_ctx_coref_coh_can_fixed = combine_features(d_wiki_wned_ctx_coref_can_fixed, d_wiki_wned_coh_can_fixed)\n",
    "\n",
    "print(d_msnbc_ctx_coref_coh_can_fixed.shape)\n",
    "print(d_aquaint_ctx_coref_coh_can_fixed.shape)\n",
    "print(d_ace_ctx_coref_coh_can_fixed.shape)\n",
    "print(d_clueweb_ctx_coref_coh_can_fixed.shape)\n",
    "print(d_wiki_wned_ctx_coref_coh_can_fixed.shape)"
   ]
  },
  {
   "cell_type": "code",
   "execution_count": 127,
   "metadata": {},
   "outputs": [
    {
     "name": "stdout",
     "output_type": "stream",
     "text": [
      "2019-08-29 23:40:48.992106 Loading model: 4900_6_ctx_coref_coh\n",
      "2019-08-29 23:40:49.054345 Start evaluation\n",
      "n_estimators: 4900, max_depth: 6, precision: 0.9603803486529319, recall: 0.9237804878048781, f1: 0.9417249417249418, corr_num: 606\n",
      "2019-08-29 23:40:49.859409 Evaluation finished\n",
      "2019-08-29 23:40:49.873004 Loading model: 4900_6_ctx_coref_coh\n",
      "2019-08-29 23:40:49.896739 Start evaluation\n",
      "n_estimators: 4900, max_depth: 6, precision: 0.9144927536231884, recall: 0.8679504814305364, f1: 0.8906139731827806, corr_num: 631\n",
      "2019-08-29 23:40:50.668417 Evaluation finished\n",
      "2019-08-29 23:40:50.675374 Loading model: 4900_6_ctx_coref_coh\n",
      "2019-08-29 23:40:50.698184 Start evaluation\n",
      "n_estimators: 4900, max_depth: 6, precision: 0.9404255319148936, recall: 0.8599221789883269, f1: 0.8983739837398375, corr_num: 221\n",
      "2019-08-29 23:40:51.050069 Evaluation finished\n",
      "2019-08-29 23:40:51.243811 Loading model: 4900_6_ctx_coref_coh\n",
      "2019-08-29 23:40:51.268761 Start evaluation\n",
      "n_estimators: 4900, max_depth: 6, precision: 0.8241831944045224, recall: 0.7712031558185405, f1: 0.7968134871011069, corr_num: 8602\n",
      "2019-08-29 23:41:03.583785 Evaluation finished\n",
      "2019-08-29 23:41:03.715931 Loading model: 4900_6_ctx_coref_coh\n",
      "2019-08-29 23:41:03.755255 Start evaluation\n",
      "n_estimators: 4900, max_depth: 6, precision: 0.8453448809155583, recall: 0.8013487758393197, f1: 0.8227590878302099, corr_num: 5466\n",
      "2019-08-29 23:41:09.588192 Evaluation finished\n"
     ]
    }
   ],
   "source": [
    "process('ctx_coref_coh', d_msnbc_ctx_coref_coh_can_fixed, d_msnbc_total, n_estimators=[4900], max_depths=[6])\n",
    "process('ctx_coref_coh', d_aquaint_ctx_coref_coh_can_fixed, d_aquaint_total, n_estimators=[4900], max_depths=[6])\n",
    "process('ctx_coref_coh', d_ace_ctx_coref_coh_can_fixed, d_ace_total, n_estimators=[4900], max_depths=[6])\n",
    "process('ctx_coref_coh', d_clueweb_ctx_coref_coh_can_fixed, d_clueweb_total, n_estimators=[4900], max_depths=[6])\n",
    "process('ctx_coref_coh', d_wiki_wned_ctx_coref_coh_can_fixed, d_wiki_wned_total, n_estimators=[4900], max_depths=[6])"
   ]
  },
  {
   "cell_type": "code",
   "execution_count": 130,
   "metadata": {},
   "outputs": [
    {
     "name": "stdout",
     "output_type": "stream",
     "text": [
      "(14304, 24)\n",
      "(15288, 24)\n",
      "(6846, 24)\n",
      "(277997, 24)\n",
      "(123551, 24)\n"
     ]
    }
   ],
   "source": [
    "d_msnbc_coh_can_fixed_retrained = fetch_all_features('basic_fea_coh_can_fixed_retrained', 'test', 'msnbc_new')\n",
    "d_aquaint_coh_can_fixed_retrained = fetch_all_features('basic_fea_coh_can_fixed_retrained', 'test', 'aquaint_new')\n",
    "d_ace_coh_can_fixed_retrained = fetch_all_features('basic_fea_coh_can_fixed_retrained', 'test', 'ace2004_wned')\n",
    "d_clueweb_coh_can_fixed_retrained = fetch_all_features('basic_fea_coh_can_fixed_retrained', 'test', 'clueweb12')\n",
    "d_wiki_wned_coh_can_fixed_retrained = fetch_all_features('basic_fea_coh_can_fixed_retrained', 'test', 'wiki_wned')\n",
    "\n",
    "print(d_msnbc_coh_can_fixed_retrained.shape)\n",
    "print(d_aquaint_coh_can_fixed_retrained.shape)\n",
    "print(d_ace_coh_can_fixed_retrained.shape)\n",
    "print(d_clueweb_coh_can_fixed_retrained.shape)\n",
    "print(d_wiki_wned_coh_can_fixed_retrained.shape)"
   ]
  },
  {
   "cell_type": "code",
   "execution_count": 131,
   "metadata": {},
   "outputs": [
    {
     "name": "stdout",
     "output_type": "stream",
     "text": [
      "Building idx for new features...\n",
      "Combine original and new features...\n",
      "Building idx for new features...\n",
      "Combine original and new features...\n",
      "Building idx for new features...\n",
      "Combine original and new features...\n",
      "Building idx for new features...\n",
      "Combine original and new features...\n",
      "Building idx for new features...\n",
      "Combine original and new features...\n",
      "(14304, 54)\n",
      "(15288, 54)\n",
      "(6846, 54)\n",
      "(277997, 54)\n",
      "(123551, 54)\n"
     ]
    }
   ],
   "source": [
    "d_msnbc_ctx_coref_coh_can_fixed_retrained = combine_features(d_msnbc_ctx_coref_can_fixed, d_msnbc_coh_can_fixed_retrained)\n",
    "d_aquaint_ctx_coref_coh_can_fixed_retrained = combine_features(d_aquaint_ctx_coref_can_fixed, d_aquaint_coh_can_fixed_retrained)\n",
    "d_ace_ctx_coref_coh_can_fixed_retrained = combine_features(d_ace_ctx_coref_can_fixed, d_ace_coh_can_fixed_retrained)\n",
    "d_clueweb_ctx_coref_coh_can_fixed_retrained = combine_features(d_clueweb_ctx_coref_can_fixed, d_clueweb_coh_can_fixed_retrained)\n",
    "d_wiki_wned_ctx_coref_coh_can_fixed_retrained = combine_features(d_wiki_wned_ctx_coref_can_fixed, d_wiki_wned_coh_can_fixed_retrained)\n",
    "\n",
    "print(d_msnbc_ctx_coref_coh_can_fixed_retrained.shape)\n",
    "print(d_aquaint_ctx_coref_coh_can_fixed_retrained.shape)\n",
    "print(d_ace_ctx_coref_coh_can_fixed_retrained.shape)\n",
    "print(d_clueweb_ctx_coref_coh_can_fixed_retrained.shape)\n",
    "print(d_wiki_wned_ctx_coref_coh_can_fixed_retrained.shape)"
   ]
  },
  {
   "cell_type": "code",
   "execution_count": 133,
   "metadata": {},
   "outputs": [
    {
     "name": "stdout",
     "output_type": "stream",
     "text": [
      "2019-08-30 17:08:34.832694 Loading model: 4900_6_ctx_coref_coh_can_fixed\n",
      "2019-08-30 17:08:34.863812 Start evaluation\n",
      "n_estimators: 4900, max_depth: 6, precision: 0.9619651347068146, recall: 0.9253048780487805, f1: 0.9432789432789432, corr_num: 607\n",
      "2019-08-30 17:08:35.330130 Evaluation finished\n",
      "2019-08-30 17:08:35.341745 Loading model: 4900_6_ctx_coref_coh_can_fixed\n",
      "2019-08-30 17:08:35.368079 Start evaluation\n",
      "n_estimators: 4900, max_depth: 6, precision: 0.9130434782608695, recall: 0.8665749656121046, f1: 0.8892025405786873, corr_num: 630\n",
      "2019-08-30 17:08:35.901558 Evaluation finished\n",
      "2019-08-30 17:08:35.909211 Loading model: 4900_6_ctx_coref_coh_can_fixed\n",
      "2019-08-30 17:08:35.928147 Start evaluation\n",
      "n_estimators: 4900, max_depth: 6, precision: 0.9404255319148936, recall: 0.8599221789883269, f1: 0.8983739837398375, corr_num: 221\n",
      "2019-08-30 17:08:36.172224 Evaluation finished\n",
      "2019-08-30 17:08:36.328483 Loading model: 4900_6_ctx_coref_coh_can_fixed\n",
      "2019-08-30 17:08:36.345667 Start evaluation\n",
      "n_estimators: 4900, max_depth: 6, precision: 0.8260994538660534, recall: 0.7729962345346961, f1: 0.7986661108795333, corr_num: 8622\n",
      "2019-08-30 17:08:44.179461 Evaluation finished\n",
      "2019-08-30 17:08:44.254982 Loading model: 4900_6_ctx_coref_coh_can_fixed\n",
      "2019-08-30 17:08:44.276731 Start evaluation\n",
      "n_estimators: 4900, max_depth: 6, precision: 0.8450355706773894, recall: 0.8010555637003371, f1: 0.8224580416948898, corr_num: 5464\n",
      "2019-08-30 17:08:47.991645 Evaluation finished\n"
     ]
    }
   ],
   "source": [
    "process('ctx_coref_coh_can_fixed', d_msnbc_ctx_coref_coh_can_fixed_retrained, d_msnbc_total, n_estimators=[4900], max_depths=[6])\n",
    "process('ctx_coref_coh_can_fixed', d_aquaint_ctx_coref_coh_can_fixed_retrained, d_aquaint_total, n_estimators=[4900], max_depths=[6])\n",
    "process('ctx_coref_coh_can_fixed', d_ace_ctx_coref_coh_can_fixed_retrained, d_ace_total, n_estimators=[4900], max_depths=[6])\n",
    "process('ctx_coref_coh_can_fixed', d_clueweb_ctx_coref_coh_can_fixed_retrained, d_clueweb_total, n_estimators=[4900], max_depths=[6])\n",
    "process('ctx_coref_coh_can_fixed', d_wiki_wned_ctx_coref_coh_can_fixed_retrained, d_wiki_wned_total, n_estimators=[4900], max_depths=[6])"
   ]
  },
  {
   "cell_type": "code",
   "execution_count": 136,
   "metadata": {},
   "outputs": [
    {
     "name": "stdout",
     "output_type": "stream",
     "text": [
      "(14304, 35)\n",
      "(15288, 35)\n",
      "(6741, 35)\n",
      "(204669, 35)\n",
      "(123551, 35)\n"
     ]
    }
   ],
   "source": [
    "d_msnbc_coh_ext_global2 = fetch_all_features('basic_fea_coh_ext_global2', 'test', 'msnbc_new')\n",
    "d_aquaint_coh_ext_global2 = fetch_all_features('basic_fea_coh_ext_global2', 'test', 'aquaint_new')\n",
    "d_ace_coh_ext_global2 = fetch_all_features('basic_fea_coh_ext_global2', 'test', 'ace2014_uiuc')\n",
    "d_clueweb_coh_ext_global2 = fetch_all_features('basic_fea_coh_ext_global2', 'test', 'clueweb12')\n",
    "d_wiki_wned_coh_ext_global2 = fetch_all_features('basic_fea_coh_ext_global2', 'test', 'wiki_wned')\n",
    "\n",
    "print(d_msnbc_coh_ext_global2.shape)\n",
    "print(d_aquaint_coh_ext_global2.shape)\n",
    "print(d_ace_coh_ext_global2.shape)\n",
    "print(d_clueweb_coh_ext_global2.shape)\n",
    "print(d_wiki_wned_coh_ext_global2.shape)"
   ]
  },
  {
   "cell_type": "code",
   "execution_count": 154,
   "metadata": {},
   "outputs": [
    {
     "name": "stdout",
     "output_type": "stream",
     "text": [
      "(14287, 32)\n",
      "(15255, 32)\n",
      "(6733, 32)\n",
      "(277802, 32)\n",
      "(119788, 32)\n"
     ]
    }
   ],
   "source": [
    "print(d_msnbc_ctx_coref_emnlp17.shape)\n",
    "print(d_aquaint_ctx_coref_emnlp17.shape)\n",
    "print(d_ace_ctx_coref_emnlp17.shape)\n",
    "print(d_clueweb_ctx_coref_emnlp17.shape)\n",
    "print(d_wiki_wned_ctx_coref_emnlp17.shape)"
   ]
  },
  {
   "cell_type": "code",
   "execution_count": 152,
   "metadata": {},
   "outputs": [
    {
     "name": "stdout",
     "output_type": "stream",
     "text": [
      "Building idx for new features...\n",
      "Combine original and new features...\n",
      "Building idx for new features...\n",
      "Combine original and new features...\n",
      "Building idx for new features...\n",
      "Combine original and new features...\n",
      "Building idx for new features...\n",
      "Combine original and new features...\n"
     ]
    },
    {
     "ename": "IndexError",
     "evalue": "too many indices for array",
     "output_type": "error",
     "traceback": [
      "\u001b[0;31m---------------------------------------------------------------------------\u001b[0m",
      "\u001b[0;31mIndexError\u001b[0m                                Traceback (most recent call last)",
      "\u001b[0;32m<ipython-input-152-4f935bf91170>\u001b[0m in \u001b[0;36m<module>\u001b[0;34m\u001b[0m\n\u001b[1;32m      2\u001b[0m \u001b[0md_aquaint_ctx_coref_coh_ext_global2\u001b[0m \u001b[0;34m=\u001b[0m \u001b[0mcombine_features\u001b[0m\u001b[0;34m(\u001b[0m\u001b[0md_aquaint_ctx_coref_emnlp17\u001b[0m\u001b[0;34m,\u001b[0m \u001b[0md_aquaint_coh_ext_global2\u001b[0m\u001b[0;34m)\u001b[0m\u001b[0;34m\u001b[0m\u001b[0m\n\u001b[1;32m      3\u001b[0m \u001b[0md_ace_ctx_coref_coh_ext_global2\u001b[0m \u001b[0;34m=\u001b[0m \u001b[0mcombine_features\u001b[0m\u001b[0;34m(\u001b[0m\u001b[0md_ace_ctx_coref_emnlp17\u001b[0m\u001b[0;34m,\u001b[0m \u001b[0md_ace_coh_ext_global2\u001b[0m\u001b[0;34m)\u001b[0m\u001b[0;34m\u001b[0m\u001b[0m\n\u001b[0;32m----> 4\u001b[0;31m \u001b[0md_clueweb_ctx_coref_coh_ext_global2\u001b[0m \u001b[0;34m=\u001b[0m \u001b[0mcombine_features\u001b[0m\u001b[0;34m(\u001b[0m\u001b[0md_clueweb_ctx_coref_emnlp17\u001b[0m\u001b[0;34m,\u001b[0m \u001b[0md_clueweb_coh_ext_global2\u001b[0m\u001b[0;34m)\u001b[0m\u001b[0;34m\u001b[0m\u001b[0m\n\u001b[0m\u001b[1;32m      5\u001b[0m \u001b[0md_wiki_wned_ctx_coref_coh_ext_global2\u001b[0m \u001b[0;34m=\u001b[0m \u001b[0mcombine_features\u001b[0m\u001b[0;34m(\u001b[0m\u001b[0md_wiki_wned_ctx_coref_emnlp17\u001b[0m\u001b[0;34m,\u001b[0m \u001b[0md_wiki_wned_coh_ext_global2\u001b[0m\u001b[0;34m)\u001b[0m\u001b[0;34m\u001b[0m\u001b[0m\n\u001b[1;32m      6\u001b[0m \u001b[0;34m\u001b[0m\u001b[0m\n",
      "\u001b[0;32m<ipython-input-4-48c54f228475>\u001b[0m in \u001b[0;36mcombine_features\u001b[0;34m(original_feas, new_features)\u001b[0m\n\u001b[1;32m     54\u001b[0m             \u001b[0mpre_men_id\u001b[0m \u001b[0;34m=\u001b[0m \u001b[0mfea\u001b[0m\u001b[0;34m[\u001b[0m\u001b[0;36m0\u001b[0m\u001b[0;34m]\u001b[0m\u001b[0;34m\u001b[0m\u001b[0m\n\u001b[1;32m     55\u001b[0m             \u001b[0mfea_size\u001b[0m \u001b[0;34m=\u001b[0m \u001b[0mlen\u001b[0m\u001b[0;34m(\u001b[0m\u001b[0mmen_id_feas_dict\u001b[0m\u001b[0;34m[\u001b[0m\u001b[0mfea\u001b[0m\u001b[0;34m[\u001b[0m\u001b[0;36m0\u001b[0m\u001b[0;34m]\u001b[0m\u001b[0;34m]\u001b[0m\u001b[0;34m)\u001b[0m\u001b[0;34m\u001b[0m\u001b[0m\n\u001b[0;32m---> 56\u001b[0;31m             \u001b[0mres\u001b[0m \u001b[0;34m=\u001b[0m \u001b[0mnp\u001b[0m\u001b[0;34m.\u001b[0m\u001b[0mappend\u001b[0m\u001b[0;34m(\u001b[0m\u001b[0moriginal_feas\u001b[0m\u001b[0;34m[\u001b[0m\u001b[0mfea_idx\u001b[0m\u001b[0;34m:\u001b[0m \u001b[0mfea_idx\u001b[0m \u001b[0;34m+\u001b[0m \u001b[0mfea_size\u001b[0m\u001b[0;34m,\u001b[0m \u001b[0;34m:\u001b[0m\u001b[0;34m-\u001b[0m\u001b[0;36m1\u001b[0m\u001b[0;34m]\u001b[0m\u001b[0;34m,\u001b[0m \u001b[0mnp\u001b[0m\u001b[0;34m.\u001b[0m\u001b[0marray\u001b[0m\u001b[0;34m(\u001b[0m\u001b[0mmen_id_feas_dict\u001b[0m\u001b[0;34m[\u001b[0m\u001b[0mfea\u001b[0m\u001b[0;34m[\u001b[0m\u001b[0;36m0\u001b[0m\u001b[0;34m]\u001b[0m\u001b[0;34m]\u001b[0m\u001b[0;34m)\u001b[0m\u001b[0;34m[\u001b[0m\u001b[0;34m:\u001b[0m\u001b[0;34m,\u001b[0m \u001b[0;36m1\u001b[0m\u001b[0;34m:\u001b[0m\u001b[0;34m]\u001b[0m\u001b[0;34m,\u001b[0m \u001b[0maxis\u001b[0m\u001b[0;34m=\u001b[0m\u001b[0;36m1\u001b[0m\u001b[0;34m)\u001b[0m\u001b[0;34m\u001b[0m\u001b[0m\n\u001b[0m\u001b[1;32m     57\u001b[0m             \u001b[0;31m#print('res:', res)\u001b[0m\u001b[0;34m\u001b[0m\u001b[0;34m\u001b[0m\u001b[0m\n\u001b[1;32m     58\u001b[0m             \u001b[0mcomb_feas\u001b[0m\u001b[0;34m.\u001b[0m\u001b[0mappend\u001b[0m\u001b[0;34m(\u001b[0m\u001b[0mres\u001b[0m\u001b[0;34m)\u001b[0m\u001b[0;34m\u001b[0m\u001b[0m\n",
      "\u001b[0;31mIndexError\u001b[0m: too many indices for array"
     ]
    }
   ],
   "source": [
    "d_msnbc_ctx_coref_coh_ext_global2 = combine_features(d_msnbc_ctx_coref_emnlp17, d_msnbc_coh_ext_global2)\n",
    "d_aquaint_ctx_coref_coh_ext_global2 = combine_features(d_aquaint_ctx_coref_emnlp17, d_aquaint_coh_ext_global2)\n",
    "d_ace_ctx_coref_coh_ext_global2 = combine_features(d_ace_ctx_coref_emnlp17, d_ace_coh_ext_global2)\n",
    "d_clueweb_ctx_coref_coh_ext_global2 = combine_features(d_clueweb_ctx_coref_emnlp17, d_clueweb_coh_ext_global2)\n",
    "d_wiki_wned_ctx_coref_coh_ext_global2 = combine_features(d_wiki_wned_ctx_coref_emnlp17, d_wiki_wned_coh_ext_global2)\n",
    "\n",
    "print(d_msnbc_ctx_coref_coh_ext_global2.shape)\n",
    "print(d_aquaint_ctx_coref_coh_ext_global2.shape)\n",
    "print(d_ace_ctx_coref_coh_ext_global2.shape)\n",
    "print(d_clueweb_ctx_coref_coh_ext_global2.shape)\n",
    "print(d_wiki_wned_ctx_coref_coh_ext_global2.shape)"
   ]
  },
  {
   "cell_type": "code",
   "execution_count": 9,
   "metadata": {},
   "outputs": [
    {
     "name": "stdout",
     "output_type": "stream",
     "text": [
      "144\n"
     ]
    }
   ],
   "source": [
    "docs_dict_kore = fetch_q_ids_docs('kore')\n",
    "print(len(docs_dict_kore))"
   ]
  },
  {
   "cell_type": "code",
   "execution_count": 13,
   "metadata": {},
   "outputs": [
    {
     "name": "stdout",
     "output_type": "stream",
     "text": [
      "(4900, 21)\n",
      "(4900, 13)\n",
      "144\n",
      "132\n",
      "upper bound 0.9166666666666666\n",
      "\n",
      "Building idx for new features...\n",
      "Combine original and new features...\n",
      "(4900, 32)\n"
     ]
    }
   ],
   "source": [
    "d_kore_ctx = fetch_all_features('exp1910:fea_ctx', 'test', 'kore')\n",
    "d_kore_ctx_raw = get_feature_results('exp1910:fea_ctx', 'test', 'kore')\n",
    "d_kore_coref = fetch_all_features('exp1910:fea_coref', 'test', 'kore')\n",
    "d_kore_total = get_total_mentions('kore', 'test')\n",
    "d_kore_true_labels = get_true_labels(d_kore_ctx)\n",
    "\n",
    "print(d_kore_ctx.shape)\n",
    "print(d_kore_coref.shape)\n",
    "print(d_kore_total)\n",
    "print(d_kore_true_labels)\n",
    "print('upper bound', d_kore_true_labels / d_kore_total)\n",
    "print()\n",
    "\n",
    "d_kore_ctx_coref = combine_features(d_kore_ctx, d_kore_coref)\n",
    "\n",
    "print(d_kore_ctx_coref.shape)"
   ]
  },
  {
   "cell_type": "code",
   "execution_count": 11,
   "metadata": {},
   "outputs": [
    {
     "name": "stderr",
     "output_type": "stream",
     "text": [
      "/home/ymiao/.venvs/nerd/lib/python3.5/site-packages/xgboost/core.py:614: UserWarning: Use subset (sliced data) of np.ndarray is not recommended because it will generate extra copies and increase memory consumption\n",
      "  \"because it will generate extra copies and increase memory consumption\")\n"
     ]
    },
    {
     "name": "stdout",
     "output_type": "stream",
     "text": [
      "2019-10-18 17:48:31.199877 Loading model: 4900_6_ctx\n",
      "2019-10-18 17:48:31.263067 Start evaluation\n",
      "n_estimators: 4900, max_depth: 6, precision: 0.5918367346938775, recall: 0.40559440559440557, f1: 0.4813278008298755, corr_num: 58\n",
      "2019-10-18 17:48:31.424013 Evaluation finished\n",
      "2019-10-18 17:48:31.428862 Loading model: 4900_6_ctx_coref\n",
      "2019-10-18 17:48:31.459753 Start evaluation\n",
      "n_estimators: 4900, max_depth: 6, precision: 0.6224489795918368, recall: 0.42657342657342656, f1: 0.5062240663900415, corr_num: 61\n",
      "2019-10-18 17:48:31.564378 Evaluation finished\n"
     ]
    }
   ],
   "source": [
    "process('ctx', d_kore_ctx, d_kore_total, n_estimators=[4900], max_depths=[6])\n",
    "process('ctx_coref', d_kore_ctx_coref, d_kore_total, n_estimators=[4900], max_depths=[6])"
   ]
  },
  {
   "cell_type": "code",
   "execution_count": 14,
   "metadata": {},
   "outputs": [
    {
     "name": "stdout",
     "output_type": "stream",
     "text": [
      "(8780, 21)\n",
      "(8780, 13)\n",
      "524\n",
      "448\n",
      "upper bound 0.8549618320610687\n",
      "\n",
      "Building idx for new features...\n",
      "Combine original and new features...\n",
      "(8780, 32)\n"
     ]
    }
   ],
   "source": [
    "d_rss_ctx = fetch_all_features('exp1910:fea_ctx', 'test', 'rss')\n",
    "d_rss_ctx_raw = get_feature_results('exp1910:fea_ctx', 'test', 'rss')\n",
    "d_rss_coref = fetch_all_features('exp1910:fea_coref', 'test', 'rss')\n",
    "d_rss_total = get_total_mentions('rss', 'test')\n",
    "d_rss_true_labels = get_true_labels(d_rss_ctx)\n",
    "\n",
    "print(d_rss_ctx.shape)\n",
    "print(d_rss_coref.shape)\n",
    "print(d_rss_total)\n",
    "print(d_rss_true_labels)\n",
    "print('upper bound', d_rss_true_labels / d_rss_total)\n",
    "print()\n",
    "\n",
    "d_rss_ctx_coref = combine_features(d_rss_ctx, d_rss_coref)\n",
    "\n",
    "print(d_rss_ctx_coref.shape)"
   ]
  },
  {
   "cell_type": "code",
   "execution_count": 18,
   "metadata": {},
   "outputs": [
    {
     "name": "stdout",
     "output_type": "stream",
     "text": [
      "(10117, 21)\n",
      "(10117, 13)\n",
      "650\n",
      "456\n",
      "Building idx for new features...\n",
      "Combine original and new features...\n",
      "(10117, 32)\n"
     ]
    }
   ],
   "source": [
    "d_reuters_ctx = fetch_all_features('exp2110reuters:fea_ctx', 'test', 'reuters')\n",
    "d_reuters_coref = fetch_all_features('exp2110reuters:fea_coref', 'test', 'reuters')\n",
    "d_reuters_total = get_total_mentions('reuters', 'test')\n",
    "d_reuters_true_labels = get_true_labels(d_reuters_ctx)\n",
    "\n",
    "print(d_reuters_ctx.shape)\n",
    "print(d_reuters_coref.shape)\n",
    "print(d_reuters_total)\n",
    "print(d_reuters_true_labels)\n",
    "\n",
    "d_reuters_ctx_coref = combine_features(d_reuters_ctx, d_reuters_coref)\n",
    "print(d_reuters_ctx_coref.shape)"
   ]
  },
  {
   "cell_type": "code",
   "execution_count": 19,
   "metadata": {},
   "outputs": [
    {
     "name": "stderr",
     "output_type": "stream",
     "text": [
      "/home/ymiao/.venvs/nerd/lib/python3.5/site-packages/xgboost/core.py:614: UserWarning: Use subset (sliced data) of np.ndarray is not recommended because it will generate extra copies and increase memory consumption\n",
      "  \"because it will generate extra copies and increase memory consumption\")\n"
     ]
    },
    {
     "name": "stdout",
     "output_type": "stream",
     "text": [
      "2019-10-21 12:25:59.880015 Loading model: 4900_6_ctx_coref\n",
      "2019-10-21 12:25:59.929725 Start evaluation\n",
      "n_estimators: 4900, max_depth: 6, precision: 0.8464912280701754, recall: 0.5938461538461538, f1: 0.698010849909584, corr_num: 386\n",
      "2019-10-21 12:26:00.221932 Evaluation finished\n"
     ]
    }
   ],
   "source": [
    "process('ctx_coref', d_reuters_ctx_coref, d_reuters_total, n_estimators=[4900], max_depths=[6])"
   ]
  },
  {
   "cell_type": "code",
   "execution_count": null,
   "metadata": {},
   "outputs": [],
   "source": []
  }
 ],
 "metadata": {
  "kernelspec": {
   "display_name": "Python 3",
   "language": "python",
   "name": "python3"
  },
  "language_info": {
   "codemirror_mode": {
    "name": "ipython",
    "version": 3
   },
   "file_extension": ".py",
   "mimetype": "text/x-python",
   "name": "python",
   "nbconvert_exporter": "python",
   "pygments_lexer": "ipython3",
   "version": "3.5.2"
  }
 },
 "nbformat": 4,
 "nbformat_minor": 2
}
