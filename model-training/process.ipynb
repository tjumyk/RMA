{
 "cells": [
  {
   "cell_type": "code",
   "execution_count": 1,
   "metadata": {},
   "outputs": [],
   "source": [
    "import numpy as np\n",
    "import scipy.sparse\n",
    "import pickle\n",
    "import xgboost as xgb\n",
    "import csv\n",
    "from collections import defaultdict\n",
    "import redis\n",
    "import json\n",
    "import time\n",
    "import sklearn.utils\n",
    "import psycopg2\n",
    "from psycopg2.sql import Identifier, SQL\n",
    "from datetime import datetime\n",
    "import os"
   ]
  },
  {
   "cell_type": "code",
   "execution_count": 2,
   "metadata": {},
   "outputs": [],
   "source": [
    "conn = redis.Redis(password='3oSYTdtZjsuSigRWLcG6VJt9gm4IMvYjQiqsSuGcAc-U4gMNpWGERAevXi9_SHNrn19piz7bBJG0iTLgx7DvknLHTECcHYrqmWb2rsuCWs89svKmhKDD_aMYaXq8IhSeg_89ooPZb0AqLRyR1-fa1zVjrh2UuV0sWFGSk5SjtW0', \n",
    "                   host='pangu', port=6379, decode_responses=True)\n",
    "conn_psql_kongzi2 = psycopg2.connect(database='aida', user='zding', password='dingzishuo', host='localhost',\n",
    "                                     port=5432)\n",
    "conn_psql = psycopg2.connect(database='zding', user='zding', password='dingzishuo', host='localhost',\n",
    "                                     port=5432)"
   ]
  },
  {
   "cell_type": "code",
   "execution_count": 3,
   "metadata": {},
   "outputs": [],
   "source": [
    "def get_feature_results(exp_id, d_t, data_source='aida_conll'):\n",
    "    fea_res = conn.lrange('result:::::' + str(exp_id) + ':::::' + data_source + ':::::' + str(d_t), 0, -1)\n",
    "    fea_vecs = [json.loads(res) for res in fea_res]\n",
    "    return fea_vecs\n",
    "\n",
    "def get_dataset_info(exp_id, d_t, data_source='aida_conll', can_size=50):\n",
    "    valid_mens_size = conn.scard('valid_qry_ids:::::' + str(exp_id) + ':::::' + data_source + ':::::' + str(d_t))\n",
    "    no_g_can_info_size = conn.scard('no_g_candidate_info:::::' + str(exp_id) + ':::::' + data_source + ':::::' + str(d_t))\n",
    "    missed_g_candidate_size = conn.scard('missed_g_candidate:::::' + str(exp_id) + ':::::' + data_source + \n",
    "                                         ':::::' + str(d_t) + ':::::' + str(can_size))\n",
    "    no_candidate_size = conn.scard('no_candidate:::::' + str(exp_id) + ':::::' + data_source + ':::::' + str(d_t))\n",
    "    return valid_mens_size, no_candidate_size, no_g_can_info_size, missed_g_candidate_size\n",
    "\n",
    "def fetch_all_features(exp_id, data_type, data_source='aida_conll'):\n",
    "    res_feas = get_feature_results(exp_id, data_type, data_source)\n",
    "    res_feas_ids = [[res[0].strip('(').split(', ')[0]] + res[1:-1] + [res[-1]] for res in res_feas]\n",
    "    res_feas_ids = np.array(res_feas_ids, dtype=np.float64)\n",
    "    return res_feas_ids\n",
    "\n",
    "def fetch_all_features_delete_max_prior(exp_id, data_type, data_source='aida_conll'):\n",
    "    res_feas = get_feature_results(exp_id, data_type, data_source)\n",
    "    res_feas_ids = [[res[0].strip('(').split(', ')[0]] + res[1:2] + [res[2] if res[2]!=0 else res[1]] + res[3:] for res in res_feas]\n",
    "    res_feas_ids = np.array(res_feas_ids, dtype=np.float64)\n",
    "    return res_feas_ids\n",
    "\n",
    "def trans_data(data):\n",
    "    d_np = data[:, 1:-1]\n",
    "    #print(d_np)\n",
    "    d_labels = data[:, -1]\n",
    "    #print(d_labels)\n",
    "    idxs = np.where(d_labels == 1)[0]\n",
    "    d_groups = np.append(np.delete(idxs, 0), len(d_labels)) - idxs\n",
    "    xgb_data = xgb.DMatrix(data=d_np, label=d_labels)\n",
    "    xgb_data.set_group(d_groups)\n",
    "    return xgb_data\n",
    "\n",
    "def combine_features(original_feas, new_features):\n",
    "    men_id_feas_dict = defaultdict(list)\n",
    "    print(\"Building idx for new features...\")\n",
    "    for fea in new_features:\n",
    "        men_id_feas_dict[fea[0]].append(fea)\n",
    "    #for k, v in men_id_feas_dict.items():\n",
    "    #    print(k)\n",
    "    #    print(v)\n",
    "    comb_feas = []\n",
    "    pre_men_id = 0\n",
    "    print(\"Combine original and new features...\")\n",
    "    for fea_idx, fea in enumerate(original_feas):\n",
    "        #print('Processing: [%d] %s' % (fea_idx, fea))\n",
    "        if pre_men_id == fea[0]:\n",
    "            #print('skip')\n",
    "            continue\n",
    "        else:\n",
    "            pre_men_id = fea[0]\n",
    "            fea_size = len(men_id_feas_dict[fea[0]])\n",
    "            res = np.append(original_feas[fea_idx: fea_idx + fea_size, :-1], np.array(men_id_feas_dict[fea[0]])[:, 1:], axis=1)\n",
    "            #print('res:', res)\n",
    "            comb_feas.append(res)\n",
    "    return np.concatenate(comb_feas, axis=0)\n",
    "\n",
    "def evalerror(preds, dt, d_tal_size):\n",
    "    d_l = dt.get_label()\n",
    "    idxs = np.where(d_l == 1)[0]\n",
    "    d_groups = np.append(np.delete(idxs, 0), len(d_l)) - idxs\n",
    "    matched_ids = []\n",
    "    q_id = 0\n",
    "    for x in d_groups:\n",
    "        pre_res = preds[q_id: x + q_id]\n",
    "        if(preds[q_id] == max(pre_res)):\n",
    "            if len([x for x in pre_res if x == preds[q_id]]) == 1:\n",
    "                matched_ids.append(q_id)\n",
    "        q_id += x\n",
    "    precision = float(len(matched_ids)) / len(d_groups)\n",
    "    recall = float(len(matched_ids)) / d_tal_size\n",
    "    f1 = 2 * precision * recall / (precision + recall)\n",
    "    return len(matched_ids), precision, recall, f1\n",
    "\n",
    "from collections import defaultdict\n",
    "def evalerror_detail_log(preds, dt, d_tal_size):\n",
    "    d_l = dt.get_label()\n",
    "    idxs = np.where(d_l == 1)[0]\n",
    "    d_groups = np.append(np.delete(idxs, 0), len(d_l)) - idxs\n",
    "    correct_results = {}\n",
    "    wrong_results = {}\n",
    "    duplicates_results = {}\n",
    "    group_info = {}\n",
    "    matched_ids = []\n",
    "    q_id = 0\n",
    "    for x in d_groups:\n",
    "        pre_res = preds[q_id: x + q_id]\n",
    "        if preds[q_id] == max(pre_res):\n",
    "            correct_results[q_id] = pre_res\n",
    "            if len([x for i, x in enumerate(pre_res) if x == preds[q_id] ]) == 1:\n",
    "                matched_ids.append(q_id)\n",
    "            else:\n",
    "                duplicates_results[q_id] = pre_res\n",
    "        else:\n",
    "            wrong_results[q_id] = pre_res\n",
    "        q_id += x\n",
    "    precision = float(len(matched_ids)) / len(d_groups)\n",
    "    recall = float(len(matched_ids)) / d_tal_size\n",
    "    f1 = 2 * precision * recall / (precision + recall)\n",
    "    return len(matched_ids), precision, recall, f1, correct_results, wrong_results, duplicates_results\n",
    "\n",
    "from collections import defaultdict\n",
    "from ast import literal_eval\n",
    "def get_groups_results(preds, dt, res_features, top_k:int=None):\n",
    "    d_l = dt.get_label()\n",
    "    idxs = np.where(d_l == 1)[0]\n",
    "    d_groups = np.append(np.delete(idxs, 0), len(d_l)) - idxs\n",
    "    correct_res_groups = []\n",
    "    wrong_res_groups = []\n",
    "    dup_res_groups = []\n",
    "    top_k_indices = [] if top_k is not None else None\n",
    "    q_id = 0\n",
    "    for x in d_groups:\n",
    "        pre_res = preds[q_id: x + q_id]\n",
    "        pre_res_feas = res_features[q_id: x + q_id]\n",
    "        pred_q_id, pred_ent = literal_eval(res_features[q_id+np.argmax(pre_res)][0])\n",
    "        \n",
    "        if preds[q_id] == max(pre_res):\n",
    "            correct_res_groups.append([pred_q_id, pred_ent])\n",
    "        else:\n",
    "            wrong_res_groups.append([pred_q_id, pred_ent])\n",
    "            \n",
    "        if top_k is not None:  # save indices of top-k scores in each group\n",
    "            for i, score in sorted(enumerate(pre_res),key=lambda x:x[1], reverse=True)[:top_k]:\n",
    "                # print(i, score)\n",
    "                top_k_indices.append(i+q_id)\n",
    "        q_id += x\n",
    "        \n",
    "    return correct_res_groups, wrong_res_groups, top_k_indices\n",
    "\n",
    "def fetch_inlinks_by_ent(ent):\n",
    "    cur = conn_psql_kongzi2.cursor()\n",
    "    sql = \"SELECT _id FROM wikipedia_links_2014 WHERE target=%s;\"\n",
    "    cur.execute(sql, (ent,))\n",
    "    rows = cur.fetchall()\n",
    "    cur.close()\n",
    "    return rows\n",
    "\n",
    "# fetch an entity's outlinks with duplicates\n",
    "def fetch_outlinks_by_ent(ent):\n",
    "    cur = conn_psql_kongzi2.cursor()\n",
    "    sql = \"SELECT target FROM wikipedia_links_2014 WHERE _id=%s;\"\n",
    "    cur.execute(sql, (ent,))\n",
    "    rows = cur.fetchall()\n",
    "    cur.close()\n",
    "    return rows\n",
    "\n",
    "def fetch_entity_by_mention_emnlp17(mention):\n",
    "    # print(mention)\n",
    "    cur = conn_psql_kongzi2.cursor()\n",
    "    # do a PostgreSQL join to select the entity namestring from the tables dictionary and entity_ids\n",
    "    sql = \"SELECT entity, prior FROM men_ent_dict_emnlp2017 WHERE men_ent_dict_emnlp2017.mention = (E\\'%s\\') ORDER BY prior DESC;\"\n",
    "    cur.execute(sql % mention.replace(\"'\", \"\\\\'\"))\n",
    "    rows = cur.fetchall()\n",
    "    cur.close()\n",
    "    return rows\n",
    "\n",
    "def fetch_inlinks_redis(ent, link_type='inlinks'):\n",
    "    inlinks = conn.hmget(link_type, ent)[0]\n",
    "    return json.loads(inlinks) if inlinks else []\n",
    "\n",
    "def has_inlinks_redis(ent, link_type='inlinks'):\n",
    "    inlinks = conn.hexists(link_type, ent)\n",
    "    return inlinks\n",
    "\n",
    "def save_inlinks_redis(ent, inlinks, link_type='inlinks'):\n",
    "    conn.hset(link_type, ent, json.dumps(inlinks))\n",
    "    \n",
    "def fetch_outlinks_redis(ent, link_type='outlinks'):\n",
    "    outlinks = conn.hmget(link_type, ent)[0]\n",
    "    return json.loads(outlinks) if outlinks else []\n",
    "\n",
    "def has_outlinks_redis(ent, link_type='outlinks'):\n",
    "    inlinks = conn.hexists(link_type, ent)\n",
    "    return inlinks\n",
    "\n",
    "def save_outlinks_redis(ent, outlinks, link_type='outlinks'):\n",
    "    conn.hset(link_type, ent, json.dumps(outlinks))\n",
    "    \n",
    "def check_links_between_ents(ent_1, ent_2, bidirection=False):\n",
    "    wiki_pre_str = 'en.wikipedia.org/wiki/'\n",
    "    inlinks_ent_1 = fetch_inlinks_redis(ent_1, link_type='inlinks')\n",
    "    if not inlinks_ent_1 and not has_inlinks_redis(ent_1):\n",
    "        print(\"PostgreSQL: fetching inlinks for entity {}...\".format(ent_1))\n",
    "        wiki_ents_1 = wiki_pre_str + ent_1\n",
    "        inlinks_ent_1_db = fetch_inlinks_by_ent(wiki_ents_1)\n",
    "        inlinks_ent_1 = [x[0].replace(wiki_pre_str, '') for x in inlinks_ent_1_db]\n",
    "        print(\"Redis: caching inlinks for entity {}...\".format(ent_1))\n",
    "        save_inlinks_redis(ent_1, inlinks_ent_1)\n",
    "    inlinks_ent_2 = fetch_inlinks_redis(ent_2, link_type='inlinks')\n",
    "    if not inlinks_ent_2 and not has_inlinks_redis(ent_2):        \n",
    "        wiki_ents_2 = wiki_pre_str + ent_2\n",
    "        print(\"PostgreSQL: fetching inlinks for entity {}...\".format(ent_2))\n",
    "        inlinks_ent_2_db = fetch_inlinks_by_ent(wiki_ents_2)\n",
    "        inlinks_ent_2 = [x[0].replace(wiki_pre_str, '') for x in inlinks_ent_2_db]\n",
    "        print(\"Redis: caching inlinks for entity {}...\".format(ent_2))\n",
    "        save_inlinks_redis(ent_2, inlinks_ent_2)\n",
    "    return (ent_1 in inlinks_ent_2 or ent_2 in inlinks_ent_1) if not bidirection else (ent_1 in inlinks_ent_2 and ent_2 in inlinks_ent_1)\n",
    "\n",
    "def get_links_by_ent(ent, link_type='inlinks'):\n",
    "    wiki_pre_str = 'en.wikipedia.org/wiki/'\n",
    "    if link_type == 'inlinks':\n",
    "        inlinks_ent = fetch_inlinks_redis(ent, link_type='inlinks')\n",
    "        if not inlinks_ent and not has_inlinks_redis(ent):\n",
    "#             print(\"PostgreSQL: fetching inlinks for entity {}...\".format(ent))\n",
    "            wiki_ents = wiki_pre_str + ent\n",
    "            inlinks_ent_db = fetch_inlinks_by_ent(wiki_ents)\n",
    "            inlinks_ent = [x[0].replace(wiki_pre_str, '') for x in inlinks_ent_db]\n",
    "            print(\"Redis: caching inlinks for entity {}...\".format(ent))\n",
    "            save_inlinks_redis(ent, inlinks_ent)\n",
    "        return inlinks_ent\n",
    "    if link_type == 'outlinks':\n",
    "        outlinks_ent = fetch_outlinks_redis(ent)\n",
    "        if not outlinks_ent and not has_outlinks_redis(ent):\n",
    "#             print(\"PostgreSQL: fetching outlinks for entity {}...\".format(ent))\n",
    "            wiki_ents = wiki_pre_str + ent\n",
    "            outlinks_ent_db = fetch_outlinks_by_ent(wiki_ents)\n",
    "            outlinks_ent = [x[0].replace(wiki_pre_str, '') for x in outlinks_ent_db]\n",
    "            print(\"Redis: caching outlinks for entity {}...\".format(ent))\n",
    "            save_outlinks_redis(ent, outlinks_ent)\n",
    "        return outlinks_ent\n",
    "    \n",
    "def fetch_ents_by_doc_redis(doc_id):\n",
    "    id_ents = conn.hmget('doc-predicted-ents-coref-new', doc_id)[0]\n",
    "    return json.loads(id_ents) if id_ents else []\n",
    "\n",
    "## Normalized Google Distance\n",
    "import math\n",
    "def ngd_similarity(ents_s, ents_t, index_size = 6274625):\n",
    "    ent_sets_s = set(ents_s)\n",
    "    ent_sets_t = set(ents_t)\n",
    "    min_links, max_links = min(len(ent_sets_s), len(ent_sets_t)), max(len(ent_sets_s), len(ent_sets_t))\n",
    "    com_links = len(ent_sets_s & ent_sets_t)\n",
    "    if min_links and max_links and com_links:\n",
    "        return 1 - (math.log(max_links) - math.log(com_links))/ (math.log(index_size) - math.log(min_links))\n",
    "    else:\n",
    "        return 0\n",
    "    \n",
    "# PMI\n",
    "def pmi_similarity(ents_s, ents_t, index_size = 6274625, normalize=False):\n",
    "    ent_sets_s = set(ents_s)\n",
    "    ent_sets_t = set(ents_t)\n",
    "    s_links, t_links = len(ent_sets_s), len(ent_sets_t)\n",
    "    com_links = len(ent_sets_s & ent_sets_t)\n",
    "    p_s = s_links / index_size\n",
    "    p_t = t_links / index_size\n",
    "    p_c = com_links / index_size\n",
    "    print(p_s, p_t, p_c)\n",
    "    if p_s and p_t and p_c:\n",
    "        return p_c/(p_s * p_t) if not normalize else p_c / (p_s * p_t) / min(1/p_s, 1/p_t)\n",
    "    else:\n",
    "        return 0\n",
    "    \n",
    "        \n",
    "def get_top_k_prediction_indices(model, d_test, raw_test, docs_dict, top_k):\n",
    "    d_test_xgboost = trans_data(d_test)\n",
    "    preds_test = model.predict(d_test_xgboost)\n",
    "    \n",
    "    correct_test, wrong_test, top_k_indices_test = get_groups_results(preds_test, d_test_xgboost, raw_test, top_k)\n",
    "    return top_k_indices_test"
   ]
  },
  {
   "cell_type": "code",
   "execution_count": 4,
   "metadata": {},
   "outputs": [],
   "source": [
    "d_train_ctx_raw = get_feature_results('basic_fea_ctx', 'train', 'aida_conll')\n",
    "d_test_a_ctx_raw = get_feature_results('basic_fea_ctx', 'testa', 'aida_conll')\n",
    "d_test_b_ctx_raw = get_feature_results('basic_fea_ctx', 'testb', 'aida_conll')"
   ]
  },
  {
   "cell_type": "code",
   "execution_count": 5,
   "metadata": {},
   "outputs": [
    {
     "name": "stdout",
     "output_type": "stream",
     "text": [
      "531835\n",
      "136259\n",
      "131893\n"
     ]
    }
   ],
   "source": [
    "print(len(d_train_ctx_raw))\n",
    "print(len(d_test_a_ctx_raw))\n",
    "print(len(d_test_b_ctx_raw))"
   ]
  },
  {
   "cell_type": "code",
   "execution_count": 6,
   "metadata": {},
   "outputs": [],
   "source": [
    "d_train_ctx = fetch_all_features('basic_fea_ctx', 'train', 'aida_conll')\n",
    "d_test_a_ctx = fetch_all_features('basic_fea_ctx', 'testa', 'aida_conll')\n",
    "d_test_b_ctx = fetch_all_features('basic_fea_ctx', 'testb', 'aida_conll')\n",
    "d_train_coref = fetch_all_features('basic_fea_coref', 'train', 'aida_conll')\n",
    "d_test_a_coref = fetch_all_features('basic_fea_coref', 'testa', 'aida_conll')\n",
    "d_test_b_coref = fetch_all_features('basic_fea_coref', 'testb', 'aida_conll')"
   ]
  },
  {
   "cell_type": "code",
   "execution_count": 7,
   "metadata": {},
   "outputs": [
    {
     "name": "stdout",
     "output_type": "stream",
     "text": [
      "(531835, 21)\n",
      "(136259, 21)\n",
      "(131893, 21)\n",
      "(531835, 13)\n",
      "(136259, 13)\n",
      "(131893, 13)\n"
     ]
    }
   ],
   "source": [
    "print(d_train_ctx.shape)\n",
    "print(d_test_a_ctx.shape)\n",
    "print(d_test_b_ctx.shape)\n",
    "print(d_train_coref.shape)\n",
    "print(d_test_a_coref.shape)\n",
    "print(d_test_b_coref.shape)"
   ]
  },
  {
   "cell_type": "code",
   "execution_count": 8,
   "metadata": {},
   "outputs": [],
   "source": [
    "model_dir_path = './new_models_14_Aug'\n",
    "def save_model(model, name):\n",
    "    if not os.path.exists(model_dir_path):\n",
    "        os.makedirs(model_dir_path)\n",
    "    model_path = os.path.join(model_dir_path, '%s.mdl' % name)\n",
    "    with open(model_path, 'wb') as f:\n",
    "        pickle.dump(model, f)\n",
    "        \n",
    "def load_model(name):\n",
    "    model_path = os.path.join(model_dir_path, '%s.mdl' % name)\n",
    "    with open(model_path, 'rb') as f:\n",
    "        return pickle.load(f)"
   ]
  },
  {
   "cell_type": "code",
   "execution_count": 9,
   "metadata": {},
   "outputs": [],
   "source": [
    "def get_total_mentions(data_source, data_type) -> int:\n",
    "    with conn_psql.cursor() as cur:\n",
    "        sql = SQL(\"select count(*) from {} where annotation != 'NIL' and type=%s\").format(Identifier(data_source))\n",
    "        cur.execute(sql, (data_type,))\n",
    "        return cur.fetchone()[0]"
   ]
  },
  {
   "cell_type": "code",
   "execution_count": 10,
   "metadata": {},
   "outputs": [
    {
     "name": "stdout",
     "output_type": "stream",
     "text": [
      "18541 4791 4485\n"
     ]
    }
   ],
   "source": [
    "d_train_total = get_total_mentions('aida_conll', 'train')\n",
    "d_test_a_total = get_total_mentions('aida_conll', 'testa')\n",
    "d_test_b_total = get_total_mentions('aida_conll', 'testb')\n",
    "\n",
    "print(d_train_total, d_test_a_total, d_test_b_total)"
   ]
  },
  {
   "cell_type": "code",
   "execution_count": 11,
   "metadata": {},
   "outputs": [],
   "source": [
    "def process(process_name ,train_set, testa_set, testb_set, train_total, testa_total, testb_total, \n",
    "            n_estimators, max_depths, train_mode=True, test_a_filter=None, test_b_filter=None,\n",
    "            eval_func=evalerror_detail_log, train_filter=None):\n",
    "    dtrain_xgboost = trans_data(train_set)\n",
    "    dtest_a_xgboost = trans_data(testa_set)\n",
    "    dtest_b_xgboost = trans_data(testb_set)\n",
    "    \n",
    "    if train_filter is not None:\n",
    "        dtrain_filtered_xgboost = trans_data(train_set[train_filter])\n",
    "\n",
    "#     train_true_labels = train_set[:, -1].nonzero()[0].size\n",
    "#     testa_true_labels = testa_set[:, -1].nonzero()[0].size\n",
    "#     testb_true_labels = testb_set[:, -1].nonzero()[0].size\n",
    "    \n",
    "#     print('True labels:', train_true_labels, testa_true_labels, testb_true_labels)\n",
    "    \n",
    "    for x in n_estimators:\n",
    "        num_round = x\n",
    "        for dep in max_depths:\n",
    "            model_name = '%d_%d_%s' % (num_round, dep, process_name)\n",
    "            if train_mode:\n",
    "                print(datetime.now(), 'Start training')\n",
    "                param = {'max_depth':dep, 'eta':0.01, 'silent':1, 'objective':'rank:pairwise', 'min_child_weight':0.01}\n",
    "                if train_filter is not None:\n",
    "                    bst = xgb.train(param, dtrain_filtered_xgboost, num_round)\n",
    "                else:\n",
    "                    bst = xgb.train(param, dtrain_xgboost, num_round)\n",
    "                print(datetime.now(), 'Training finished')\n",
    "            else:\n",
    "                print(datetime.now(), 'Loading model: %s' % model_name)\n",
    "                bst = load_model(model_name)\n",
    "\n",
    "            print(datetime.now(), 'Start evaluation')\n",
    "            preds = bst.predict(dtrain_xgboost)\n",
    "            a = eval_func(preds, dtrain_xgboost, train_total)\n",
    "            print(\"n_estimators: {}, max_depth: {}, acc_training: {}, corr_num: {}\".format(num_round, dep, a[2], a[0]))\n",
    "            \n",
    "            preds = bst.predict(dtest_a_xgboost)\n",
    "            if test_a_filter is not None:\n",
    "                mask = np.ones(len(preds))\n",
    "                mask[test_a_filter] = 0\n",
    "                preds -= mask * 1000\n",
    "            a = eval_func(preds, dtest_a_xgboost, testa_total)\n",
    "            print(\"n_estimators: {}, max_depth: {}, acc_validation: {}, corr_num: {}\".format(num_round, dep, a[2], a[0]))\n",
    "            \n",
    "            preds = bst.predict(dtest_b_xgboost)\n",
    "            if test_b_filter is not None:\n",
    "                mask = np.ones(len(preds))\n",
    "                mask[test_b_filter] = 0\n",
    "                preds -= mask * 1000\n",
    "            a = eval_func(preds, dtest_b_xgboost, testb_total)\n",
    "            print(\"n_estimators: {}, max_depth: {}, acc_test: {}, corr_num: {}\".format(num_round, dep, a[2], a[0]))\n",
    "            \n",
    "            print(datetime.now(), 'Evaluation finished')\n",
    "            \n",
    "            if train_mode:\n",
    "                save_model(bst, model_name)\n",
    "                print(datetime.now(), 'Model Saved: %s' % model_name)"
   ]
  },
  {
   "cell_type": "code",
   "execution_count": 12,
   "metadata": {},
   "outputs": [],
   "source": [
    "def process_top_ks(bst, filter_preds, testa_set, testb_set, testa_raw, testb_raw, testa_total, testb_total, \n",
    "                   top_k_begin, top_k_end, eval_func=evalerror_detail_log):\n",
    "    dtrain_xgboost = trans_data(train_set)\n",
    "    dtest_a_xgboost = trans_data(testa_set)\n",
    "    dtest_b_xgboost = trans_data(testb_set)\n",
    "\n",
    "    print(datetime.now(), 'Start evaluation')\n",
    "    \n",
    "    test_a_preds = bst.predict(dtest_a_xgboost)\n",
    "    test_b_preds = bst.predict(dtest_b_xgboost)\n",
    "    \n",
    "    for top_k in range(top_k_begin, top_k_end):\n",
    "        print('=== Top K=%d ===' % top_k)\n",
    "        test_a_filter = get_groups_results(filter_preds, dtest_a_xgboost, testa_raw, top_k)[2]\n",
    "        test_b_filter = get_groups_results(filter_preds, dtest_b_xgboost, testb_raw, top_k)[2]\n",
    "\n",
    "        print('test_a_filter', len(test_a_filter))\n",
    "        print('test_b_filter', len(test_b_filter))\n",
    "\n",
    "    test_a_preds\n",
    "    if test_a_filter is not None:\n",
    "        mask = np.ones(len(preds))\n",
    "        mask[test_a_filter] = 0\n",
    "        preds -= mask * 1000\n",
    "    a = eval_func(preds, dtest_a_xgboost, testa_total)\n",
    "    print(\"n_estimators: {}, max_depth: {}, acc_validation: {}, corr_num: {}\".format(num_round, dep, a[2], a[0]))\n",
    "\n",
    "    preds = bst.predict(dtest_b_xgboost)\n",
    "    if test_b_filter is not None:\n",
    "        mask = np.ones(len(preds))\n",
    "        mask[test_b_filter] = 0\n",
    "        preds -= mask * 1000\n",
    "    a = eval_func(preds, dtest_b_xgboost, testb_total)\n",
    "    print(\"n_estimators: {}, max_depth: {}, acc_test: {}, corr_num: {}\".format(num_round, dep, a[2], a[0]))\n",
    "\n",
    "    print(datetime.now(), 'Evaluation finished')\n",
    "\n",
    "    if train_mode:\n",
    "        save_model(bst, model_name)\n",
    "        print(datetime.now(), 'Model Saved: %s' % model_name)"
   ]
  },
  {
   "cell_type": "code",
   "execution_count": 12,
   "metadata": {},
   "outputs": [
    {
     "name": "stderr",
     "output_type": "stream",
     "text": [
      "/home/ymiao/.venvs/nerd/lib/python3.5/site-packages/xgboost/core.py:614: UserWarning: Use subset (sliced data) of np.ndarray is not recommended because it will generate extra copies and increase memory consumption\n",
      "  \"because it will generate extra copies and increase memory consumption\")\n"
     ]
    },
    {
     "name": "stdout",
     "output_type": "stream",
     "text": [
      "2019-08-16 15:05:32.192567 Start training\n",
      "2019-08-16 15:19:44.009347 Training finished\n",
      "2019-08-16 15:19:44.009833 Start evaluation\n",
      "n_estimators: 4900, max_depth: 6, acc_training: 0.9523758157596678, corr_num: 17658\n",
      "n_estimators: 4900, max_depth: 6, acc_validation: 0.8710081402629931, corr_num: 4173\n",
      "n_estimators: 4900, max_depth: 6, acc_test: 0.8283166109253066, corr_num: 3715\n",
      "2019-08-16 15:19:51.671495 Evaluation finished\n",
      "2019-08-16 15:19:51.728347 Model Saved: 4900_6_ctx\n"
     ]
    }
   ],
   "source": [
    "process('ctx', d_train_ctx, d_test_a_ctx, d_test_b_ctx, d_train_total, d_test_a_total, d_test_b_total,\n",
    "        n_estimators=[4900], max_depths=[6])"
   ]
  },
  {
   "cell_type": "code",
   "execution_count": 9,
   "metadata": {},
   "outputs": [],
   "source": [
    "d_train_ctx_no_poly = fetch_all_features('basic_no_poly', 'train', 'aida_conll')\n",
    "d_test_a_ctx_no_poly = fetch_all_features('basic_no_poly', 'testa', 'aida_conll')\n",
    "d_test_b_ctx_no_poly = fetch_all_features('basic_no_poly', 'testb', 'aida_conll')"
   ]
  },
  {
   "cell_type": "code",
   "execution_count": 10,
   "metadata": {},
   "outputs": [
    {
     "name": "stderr",
     "output_type": "stream",
     "text": [
      "/home/ymiao/.venvs/nerd/lib/python3.5/site-packages/xgboost/core.py:614: UserWarning: Use subset (sliced data) of np.ndarray is not recommended because it will generate extra copies and increase memory consumption\n",
      "  \"because it will generate extra copies and increase memory consumption\")\n"
     ]
    },
    {
     "name": "stdout",
     "output_type": "stream",
     "text": [
      "2019-08-15 23:23:16.806961 Start training\n",
      "2019-08-15 23:40:02.580252 Training finished\n",
      "2019-08-15 23:40:02.580735 Start evaluation\n",
      "n_estimators: 4900, max_depth: 6, acc_training: 0.9354403753842835, corr_num: 17344\n",
      "n_estimators: 4900, max_depth: 6, acc_validation: 0.8493007722813609, corr_num: 4069\n",
      "n_estimators: 4900, max_depth: 6, acc_test: 0.802675585284281, corr_num: 3600\n",
      "2019-08-15 23:40:10.018825 Evaluation finished\n",
      "2019-08-15 23:40:10.068225 Model Saved: 4900_6_ctx_no_poly\n"
     ]
    }
   ],
   "source": [
    "process('ctx_no_poly', d_train_ctx_no_poly, d_test_a_ctx_no_poly, d_test_b_ctx_no_poly, \n",
    "        d_train_total, d_test_a_total, d_test_b_total,\n",
    "        n_estimators=[4900], max_depths=[6])"
   ]
  },
  {
   "cell_type": "code",
   "execution_count": 74,
   "metadata": {},
   "outputs": [],
   "source": [
    "d_train_ctx_poly = fetch_all_features('basic_poly', 'train', 'aida_conll')\n",
    "d_test_a_ctx_poly = fetch_all_features('basic_poly', 'testa', 'aida_conll')\n",
    "d_test_b_ctx_poly = fetch_all_features('basic_poly', 'testb', 'aida_conll')"
   ]
  },
  {
   "cell_type": "code",
   "execution_count": 75,
   "metadata": {},
   "outputs": [
    {
     "name": "stdout",
     "output_type": "stream",
     "text": [
      "(531835, 17)\n",
      "(136259, 17)\n",
      "(131893, 17)\n"
     ]
    }
   ],
   "source": [
    "print(d_train_ctx_poly.shape)\n",
    "print(d_test_a_ctx_poly.shape)\n",
    "print(d_test_b_ctx_poly.shape)"
   ]
  },
  {
   "cell_type": "code",
   "execution_count": 12,
   "metadata": {},
   "outputs": [
    {
     "name": "stdout",
     "output_type": "stream",
     "text": [
      "2019-08-15 23:40:27.229694 Start training\n",
      "2019-08-15 23:58:09.737008 Training finished\n",
      "2019-08-15 23:58:09.737494 Start evaluation\n",
      "n_estimators: 4900, max_depth: 6, acc_training: 0.9325818456393937, corr_num: 17291\n",
      "n_estimators: 4900, max_depth: 6, acc_validation: 0.841786683364642, corr_num: 4033\n",
      "n_estimators: 4900, max_depth: 6, acc_test: 0.798216276477146, corr_num: 3580\n",
      "2019-08-15 23:58:17.585188 Evaluation finished\n",
      "2019-08-15 23:58:17.627040 Model Saved: 4900_6_ctx_poly\n"
     ]
    }
   ],
   "source": [
    "process('ctx_poly', d_train_ctx_poly, d_test_a_ctx_poly, d_test_b_ctx_poly, \n",
    "        d_train_total, d_test_a_total, d_test_b_total,\n",
    "        n_estimators=[4900], max_depths=[6])"
   ]
  },
  {
   "cell_type": "code",
   "execution_count": 13,
   "metadata": {},
   "outputs": [],
   "source": [
    "d_train_ctx_poly_no_normalized_tf = fetch_all_features('basic_poly_no_normalized_tf', 'train', 'aida_conll')\n",
    "d_test_a_ctx_poly_no_normalized_tf = fetch_all_features('basic_poly_no_normalized_tf', 'testa', 'aida_conll')\n",
    "d_test_b_ctx_poly_no_normalized_tf = fetch_all_features('basic_poly_no_normalized_tf', 'testb', 'aida_conll')"
   ]
  },
  {
   "cell_type": "code",
   "execution_count": 14,
   "metadata": {},
   "outputs": [
    {
     "name": "stdout",
     "output_type": "stream",
     "text": [
      "2019-08-15 23:58:36.968305 Start training\n",
      "2019-08-16 00:16:31.953042 Training finished\n",
      "2019-08-16 00:16:31.953540 Start evaluation\n",
      "n_estimators: 4900, max_depth: 6, acc_training: 0.9325818456393937, corr_num: 17291\n",
      "n_estimators: 4900, max_depth: 6, acc_validation: 1.414318513880192, corr_num: 6776\n",
      "n_estimators: 4900, max_depth: 6, acc_test: 0.798216276477146, corr_num: 3580\n",
      "2019-08-16 00:16:42.896831 Evaluation finished\n",
      "2019-08-16 00:16:42.937452 Model Saved: 4900_6_ctx_poly_no_normalized_tf\n"
     ]
    }
   ],
   "source": [
    "process('ctx_poly_no_normalized_tf', \n",
    "        d_train_ctx_poly_no_normalized_tf, \n",
    "        d_test_a_ctx_poly_no_normalized_tf, \n",
    "        d_test_b_ctx_poly_no_normalized_tf, \n",
    "        d_train_total, d_test_a_total, d_test_b_total,\n",
    "        n_estimators=[4900], max_depths=[6])"
   ]
  },
  {
   "cell_type": "code",
   "execution_count": 13,
   "metadata": {},
   "outputs": [
    {
     "name": "stdout",
     "output_type": "stream",
     "text": [
      "Building idx for new features...\n",
      "Combine original and new features...\n",
      "Building idx for new features...\n",
      "Combine original and new features...\n",
      "Building idx for new features...\n",
      "Combine original and new features...\n"
     ]
    }
   ],
   "source": [
    "d_train_ctx_coref  = combine_features(d_train_ctx, d_train_coref)\n",
    "d_test_a_ctx_coref = combine_features(d_test_a_ctx, d_test_a_coref)\n",
    "d_test_b_ctx_coref = combine_features(d_test_b_ctx, d_test_b_coref)"
   ]
  },
  {
   "cell_type": "code",
   "execution_count": 14,
   "metadata": {},
   "outputs": [
    {
     "name": "stdout",
     "output_type": "stream",
     "text": [
      "(531835, 32)\n",
      "(136259, 32)\n",
      "(131893, 32)\n"
     ]
    }
   ],
   "source": [
    "print(d_train_ctx_coref.shape)\n",
    "print(d_test_a_ctx_coref.shape)\n",
    "print(d_test_b_ctx_coref.shape)"
   ]
  },
  {
   "cell_type": "code",
   "execution_count": 90,
   "metadata": {},
   "outputs": [
    {
     "name": "stdout",
     "output_type": "stream",
     "text": [
      "(531835, 17)\n",
      "(136259, 17)\n",
      "(131893, 17)\n",
      "(531835, 10)\n",
      "(136259, 10)\n",
      "(131893, 10)\n"
     ]
    }
   ],
   "source": [
    "d_train_ctx_simplified = fetch_all_features('basic_fea_ctx_simplified', 'train', 'aida_conll')\n",
    "d_test_a_ctx_simplified = fetch_all_features('basic_fea_ctx_simplified', 'testa', 'aida_conll')\n",
    "d_test_b_ctx_simplified = fetch_all_features('basic_fea_ctx_simplified', 'testb', 'aida_conll')\n",
    "d_train_coref_simplified = fetch_all_features('basic_fea_coref_simplified', 'train', 'aida_conll')\n",
    "d_test_a_coref_simplified = fetch_all_features('basic_fea_coref_simplified', 'testa', 'aida_conll')\n",
    "d_test_b_coref_simplified = fetch_all_features('basic_fea_coref_simplified', 'testb', 'aida_conll')\n",
    "\n",
    "print(d_train_ctx_simplified.shape)\n",
    "print(d_test_a_ctx_simplified.shape)\n",
    "print(d_test_b_ctx_simplified.shape)\n",
    "print(d_train_coref_simplified.shape)\n",
    "print(d_test_a_coref_simplified.shape)\n",
    "print(d_test_b_coref_simplified.shape)"
   ]
  },
  {
   "cell_type": "code",
   "execution_count": 91,
   "metadata": {},
   "outputs": [
    {
     "name": "stdout",
     "output_type": "stream",
     "text": [
      "Building idx for new features...\n",
      "Combine original and new features...\n",
      "Building idx for new features...\n",
      "Combine original and new features...\n",
      "Building idx for new features...\n",
      "Combine original and new features...\n",
      "(531835, 25)\n",
      "(136259, 25)\n",
      "(131893, 25)\n"
     ]
    }
   ],
   "source": [
    "d_train_ctx_coref_simplified  = combine_features(d_train_ctx_simplified, d_train_coref_simplified)\n",
    "d_test_a_ctx_coref_simplified = combine_features(d_test_a_ctx_simplified, d_test_a_coref_simplified)\n",
    "d_test_b_ctx_coref_simplified = combine_features(d_test_b_ctx_simplified, d_test_b_coref_simplified)\n",
    "print(d_train_ctx_coref_simplified.shape)\n",
    "print(d_test_a_ctx_coref_simplified.shape)\n",
    "print(d_test_b_ctx_coref_simplified.shape)"
   ]
  },
  {
   "cell_type": "code",
   "execution_count": 15,
   "metadata": {},
   "outputs": [
    {
     "name": "stderr",
     "output_type": "stream",
     "text": [
      "/home/ymiao/.venvs/nerd/lib/python3.5/site-packages/xgboost/core.py:614: UserWarning: Use subset (sliced data) of np.ndarray is not recommended because it will generate extra copies and increase memory consumption\n",
      "  \"because it will generate extra copies and increase memory consumption\")\n"
     ]
    },
    {
     "name": "stdout",
     "output_type": "stream",
     "text": [
      "2019-11-21 18:35:11.162325 Start training\n",
      "2019-11-21 18:45:46.857938 Training finished\n",
      "2019-11-21 18:45:46.858688 Start evaluation\n",
      "n_estimators: 4900, max_depth: 6, acc_training: 0.960412059759452, corr_num: 17807\n",
      "n_estimators: 4900, max_depth: 6, acc_validation: 0.8862450427885619, corr_num: 4246\n",
      "n_estimators: 4900, max_depth: 6, acc_test: 0.841917502787068, corr_num: 3776\n",
      "2019-11-21 18:45:53.258996 Evaluation finished\n",
      "2019-11-21 18:45:53.330370 Model Saved: 4900_6_ctx_coref\n"
     ]
    }
   ],
   "source": [
    "process('ctx_coref', d_train_ctx_coref, d_test_a_ctx_coref, d_test_b_ctx_coref, \n",
    "        d_train_total, d_test_a_total, d_test_b_total,\n",
    "        n_estimators=[4900], max_depths=[6])"
   ]
  },
  {
   "cell_type": "code",
   "execution_count": 24,
   "metadata": {},
   "outputs": [
    {
     "name": "stdout",
     "output_type": "stream",
     "text": [
      "2019-09-06 10:52:18.323442 Start training\n",
      "2019-09-06 11:02:28.718053 Training finished\n",
      "2019-09-06 11:02:28.718564 Start evaluation\n",
      "n_estimators: 4900, max_depth: 6, acc_training: 0.960412059759452, corr_num: 17807\n",
      "n_estimators: 4900, max_depth: 6, acc_validation: 0.8862450427885619, corr_num: 4246\n",
      "n_estimators: 4900, max_depth: 6, acc_test: 0.841917502787068, corr_num: 3776\n",
      "2019-09-06 11:02:35.230482 Evaluation finished\n",
      "2019-09-06 11:02:35.268297 Model Saved: 4900_6_test_local_time\n"
     ]
    }
   ],
   "source": [
    "process('test_local_time', d_train_ctx_coref, d_test_a_ctx_coref, d_test_b_ctx_coref, \n",
    "        d_train_total, d_test_a_total, d_test_b_total,\n",
    "        n_estimators=[4900], max_depths=[6])"
   ]
  },
  {
   "cell_type": "code",
   "execution_count": 32,
   "metadata": {},
   "outputs": [
    {
     "name": "stdout",
     "output_type": "stream",
     "text": [
      "3.2189431190490723\n"
     ]
    }
   ],
   "source": [
    "model = load_model('4900_6_ctx_coref')\n",
    "_data = trans_data(d_test_b_ctx_coref)\n",
    "start_time = time.time()\n",
    "model.predict(_data)\n",
    "print(time.time() - start_time)"
   ]
  },
  {
   "cell_type": "code",
   "execution_count": 92,
   "metadata": {},
   "outputs": [
    {
     "name": "stderr",
     "output_type": "stream",
     "text": [
      "/home/ymiao/.venvs/nerd/lib/python3.5/site-packages/xgboost/core.py:614: UserWarning: Use subset (sliced data) of np.ndarray is not recommended because it will generate extra copies and increase memory consumption\n",
      "  \"because it will generate extra copies and increase memory consumption\")\n"
     ]
    },
    {
     "name": "stdout",
     "output_type": "stream",
     "text": [
      "2019-08-17 22:19:25.276378 Start training\n",
      "2019-08-17 22:40:21.211973 Training finished\n",
      "2019-08-17 22:40:21.212480 Start evaluation\n",
      "n_estimators: 4900, max_depth: 6, acc_training: 0.9543174586052532, corr_num: 17694\n",
      "n_estimators: 4900, max_depth: 6, acc_validation: 0.8753913587977458, corr_num: 4194\n",
      "n_estimators: 4900, max_depth: 6, acc_test: 0.8345596432552954, corr_num: 3743\n",
      "2019-08-17 22:40:28.108736 Evaluation finished\n",
      "2019-08-17 22:40:28.153073 Model Saved: 4900_6_ctx_coref_simplified\n"
     ]
    }
   ],
   "source": [
    "process('ctx_coref_simplified', \n",
    "        d_train_ctx_coref_simplified, d_test_a_ctx_coref_simplified, d_test_b_ctx_coref_simplified, \n",
    "        d_train_total, d_test_a_total, d_test_b_total,\n",
    "        n_estimators=[4900], max_depths=[6])"
   ]
  },
  {
   "cell_type": "code",
   "execution_count": 35,
   "metadata": {},
   "outputs": [
    {
     "name": "stdout",
     "output_type": "stream",
     "text": [
      "2019-08-14 22:32:57.221922 Start training\n",
      "2019-08-14 22:47:21.100733 Training finished\n",
      "2019-08-14 22:47:21.101321 Start evaluation\n",
      "n_estimators: 4400, max_depth: 5, acc_training: 0.9417507146324362, corr_num: 17461\n",
      "n_estimators: 4400, max_depth: 5, acc_validation: 0.87622625756627, corr_num: 4198\n",
      "n_estimators: 4400, max_depth: 5, acc_test: 0.8434782608695652, corr_num: 3783\n",
      "2019-08-14 22:47:26.760719 Evaluation finished\n",
      "2019-08-14 22:47:26.783019 Model Saved: 4400_5_ctx_coref\n",
      "2019-08-14 22:47:26.783118 Start training\n",
      "2019-08-14 23:06:31.551324 Training finished\n",
      "2019-08-14 23:06:31.551833 Start evaluation\n",
      "n_estimators: 4400, max_depth: 6, acc_training: 0.9578232026320047, corr_num: 17759\n",
      "n_estimators: 4400, max_depth: 6, acc_validation: 0.8860363180964308, corr_num: 4245\n",
      "n_estimators: 4400, max_depth: 6, acc_test: 0.8439241917502787, corr_num: 3785\n",
      "2019-08-14 23:06:38.254938 Evaluation finished\n",
      "2019-08-14 23:06:38.291835 Model Saved: 4400_6_ctx_coref\n",
      "2019-08-14 23:06:38.291945 Start training\n",
      "2019-08-14 23:27:54.124566 Training finished\n",
      "2019-08-14 23:27:54.125089 Start evaluation\n",
      "n_estimators: 4400, max_depth: 7, acc_training: 0.9676932204303975, corr_num: 17942\n",
      "n_estimators: 4400, max_depth: 7, acc_validation: 0.8877061156334795, corr_num: 4253\n",
      "n_estimators: 4400, max_depth: 7, acc_test: 0.843701226309922, corr_num: 3784\n",
      "2019-08-14 23:28:02.370956 Evaluation finished\n",
      "2019-08-14 23:28:02.432820 Model Saved: 4400_7_ctx_coref\n",
      "2019-08-14 23:28:02.432933 Start training\n",
      "2019-08-14 23:42:27.151622 Training finished\n",
      "2019-08-14 23:42:27.152238 Start evaluation\n",
      "n_estimators: 4900, max_depth: 5, acc_training: 0.946281214605469, corr_num: 17545\n",
      "n_estimators: 4900, max_depth: 5, acc_validation: 0.8816530995616781, corr_num: 4224\n",
      "n_estimators: 4900, max_depth: 5, acc_test: 0.8425863991081383, corr_num: 3779\n",
      "2019-08-14 23:42:34.002841 Evaluation finished\n",
      "2019-08-14 23:42:34.016433 Model Saved: 4900_5_ctx_coref\n",
      "2019-08-14 23:42:34.016526 Start training\n",
      "2019-08-15 00:00:36.948964 Training finished\n",
      "2019-08-15 00:00:36.949474 Start evaluation\n",
      "n_estimators: 4900, max_depth: 6, acc_training: 0.960412059759452, corr_num: 17807\n",
      "n_estimators: 4900, max_depth: 6, acc_validation: 0.8862450427885619, corr_num: 4246\n",
      "n_estimators: 4900, max_depth: 6, acc_test: 0.841917502787068, corr_num: 3776\n",
      "2019-08-15 00:00:44.634754 Evaluation finished\n",
      "2019-08-15 00:00:44.662004 Model Saved: 4900_6_ctx_coref\n",
      "2019-08-15 00:00:44.662130 Start training\n"
     ]
    },
    {
     "ename": "KeyboardInterrupt",
     "evalue": "",
     "output_type": "error",
     "traceback": [
      "\u001b[0;31m---------------------------------------------------------------------------\u001b[0m",
      "\u001b[0;31mKeyboardInterrupt\u001b[0m                         Traceback (most recent call last)",
      "\u001b[0;32m<ipython-input-35-fb83352bc276>\u001b[0m in \u001b[0;36m<module>\u001b[0;34m\u001b[0m\n\u001b[1;32m      1\u001b[0m process('ctx_coref', d_train_ctx_coref, d_test_a_ctx_coref, d_test_b_ctx_coref, \n\u001b[1;32m      2\u001b[0m         \u001b[0md_train_total\u001b[0m\u001b[0;34m,\u001b[0m \u001b[0md_test_a_total\u001b[0m\u001b[0;34m,\u001b[0m \u001b[0md_test_b_total\u001b[0m\u001b[0;34m,\u001b[0m\u001b[0;34m\u001b[0m\u001b[0m\n\u001b[0;32m----> 3\u001b[0;31m         n_estimators=[4400, 4900, 5400], max_depths=[5, 6, 7])\n\u001b[0m",
      "\u001b[0;32m<ipython-input-11-e0e20ecfe8ca>\u001b[0m in \u001b[0;36mprocess\u001b[0;34m(process_name, train_set, testa_set, testb_set, train_total, testa_total, testb_total, n_estimators, max_depths)\u001b[0m\n\u001b[1;32m     16\u001b[0m             \u001b[0mprint\u001b[0m\u001b[0;34m(\u001b[0m\u001b[0mdatetime\u001b[0m\u001b[0;34m.\u001b[0m\u001b[0mnow\u001b[0m\u001b[0;34m(\u001b[0m\u001b[0;34m)\u001b[0m\u001b[0;34m,\u001b[0m \u001b[0;34m'Start training'\u001b[0m\u001b[0;34m)\u001b[0m\u001b[0;34m\u001b[0m\u001b[0m\n\u001b[1;32m     17\u001b[0m             \u001b[0mparam\u001b[0m \u001b[0;34m=\u001b[0m \u001b[0;34m{\u001b[0m\u001b[0;34m'max_depth'\u001b[0m\u001b[0;34m:\u001b[0m\u001b[0mdep\u001b[0m\u001b[0;34m,\u001b[0m \u001b[0;34m'eta'\u001b[0m\u001b[0;34m:\u001b[0m\u001b[0;36m0.01\u001b[0m\u001b[0;34m,\u001b[0m \u001b[0;34m'silent'\u001b[0m\u001b[0;34m:\u001b[0m\u001b[0;36m1\u001b[0m\u001b[0;34m,\u001b[0m \u001b[0;34m'objective'\u001b[0m\u001b[0;34m:\u001b[0m\u001b[0;34m'rank:pairwise'\u001b[0m\u001b[0;34m,\u001b[0m \u001b[0;34m'min_child_weight'\u001b[0m\u001b[0;34m:\u001b[0m\u001b[0;36m0.01\u001b[0m\u001b[0;34m}\u001b[0m\u001b[0;34m\u001b[0m\u001b[0m\n\u001b[0;32m---> 18\u001b[0;31m             \u001b[0mbst\u001b[0m \u001b[0;34m=\u001b[0m \u001b[0mxgb\u001b[0m\u001b[0;34m.\u001b[0m\u001b[0mtrain\u001b[0m\u001b[0;34m(\u001b[0m\u001b[0mparam\u001b[0m\u001b[0;34m,\u001b[0m \u001b[0mdtrain_xgboost\u001b[0m\u001b[0;34m,\u001b[0m \u001b[0mnum_round\u001b[0m\u001b[0;34m)\u001b[0m\u001b[0;34m\u001b[0m\u001b[0m\n\u001b[0m\u001b[1;32m     19\u001b[0m             \u001b[0mprint\u001b[0m\u001b[0;34m(\u001b[0m\u001b[0mdatetime\u001b[0m\u001b[0;34m.\u001b[0m\u001b[0mnow\u001b[0m\u001b[0;34m(\u001b[0m\u001b[0;34m)\u001b[0m\u001b[0;34m,\u001b[0m \u001b[0;34m'Training finished'\u001b[0m\u001b[0;34m)\u001b[0m\u001b[0;34m\u001b[0m\u001b[0m\n\u001b[1;32m     20\u001b[0m \u001b[0;34m\u001b[0m\u001b[0m\n",
      "\u001b[0;32m~/.venvs/nerd/lib/python3.5/site-packages/xgboost/training.py\u001b[0m in \u001b[0;36mtrain\u001b[0;34m(params, dtrain, num_boost_round, evals, obj, feval, maximize, early_stopping_rounds, evals_result, verbose_eval, xgb_model, callbacks, learning_rates)\u001b[0m\n\u001b[1;32m    214\u001b[0m                            \u001b[0mevals\u001b[0m\u001b[0;34m=\u001b[0m\u001b[0mevals\u001b[0m\u001b[0;34m,\u001b[0m\u001b[0;34m\u001b[0m\u001b[0m\n\u001b[1;32m    215\u001b[0m                            \u001b[0mobj\u001b[0m\u001b[0;34m=\u001b[0m\u001b[0mobj\u001b[0m\u001b[0;34m,\u001b[0m \u001b[0mfeval\u001b[0m\u001b[0;34m=\u001b[0m\u001b[0mfeval\u001b[0m\u001b[0;34m,\u001b[0m\u001b[0;34m\u001b[0m\u001b[0m\n\u001b[0;32m--> 216\u001b[0;31m                            xgb_model=xgb_model, callbacks=callbacks)\n\u001b[0m\u001b[1;32m    217\u001b[0m \u001b[0;34m\u001b[0m\u001b[0m\n\u001b[1;32m    218\u001b[0m \u001b[0;34m\u001b[0m\u001b[0m\n",
      "\u001b[0;32m~/.venvs/nerd/lib/python3.5/site-packages/xgboost/training.py\u001b[0m in \u001b[0;36m_train_internal\u001b[0;34m(params, dtrain, num_boost_round, evals, obj, feval, xgb_model, callbacks)\u001b[0m\n\u001b[1;32m     72\u001b[0m         \u001b[0;31m# Skip the first update if it is a recovery step.\u001b[0m\u001b[0;34m\u001b[0m\u001b[0;34m\u001b[0m\u001b[0m\n\u001b[1;32m     73\u001b[0m         \u001b[0;32mif\u001b[0m \u001b[0mversion\u001b[0m \u001b[0;34m%\u001b[0m \u001b[0;36m2\u001b[0m \u001b[0;34m==\u001b[0m \u001b[0;36m0\u001b[0m\u001b[0;34m:\u001b[0m\u001b[0;34m\u001b[0m\u001b[0m\n\u001b[0;32m---> 74\u001b[0;31m             \u001b[0mbst\u001b[0m\u001b[0;34m.\u001b[0m\u001b[0mupdate\u001b[0m\u001b[0;34m(\u001b[0m\u001b[0mdtrain\u001b[0m\u001b[0;34m,\u001b[0m \u001b[0mi\u001b[0m\u001b[0;34m,\u001b[0m \u001b[0mobj\u001b[0m\u001b[0;34m)\u001b[0m\u001b[0;34m\u001b[0m\u001b[0m\n\u001b[0m\u001b[1;32m     75\u001b[0m             \u001b[0mbst\u001b[0m\u001b[0;34m.\u001b[0m\u001b[0msave_rabit_checkpoint\u001b[0m\u001b[0;34m(\u001b[0m\u001b[0;34m)\u001b[0m\u001b[0;34m\u001b[0m\u001b[0m\n\u001b[1;32m     76\u001b[0m             \u001b[0mversion\u001b[0m \u001b[0;34m+=\u001b[0m \u001b[0;36m1\u001b[0m\u001b[0;34m\u001b[0m\u001b[0m\n",
      "\u001b[0;32m~/.venvs/nerd/lib/python3.5/site-packages/xgboost/core.py\u001b[0m in \u001b[0;36mupdate\u001b[0;34m(self, dtrain, iteration, fobj)\u001b[0m\n\u001b[1;32m   1107\u001b[0m         \u001b[0;32mif\u001b[0m \u001b[0mfobj\u001b[0m \u001b[0;32mis\u001b[0m \u001b[0;32mNone\u001b[0m\u001b[0;34m:\u001b[0m\u001b[0;34m\u001b[0m\u001b[0m\n\u001b[1;32m   1108\u001b[0m             _check_call(_LIB.XGBoosterUpdateOneIter(self.handle, ctypes.c_int(iteration),\n\u001b[0;32m-> 1109\u001b[0;31m                                                     dtrain.handle))\n\u001b[0m\u001b[1;32m   1110\u001b[0m         \u001b[0;32melse\u001b[0m\u001b[0;34m:\u001b[0m\u001b[0;34m\u001b[0m\u001b[0m\n\u001b[1;32m   1111\u001b[0m             \u001b[0mpred\u001b[0m \u001b[0;34m=\u001b[0m \u001b[0mself\u001b[0m\u001b[0;34m.\u001b[0m\u001b[0mpredict\u001b[0m\u001b[0;34m(\u001b[0m\u001b[0mdtrain\u001b[0m\u001b[0;34m)\u001b[0m\u001b[0;34m\u001b[0m\u001b[0m\n",
      "\u001b[0;31mKeyboardInterrupt\u001b[0m: "
     ]
    }
   ],
   "source": [
    "process('ctx_coref', d_train_ctx_coref, d_test_a_ctx_coref, d_test_b_ctx_coref, \n",
    "        d_train_total, d_test_a_total, d_test_b_total,\n",
    "        n_estimators=[4400, 4900, 5400], max_depths=[5, 6, 7])"
   ]
  },
  {
   "cell_type": "code",
   "execution_count": 16,
   "metadata": {},
   "outputs": [],
   "source": [
    "def get_men_ents_tokens_idf_redis(men):\n",
    "    ent_tok_dict = conn.hmget('idf:::50', men)[0]\n",
    "    return json.loads(ent_tok_dict) if ent_tok_dict else {}\n",
    "\n",
    "def get_men_ents_tokens_entropy_redis(men):\n",
    "    ent_tok_dict = conn.hmget('entropy:::50', men)[0]\n",
    "    return json.loads(ent_tok_dict) if ent_tok_dict else {}\n",
    "\n",
    "def get_men_ents_tokens_tf_redis(men):\n",
    "    ent_tok_dict = conn.hmget('tf:::50', men)[0]\n",
    "    return json.loads(ent_tok_dict) if ent_tok_dict else {}\n",
    "\n",
    "def get_men_tokens_redis(data_source, doc_id):\n",
    "    if data_source == 'aida_conll':\n",
    "        data_source = 'conll'\n",
    "    tokens = conn.hmget('men-tok-ner-spacy-' + data_source, doc_id)[0]\n",
    "    return json.loads(tokens) if tokens else {}\n",
    "\n",
    "def fetch_mention_by_q_id(q_id):\n",
    "    cur = conn_psql.cursor()\n",
    "    sql = \"SELECT aida_conll.surfaceform, aida_conll.doc_id FROM aida_conll WHERE aida_conll.id=%s AND annotation != 'NIL';\"\n",
    "    cur.execute(sql % q_id)\n",
    "    row = cur.fetchone()\n",
    "    cur.close()\n",
    "    return row\n",
    "\n",
    "def fetch_mention_by_q_id(q_id):\n",
    "    cur = conn_psql.cursor()\n",
    "    sql = \"SELECT aida_conll.surfaceform, aida_conll.doc_id FROM aida_conll WHERE aida_conll.id=%s AND annotation != 'NIL';\"\n",
    "    cur.execute(sql % q_id)\n",
    "    row = cur.fetchone()\n",
    "    cur.close()\n",
    "    return row\n",
    "\n",
    "def fetch_mention_ent_by_q_id(q_id):\n",
    "    cur = conn_psql.cursor()\n",
    "    sql = \"SELECT aida_conll.surfaceform, aida_conll.annotation, aida_conll.doc_id FROM aida_conll WHERE aida_conll.id=%s AND annotation != 'NIL';\"\n",
    "    cur.execute(sql % q_id)\n",
    "    row = cur.fetchone()\n",
    "    cur.close()\n",
    "    return row\n",
    "\n",
    "def fetch_mention_count_by_doc_id(q_id):\n",
    "    cur = conn_psql.cursor()\n",
    "    sql = \"SELECT count(*) FROM aida_conll WHERE aida_conll.doc_id=%s AND annotation != 'NIL';\"\n",
    "    cur.execute(sql , (q_id,))\n",
    "    row = cur.fetchone()\n",
    "    cur.close()\n",
    "    return row\n",
    "\n",
    "def fetch_ents_by_doc_id(q_id):\n",
    "    cur = conn_psql.cursor()\n",
    "    sql = \"SELECT annotation FROM aida_conll WHERE aida_conll.doc_id=%s AND annotation != 'NIL';\"\n",
    "    cur.execute(sql , (q_id,))\n",
    "    row = cur.fetchall()\n",
    "    cur.close()\n",
    "    return row\n",
    "\n",
    "def fetch_men_ents_by_doc_id(q_id):\n",
    "    cur = conn_psql.cursor()\n",
    "    sql = \"SELECT id, annotation FROM aida_conll WHERE aida_conll.doc_id=%s AND annotation != 'NIL';\"\n",
    "    cur.execute(sql ,(q_id,))\n",
    "    row = cur.fetchall()\n",
    "    cur.close()\n",
    "    return row\n",
    "\n",
    "def fetch_q_ids_docs():\n",
    "    cur = conn_psql.cursor()\n",
    "    sql = \"SELECT id, doc_id FROM aida_conll WHERE annotation != 'NIL';\"\n",
    "    cur.execute(sql)\n",
    "    row = cur.fetchall()\n",
    "    cur.close()\n",
    "    return row\n",
    "\n",
    "def fetch_ent_cates_by_ent_id(q_id):\n",
    "    q_id = 'http://en.wikipedia.org/wiki/' + q_id\n",
    "    cur = conn_psql.cursor()\n",
    "    sql = \"SELECT labels FROM dbpedia_ontology WHERE wikipedia_url=%s;\"\n",
    "    cur.execute(sql, (q_id,))\n",
    "    row = cur.fetchone()\n",
    "    cur.close()\n",
    "    return row\n",
    "\n",
    "def fetch_doc_ids_by_data_type(data_type):\n",
    "    cur = conn_psql.cursor()\n",
    "    sql = \"SELECT distinct aida_conll.doc_id FROM aida_conll WHERE aida_conll.type=\\'%s\\';\"\n",
    "    cur.execute(sql % data_type)\n",
    "    rows = cur.fetchall()\n",
    "    cur.close()\n",
    "    return rows\n",
    "\n",
    "def fetch_doc_ids():\n",
    "    cur = conn_psql.cursor()\n",
    "    sql = \"SELECT distinct aida_conll.doc_id FROM aida_conll;\"\n",
    "    cur.execute(sql)\n",
    "    rows = cur.fetchall()\n",
    "    cur.close()\n",
    "    return rows\n"
   ]
  },
  {
   "cell_type": "code",
   "execution_count": 17,
   "metadata": {},
   "outputs": [],
   "source": [
    "q_docs_dict = dict(fetch_q_ids_docs())"
   ]
  },
  {
   "cell_type": "code",
   "execution_count": 18,
   "metadata": {},
   "outputs": [
    {
     "name": "stdout",
     "output_type": "stream",
     "text": [
      "393217 | 863 Export\n"
     ]
    }
   ],
   "source": [
    "for k, v in q_docs_dict.items():\n",
    "    print(k,'|', v)\n",
    "    break"
   ]
  },
  {
   "cell_type": "code",
   "execution_count": 18,
   "metadata": {},
   "outputs": [],
   "source": [
    "def true_labels(data_set):\n",
    "    return data_set[:, -1].nonzero()[0].size"
   ]
  },
  {
   "cell_type": "code",
   "execution_count": 20,
   "metadata": {},
   "outputs": [
    {
     "name": "stdout",
     "output_type": "stream",
     "text": [
      "18288\n",
      "4699\n",
      "4413\n"
     ]
    }
   ],
   "source": [
    "print(true_labels(d_train_ctx_coref))\n",
    "print(true_labels(d_test_a_ctx_coref))\n",
    "print(true_labels(d_test_b_ctx_coref))"
   ]
  },
  {
   "cell_type": "code",
   "execution_count": null,
   "metadata": {},
   "outputs": [],
   "source": [
    "print(true_labels(d_train_ctx_coref_can30))\n",
    "print(true_labels(d_test_a_ctx_coref_can30))\n",
    "print(true_labels(d_test_b_ctx_coref_can30))"
   ]
  },
  {
   "cell_type": "code",
   "execution_count": 97,
   "metadata": {},
   "outputs": [
    {
     "name": "stdout",
     "output_type": "stream",
     "text": [
      "18288 4699 4413\n"
     ]
    }
   ],
   "source": [
    "model = load_model('4900_6_ctx_coref')\n",
    "save_local_model_predictions(model, \n",
    "                             d_train_ctx_coref, d_train_ctx_raw, \n",
    "                             d_test_a_ctx_coref, d_test_a_ctx_raw,  \n",
    "                             d_test_b_ctx_coref, d_test_b_ctx_raw,\n",
    "                            top_k=3)"
   ]
  },
  {
   "cell_type": "code",
   "execution_count": 93,
   "metadata": {},
   "outputs": [
    {
     "name": "stdout",
     "output_type": "stream",
     "text": [
      "18288 4699 4413\n"
     ]
    }
   ],
   "source": [
    "model = load_model('4900_6_ctx_coref_simplified')\n",
    "save_local_model_predictions(model, \n",
    "                             d_train_ctx_coref_simplified, d_train_ctx_raw, \n",
    "                             d_test_a_ctx_coref_simplified, d_test_a_ctx_raw,  \n",
    "                             d_test_b_ctx_coref_simplified, d_test_b_ctx_raw,\n",
    "                            top_k=3)"
   ]
  },
  {
   "cell_type": "markdown",
   "metadata": {},
   "source": [
    "Note: Generate the coherence features before running the following cells!"
   ]
  },
  {
   "cell_type": "code",
   "execution_count": 19,
   "metadata": {},
   "outputs": [],
   "source": [
    "d_train_coh = fetch_all_features('basic_fea_coh', 'train', 'aida_conll')\n",
    "d_test_a_coh = fetch_all_features('basic_fea_coh', 'testa', 'aida_conll')\n",
    "d_test_b_coh = fetch_all_features('basic_fea_coh', 'testb', 'aida_conll')"
   ]
  },
  {
   "cell_type": "code",
   "execution_count": 20,
   "metadata": {},
   "outputs": [
    {
     "name": "stdout",
     "output_type": "stream",
     "text": [
      "(531835, 24)\n",
      "(136259, 24)\n",
      "(131893, 24)\n"
     ]
    }
   ],
   "source": [
    "print(d_train_coh.shape)\n",
    "print(d_test_a_coh.shape)\n",
    "print(d_test_b_coh.shape)"
   ]
  },
  {
   "cell_type": "code",
   "execution_count": 94,
   "metadata": {},
   "outputs": [
    {
     "name": "stdout",
     "output_type": "stream",
     "text": [
      "(531835, 24)\n",
      "(136259, 24)\n",
      "(131893, 24)\n"
     ]
    }
   ],
   "source": [
    "d_train_coh_simplified = fetch_all_features('basic_fea_coh_simplified', 'train', 'aida_conll')\n",
    "d_test_a_coh_simplified = fetch_all_features('basic_fea_coh_simplified', 'testa', 'aida_conll')\n",
    "d_test_b_coh_simplified = fetch_all_features('basic_fea_coh_simplified', 'testb', 'aida_conll')\n",
    "print(d_train_coh_simplified.shape)\n",
    "print(d_test_a_coh_simplified.shape)\n",
    "print(d_test_b_coh_simplified.shape)"
   ]
  },
  {
   "cell_type": "code",
   "execution_count": 21,
   "metadata": {},
   "outputs": [
    {
     "name": "stdout",
     "output_type": "stream",
     "text": [
      "Building idx for new features...\n",
      "Combine original and new features...\n",
      "Building idx for new features...\n",
      "Combine original and new features...\n",
      "Building idx for new features...\n",
      "Combine original and new features...\n"
     ]
    }
   ],
   "source": [
    "d_train_ctx_coref_coh  = combine_features(d_train_ctx_coref, d_train_coh)\n",
    "d_test_a_ctx_coref_coh = combine_features(d_test_a_ctx_coref, d_test_a_coh)\n",
    "d_test_b_ctx_coref_coh = combine_features(d_test_b_ctx_coref, d_test_b_coh)"
   ]
  },
  {
   "cell_type": "code",
   "execution_count": 22,
   "metadata": {},
   "outputs": [
    {
     "name": "stdout",
     "output_type": "stream",
     "text": [
      "(531835, 54)\n",
      "(136259, 54)\n",
      "(131893, 54)\n"
     ]
    }
   ],
   "source": [
    "print(d_train_ctx_coref_coh.shape)\n",
    "print(d_test_a_ctx_coref_coh.shape)\n",
    "print(d_test_b_ctx_coref_coh.shape)"
   ]
  },
  {
   "cell_type": "code",
   "execution_count": 95,
   "metadata": {},
   "outputs": [
    {
     "name": "stdout",
     "output_type": "stream",
     "text": [
      "Building idx for new features...\n",
      "Combine original and new features...\n",
      "Building idx for new features...\n",
      "Combine original and new features...\n",
      "Building idx for new features...\n",
      "Combine original and new features...\n",
      "(531835, 47)\n",
      "(136259, 47)\n",
      "(131893, 47)\n"
     ]
    }
   ],
   "source": [
    "d_train_ctx_coref_coh_simplified  = combine_features(d_train_ctx_coref_simplified, d_train_coh_simplified)\n",
    "d_test_a_ctx_coref_coh_simplified = combine_features(d_test_a_ctx_coref_simplified, d_test_a_coh_simplified)\n",
    "d_test_b_ctx_coref_coh_simplified = combine_features(d_test_b_ctx_coref_simplified, d_test_b_coh_simplified)\n",
    "print(d_train_ctx_coref_coh_simplified.shape)\n",
    "print(d_test_a_ctx_coref_coh_simplified.shape)\n",
    "print(d_test_b_ctx_coref_coh_simplified.shape)"
   ]
  },
  {
   "cell_type": "code",
   "execution_count": 24,
   "metadata": {},
   "outputs": [
    {
     "name": "stdout",
     "output_type": "stream",
     "text": [
      "2019-08-16 16:15:29.913779 Start training\n",
      "2019-08-16 16:58:15.664490 Training finished\n",
      "2019-08-16 16:58:15.665003 Start evaluation\n",
      "n_estimators: 4900, max_depth: 6, acc_training: 0.9752979882422739, corr_num: 18083\n",
      "n_estimators: 4900, max_depth: 6, acc_validation: 0.8960551033187226, corr_num: 4293\n",
      "n_estimators: 4900, max_depth: 6, acc_test: 0.89520624303233, corr_num: 4015\n",
      "2019-08-16 16:58:23.727621 Evaluation finished\n",
      "2019-08-16 16:58:23.775649 Model Saved: 4900_6_ctx_coref_coh\n"
     ]
    }
   ],
   "source": [
    "process('ctx_coref_coh', d_train_ctx_coref_coh, d_test_a_ctx_coref_coh, d_test_b_ctx_coref_coh, \n",
    "        d_train_total, d_test_a_total, d_test_b_total,\n",
    "        n_estimators=[4900], max_depths=[6])"
   ]
  },
  {
   "cell_type": "code",
   "execution_count": 23,
   "metadata": {},
   "outputs": [
    {
     "name": "stderr",
     "output_type": "stream",
     "text": [
      "/home/ymiao/.venvs/nerd/lib/python3.5/site-packages/xgboost/core.py:614: UserWarning: Use subset (sliced data) of np.ndarray is not recommended because it will generate extra copies and increase memory consumption\n",
      "  \"because it will generate extra copies and increase memory consumption\")\n"
     ]
    },
    {
     "name": "stdout",
     "output_type": "stream",
     "text": [
      "2019-09-06 10:34:24.203613 Start training\n",
      "2019-09-06 10:51:06.493577 Training finished\n",
      "2019-09-06 10:51:06.494056 Start evaluation\n",
      "n_estimators: 4900, max_depth: 6, acc_training: 0.9752979882422739, corr_num: 18083\n",
      "n_estimators: 4900, max_depth: 6, acc_validation: 0.8960551033187226, corr_num: 4293\n",
      "n_estimators: 4900, max_depth: 6, acc_test: 0.89520624303233, corr_num: 4015\n",
      "2019-09-06 10:51:12.948869 Evaluation finished\n",
      "2019-09-06 10:51:13.029273 Model Saved: 4900_6_test_time\n"
     ]
    }
   ],
   "source": [
    "process('test_time', d_train_ctx_coref_coh, d_test_a_ctx_coref_coh, d_test_b_ctx_coref_coh, \n",
    "        d_train_total, d_test_a_total, d_test_b_total,\n",
    "        n_estimators=[4900], max_depths=[6])"
   ]
  },
  {
   "cell_type": "code",
   "execution_count": 33,
   "metadata": {},
   "outputs": [
    {
     "name": "stdout",
     "output_type": "stream",
     "text": [
      "2019-09-06 12:13:24.111611 Start training\n",
      "2019-09-06 12:29:05.998538 Training finished\n",
      "2019-09-06 12:29:05.999414 Start evaluation\n",
      "n_estimators: 4900, max_depth: 6, acc_training: 0.9752979882422739, corr_num: 18083\n",
      "n_estimators: 4900, max_depth: 6, acc_validation: 0.8960551033187226, corr_num: 4293\n",
      "n_estimators: 4900, max_depth: 6, acc_test: 0.89520624303233, corr_num: 4015\n",
      "2019-09-06 12:29:12.538808 Evaluation finished\n",
      "2019-09-06 12:29:12.573252 Model Saved: 4900_6_test_time\n",
      "2019-09-06 12:29:12.923037 Start training\n",
      "2019-09-06 12:44:57.432827 Training finished\n",
      "2019-09-06 12:44:57.433320 Start evaluation\n",
      "n_estimators: 4900, max_depth: 6, acc_training: 0.9752979882422739, corr_num: 18083\n",
      "n_estimators: 4900, max_depth: 6, acc_validation: 0.8960551033187226, corr_num: 4293\n",
      "n_estimators: 4900, max_depth: 6, acc_test: 0.89520624303233, corr_num: 4015\n",
      "2019-09-06 12:45:03.902554 Evaluation finished\n",
      "2019-09-06 12:45:03.939429 Model Saved: 4900_6_test_time\n"
     ]
    }
   ],
   "source": [
    "for _ in range(2):\n",
    "    process('test_time', d_train_ctx_coref_coh, d_test_a_ctx_coref_coh, d_test_b_ctx_coref_coh, \n",
    "            d_train_total, d_test_a_total, d_test_b_total,\n",
    "            n_estimators=[4900], max_depths=[6])"
   ]
  },
  {
   "cell_type": "code",
   "execution_count": 96,
   "metadata": {},
   "outputs": [
    {
     "name": "stdout",
     "output_type": "stream",
     "text": [
      "2019-08-18 04:08:13.945035 Start training\n",
      "2019-08-18 04:22:16.371638 Training finished\n",
      "2019-08-18 04:22:16.372148 Start evaluation\n",
      "n_estimators: 4900, max_depth: 6, acc_training: 0.97508225014832, corr_num: 18079\n",
      "n_estimators: 4900, max_depth: 6, acc_validation: 0.8956376539344605, corr_num: 4291\n",
      "n_estimators: 4900, max_depth: 6, acc_test: 0.8945373467112597, corr_num: 4012\n",
      "2019-08-18 04:22:22.936292 Evaluation finished\n",
      "2019-08-18 04:22:22.976178 Model Saved: 4900_6_ctx_coref_coh_simplified\n"
     ]
    }
   ],
   "source": [
    "process('ctx_coref_coh_simplified', \n",
    "        d_train_ctx_coref_coh_simplified, d_test_a_ctx_coref_coh_simplified, d_test_b_ctx_coref_coh_simplified, \n",
    "        d_train_total, d_test_a_total, d_test_b_total,\n",
    "        n_estimators=[4900], max_depths=[6])"
   ]
  },
  {
   "cell_type": "code",
   "execution_count": 98,
   "metadata": {},
   "outputs": [
    {
     "name": "stdout",
     "output_type": "stream",
     "text": [
      "18288 4699 4413\n"
     ]
    }
   ],
   "source": [
    "model = load_model('4900_6_ctx_coref_coh')\n",
    "save_local_model_predictions(model, \n",
    "                             d_train_ctx_coref_coh, d_train_ctx_raw, \n",
    "                             d_test_a_ctx_coref_coh, d_test_a_ctx_raw,  \n",
    "                             d_test_b_ctx_coref_coh, d_test_b_ctx_raw)"
   ]
  },
  {
   "cell_type": "code",
   "execution_count": 27,
   "metadata": {},
   "outputs": [
    {
     "name": "stdout",
     "output_type": "stream",
     "text": [
      "Building idx for new features...\n",
      "Combine original and new features...\n",
      "Building idx for new features...\n",
      "Combine original and new features...\n",
      "Building idx for new features...\n",
      "Combine original and new features...\n"
     ]
    }
   ],
   "source": [
    "d_train_ctx_coh  = combine_features(d_train_ctx, d_train_coh)\n",
    "d_test_a_ctx_coh = combine_features(d_test_a_ctx, d_test_a_coh)\n",
    "d_test_b_ctx_coh = combine_features(d_test_b_ctx, d_test_b_coh)"
   ]
  },
  {
   "cell_type": "code",
   "execution_count": 28,
   "metadata": {},
   "outputs": [
    {
     "name": "stdout",
     "output_type": "stream",
     "text": [
      "(531835, 43)\n",
      "(136259, 43)\n",
      "(131893, 43)\n"
     ]
    }
   ],
   "source": [
    "print(d_train_ctx_coh.shape)\n",
    "print(d_test_a_ctx_coh.shape)\n",
    "print(d_test_b_ctx_coh.shape)"
   ]
  },
  {
   "cell_type": "code",
   "execution_count": 29,
   "metadata": {},
   "outputs": [
    {
     "name": "stdout",
     "output_type": "stream",
     "text": [
      "2019-08-14 21:31:37.349964 Start training\n",
      "2019-08-14 21:52:37.433294 Training finished\n",
      "2019-08-14 21:52:37.433794 Start evaluation\n",
      "n_estimators: 4900, max_depth: 6, acc_training: 0.9744350358664581, corr_num: 18067\n",
      "n_estimators: 4900, max_depth: 6, acc_validation: 0.8956376539344605, corr_num: 4291\n",
      "n_estimators: 4900, max_depth: 6, acc_test: 0.8869565217391304, corr_num: 3978\n",
      "2019-08-14 21:52:45.750054 Evaluation finished\n",
      "2019-08-14 21:52:45.805173 Model Saved: 4900_6_ctx_coh\n"
     ]
    }
   ],
   "source": [
    "process('ctx_coh', d_train_ctx_coh, d_test_a_ctx_coh, d_test_b_ctx_coh, \n",
    "        d_train_total, d_test_a_total, d_test_b_total,\n",
    "        n_estimators=[4900], max_depths=[6])"
   ]
  },
  {
   "cell_type": "code",
   "execution_count": 30,
   "metadata": {},
   "outputs": [
    {
     "name": "stdout",
     "output_type": "stream",
     "text": [
      "Building idx for new features...\n",
      "Combine original and new features...\n",
      "Building idx for new features...\n",
      "Combine original and new features...\n",
      "Building idx for new features...\n",
      "Combine original and new features...\n"
     ]
    }
   ],
   "source": [
    "d_train_coref_coh  = combine_features(d_train_coref, d_train_coh)\n",
    "d_test_a_coref_coh = combine_features(d_test_a_coref, d_test_a_coh)\n",
    "d_test_b_coref_coh = combine_features(d_test_b_coref, d_test_b_coh)"
   ]
  },
  {
   "cell_type": "code",
   "execution_count": 31,
   "metadata": {},
   "outputs": [
    {
     "name": "stdout",
     "output_type": "stream",
     "text": [
      "(531835, 35)\n",
      "(136259, 35)\n",
      "(131893, 35)\n"
     ]
    }
   ],
   "source": [
    "print(d_train_coref_coh.shape)\n",
    "print(d_test_a_coref_coh.shape)\n",
    "print(d_test_b_coref_coh.shape)"
   ]
  },
  {
   "cell_type": "code",
   "execution_count": 32,
   "metadata": {},
   "outputs": [
    {
     "name": "stdout",
     "output_type": "stream",
     "text": [
      "2019-08-14 21:52:47.628595 Start training\n",
      "2019-08-14 22:07:56.546286 Training finished\n",
      "2019-08-14 22:07:56.547230 Start evaluation\n",
      "n_estimators: 4900, max_depth: 6, acc_training: 0.9729248692087805, corr_num: 18039\n",
      "n_estimators: 4900, max_depth: 6, acc_validation: 0.891880609476101, corr_num: 4273\n",
      "n_estimators: 4900, max_depth: 6, acc_test: 0.8896321070234113, corr_num: 3990\n",
      "2019-08-14 22:08:03.104239 Evaluation finished\n",
      "2019-08-14 22:08:03.141590 Model Saved: 4900_6_coref_coh\n"
     ]
    }
   ],
   "source": [
    "process('coref_coh', d_train_coref_coh, d_test_a_coref_coh, d_test_b_coref_coh, \n",
    "        d_train_total, d_test_a_total, d_test_b_total,\n",
    "        n_estimators=[4900], max_depths=[6])"
   ]
  },
  {
   "cell_type": "code",
   "execution_count": 33,
   "metadata": {},
   "outputs": [
    {
     "name": "stdout",
     "output_type": "stream",
     "text": [
      "2019-08-14 22:08:03.231453 Start training\n",
      "2019-08-14 22:14:20.120110 Training finished\n",
      "2019-08-14 22:14:20.120623 Start evaluation\n",
      "n_estimators: 4900, max_depth: 6, acc_training: 0.915700339787498, corr_num: 16978\n",
      "n_estimators: 4900, max_depth: 6, acc_validation: 0.8509705698184096, corr_num: 4077\n",
      "n_estimators: 4900, max_depth: 6, acc_test: 0.7991081382385731, corr_num: 3584\n",
      "2019-08-14 22:14:26.610881 Evaluation finished\n",
      "2019-08-14 22:14:26.646472 Model Saved: 4900_6_coref\n"
     ]
    }
   ],
   "source": [
    "process('coref', d_train_coref, d_test_a_coref, d_test_b_coref, \n",
    "        d_train_total, d_test_a_total, d_test_b_total,\n",
    "        n_estimators=[4900], max_depths=[6])"
   ]
  },
  {
   "cell_type": "code",
   "execution_count": 34,
   "metadata": {},
   "outputs": [
    {
     "name": "stdout",
     "output_type": "stream",
     "text": [
      "2019-08-14 22:14:26.814485 Start training\n",
      "2019-08-14 22:24:18.044900 Training finished\n",
      "2019-08-14 22:24:18.045400 Start evaluation\n",
      "n_estimators: 4900, max_depth: 6, acc_training: 0.8987109648886252, corr_num: 16663\n",
      "n_estimators: 4900, max_depth: 6, acc_validation: 0.7845961177207263, corr_num: 3759\n",
      "n_estimators: 4900, max_depth: 6, acc_test: 0.7670011148272018, corr_num: 3440\n",
      "2019-08-14 22:24:24.821150 Evaluation finished\n",
      "2019-08-14 22:24:24.867810 Model Saved: 4900_6_coh\n"
     ]
    }
   ],
   "source": [
    "process('coh', d_train_coh, d_test_a_coh, d_test_b_coh, \n",
    "        d_train_total, d_test_a_total, d_test_b_total,\n",
    "        n_estimators=[4900], max_depths=[6])"
   ]
  },
  {
   "cell_type": "code",
   "execution_count": 25,
   "metadata": {},
   "outputs": [
    {
     "name": "stdout",
     "output_type": "stream",
     "text": [
      "(342796, 21)\n",
      "(86537, 21)\n",
      "(84698, 21)\n"
     ]
    }
   ],
   "source": [
    "d_train_ctx_can30 = fetch_all_features('fea_ctx_can30', 'train', 'aida_conll')\n",
    "d_test_a_ctx_can30 = fetch_all_features('fea_ctx_can30', 'testa', 'aida_conll')\n",
    "d_test_b_ctx_can30 = fetch_all_features('fea_ctx_can30', 'testb', 'aida_conll')\n",
    "print(d_train_ctx_can30.shape)\n",
    "print(d_test_a_ctx_can30.shape)\n",
    "print(d_test_b_ctx_can30.shape)"
   ]
  },
  {
   "cell_type": "code",
   "execution_count": 26,
   "metadata": {},
   "outputs": [
    {
     "name": "stdout",
     "output_type": "stream",
     "text": [
      "2019-08-16 17:57:18.492319 Start training\n",
      "2019-08-16 18:05:53.209039 Training finished\n",
      "2019-08-16 18:05:53.209538 Start evaluation\n",
      "n_estimators: 4900, max_depth: 6, acc_training: 0.9486543336389623, corr_num: 17589\n",
      "n_estimators: 4900, max_depth: 6, acc_validation: 0.8630766019620121, corr_num: 4135\n",
      "n_estimators: 4900, max_depth: 6, acc_test: 0.8303232998885173, corr_num: 3724\n",
      "2019-08-16 18:05:58.269448 Evaluation finished\n",
      "2019-08-16 18:05:58.331593 Model Saved: 4900_6_ctx_can30\n"
     ]
    }
   ],
   "source": [
    "process('ctx_can30', d_train_ctx_can30, d_test_a_ctx_can30, d_test_b_ctx_can30, \n",
    "        d_train_total, d_test_a_total, d_test_b_total,\n",
    "        n_estimators=[4900], max_depths=[6])"
   ]
  },
  {
   "cell_type": "code",
   "execution_count": 27,
   "metadata": {},
   "outputs": [
    {
     "name": "stdout",
     "output_type": "stream",
     "text": [
      "(342796, 13)\n",
      "(86537, 13)\n",
      "(84698, 13)\n"
     ]
    }
   ],
   "source": [
    "d_train_coref_can30 = fetch_all_features('fea_coref_can30', 'train', 'aida_conll')\n",
    "d_test_a_coref_can30 = fetch_all_features('fea_coref_can30', 'testa', 'aida_conll')\n",
    "d_test_b_coref_can30 = fetch_all_features('fea_coref_can30', 'testb', 'aida_conll')\n",
    "print(d_train_coref_can30.shape)\n",
    "print(d_test_a_coref_can30.shape)\n",
    "print(d_test_b_coref_can30.shape)"
   ]
  },
  {
   "cell_type": "code",
   "execution_count": 28,
   "metadata": {},
   "outputs": [
    {
     "name": "stdout",
     "output_type": "stream",
     "text": [
      "2019-08-16 18:06:07.840280 Start training\n",
      "2019-08-16 18:12:44.434335 Training finished\n",
      "2019-08-16 18:12:44.435234 Start evaluation\n",
      "n_estimators: 4900, max_depth: 6, acc_training: 0.9165093576398252, corr_num: 16993\n",
      "n_estimators: 4900, max_depth: 6, acc_validation: 0.8474222500521812, corr_num: 4060\n",
      "n_estimators: 4900, max_depth: 6, acc_test: 0.8028985507246377, corr_num: 3601\n",
      "2019-08-16 18:12:49.645264 Evaluation finished\n",
      "2019-08-16 18:12:49.666220 Model Saved: 4900_6_coref_can30\n"
     ]
    }
   ],
   "source": [
    "process('coref_can30', d_train_coref_can30, d_test_a_coref_can30, d_test_b_coref_can30, \n",
    "        d_train_total, d_test_a_total, d_test_b_total,\n",
    "        n_estimators=[4900], max_depths=[6])"
   ]
  },
  {
   "cell_type": "code",
   "execution_count": 29,
   "metadata": {},
   "outputs": [
    {
     "name": "stdout",
     "output_type": "stream",
     "text": [
      "Building idx for new features...\n",
      "Combine original and new features...\n",
      "Building idx for new features...\n",
      "Combine original and new features...\n",
      "Building idx for new features...\n",
      "Combine original and new features...\n",
      "(342796, 40)\n",
      "(86537, 40)\n",
      "(84698, 40)\n"
     ]
    }
   ],
   "source": [
    "d_train_ctx_coref_can30  = combine_features(d_train_ctx_can30, d_train_ctx_can30)\n",
    "d_test_a_ctx_coref_can30 = combine_features(d_test_a_ctx_can30, d_test_a_ctx_can30)\n",
    "d_test_b_ctx_coref_can30 = combine_features(d_test_b_ctx_can30, d_test_b_ctx_can30)\n",
    "print(d_train_ctx_coref_can30.shape)\n",
    "print(d_test_a_ctx_coref_can30.shape)\n",
    "print(d_test_b_ctx_coref_can30.shape)"
   ]
  },
  {
   "cell_type": "code",
   "execution_count": 58,
   "metadata": {},
   "outputs": [
    {
     "name": "stdout",
     "output_type": "stream",
     "text": [
      "2019-08-17 12:11:52.627563 Start training\n",
      "2019-08-17 12:20:02.396669 Training finished\n",
      "2019-08-17 12:20:02.397178 Start evaluation\n",
      "n_estimators: 4900, max_depth: 6, acc_training: 0.9486543336389623, corr_num: 17589\n",
      "n_estimators: 4900, max_depth: 6, acc_validation: 0.8630766019620121, corr_num: 4135\n",
      "n_estimators: 4900, max_depth: 6, acc_test: 0.8303232998885173, corr_num: 3724\n",
      "2019-08-17 12:20:06.587044 Evaluation finished\n",
      "2019-08-17 12:20:06.637740 Model Saved: 4900_6_ctx_coref_can30\n"
     ]
    }
   ],
   "source": [
    "process('ctx_coref_can30', d_train_ctx_coref_can30, d_test_a_ctx_coref_can30, d_test_b_ctx_coref_can30, \n",
    "        d_train_total, d_test_a_total, d_test_b_total,\n",
    "        n_estimators=[4900], max_depths=[6])"
   ]
  },
  {
   "cell_type": "code",
   "execution_count": 27,
   "metadata": {},
   "outputs": [
    {
     "name": "stdout",
     "output_type": "stream",
     "text": [
      "Number of groups: 18288 4699 4413\n",
      "test_a_filter 12008\n",
      "test_b_filter 11383\n",
      "2019-08-22 05:55:10.298464 Loading model: 4900_6_ctx_coref\n",
      "2019-08-22 05:55:10.312582 Start evaluation\n",
      "n_estimators: 4900, max_depth: 6, acc_training: 0.960412059759452, corr_num: 17807\n",
      "n_estimators: 4900, max_depth: 6, acc_validation: 0.9194322688374035, corr_num: 4405\n",
      "n_estimators: 4900, max_depth: 6, acc_test: 0.87603121516165, corr_num: 3929\n",
      "2019-08-22 05:55:23.910699 Evaluation finished\n"
     ]
    }
   ],
   "source": [
    "model = load_model('4900_6_ctx_coref')\n",
    "save_local_model_predictions(model, \n",
    "                             d_train_ctx_coref, d_train_ctx_raw, \n",
    "                             d_test_a_ctx_coref, d_test_a_ctx_raw,  \n",
    "                             d_test_b_ctx_coref, d_test_b_ctx_raw, top_k=3)\n",
    "\n",
    "test_a_filter=json.loads(conn.hget('doc-predicted-ents-top-k', 'testa'))\n",
    "test_b_filter=json.loads(conn.hget('doc-predicted-ents-top-k', 'testb'))\n",
    "print('test_a_filter', len(test_a_filter))\n",
    "print('test_b_filter', len(test_b_filter))\n",
    "\n",
    "process('ctx_coref', d_train_ctx_coref, d_test_a_ctx_coref, d_test_b_ctx_coref, \n",
    "        d_train_total, d_test_a_total, d_test_b_total,\n",
    "        n_estimators=[4900], max_depths=[6], train_mode=False, \n",
    "        test_a_filter=test_a_filter, test_b_filter=test_b_filter)"
   ]
  },
  {
   "cell_type": "code",
   "execution_count": 25,
   "metadata": {},
   "outputs": [
    {
     "name": "stderr",
     "output_type": "stream",
     "text": [
      "/home/ymiao/.venvs/nerd/lib/python3.5/site-packages/xgboost/core.py:614: UserWarning: Use subset (sliced data) of np.ndarray is not recommended because it will generate extra copies and increase memory consumption\n",
      "  \"because it will generate extra copies and increase memory consumption\")\n"
     ]
    },
    {
     "name": "stdout",
     "output_type": "stream",
     "text": [
      "Number of groups: 18288 4699 4413\n",
      "test_a_filter 12008\n",
      "test_b_filter 11383\n",
      "2019-08-25 21:33:32.938384 Loading model: 4900_6_ctx_coref_coh\n",
      "2019-08-25 21:33:32.983139 Start evaluation\n",
      "n_estimators: 4900, max_depth: 6, acc_training: 0.9752979882422739, corr_num: 18083\n",
      "n_estimators: 4900, max_depth: 6, acc_validation: 0.9160926737633062, corr_num: 4389\n",
      "n_estimators: 4900, max_depth: 6, acc_test: 0.89520624303233, corr_num: 4015\n",
      "2019-08-25 21:33:45.693810 Evaluation finished\n"
     ]
    }
   ],
   "source": [
    "model = load_model('4900_6_ctx_coref')\n",
    "save_local_model_predictions(model, \n",
    "                             d_train_ctx_coref, d_train_ctx_raw, \n",
    "                             d_test_a_ctx_coref, d_test_a_ctx_raw,  \n",
    "                             d_test_b_ctx_coref, d_test_b_ctx_raw, top_k=3)\n",
    "\n",
    "test_a_filter=json.loads(conn.hget('doc-predicted-ents-top-k', 'testa'))\n",
    "test_b_filter=json.loads(conn.hget('doc-predicted-ents-top-k', 'testb'))\n",
    "print('test_a_filter', len(test_a_filter))\n",
    "print('test_b_filter', len(test_b_filter))\n",
    "\n",
    "process('ctx_coref_coh', d_train_ctx_coref_coh, d_test_a_ctx_coref_coh, d_test_b_ctx_coref_coh, \n",
    "        d_train_total, d_test_a_total, d_test_b_total,\n",
    "        n_estimators=[4900], max_depths=[6], train_mode=False, \n",
    "        test_a_filter=test_a_filter, test_b_filter=test_b_filter)"
   ]
  },
  {
   "cell_type": "code",
   "execution_count": 26,
   "metadata": {},
   "outputs": [
    {
     "name": "stdout",
     "output_type": "stream",
     "text": [
      "Number of groups: 18288 4699 4413\n",
      "test_a_filter 18773\n",
      "test_b_filter 17912\n",
      "2019-08-25 21:34:16.567208 Loading model: 4900_6_ctx_coref_coh\n",
      "2019-08-25 21:34:16.583254 Start evaluation\n",
      "n_estimators: 4900, max_depth: 6, acc_training: 0.9752979882422739, corr_num: 18083\n",
      "n_estimators: 4900, max_depth: 6, acc_validation: 0.9198497182216656, corr_num: 4407\n",
      "n_estimators: 4900, max_depth: 6, acc_test: 0.9110367892976589, corr_num: 4086\n",
      "2019-08-25 21:34:30.088704 Evaluation finished\n"
     ]
    }
   ],
   "source": [
    "model = load_model('4900_6_ctx_coref')\n",
    "save_local_model_predictions(model, \n",
    "                             d_train_ctx_coref, d_train_ctx_raw, \n",
    "                             d_test_a_ctx_coref, d_test_a_ctx_raw,  \n",
    "                             d_test_b_ctx_coref, d_test_b_ctx_raw, top_k=5)\n",
    "\n",
    "test_a_filter=json.loads(conn.hget('doc-predicted-ents-top-k', 'testa'))\n",
    "test_b_filter=json.loads(conn.hget('doc-predicted-ents-top-k', 'testb'))\n",
    "print('test_a_filter', len(test_a_filter))\n",
    "print('test_b_filter', len(test_b_filter))\n",
    "\n",
    "process('ctx_coref_coh', d_train_ctx_coref_coh, d_test_a_ctx_coref_coh, d_test_b_ctx_coref_coh, \n",
    "        d_train_total, d_test_a_total, d_test_b_total,\n",
    "        n_estimators=[4900], max_depths=[6], train_mode=False, \n",
    "        test_a_filter=test_a_filter, test_b_filter=test_b_filter)"
   ]
  },
  {
   "cell_type": "code",
   "execution_count": 29,
   "metadata": {},
   "outputs": [
    {
     "name": "stdout",
     "output_type": "stream",
     "text": [
      "Number of groups: 18288 4699 4413\n",
      "test_a_filter 12008\n",
      "test_b_filter 11383\n",
      "2019-08-22 05:59:59.075727 Loading model: 4900_6_ctx_coref_coh\n",
      "2019-08-22 05:59:59.091601 Start evaluation\n",
      "n_estimators: 4900, max_depth: 6, acc_training: 0.9752979882422739, corr_num: 18083\n",
      "n_estimators: 4900, max_depth: 6, acc_validation: 0.9375913170528073, corr_num: 4492\n",
      "n_estimators: 4900, max_depth: 6, acc_test: 0.9311036789297659, corr_num: 4176\n",
      "2019-08-22 06:00:13.092215 Evaluation finished\n"
     ]
    }
   ],
   "source": [
    "model = load_model('4900_6_ctx_coref_coh')\n",
    "save_local_model_predictions(model, \n",
    "                             d_train_ctx_coref_coh, d_train_ctx_raw, \n",
    "                             d_test_a_ctx_coref_coh, d_test_a_ctx_raw,  \n",
    "                             d_test_b_ctx_coref_coh, d_test_b_ctx_raw, top_k=3)\n",
    "\n",
    "test_a_filter=json.loads(conn.hget('doc-predicted-ents-top-k', 'testa'))\n",
    "test_b_filter=json.loads(conn.hget('doc-predicted-ents-top-k', 'testb'))\n",
    "print('test_a_filter', len(test_a_filter))\n",
    "print('test_b_filter', len(test_b_filter))\n",
    "\n",
    "process('ctx_coref_coh', d_train_ctx_coref_coh, d_test_a_ctx_coref_coh, d_test_b_ctx_coref_coh, \n",
    "        d_train_total, d_test_a_total, d_test_b_total,\n",
    "        n_estimators=[4900], max_depths=[6], train_mode=False, \n",
    "        test_a_filter=test_a_filter, test_b_filter=test_b_filter)"
   ]
  },
  {
   "cell_type": "code",
   "execution_count": 49,
   "metadata": {},
   "outputs": [],
   "source": [
    "from collections import defaultdict\n",
    "def evalerror_detail_log_xl(preds, dt, d_tal_size):\n",
    "    top2_correct = 0\n",
    "    top3_correct = 0\n",
    "    correct_top2_diff_total = 0\n",
    "    wrong_top2_diff_total = 0\n",
    "    correct_has_top2 = 0\n",
    "    wrong_has_top2 = 0\n",
    "    \n",
    "    \n",
    "    d_l = dt.get_label()\n",
    "    idxs = np.where(d_l == 1)[0]\n",
    "    d_groups = np.append(np.delete(idxs, 0), len(d_l)) - idxs\n",
    "    correct_results = {}\n",
    "    wrong_results = {}\n",
    "    duplicates_results = {}\n",
    "    group_info = {}\n",
    "    matched_ids = []\n",
    "    q_id = 0\n",
    "    for x in d_groups:\n",
    "        #print(\"For group {}, id = {}\".format(x, q_id+x))\n",
    "        pre_res = preds[q_id: x + q_id]\n",
    "        \n",
    "        sorted_pre_res = np.sort(pre_res)\n",
    "        reverse_res = sorted_pre_res[::-1]\n",
    "        #print(reverse_res[0:3])\n",
    "        pre_res = reverse_res\n",
    "        if (max(pre_res) != pre_res[0]):\n",
    "            print(\"ERROR\")\n",
    "            break\n",
    "        \n",
    "        if(len(pre_res) == 1 or preds[q_id] == pre_res[0] or preds[q_id] == pre_res[1]):\n",
    "                top2_correct += 1\n",
    "                top3_correct += 1\n",
    "        else:   \n",
    "            if(len(pre_res) == 2 or preds[q_id] == pre_res[2]):\n",
    "                top3_correct += 1\n",
    "\n",
    "        \n",
    "        if(preds[q_id] == max(pre_res)):\n",
    "            correct_results[q_id] = pre_res\n",
    "            \n",
    "            if len([x for x in pre_res if x == preds[q_id]]) == 1:\n",
    "                matched_ids.append(q_id)\n",
    "                \n",
    "                if (len(pre_res) > 1):\n",
    "                    correct_top2_diff_total += ( pre_res[0] - pre_res[1]) \n",
    "                    correct_has_top2 +=1\n",
    "                    \n",
    "            else:\n",
    "                duplicates_results[q_id] = pre_res\n",
    "        else:\n",
    "            wrong_results[q_id] = pre_res\n",
    "            if (len(pre_res) > 1):\n",
    "                wrong_top2_diff_total += ( pre_res[0] - pre_res[1])\n",
    "                wrong_has_top2 += 1\n",
    "                \n",
    "            #print (pre_res[0:3])\n",
    "        q_id += x\n",
    "    precision = float(len(matched_ids)) / len(d_groups)\n",
    "    recall = float(len(matched_ids)) / d_tal_size\n",
    "    f1 = 2 * precision * recall / (precision + recall)\n",
    "    top2_acc = top2_correct / d_tal_size\n",
    "    top3_acc = top3_correct / d_tal_size\n",
    "    print (top2_correct, top3_correct, top2_acc, top3_acc)\n",
    "    \n",
    "    correct_top2_diff_avg = correct_top2_diff_total / correct_has_top2\n",
    "    wrong_top2_diff_avg = wrong_top2_diff_total / wrong_has_top2\n",
    "    print (correct_top2_diff_avg, wrong_top2_diff_avg)\n",
    "    \n",
    "    return len(matched_ids), precision, recall, f1, correct_results, wrong_results, duplicates_results"
   ]
  },
  {
   "cell_type": "code",
   "execution_count": 72,
   "metadata": {},
   "outputs": [
    {
     "name": "stdout",
     "output_type": "stream",
     "text": [
      "2019-08-17 15:00:28.566473 Loading model: 4900_6_ctx_coref\n",
      "2019-08-17 15:00:28.592544 Start evaluation\n",
      "18247 18282 0.9841432500943854 0.9860309584164824\n",
      "5.024404213151237 0.7807343878031299\n",
      "n_estimators: 4900, max_depth: 6, acc_training: 0.960412059759452, corr_num: 17807\n",
      "4557 4624 0.9511584220413275 0.9651429764141098\n",
      "4.909797580852987 2.0565747870028153\n",
      "n_estimators: 4900, max_depth: 6, acc_validation: 0.8862450427885619, corr_num: 4246\n",
      "4084 4248 0.9105908584169454 0.9471571906354515\n",
      "4.883615036342713 1.7138141848241226\n",
      "n_estimators: 4900, max_depth: 6, acc_test: 0.841917502787068, corr_num: 3776\n",
      "2019-08-17 15:00:47.929463 Evaluation finished\n"
     ]
    }
   ],
   "source": [
    "process('ctx_coref', d_train_ctx_coref, d_test_a_ctx_coref, d_test_b_ctx_coref, \n",
    "        d_train_total, d_test_a_total, d_test_b_total,\n",
    "        n_estimators=[4900], max_depths=[6], train_mode=False, eval_func=evalerror_detail_log_xl)"
   ]
  },
  {
   "cell_type": "code",
   "execution_count": 27,
   "metadata": {},
   "outputs": [
    {
     "name": "stdout",
     "output_type": "stream",
     "text": [
      "(531835, 24)\n",
      "(136259, 24)\n",
      "(131893, 24)\n"
     ]
    }
   ],
   "source": [
    "d_train_coh_global = fetch_all_features('basic_fea_coh_global', 'train', 'aida_conll')\n",
    "d_test_a_coh_global = fetch_all_features('basic_fea_coh_global', 'testa', 'aida_conll')\n",
    "d_test_b_coh_global = fetch_all_features('basic_fea_coh_global', 'testb', 'aida_conll')\n",
    "print(d_train_coh_global.shape)\n",
    "print(d_test_a_coh_global.shape)\n",
    "print(d_test_b_coh_global.shape)"
   ]
  },
  {
   "cell_type": "code",
   "execution_count": 28,
   "metadata": {},
   "outputs": [
    {
     "name": "stdout",
     "output_type": "stream",
     "text": [
      "Building idx for new features...\n",
      "Combine original and new features...\n",
      "Building idx for new features...\n",
      "Combine original and new features...\n",
      "Building idx for new features...\n",
      "Combine original and new features...\n",
      "(531835, 54)\n",
      "(136259, 54)\n",
      "(131893, 54)\n"
     ]
    }
   ],
   "source": [
    "d_train_ctx_coref_coh_global  = combine_features(d_train_ctx_coref, d_train_coh_global)\n",
    "d_test_a_ctx_coref_coh_global = combine_features(d_test_a_ctx_coref, d_test_a_coh_global)\n",
    "d_test_b_ctx_coref_coh_global = combine_features(d_test_b_ctx_coref, d_test_b_coh_global)\n",
    "print(d_train_ctx_coref_coh_global.shape)\n",
    "print(d_test_a_ctx_coref_coh_global.shape)\n",
    "print(d_test_b_ctx_coref_coh_global.shape)"
   ]
  },
  {
   "cell_type": "code",
   "execution_count": 101,
   "metadata": {},
   "outputs": [
    {
     "name": "stdout",
     "output_type": "stream",
     "text": [
      "2019-08-18 13:48:28.193368 Start training\n",
      "2019-08-18 14:04:14.859434 Training finished\n",
      "2019-08-18 14:04:14.859934 Start evaluation\n",
      "n_estimators: 4900, max_depth: 6, acc_training: 0.9756215953832048, corr_num: 18089\n",
      "n_estimators: 4900, max_depth: 6, acc_validation: 0.8979336255479023, corr_num: 4302\n",
      "n_estimators: 4900, max_depth: 6, acc_test: 0.9016722408026756, corr_num: 4044\n",
      "2019-08-18 14:04:21.287457 Evaluation finished\n",
      "2019-08-18 14:04:21.318611 Model Saved: 4900_6_ctx_coref_coh_global\n"
     ]
    }
   ],
   "source": [
    "process('ctx_coref_coh_global', \n",
    "        d_train_ctx_coref_coh_global, d_test_a_ctx_coref_coh_global, d_test_b_ctx_coref_coh_global, \n",
    "        d_train_total, d_test_a_total, d_test_b_total,\n",
    "        n_estimators=[4900], max_depths=[6])"
   ]
  },
  {
   "cell_type": "code",
   "execution_count": 29,
   "metadata": {},
   "outputs": [
    {
     "name": "stdout",
     "output_type": "stream",
     "text": [
      "Number of groups: 18288 4699 4413\n",
      "test_a_filter 12008\n",
      "test_b_filter 11383\n",
      "2019-08-26 00:53:00.313850 Loading model: 4900_6_ctx_coref_coh_global\n",
      "2019-08-26 00:53:00.357894 Start evaluation\n",
      "n_estimators: 4900, max_depth: 6, acc_training: 0.9756215953832048, corr_num: 18089\n",
      "n_estimators: 4900, max_depth: 6, acc_validation: 0.9315383009810061, corr_num: 4463\n",
      "n_estimators: 4900, max_depth: 6, acc_test: 0.9286510590858417, corr_num: 4165\n",
      "2019-08-26 00:53:13.537194 Evaluation finished\n"
     ]
    }
   ],
   "source": [
    "model = load_model('4900_6_ctx_coref_coh')\n",
    "save_local_model_predictions(model, \n",
    "                             d_train_ctx_coref_coh, d_train_ctx_raw, \n",
    "                             d_test_a_ctx_coref_coh, d_test_a_ctx_raw,  \n",
    "                             d_test_b_ctx_coref_coh, d_test_b_ctx_raw, top_k=3)\n",
    "\n",
    "test_a_filter=json.loads(conn.hget('doc-predicted-ents-top-k', 'testa'))\n",
    "test_b_filter=json.loads(conn.hget('doc-predicted-ents-top-k', 'testb'))\n",
    "print('test_a_filter', len(test_a_filter))\n",
    "print('test_b_filter', len(test_b_filter))\n",
    "\n",
    "process('ctx_coref_coh_global', \n",
    "        d_train_ctx_coref_coh_global, d_test_a_ctx_coref_coh_global, d_test_b_ctx_coref_coh_global, \n",
    "        d_train_total, d_test_a_total, d_test_b_total,\n",
    "        n_estimators=[4900], max_depths=[6], train_mode=False, \n",
    "        test_a_filter=test_a_filter, test_b_filter=test_b_filter)"
   ]
  },
  {
   "cell_type": "code",
   "execution_count": 30,
   "metadata": {},
   "outputs": [
    {
     "name": "stdout",
     "output_type": "stream",
     "text": [
      "Number of groups: 18288 4699 4413\n",
      "test_a_filter 18773\n",
      "test_b_filter 17912\n",
      "2019-08-26 00:55:07.879648 Loading model: 4900_6_ctx_coref_coh_global\n",
      "2019-08-26 00:55:07.895017 Start evaluation\n",
      "n_estimators: 4900, max_depth: 6, acc_training: 0.9756215953832048, corr_num: 18089\n",
      "n_estimators: 4900, max_depth: 6, acc_validation: 0.9361302442078898, corr_num: 4485\n",
      "n_estimators: 4900, max_depth: 6, acc_test: 0.9313266443701226, corr_num: 4177\n",
      "2019-08-26 00:55:20.913263 Evaluation finished\n"
     ]
    }
   ],
   "source": [
    "model = load_model('4900_6_ctx_coref_coh')\n",
    "save_local_model_predictions(model, \n",
    "                             d_train_ctx_coref_coh, d_train_ctx_raw, \n",
    "                             d_test_a_ctx_coref_coh, d_test_a_ctx_raw,  \n",
    "                             d_test_b_ctx_coref_coh, d_test_b_ctx_raw, top_k=5)\n",
    "\n",
    "test_a_filter=json.loads(conn.hget('doc-predicted-ents-top-k', 'testa'))\n",
    "test_b_filter=json.loads(conn.hget('doc-predicted-ents-top-k', 'testb'))\n",
    "print('test_a_filter', len(test_a_filter))\n",
    "print('test_b_filter', len(test_b_filter))\n",
    "\n",
    "process('ctx_coref_coh_global', \n",
    "        d_train_ctx_coref_coh_global, d_test_a_ctx_coref_coh_global, d_test_b_ctx_coref_coh_global, \n",
    "        d_train_total, d_test_a_total, d_test_b_total,\n",
    "        n_estimators=[4900], max_depths=[6], train_mode=False, \n",
    "        test_a_filter=test_a_filter, test_b_filter=test_b_filter)"
   ]
  },
  {
   "cell_type": "code",
   "execution_count": 129,
   "metadata": {},
   "outputs": [
    {
     "name": "stdout",
     "output_type": "stream",
     "text": [
      "18288 4699 4413\n"
     ]
    }
   ],
   "source": [
    "model = load_model('4900_6_ctx_coref_coh_global')\n",
    "save_local_model_predictions(model, \n",
    "                             d_train_ctx_coref_coh_global, d_train_ctx_raw, \n",
    "                             d_test_a_ctx_coref_coh_global, d_test_a_ctx_raw,  \n",
    "                             d_test_b_ctx_coref_coh_global, d_test_b_ctx_raw)"
   ]
  },
  {
   "cell_type": "code",
   "execution_count": 83,
   "metadata": {},
   "outputs": [
    {
     "name": "stdout",
     "output_type": "stream",
     "text": [
      "(531835, 24)\n",
      "(136259, 24)\n",
      "(131893, 24)\n"
     ]
    }
   ],
   "source": [
    "d_train_coh_global2 = fetch_all_features('basic_fea_coh_global2', 'train', 'aida_conll')\n",
    "d_test_a_coh_global2 = fetch_all_features('basic_fea_coh_global2', 'testa', 'aida_conll')\n",
    "d_test_b_coh_global2 = fetch_all_features('basic_fea_coh_global2', 'testb', 'aida_conll')\n",
    "print(d_train_coh_global2.shape)\n",
    "print(d_test_a_coh_global2.shape)\n",
    "print(d_test_b_coh_global2.shape)"
   ]
  },
  {
   "cell_type": "code",
   "execution_count": 84,
   "metadata": {},
   "outputs": [
    {
     "name": "stdout",
     "output_type": "stream",
     "text": [
      "Building idx for new features...\n",
      "Combine original and new features...\n",
      "Building idx for new features...\n",
      "Combine original and new features...\n",
      "Building idx for new features...\n",
      "Combine original and new features...\n",
      "(531835, 54)\n",
      "(136259, 54)\n",
      "(131893, 54)\n"
     ]
    }
   ],
   "source": [
    "d_train_ctx_coref_coh_global2  = combine_features(d_train_ctx_coref, d_train_coh_global2)\n",
    "d_test_a_ctx_coref_coh_global2 = combine_features(d_test_a_ctx_coref, d_test_a_coh_global2)\n",
    "d_test_b_ctx_coref_coh_global2 = combine_features(d_test_b_ctx_coref, d_test_b_coh_global2)\n",
    "print(d_train_ctx_coref_coh_global2.shape)\n",
    "print(d_test_a_ctx_coref_coh_global2.shape)\n",
    "print(d_test_b_ctx_coref_coh_global2.shape)"
   ]
  },
  {
   "cell_type": "code",
   "execution_count": 125,
   "metadata": {},
   "outputs": [
    {
     "name": "stderr",
     "output_type": "stream",
     "text": [
      "/home/ymiao/.venvs/nerd/lib/python3.5/site-packages/xgboost/core.py:614: UserWarning: Use subset (sliced data) of np.ndarray is not recommended because it will generate extra copies and increase memory consumption\n",
      "  \"because it will generate extra copies and increase memory consumption\")\n"
     ]
    },
    {
     "name": "stdout",
     "output_type": "stream",
     "text": [
      "2019-08-18 17:15:53.223591 Start training\n",
      "2019-08-18 17:39:37.925763 Training finished\n",
      "2019-08-18 17:39:37.926259 Start evaluation\n",
      "n_estimators: 4900, max_depth: 6, acc_training: 0.9754597918127393, corr_num: 18086\n",
      "n_estimators: 4900, max_depth: 6, acc_validation: 0.8966812773951158, corr_num: 4296\n",
      "n_estimators: 4900, max_depth: 6, acc_test: 0.9036789297658863, corr_num: 4053\n",
      "2019-08-18 17:39:45.818873 Evaluation finished\n",
      "2019-08-18 17:39:45.850015 Model Saved: 4900_6_ctx_coref_coh_global2\n"
     ]
    }
   ],
   "source": [
    "process('ctx_coref_coh_global2', \n",
    "        d_train_ctx_coref_coh_global2, d_test_a_ctx_coref_coh_global2, d_test_b_ctx_coref_coh_global2, \n",
    "        d_train_total, d_test_a_total, d_test_b_total,\n",
    "        n_estimators=[4900], max_depths=[6])"
   ]
  },
  {
   "cell_type": "code",
   "execution_count": 126,
   "metadata": {},
   "outputs": [
    {
     "name": "stderr",
     "output_type": "stream",
     "text": [
      "/home/ymiao/.venvs/nerd/lib/python3.5/site-packages/xgboost/core.py:614: UserWarning: Use subset (sliced data) of np.ndarray is not recommended because it will generate extra copies and increase memory consumption\n",
      "  \"because it will generate extra copies and increase memory consumption\")\n"
     ]
    },
    {
     "name": "stdout",
     "output_type": "stream",
     "text": [
      "2019-08-18 18:30:56.291661 Loading model: 4900_6_ctx_coref_coh_global2\n",
      "2019-08-18 18:30:56.309111 Start evaluation\n",
      "18283 18288 0.9860848929399709 0.9863545655574133\n",
      "6.5721247553232995 0.5639766824714253\n",
      "n_estimators: 4900, max_depth: 6, acc_training: 0.9754597918127393, corr_num: 18086\n",
      "4585 4639 0.9570027134209977 0.968273846796076\n",
      "6.396990317589336 2.4666858658532353\n",
      "n_estimators: 4900, max_depth: 6, acc_validation: 0.8966812773951158, corr_num: 4296\n",
      "4323 4377 0.9638795986622074 0.9759197324414716\n",
      "6.318367755398238 2.287468268334026\n",
      "n_estimators: 4900, max_depth: 6, acc_test: 0.9036789297658863, corr_num: 4053\n",
      "2019-08-18 18:31:16.750204 Evaluation finished\n"
     ]
    }
   ],
   "source": [
    "process('ctx_coref_coh_global2', \n",
    "        d_train_ctx_coref_coh_global2, d_test_a_ctx_coref_coh_global2, d_test_b_ctx_coref_coh_global2, \n",
    "        d_train_total, d_test_a_total, d_test_b_total,\n",
    "        n_estimators=[4900], max_depths=[6], train_mode=False, eval_func=evalerror_detail_log_xl)"
   ]
  },
  {
   "cell_type": "code",
   "execution_count": 130,
   "metadata": {},
   "outputs": [
    {
     "name": "stdout",
     "output_type": "stream",
     "text": [
      "18288 4699 4413\n",
      "test_a_filter 12008\n",
      "test_b_filter 11383\n",
      "2019-08-18 18:37:44.108521 Loading model: 4900_6_ctx_coref_coh_global2\n",
      "2019-08-18 18:37:44.129362 Start evaluation\n",
      "n_estimators: 4900, max_depth: 6, acc_training: 0.9754597918127393, corr_num: 18086\n",
      "n_estimators: 4900, max_depth: 6, acc_validation: 0.9307034022124817, corr_num: 4459\n",
      "n_estimators: 4900, max_depth: 6, acc_test: 0.9328874024526198, corr_num: 4184\n",
      "2019-08-18 18:37:59.564449 Evaluation finished\n"
     ]
    }
   ],
   "source": [
    "model = load_model('4900_6_ctx_coref_coh_global')\n",
    "save_local_model_predictions(model, \n",
    "                             d_train_ctx_coref_coh_global, d_train_ctx_raw, \n",
    "                             d_test_a_ctx_coref_coh_global, d_test_a_ctx_raw,  \n",
    "                             d_test_b_ctx_coref_coh_global, d_test_b_ctx_raw, top_k=3)\n",
    "\n",
    "test_a_filter=json.loads(conn.hget('doc-predicted-ents-top-k', 'testa'))\n",
    "test_b_filter=json.loads(conn.hget('doc-predicted-ents-top-k', 'testb'))\n",
    "print('test_a_filter', len(test_a_filter))\n",
    "print('test_b_filter', len(test_b_filter))\n",
    "\n",
    "process('ctx_coref_coh_global2', \n",
    "        d_train_ctx_coref_coh_global2, d_test_a_ctx_coref_coh_global2, d_test_b_ctx_coref_coh_global2, \n",
    "        d_train_total, d_test_a_total, d_test_b_total,\n",
    "        n_estimators=[4900], max_depths=[6], train_mode=False, \n",
    "        test_a_filter=test_a_filter, test_b_filter=test_b_filter)"
   ]
  },
  {
   "cell_type": "code",
   "execution_count": 133,
   "metadata": {},
   "outputs": [
    {
     "name": "stdout",
     "output_type": "stream",
     "text": [
      "Number of groups: 18288 4699 4413\n",
      "test_a_filter 18773\n",
      "test_b_filter 17912\n",
      "2019-08-18 18:42:04.567337 Loading model: 4900_6_ctx_coref_coh_global2\n",
      "2019-08-18 18:42:04.584313 Start evaluation\n",
      "n_estimators: 4900, max_depth: 6, acc_training: 0.9754597918127393, corr_num: 18086\n",
      "n_estimators: 4900, max_depth: 6, acc_validation: 0.9352953454393654, corr_num: 4481\n",
      "n_estimators: 4900, max_depth: 6, acc_test: 0.9348940914158306, corr_num: 4193\n",
      "2019-08-18 18:42:21.044766 Evaluation finished\n"
     ]
    }
   ],
   "source": [
    "model = load_model('4900_6_ctx_coref_coh_global')\n",
    "save_local_model_predictions(model, \n",
    "                             d_train_ctx_coref_coh_global, d_train_ctx_raw, \n",
    "                             d_test_a_ctx_coref_coh_global, d_test_a_ctx_raw,  \n",
    "                             d_test_b_ctx_coref_coh_global, d_test_b_ctx_raw, top_k=5)\n",
    "\n",
    "test_a_filter=json.loads(conn.hget('doc-predicted-ents-top-k', 'testa'))\n",
    "test_b_filter=json.loads(conn.hget('doc-predicted-ents-top-k', 'testb'))\n",
    "print('test_a_filter', len(test_a_filter))\n",
    "print('test_b_filter', len(test_b_filter))\n",
    "\n",
    "process('ctx_coref_coh_global2', \n",
    "        d_train_ctx_coref_coh_global2, d_test_a_ctx_coref_coh_global2, d_test_b_ctx_coref_coh_global2, \n",
    "        d_train_total, d_test_a_total, d_test_b_total,\n",
    "        n_estimators=[4900], max_depths=[6], train_mode=False, \n",
    "        test_a_filter=test_a_filter, test_b_filter=test_b_filter)"
   ]
  },
  {
   "cell_type": "code",
   "execution_count": 134,
   "metadata": {},
   "outputs": [
    {
     "name": "stdout",
     "output_type": "stream",
     "text": [
      "Number of groups: 18288 4699 4413\n"
     ]
    }
   ],
   "source": [
    "model = load_model('4900_6_ctx_coref_coh_global2')\n",
    "save_local_model_predictions(model, \n",
    "                             d_train_ctx_coref_coh_global2, d_train_ctx_raw, \n",
    "                             d_test_a_ctx_coref_coh_global2, d_test_a_ctx_raw,  \n",
    "                             d_test_b_ctx_coref_coh_global2, d_test_b_ctx_raw)"
   ]
  },
  {
   "cell_type": "code",
   "execution_count": 85,
   "metadata": {},
   "outputs": [
    {
     "name": "stdout",
     "output_type": "stream",
     "text": [
      "(531835, 24)\n",
      "(136259, 24)\n",
      "(131893, 24)\n"
     ]
    }
   ],
   "source": [
    "d_train_coh_global3 = fetch_all_features('basic_fea_coh_global3', 'train', 'aida_conll')\n",
    "d_test_a_coh_global3 = fetch_all_features('basic_fea_coh_global3', 'testa', 'aida_conll')\n",
    "d_test_b_coh_global3 = fetch_all_features('basic_fea_coh_global3', 'testb', 'aida_conll')\n",
    "print(d_train_coh_global3.shape)\n",
    "print(d_test_a_coh_global3.shape)\n",
    "print(d_test_b_coh_global3.shape)"
   ]
  },
  {
   "cell_type": "code",
   "execution_count": 86,
   "metadata": {},
   "outputs": [
    {
     "name": "stdout",
     "output_type": "stream",
     "text": [
      "Building idx for new features...\n",
      "Combine original and new features...\n",
      "Building idx for new features...\n",
      "Combine original and new features...\n",
      "Building idx for new features...\n",
      "Combine original and new features...\n",
      "(531835, 54)\n",
      "(136259, 54)\n",
      "(131893, 54)\n"
     ]
    }
   ],
   "source": [
    "d_train_ctx_coref_coh_global3  = combine_features(d_train_ctx_coref, d_train_coh_global3)\n",
    "d_test_a_ctx_coref_coh_global3 = combine_features(d_test_a_ctx_coref, d_test_a_coh_global3)\n",
    "d_test_b_ctx_coref_coh_global3 = combine_features(d_test_b_ctx_coref, d_test_b_coh_global3)\n",
    "print(d_train_ctx_coref_coh_global3.shape)\n",
    "print(d_test_a_ctx_coref_coh_global3.shape)\n",
    "print(d_test_b_ctx_coref_coh_global3.shape)"
   ]
  },
  {
   "cell_type": "code",
   "execution_count": 137,
   "metadata": {},
   "outputs": [
    {
     "name": "stdout",
     "output_type": "stream",
     "text": [
      "2019-08-18 21:03:12.099376 Start training\n",
      "2019-08-18 21:23:23.152517 Training finished\n",
      "2019-08-18 21:23:23.153027 Start evaluation\n",
      "n_estimators: 4900, max_depth: 6, acc_training: 0.9755676608597164, corr_num: 18088\n",
      "n_estimators: 4900, max_depth: 6, acc_validation: 0.897307451471509, corr_num: 4299\n",
      "n_estimators: 4900, max_depth: 6, acc_test: 0.9083612040133779, corr_num: 4074\n",
      "2019-08-18 21:23:30.953078 Evaluation finished\n",
      "2019-08-18 21:23:30.983750 Model Saved: 4900_6_ctx_coref_coh_global3\n"
     ]
    }
   ],
   "source": [
    "process('ctx_coref_coh_global3', \n",
    "        d_train_ctx_coref_coh_global3, d_test_a_ctx_coref_coh_global3, d_test_b_ctx_coref_coh_global3, \n",
    "        d_train_total, d_test_a_total, d_test_b_total,\n",
    "        n_estimators=[4900], max_depths=[6])"
   ]
  },
  {
   "cell_type": "code",
   "execution_count": 139,
   "metadata": {},
   "outputs": [
    {
     "name": "stdout",
     "output_type": "stream",
     "text": [
      "Number of groups: 18288 4699 4413\n",
      "test_a_filter 12008\n",
      "test_b_filter 11383\n",
      "2019-08-18 21:47:41.418188 Loading model: 4900_6_ctx_coref_coh_global3\n",
      "2019-08-18 21:47:41.435355 Start evaluation\n",
      "n_estimators: 4900, max_depth: 6, acc_training: 0.9755676608597164, corr_num: 18088\n",
      "n_estimators: 4900, max_depth: 6, acc_validation: 0.9323731997495304, corr_num: 4467\n",
      "n_estimators: 4900, max_depth: 6, acc_test: 0.9369007803790412, corr_num: 4202\n",
      "2019-08-18 21:47:56.788129 Evaluation finished\n"
     ]
    }
   ],
   "source": [
    "model = load_model('4900_6_ctx_coref_coh_global2')\n",
    "save_local_model_predictions(model, \n",
    "                             d_train_ctx_coref_coh_global2, d_train_ctx_raw, \n",
    "                             d_test_a_ctx_coref_coh_global2, d_test_a_ctx_raw,  \n",
    "                             d_test_b_ctx_coref_coh_global2, d_test_b_ctx_raw, top_k=3)\n",
    "\n",
    "test_a_filter=json.loads(conn.hget('doc-predicted-ents-top-k', 'testa'))\n",
    "test_b_filter=json.loads(conn.hget('doc-predicted-ents-top-k', 'testb'))\n",
    "print('test_a_filter', len(test_a_filter))\n",
    "print('test_b_filter', len(test_b_filter))\n",
    "\n",
    "process('ctx_coref_coh_global3', \n",
    "        d_train_ctx_coref_coh_global3, d_test_a_ctx_coref_coh_global3, d_test_b_ctx_coref_coh_global3, \n",
    "        d_train_total, d_test_a_total, d_test_b_total,\n",
    "        n_estimators=[4900], max_depths=[6], train_mode=False, \n",
    "        test_a_filter=test_a_filter, test_b_filter=test_b_filter)"
   ]
  },
  {
   "cell_type": "code",
   "execution_count": 138,
   "metadata": {},
   "outputs": [
    {
     "name": "stdout",
     "output_type": "stream",
     "text": [
      "Number of groups: 18288 4699 4413\n",
      "test_a_filter 18773\n",
      "test_b_filter 17912\n",
      "2019-08-18 21:45:48.193852 Loading model: 4900_6_ctx_coref_coh_global3\n",
      "2019-08-18 21:45:48.211063 Start evaluation\n",
      "n_estimators: 4900, max_depth: 6, acc_training: 0.9755676608597164, corr_num: 18088\n",
      "n_estimators: 4900, max_depth: 6, acc_validation: 0.9380087664370695, corr_num: 4494\n",
      "n_estimators: 4900, max_depth: 6, acc_test: 0.9380156075808249, corr_num: 4207\n",
      "2019-08-18 21:46:04.691186 Evaluation finished\n"
     ]
    }
   ],
   "source": [
    "model = load_model('4900_6_ctx_coref_coh_global2')\n",
    "save_local_model_predictions(model, \n",
    "                             d_train_ctx_coref_coh_global2, d_train_ctx_raw, \n",
    "                             d_test_a_ctx_coref_coh_global2, d_test_a_ctx_raw,  \n",
    "                             d_test_b_ctx_coref_coh_global2, d_test_b_ctx_raw, top_k=5)\n",
    "\n",
    "test_a_filter=json.loads(conn.hget('doc-predicted-ents-top-k', 'testa'))\n",
    "test_b_filter=json.loads(conn.hget('doc-predicted-ents-top-k', 'testb'))\n",
    "print('test_a_filter', len(test_a_filter))\n",
    "print('test_b_filter', len(test_b_filter))\n",
    "\n",
    "process('ctx_coref_coh_global3', \n",
    "        d_train_ctx_coref_coh_global3, d_test_a_ctx_coref_coh_global3, d_test_b_ctx_coref_coh_global3, \n",
    "        d_train_total, d_test_a_total, d_test_b_total,\n",
    "        n_estimators=[4900], max_depths=[6], train_mode=False, \n",
    "        test_a_filter=test_a_filter, test_b_filter=test_b_filter)"
   ]
  },
  {
   "cell_type": "code",
   "execution_count": 140,
   "metadata": {},
   "outputs": [
    {
     "name": "stdout",
     "output_type": "stream",
     "text": [
      "Number of groups: 18288 4699 4413\n"
     ]
    }
   ],
   "source": [
    "model = load_model('4900_6_ctx_coref_coh_global3')\n",
    "save_local_model_predictions(model, \n",
    "                             d_train_ctx_coref_coh_global3, d_train_ctx_raw, \n",
    "                             d_test_a_ctx_coref_coh_global3, d_test_a_ctx_raw,  \n",
    "                             d_test_b_ctx_coref_coh_global3, d_test_b_ctx_raw)"
   ]
  },
  {
   "cell_type": "code",
   "execution_count": 87,
   "metadata": {},
   "outputs": [
    {
     "name": "stdout",
     "output_type": "stream",
     "text": [
      "(531835, 24)\n",
      "(136259, 24)\n",
      "(131893, 24)\n"
     ]
    }
   ],
   "source": [
    "d_train_coh_global4 = fetch_all_features('basic_fea_coh_global4', 'train', 'aida_conll')\n",
    "d_test_a_coh_global4 = fetch_all_features('basic_fea_coh_global4', 'testa', 'aida_conll')\n",
    "d_test_b_coh_global4 = fetch_all_features('basic_fea_coh_global4', 'testb', 'aida_conll')\n",
    "print(d_train_coh_global4.shape)\n",
    "print(d_test_a_coh_global4.shape)\n",
    "print(d_test_b_coh_global4.shape)"
   ]
  },
  {
   "cell_type": "code",
   "execution_count": 88,
   "metadata": {},
   "outputs": [
    {
     "name": "stdout",
     "output_type": "stream",
     "text": [
      "Building idx for new features...\n",
      "Combine original and new features...\n",
      "Building idx for new features...\n",
      "Combine original and new features...\n",
      "Building idx for new features...\n",
      "Combine original and new features...\n",
      "(531835, 54)\n",
      "(136259, 54)\n",
      "(131893, 54)\n"
     ]
    }
   ],
   "source": [
    "d_train_ctx_coref_coh_global4  = combine_features(d_train_ctx_coref, d_train_coh_global4)\n",
    "d_test_a_ctx_coref_coh_global4 = combine_features(d_test_a_ctx_coref, d_test_a_coh_global4)\n",
    "d_test_b_ctx_coref_coh_global4 = combine_features(d_test_b_ctx_coref, d_test_b_coh_global4)\n",
    "print(d_train_ctx_coref_coh_global4.shape)\n",
    "print(d_test_a_ctx_coref_coh_global4.shape)\n",
    "print(d_test_b_ctx_coref_coh_global4.shape)"
   ]
  },
  {
   "cell_type": "code",
   "execution_count": 143,
   "metadata": {},
   "outputs": [
    {
     "name": "stdout",
     "output_type": "stream",
     "text": [
      "2019-08-19 00:38:00.343219 Start training\n",
      "2019-08-19 00:59:38.845629 Training finished\n",
      "2019-08-19 00:59:38.846134 Start evaluation\n",
      "n_estimators: 4900, max_depth: 6, acc_training: 0.9755676608597164, corr_num: 18088\n",
      "n_estimators: 4900, max_depth: 6, acc_validation: 0.8964725527029848, corr_num: 4295\n",
      "n_estimators: 4900, max_depth: 6, acc_test: 0.9059085841694537, corr_num: 4063\n",
      "2019-08-19 00:59:45.734847 Evaluation finished\n",
      "2019-08-19 00:59:45.767034 Model Saved: 4900_6_ctx_coref_coh_global4\n"
     ]
    }
   ],
   "source": [
    "process('ctx_coref_coh_global4', \n",
    "        d_train_ctx_coref_coh_global4, d_test_a_ctx_coref_coh_global4, d_test_b_ctx_coref_coh_global4, \n",
    "        d_train_total, d_test_a_total, d_test_b_total,\n",
    "        n_estimators=[4900], max_depths=[6])"
   ]
  },
  {
   "cell_type": "code",
   "execution_count": 36,
   "metadata": {},
   "outputs": [
    {
     "name": "stdout",
     "output_type": "stream",
     "text": [
      "Number of groups: 18288 4699 4413\n",
      "test_a_filter 12008\n",
      "test_b_filter 11383\n",
      "2019-08-26 01:03:54.222079 Loading model: 4900_6_ctx_coref_coh_global4\n",
      "2019-08-26 01:03:54.265395 Start evaluation\n",
      "n_estimators: 4900, max_depth: 6, acc_training: 0.9755676608597164, corr_num: 18088\n",
      "n_estimators: 4900, max_depth: 6, acc_validation: 0.9315383009810061, corr_num: 4463\n",
      "n_estimators: 4900, max_depth: 6, acc_test: 0.9348940914158306, corr_num: 4193\n",
      "2019-08-26 01:04:07.103186 Evaluation finished\n"
     ]
    }
   ],
   "source": [
    "model = load_model('4900_6_ctx_coref_coh_global3')\n",
    "save_local_model_predictions(model, \n",
    "                             d_train_ctx_coref_coh_global3, d_train_ctx_raw, \n",
    "                             d_test_a_ctx_coref_coh_global3, d_test_a_ctx_raw,  \n",
    "                             d_test_b_ctx_coref_coh_global3, d_test_b_ctx_raw, top_k=3)\n",
    "\n",
    "test_a_filter=json.loads(conn.hget('doc-predicted-ents-top-k', 'testa'))\n",
    "test_b_filter=json.loads(conn.hget('doc-predicted-ents-top-k', 'testb'))\n",
    "print('test_a_filter', len(test_a_filter))\n",
    "print('test_b_filter', len(test_b_filter))\n",
    "\n",
    "process('ctx_coref_coh_global4', \n",
    "        d_train_ctx_coref_coh_global4, d_test_a_ctx_coref_coh_global4, d_test_b_ctx_coref_coh_global4, \n",
    "        d_train_total, d_test_a_total, d_test_b_total,\n",
    "        n_estimators=[4900], max_depths=[6], train_mode=False, \n",
    "        test_a_filter=test_a_filter, test_b_filter=test_b_filter)"
   ]
  },
  {
   "cell_type": "code",
   "execution_count": 37,
   "metadata": {},
   "outputs": [
    {
     "name": "stdout",
     "output_type": "stream",
     "text": [
      "Number of groups: 18288 4699 4413\n",
      "test_a_filter 18773\n",
      "test_b_filter 17912\n",
      "2019-08-26 01:04:45.244714 Loading model: 4900_6_ctx_coref_coh_global4\n",
      "2019-08-26 01:04:45.259814 Start evaluation\n",
      "n_estimators: 4900, max_depth: 6, acc_training: 0.9755676608597164, corr_num: 18088\n",
      "n_estimators: 4900, max_depth: 6, acc_validation: 0.9359215195157587, corr_num: 4484\n",
      "n_estimators: 4900, max_depth: 6, acc_test: 0.937123745819398, corr_num: 4203\n",
      "2019-08-26 01:04:58.289217 Evaluation finished\n"
     ]
    }
   ],
   "source": [
    "model = load_model('4900_6_ctx_coref_coh_global3')\n",
    "save_local_model_predictions(model, \n",
    "                             d_train_ctx_coref_coh_global3, d_train_ctx_raw, \n",
    "                             d_test_a_ctx_coref_coh_global3, d_test_a_ctx_raw,  \n",
    "                             d_test_b_ctx_coref_coh_global3, d_test_b_ctx_raw, top_k=5)\n",
    "\n",
    "test_a_filter=json.loads(conn.hget('doc-predicted-ents-top-k', 'testa'))\n",
    "test_b_filter=json.loads(conn.hget('doc-predicted-ents-top-k', 'testb'))\n",
    "print('test_a_filter', len(test_a_filter))\n",
    "print('test_b_filter', len(test_b_filter))\n",
    "\n",
    "process('ctx_coref_coh_global4', \n",
    "        d_train_ctx_coref_coh_global4, d_test_a_ctx_coref_coh_global4, d_test_b_ctx_coref_coh_global4, \n",
    "        d_train_total, d_test_a_total, d_test_b_total,\n",
    "        n_estimators=[4900], max_depths=[6], train_mode=False, \n",
    "        test_a_filter=test_a_filter, test_b_filter=test_b_filter)"
   ]
  },
  {
   "cell_type": "code",
   "execution_count": 38,
   "metadata": {},
   "outputs": [],
   "source": [
    "def save_ground_truths_as_local_model_predictions(raw_data, docs_dict):\n",
    "    predictions = []\n",
    "    for row in raw_data:\n",
    "        mention_id, entity = eval(row[0])\n",
    "        if row[-1]:\n",
    "            predictions.append((mention_id, entity))\n",
    "        \n",
    "    print('Number of groups:', len(predictions))\n",
    "    \n",
    "    doc_id_q_ent_lists_dict = defaultdict(list)\n",
    "    for q_ent in predictions:\n",
    "        doc_id_q_ent_lists_dict[docs_dict[q_ent[0]]].append(q_ent)\n",
    "    \n",
    "    for key, vals in doc_id_q_ent_lists_dict.items():\n",
    "        conn.hset('doc-predicted-ents-coref-new-for-review', key, json.dumps(vals))"
   ]
  },
  {
   "cell_type": "code",
   "execution_count": 48,
   "metadata": {},
   "outputs": [
    {
     "name": "stdout",
     "output_type": "stream",
     "text": [
      "Number of groups: 18288\n"
     ]
    }
   ],
   "source": [
    "save_ground_truths_as_local_model_predictions(d_train_ctx_raw, q_docs_dict)"
   ]
  },
  {
   "cell_type": "code",
   "execution_count": 51,
   "metadata": {},
   "outputs": [
    {
     "name": "stdout",
     "output_type": "stream",
     "text": [
      "(531835, 24)\n",
      "(136259, 24)\n",
      "(131893, 24)\n"
     ]
    }
   ],
   "source": [
    "d_train_coh_gt = fetch_all_features('basic_fea_coh_gt', 'train', 'aida_conll')\n",
    "print(d_train_coh_gt.shape)"
   ]
  },
  {
   "cell_type": "code",
   "execution_count": 52,
   "metadata": {},
   "outputs": [
    {
     "name": "stdout",
     "output_type": "stream",
     "text": [
      "Building idx for new features...\n",
      "Combine original and new features...\n",
      "Building idx for new features...\n",
      "Combine original and new features...\n",
      "Building idx for new features...\n",
      "Combine original and new features...\n",
      "(531835, 54)\n",
      "(136259, 54)\n",
      "(131893, 54)\n"
     ]
    }
   ],
   "source": [
    "d_train_ctx_coref_coh_gt  = combine_features(d_train_ctx_coref, d_train_coh_gt)\n",
    "print(d_train_ctx_coref_coh_gt.shape)"
   ]
  },
  {
   "cell_type": "code",
   "execution_count": 68,
   "metadata": {},
   "outputs": [
    {
     "name": "stdout",
     "output_type": "stream",
     "text": [
      "2019-08-26 17:26:31.328742 Start training\n",
      "2019-08-26 17:42:02.539844 Training finished\n",
      "2019-08-26 17:42:02.540337 Start evaluation\n",
      "n_estimators: 4900, max_depth: 6, acc_training: 0.9819319346313575, corr_num: 18206\n",
      "n_estimators: 4900, max_depth: 6, acc_validation: 0.8956376539344605, corr_num: 4291\n",
      "n_estimators: 4900, max_depth: 6, acc_test: 0.8900780379041249, corr_num: 3992\n",
      "2019-08-26 17:42:09.484751 Evaluation finished\n",
      "2019-08-26 17:42:09.533159 Model Saved: 4900_6_ctx_coref_coh_gt\n"
     ]
    }
   ],
   "source": [
    "process('ctx_coref_coh_gt', \n",
    "        d_train_ctx_coref_coh_gt, d_test_a_ctx_coref_coh, d_test_b_ctx_coref_coh, \n",
    "        d_train_total, d_test_a_total, d_test_b_total,\n",
    "        n_estimators=[4900], max_depths=[6])"
   ]
  },
  {
   "cell_type": "code",
   "execution_count": 69,
   "metadata": {},
   "outputs": [
    {
     "name": "stdout",
     "output_type": "stream",
     "text": [
      "Number of groups: 18288 4699 4413\n",
      "test_a_filter 12008\n",
      "test_b_filter 11383\n",
      "2019-08-26 17:42:40.314359 Loading model: 4900_6_ctx_coref_coh_gt\n",
      "2019-08-26 17:42:40.332039 Start evaluation\n",
      "n_estimators: 4900, max_depth: 6, acc_training: 0.9819319346313575, corr_num: 18206\n",
      "n_estimators: 4900, max_depth: 6, acc_validation: 0.9087873095387184, corr_num: 4354\n",
      "n_estimators: 4900, max_depth: 6, acc_test: 0.8918617614269788, corr_num: 4000\n",
      "2019-08-26 17:42:54.607714 Evaluation finished\n"
     ]
    }
   ],
   "source": [
    "model = load_model('4900_6_ctx_coref')\n",
    "save_local_model_predictions(model, \n",
    "                             d_train_ctx_coref, d_train_ctx_raw, \n",
    "                             d_test_a_ctx_coref, d_test_a_ctx_raw,  \n",
    "                             d_test_b_ctx_coref, d_test_b_ctx_raw, top_k=3)\n",
    "\n",
    "test_a_filter=json.loads(conn.hget('doc-predicted-ents-top-k', 'testa'))\n",
    "test_b_filter=json.loads(conn.hget('doc-predicted-ents-top-k', 'testb'))\n",
    "print('test_a_filter', len(test_a_filter))\n",
    "print('test_b_filter', len(test_b_filter))\n",
    "\n",
    "process('ctx_coref_coh_gt', d_train_ctx_coref_coh_gt, d_test_a_ctx_coref_coh, d_test_b_ctx_coref_coh, \n",
    "        d_train_total, d_test_a_total, d_test_b_total,\n",
    "        n_estimators=[4900], max_depths=[6], train_mode=False, \n",
    "        test_a_filter=test_a_filter, test_b_filter=test_b_filter)"
   ]
  },
  {
   "cell_type": "code",
   "execution_count": 70,
   "metadata": {},
   "outputs": [
    {
     "name": "stdout",
     "output_type": "stream",
     "text": [
      "Number of groups: 18288 4699 4413\n",
      "test_a_filter 18773\n",
      "test_b_filter 17912\n",
      "2019-08-26 17:43:25.270551 Loading model: 4900_6_ctx_coref_coh_gt\n",
      "2019-08-26 17:43:25.287837 Start evaluation\n",
      "n_estimators: 4900, max_depth: 6, acc_training: 0.9819319346313575, corr_num: 18206\n",
      "n_estimators: 4900, max_depth: 6, acc_validation: 0.9119181799206846, corr_num: 4369\n",
      "n_estimators: 4900, max_depth: 6, acc_test: 0.9063545150501672, corr_num: 4065\n",
      "2019-08-26 17:43:39.535228 Evaluation finished\n"
     ]
    }
   ],
   "source": [
    "model = load_model('4900_6_ctx_coref')\n",
    "save_local_model_predictions(model, \n",
    "                             d_train_ctx_coref, d_train_ctx_raw, \n",
    "                             d_test_a_ctx_coref, d_test_a_ctx_raw,  \n",
    "                             d_test_b_ctx_coref, d_test_b_ctx_raw, top_k=5)\n",
    "\n",
    "test_a_filter=json.loads(conn.hget('doc-predicted-ents-top-k', 'testa'))\n",
    "test_b_filter=json.loads(conn.hget('doc-predicted-ents-top-k', 'testb'))\n",
    "print('test_a_filter', len(test_a_filter))\n",
    "print('test_b_filter', len(test_b_filter))\n",
    "\n",
    "process('ctx_coref_coh_gt', d_train_ctx_coref_coh_gt, d_test_a_ctx_coref_coh, d_test_b_ctx_coref_coh, \n",
    "        d_train_total, d_test_a_total, d_test_b_total,\n",
    "        n_estimators=[4900], max_depths=[6], train_mode=False, \n",
    "        test_a_filter=test_a_filter, test_b_filter=test_b_filter)"
   ]
  },
  {
   "cell_type": "code",
   "execution_count": 71,
   "metadata": {},
   "outputs": [
    {
     "name": "stdout",
     "output_type": "stream",
     "text": [
      "(531835, 35)\n",
      "(136259, 35)\n",
      "(131893, 35)\n"
     ]
    }
   ],
   "source": [
    "d_train_coh_ext = fetch_all_features('basic_fea_coh_ext', 'train', 'aida_conll')\n",
    "d_test_a_coh_ext = fetch_all_features('basic_fea_coh_ext', 'testa', 'aida_conll')\n",
    "d_test_b_coh_ext = fetch_all_features('basic_fea_coh_ext', 'testb', 'aida_conll')\n",
    "print(d_train_coh_ext.shape)\n",
    "print(d_test_a_coh_ext.shape)\n",
    "print(d_test_b_coh_ext.shape)"
   ]
  },
  {
   "cell_type": "code",
   "execution_count": 72,
   "metadata": {},
   "outputs": [
    {
     "name": "stdout",
     "output_type": "stream",
     "text": [
      "Building idx for new features...\n",
      "Combine original and new features...\n",
      "Building idx for new features...\n",
      "Combine original and new features...\n",
      "Building idx for new features...\n",
      "Combine original and new features...\n",
      "(531835, 65)\n",
      "(136259, 65)\n",
      "(131893, 65)\n"
     ]
    }
   ],
   "source": [
    "d_train_ctx_coref_coh_ext  = combine_features(d_train_ctx_coref, d_train_coh_ext)\n",
    "d_test_a_ctx_coref_coh_ext = combine_features(d_test_a_ctx_coref, d_test_a_coh_ext)\n",
    "d_test_b_ctx_coref_coh_ext = combine_features(d_test_b_ctx_coref, d_test_b_coh_ext)\n",
    "print(d_train_ctx_coref_coh_ext.shape)\n",
    "print(d_test_a_ctx_coref_coh_ext.shape)\n",
    "print(d_test_b_ctx_coref_coh_ext.shape)"
   ]
  },
  {
   "cell_type": "code",
   "execution_count": 73,
   "metadata": {},
   "outputs": [
    {
     "name": "stdout",
     "output_type": "stream",
     "text": [
      "2019-08-27 12:33:57.719713 Start training\n",
      "2019-08-27 14:39:52.721716 Training finished\n",
      "2019-08-27 14:39:52.722342 Start evaluation\n",
      "n_estimators: 4900, max_depth: 6, acc_training: 0.9761609406180897, corr_num: 18099\n",
      "n_estimators: 4900, max_depth: 6, acc_validation: 0.8956376539344605, corr_num: 4291\n",
      "n_estimators: 4900, max_depth: 6, acc_test: 0.8967670011148272, corr_num: 4022\n",
      "2019-08-27 14:40:02.717558 Evaluation finished\n",
      "2019-08-27 14:40:02.751813 Model Saved: 4900_6_ctx_coref_coh_ext\n"
     ]
    }
   ],
   "source": [
    "process('ctx_coref_coh_ext', \n",
    "        d_train_ctx_coref_coh_ext, d_test_a_ctx_coref_coh_ext, d_test_b_ctx_coref_coh_ext, \n",
    "        d_train_total, d_test_a_total, d_test_b_total,\n",
    "        n_estimators=[4900], max_depths=[6])"
   ]
  },
  {
   "cell_type": "code",
   "execution_count": 80,
   "metadata": {},
   "outputs": [
    {
     "name": "stderr",
     "output_type": "stream",
     "text": [
      "/home/ymiao/.venvs/nerd/lib/python3.5/site-packages/xgboost/core.py:614: UserWarning: Use subset (sliced data) of np.ndarray is not recommended because it will generate extra copies and increase memory consumption\n",
      "  \"because it will generate extra copies and increase memory consumption\")\n"
     ]
    },
    {
     "name": "stdout",
     "output_type": "stream",
     "text": [
      "testa filter 12008\n",
      "testb filter 11383\n",
      "2019-08-27 16:45:27.514111 Loading model: 4900_6_ctx_coref_coh_ext\n",
      "2019-08-27 16:45:27.532958 Start evaluation\n",
      "n_estimators: 4900, max_depth: 6, acc_training: 0.9761609406180897, corr_num: 18099\n",
      "n_estimators: 4900, max_depth: 6, acc_validation: 0.9106658317678982, corr_num: 4363\n",
      "n_estimators: 4900, max_depth: 6, acc_test: 0.8918617614269788, corr_num: 4000\n",
      "2019-08-27 16:45:44.049162 Evaluation finished\n"
     ]
    }
   ],
   "source": [
    "model = load_model('4900_6_ctx_coref')\n",
    "\n",
    "test_a_filter = get_top_k_prediction_indices(model, d_test_a_ctx_coref, d_test_a_ctx_raw, q_docs_dict, 3)\n",
    "test_b_filter = get_top_k_prediction_indices(model, d_test_b_ctx_coref, d_test_b_ctx_raw, q_docs_dict, 3)\n",
    "\n",
    "print('testa filter', len(test_a_filter))\n",
    "print('testb filter', len(test_b_filter))\n",
    "\n",
    "process('ctx_coref_coh_ext', d_train_ctx_coref_coh_ext, d_test_a_ctx_coref_coh_ext, d_test_b_ctx_coref_coh_ext, \n",
    "        d_train_total, d_test_a_total, d_test_b_total,\n",
    "        n_estimators=[4900], max_depths=[6], train_mode=False, \n",
    "        test_a_filter=test_a_filter, test_b_filter=test_b_filter)"
   ]
  },
  {
   "cell_type": "code",
   "execution_count": 81,
   "metadata": {},
   "outputs": [
    {
     "name": "stdout",
     "output_type": "stream",
     "text": [
      "testa filter 18773\n",
      "testb filter 17912\n",
      "2019-08-27 16:45:52.489350 Loading model: 4900_6_ctx_coref_coh_ext\n",
      "2019-08-27 16:45:52.507812 Start evaluation\n",
      "n_estimators: 4900, max_depth: 6, acc_training: 0.9761609406180897, corr_num: 18099\n",
      "n_estimators: 4900, max_depth: 6, acc_validation: 0.9148403256105198, corr_num: 4383\n",
      "n_estimators: 4900, max_depth: 6, acc_test: 0.9092530657748049, corr_num: 4078\n",
      "2019-08-27 16:46:09.149866 Evaluation finished\n"
     ]
    }
   ],
   "source": [
    "model = load_model('4900_6_ctx_coref')\n",
    "\n",
    "test_a_filter = get_top_k_prediction_indices(model, d_test_a_ctx_coref, d_test_a_ctx_raw, q_docs_dict, 5)\n",
    "test_b_filter = get_top_k_prediction_indices(model, d_test_b_ctx_coref, d_test_b_ctx_raw, q_docs_dict, 5)\n",
    "\n",
    "print('testa filter', len(test_a_filter))\n",
    "print('testb filter', len(test_b_filter))\n",
    "\n",
    "process('ctx_coref_coh_ext', d_train_ctx_coref_coh_ext, d_test_a_ctx_coref_coh_ext, d_test_b_ctx_coref_coh_ext, \n",
    "        d_train_total, d_test_a_total, d_test_b_total,\n",
    "        n_estimators=[4900], max_depths=[6], train_mode=False, \n",
    "        test_a_filter=test_a_filter, test_b_filter=test_b_filter)"
   ]
  },
  {
   "cell_type": "code",
   "execution_count": 137,
   "metadata": {},
   "outputs": [
    {
     "name": "stdout",
     "output_type": "stream",
     "text": [
      "(531835, 35)\n",
      "(136259, 35)\n",
      "(131893, 35)\n",
      "Building idx for new features...\n",
      "Combine original and new features...\n",
      "Building idx for new features...\n",
      "Combine original and new features...\n",
      "Building idx for new features...\n",
      "Combine original and new features...\n",
      "(531835, 65)\n",
      "(136259, 65)\n",
      "(131893, 65)\n"
     ]
    }
   ],
   "source": [
    "d_train_coh_ext_global = fetch_all_features('basic_fea_coh_ext_global', 'train', 'aida_conll')\n",
    "d_test_a_coh_ext_global = fetch_all_features('basic_fea_coh_ext_global', 'testa', 'aida_conll')\n",
    "d_test_b_coh_ext_global = fetch_all_features('basic_fea_coh_ext_global', 'testb', 'aida_conll')\n",
    "print(d_train_coh_ext_global.shape)\n",
    "print(d_test_a_coh_ext_global.shape)\n",
    "print(d_test_b_coh_ext_global.shape)\n",
    "d_train_ctx_coref_coh_ext_global  = combine_features(d_train_ctx_coref, d_train_coh_ext_global)\n",
    "d_test_a_ctx_coref_coh_ext_global = combine_features(d_test_a_ctx_coref, d_test_a_coh_ext_global)\n",
    "d_test_b_ctx_coref_coh_ext_global = combine_features(d_test_b_ctx_coref, d_test_b_coh_ext_global)\n",
    "print(d_train_ctx_coref_coh_ext_global.shape)\n",
    "print(d_test_a_ctx_coref_coh_ext_global.shape)\n",
    "print(d_test_b_ctx_coref_coh_ext_global.shape)"
   ]
  },
  {
   "cell_type": "code",
   "execution_count": 138,
   "metadata": {},
   "outputs": [
    {
     "name": "stdout",
     "output_type": "stream",
     "text": [
      "2019-08-28 13:56:46.325413 Start training\n",
      "2019-08-28 16:28:21.910459 Training finished\n",
      "2019-08-28 16:28:21.911370 Start evaluation\n",
      "n_estimators: 4900, max_depth: 6, acc_training: 0.9761609406180897, corr_num: 18099\n",
      "n_estimators: 4900, max_depth: 6, acc_validation: 0.8985597996242956, corr_num: 4305\n",
      "n_estimators: 4900, max_depth: 6, acc_test: 0.9034559643255295, corr_num: 4052\n",
      "2019-08-28 16:28:31.511281 Evaluation finished\n",
      "2019-08-28 16:28:31.559428 Model Saved: 4900_6_ctx_coref_coh_ext_global\n"
     ]
    }
   ],
   "source": [
    "process('ctx_coref_coh_ext_global', \n",
    "        d_train_ctx_coref_coh_ext_global, d_test_a_ctx_coref_coh_ext_global, d_test_b_ctx_coref_coh_ext_global, \n",
    "        d_train_total, d_test_a_total, d_test_b_total,\n",
    "        n_estimators=[4900], max_depths=[6])"
   ]
  },
  {
   "cell_type": "code",
   "execution_count": null,
   "metadata": {},
   "outputs": [],
   "source": []
  },
  {
   "cell_type": "code",
   "execution_count": 133,
   "metadata": {},
   "outputs": [
    {
     "name": "stdout",
     "output_type": "stream",
     "text": [
      "=== Top K=1 ===\n",
      "test_a_filter 4699\n",
      "test_b_filter 4413\n",
      "2019-08-28 11:47:23.452617 Loading model: 4900_6_ctx_coref_coh\n",
      "2019-08-28 11:47:23.478154 Start evaluation\n",
      "n_estimators: 4900, max_depth: 6, acc_training: 0.9752979882422739, corr_num: 18083\n",
      "n_estimators: 4900, max_depth: 6, acc_validation: 0.8874973909413484, corr_num: 4252\n",
      "n_estimators: 4900, max_depth: 6, acc_test: 0.8430323299888517, corr_num: 3781\n",
      "2019-08-28 11:47:44.702012 Evaluation finished\n",
      "=== Top K=2 ===\n",
      "test_a_filter 8458\n",
      "test_b_filter 7991\n",
      "2019-08-28 11:47:52.889409 Loading model: 4900_6_ctx_coref_coh\n",
      "2019-08-28 11:47:52.914741 Start evaluation\n",
      "n_estimators: 4900, max_depth: 6, acc_training: 0.9752979882422739, corr_num: 18083\n",
      "n_estimators: 4900, max_depth: 6, acc_validation: 0.894594030473805, corr_num: 4286\n",
      "n_estimators: 4900, max_depth: 6, acc_test: 0.8644370122630992, corr_num: 3877\n",
      "2019-08-28 11:48:13.272880 Evaluation finished\n",
      "=== Top K=3 ===\n",
      "test_a_filter 12008\n",
      "test_b_filter 11383\n",
      "2019-08-28 11:48:20.877886 Loading model: 4900_6_ctx_coref_coh\n",
      "2019-08-28 11:48:20.905517 Start evaluation\n",
      "n_estimators: 4900, max_depth: 6, acc_training: 0.9752979882422739, corr_num: 18083\n",
      "n_estimators: 4900, max_depth: 6, acc_validation: 0.8939678563974118, corr_num: 4283\n",
      "n_estimators: 4900, max_depth: 6, acc_test: 0.8802675585284281, corr_num: 3948\n",
      "2019-08-28 11:48:41.421492 Evaluation finished\n",
      "=== Top K=4 ===\n",
      "test_a_filter 15435\n",
      "test_b_filter 14686\n",
      "2019-08-28 11:48:49.220664 Loading model: 4900_6_ctx_coref_coh\n",
      "2019-08-28 11:48:49.247925 Start evaluation\n",
      "n_estimators: 4900, max_depth: 6, acc_training: 0.9752979882422739, corr_num: 18083\n",
      "n_estimators: 4900, max_depth: 6, acc_validation: 0.8950114798580672, corr_num: 4288\n",
      "n_estimators: 4900, max_depth: 6, acc_test: 0.8871794871794871, corr_num: 3979\n",
      "2019-08-28 11:49:09.228955 Evaluation finished\n",
      "=== Top K=5 ===\n",
      "test_a_filter 18773\n",
      "test_b_filter 17912\n",
      "2019-08-28 11:49:16.921337 Loading model: 4900_6_ctx_coref_coh\n",
      "2019-08-28 11:49:16.948503 Start evaluation\n",
      "n_estimators: 4900, max_depth: 6, acc_training: 0.9752979882422739, corr_num: 18083\n",
      "n_estimators: 4900, max_depth: 6, acc_validation: 0.8950114798580672, corr_num: 4288\n",
      "n_estimators: 4900, max_depth: 6, acc_test: 0.8896321070234113, corr_num: 3990\n",
      "2019-08-28 11:49:37.026407 Evaluation finished\n",
      "=== Top K=6 ===\n",
      "test_a_filter 22049\n",
      "test_b_filter 21074\n",
      "2019-08-28 11:49:44.849536 Loading model: 4900_6_ctx_coref_coh\n",
      "2019-08-28 11:49:44.876561 Start evaluation\n",
      "n_estimators: 4900, max_depth: 6, acc_training: 0.9752979882422739, corr_num: 18083\n",
      "n_estimators: 4900, max_depth: 6, acc_validation: 0.8950114798580672, corr_num: 4288\n",
      "n_estimators: 4900, max_depth: 6, acc_test: 0.8923076923076924, corr_num: 4002\n",
      "2019-08-28 11:50:06.137218 Evaluation finished\n",
      "=== Top K=7 ===\n",
      "test_a_filter 25259\n",
      "test_b_filter 24190\n",
      "2019-08-28 11:50:13.832264 Loading model: 4900_6_ctx_coref_coh\n",
      "2019-08-28 11:50:13.859185 Start evaluation\n",
      "n_estimators: 4900, max_depth: 6, acc_training: 0.9752979882422739, corr_num: 18083\n",
      "n_estimators: 4900, max_depth: 6, acc_validation: 0.8956376539344605, corr_num: 4291\n",
      "n_estimators: 4900, max_depth: 6, acc_test: 0.8927536231884058, corr_num: 4004\n",
      "2019-08-28 11:50:34.565696 Evaluation finished\n",
      "=== Top K=8 ===\n",
      "test_a_filter 28394\n",
      "test_b_filter 27254\n",
      "2019-08-28 11:50:42.246125 Loading model: 4900_6_ctx_coref_coh\n",
      "2019-08-28 11:50:42.273229 Start evaluation\n",
      "n_estimators: 4900, max_depth: 6, acc_training: 0.9752979882422739, corr_num: 18083\n",
      "n_estimators: 4900, max_depth: 6, acc_validation: 0.8958463786265916, corr_num: 4292\n",
      "n_estimators: 4900, max_depth: 6, acc_test: 0.8927536231884058, corr_num: 4004\n",
      "2019-08-28 11:51:02.851334 Evaluation finished\n",
      "=== Top K=9 ===\n",
      "test_a_filter 31478\n",
      "test_b_filter 30274\n",
      "2019-08-28 11:51:10.925904 Loading model: 4900_6_ctx_coref_coh\n",
      "2019-08-28 11:51:10.952302 Start evaluation\n",
      "n_estimators: 4900, max_depth: 6, acc_training: 0.9752979882422739, corr_num: 18083\n",
      "n_estimators: 4900, max_depth: 6, acc_validation: 0.8958463786265916, corr_num: 4292\n",
      "n_estimators: 4900, max_depth: 6, acc_test: 0.893422519509476, corr_num: 4007\n",
      "2019-08-28 11:51:31.630249 Evaluation finished\n",
      "=== Top K=10 ===\n",
      "test_a_filter 34506\n",
      "test_b_filter 33245\n",
      "2019-08-28 11:51:39.621956 Loading model: 4900_6_ctx_coref_coh\n",
      "2019-08-28 11:51:39.659275 Start evaluation\n",
      "n_estimators: 4900, max_depth: 6, acc_training: 0.9752979882422739, corr_num: 18083\n",
      "n_estimators: 4900, max_depth: 6, acc_validation: 0.8958463786265916, corr_num: 4292\n",
      "n_estimators: 4900, max_depth: 6, acc_test: 0.894314381270903, corr_num: 4011\n",
      "2019-08-28 11:52:00.306067 Evaluation finished\n"
     ]
    }
   ],
   "source": [
    "model = load_model('4900_6_ctx_coref')\n",
    "    \n",
    "for top_k in range(1, 11):\n",
    "    print('=== Top K=%d ===' % top_k)\n",
    "    test_a_filter = get_top_k_prediction_indices(model, d_test_a_ctx_coref, \n",
    "                                                 d_test_a_ctx_raw, q_docs_dict, top_k)\n",
    "    test_b_filter = get_top_k_prediction_indices(model, d_test_b_ctx_coref, \n",
    "                                                 d_test_b_ctx_raw, q_docs_dict, top_k)\n",
    "\n",
    "    print('test_a_filter', len(test_a_filter))\n",
    "    print('test_b_filter', len(test_b_filter))\n",
    "\n",
    "    process('ctx_coref_coh', \n",
    "            d_train_ctx_coref_coh, d_test_a_ctx_coref_coh, d_test_b_ctx_coref_coh, \n",
    "            d_train_total, d_test_a_total, d_test_b_total,\n",
    "            n_estimators=[4900], max_depths=[6], train_mode=False, \n",
    "            test_a_filter=test_a_filter, test_b_filter=test_b_filter)"
   ]
  },
  {
   "cell_type": "code",
   "execution_count": 134,
   "metadata": {},
   "outputs": [
    {
     "name": "stdout",
     "output_type": "stream",
     "text": [
      "=== Top K=11 ===\n",
      "test_a_filter 37486\n",
      "test_b_filter 36123\n",
      "2019-08-28 12:07:53.267138 Loading model: 4900_6_ctx_coref_coh\n",
      "2019-08-28 12:07:53.284491 Start evaluation\n",
      "n_estimators: 4900, max_depth: 6, acc_training: 0.9752979882422739, corr_num: 18083\n",
      "n_estimators: 4900, max_depth: 6, acc_validation: 0.8958463786265916, corr_num: 4292\n",
      "n_estimators: 4900, max_depth: 6, acc_test: 0.894314381270903, corr_num: 4011\n",
      "2019-08-28 12:08:14.218352 Evaluation finished\n",
      "=== Top K=12 ===\n",
      "test_a_filter 40426\n",
      "test_b_filter 38967\n",
      "2019-08-28 12:08:21.863563 Loading model: 4900_6_ctx_coref_coh\n",
      "2019-08-28 12:08:21.881343 Start evaluation\n",
      "n_estimators: 4900, max_depth: 6, acc_training: 0.9752979882422739, corr_num: 18083\n",
      "n_estimators: 4900, max_depth: 6, acc_validation: 0.8958463786265916, corr_num: 4292\n",
      "n_estimators: 4900, max_depth: 6, acc_test: 0.8940914158305463, corr_num: 4010\n",
      "2019-08-28 12:08:42.344744 Evaluation finished\n",
      "=== Top K=13 ===\n",
      "test_a_filter 43347\n",
      "test_b_filter 41789\n",
      "2019-08-28 12:08:50.051169 Loading model: 4900_6_ctx_coref_coh\n",
      "2019-08-28 12:08:50.068535 Start evaluation\n",
      "n_estimators: 4900, max_depth: 6, acc_training: 0.9752979882422739, corr_num: 18083\n",
      "n_estimators: 4900, max_depth: 6, acc_validation: 0.8958463786265916, corr_num: 4292\n",
      "n_estimators: 4900, max_depth: 6, acc_test: 0.8940914158305463, corr_num: 4010\n",
      "2019-08-28 12:09:10.261084 Evaluation finished\n",
      "=== Top K=14 ===\n",
      "test_a_filter 46233\n",
      "test_b_filter 44582\n",
      "2019-08-28 12:09:18.162420 Loading model: 4900_6_ctx_coref_coh\n",
      "2019-08-28 12:09:18.180108 Start evaluation\n",
      "n_estimators: 4900, max_depth: 6, acc_training: 0.9752979882422739, corr_num: 18083\n",
      "n_estimators: 4900, max_depth: 6, acc_validation: 0.8960551033187226, corr_num: 4293\n",
      "n_estimators: 4900, max_depth: 6, acc_test: 0.894314381270903, corr_num: 4011\n",
      "2019-08-28 12:09:38.765492 Evaluation finished\n",
      "=== Top K=15 ===\n",
      "test_a_filter 49098\n",
      "test_b_filter 47362\n",
      "2019-08-28 12:09:46.611315 Loading model: 4900_6_ctx_coref_coh\n",
      "2019-08-28 12:09:46.628164 Start evaluation\n",
      "n_estimators: 4900, max_depth: 6, acc_training: 0.9752979882422739, corr_num: 18083\n",
      "n_estimators: 4900, max_depth: 6, acc_validation: 0.8960551033187226, corr_num: 4293\n",
      "n_estimators: 4900, max_depth: 6, acc_test: 0.8947603121516166, corr_num: 4013\n",
      "2019-08-28 12:10:07.493209 Evaluation finished\n",
      "=== Top K=16 ===\n",
      "test_a_filter 51956\n",
      "test_b_filter 50099\n",
      "2019-08-28 12:10:14.880445 Loading model: 4900_6_ctx_coref_coh\n",
      "2019-08-28 12:10:14.897365 Start evaluation\n",
      "n_estimators: 4900, max_depth: 6, acc_training: 0.9752979882422739, corr_num: 18083\n",
      "n_estimators: 4900, max_depth: 6, acc_validation: 0.8960551033187226, corr_num: 4293\n",
      "n_estimators: 4900, max_depth: 6, acc_test: 0.8947603121516166, corr_num: 4013\n",
      "2019-08-28 12:10:35.763580 Evaluation finished\n",
      "=== Top K=17 ===\n",
      "test_a_filter 54775\n",
      "test_b_filter 52787\n",
      "2019-08-28 12:10:43.490716 Loading model: 4900_6_ctx_coref_coh\n",
      "2019-08-28 12:10:43.508351 Start evaluation\n",
      "n_estimators: 4900, max_depth: 6, acc_training: 0.9752979882422739, corr_num: 18083\n",
      "n_estimators: 4900, max_depth: 6, acc_validation: 0.8960551033187226, corr_num: 4293\n",
      "n_estimators: 4900, max_depth: 6, acc_test: 0.8947603121516166, corr_num: 4013\n",
      "2019-08-28 12:11:04.263511 Evaluation finished\n",
      "=== Top K=18 ===\n",
      "test_a_filter 57545\n",
      "test_b_filter 55450\n",
      "2019-08-28 12:11:11.778636 Loading model: 4900_6_ctx_coref_coh\n",
      "2019-08-28 12:11:11.794657 Start evaluation\n",
      "n_estimators: 4900, max_depth: 6, acc_training: 0.9752979882422739, corr_num: 18083\n",
      "n_estimators: 4900, max_depth: 6, acc_validation: 0.8960551033187226, corr_num: 4293\n",
      "n_estimators: 4900, max_depth: 6, acc_test: 0.8947603121516166, corr_num: 4013\n",
      "2019-08-28 12:11:33.371001 Evaluation finished\n",
      "=== Top K=19 ===\n",
      "test_a_filter 60285\n",
      "test_b_filter 58080\n",
      "2019-08-28 12:11:41.089773 Loading model: 4900_6_ctx_coref_coh\n",
      "2019-08-28 12:11:41.106390 Start evaluation\n",
      "n_estimators: 4900, max_depth: 6, acc_training: 0.9752979882422739, corr_num: 18083\n",
      "n_estimators: 4900, max_depth: 6, acc_validation: 0.8960551033187226, corr_num: 4293\n",
      "n_estimators: 4900, max_depth: 6, acc_test: 0.8947603121516166, corr_num: 4013\n",
      "2019-08-28 12:12:02.142385 Evaluation finished\n",
      "=== Top K=20 ===\n",
      "test_a_filter 62980\n",
      "test_b_filter 60690\n",
      "2019-08-28 12:12:09.728547 Loading model: 4900_6_ctx_coref_coh\n",
      "2019-08-28 12:12:09.746228 Start evaluation\n",
      "n_estimators: 4900, max_depth: 6, acc_training: 0.9752979882422739, corr_num: 18083\n",
      "n_estimators: 4900, max_depth: 6, acc_validation: 0.8960551033187226, corr_num: 4293\n",
      "n_estimators: 4900, max_depth: 6, acc_test: 0.8947603121516166, corr_num: 4013\n",
      "2019-08-28 12:12:30.637903 Evaluation finished\n"
     ]
    }
   ],
   "source": [
    "model = load_model('4900_6_ctx_coref')\n",
    "    \n",
    "for top_k in range(11, 21):\n",
    "    print('=== Top K=%d ===' % top_k)\n",
    "    test_a_filter = get_top_k_prediction_indices(model, d_test_a_ctx_coref, \n",
    "                                                 d_test_a_ctx_raw, q_docs_dict, top_k)\n",
    "    test_b_filter = get_top_k_prediction_indices(model, d_test_b_ctx_coref, \n",
    "                                                 d_test_b_ctx_raw, q_docs_dict, top_k)\n",
    "\n",
    "    print('test_a_filter', len(test_a_filter))\n",
    "    print('test_b_filter', len(test_b_filter))\n",
    "\n",
    "    process('ctx_coref_coh', \n",
    "            d_train_ctx_coref_coh, d_test_a_ctx_coref_coh, d_test_b_ctx_coref_coh, \n",
    "            d_train_total, d_test_a_total, d_test_b_total,\n",
    "            n_estimators=[4900], max_depths=[6], train_mode=False, \n",
    "            test_a_filter=test_a_filter, test_b_filter=test_b_filter)"
   ]
  },
  {
   "cell_type": "code",
   "execution_count": 135,
   "metadata": {},
   "outputs": [
    {
     "name": "stdout",
     "output_type": "stream",
     "text": [
      "=== Top K=21 ===\n",
      "test_a_filter 65664\n",
      "test_b_filter 63283\n",
      "2019-08-28 12:30:13.948946 Loading model: 4900_6_ctx_coref_coh\n",
      "2019-08-28 12:30:13.973877 Start evaluation\n",
      "n_estimators: 4900, max_depth: 6, acc_training: 0.9752979882422739, corr_num: 18083\n",
      "n_estimators: 4900, max_depth: 6, acc_validation: 0.8960551033187226, corr_num: 4293\n",
      "n_estimators: 4900, max_depth: 6, acc_test: 0.8947603121516166, corr_num: 4013\n",
      "2019-08-28 12:30:34.668116 Evaluation finished\n",
      "=== Top K=22 ===\n",
      "test_a_filter 68325\n",
      "test_b_filter 65857\n",
      "2019-08-28 12:30:42.059160 Loading model: 4900_6_ctx_coref_coh\n",
      "2019-08-28 12:30:42.085716 Start evaluation\n",
      "n_estimators: 4900, max_depth: 6, acc_training: 0.9752979882422739, corr_num: 18083\n",
      "n_estimators: 4900, max_depth: 6, acc_validation: 0.8960551033187226, corr_num: 4293\n",
      "n_estimators: 4900, max_depth: 6, acc_test: 0.8949832775919733, corr_num: 4014\n",
      "2019-08-28 12:31:02.825337 Evaluation finished\n",
      "=== Top K=23 ===\n",
      "test_a_filter 70961\n",
      "test_b_filter 68401\n",
      "2019-08-28 12:31:10.534252 Loading model: 4900_6_ctx_coref_coh\n",
      "2019-08-28 12:31:10.559547 Start evaluation\n",
      "n_estimators: 4900, max_depth: 6, acc_training: 0.9752979882422739, corr_num: 18083\n",
      "n_estimators: 4900, max_depth: 6, acc_validation: 0.8960551033187226, corr_num: 4293\n",
      "n_estimators: 4900, max_depth: 6, acc_test: 0.89520624303233, corr_num: 4015\n",
      "2019-08-28 12:31:31.592642 Evaluation finished\n",
      "=== Top K=24 ===\n",
      "test_a_filter 73575\n",
      "test_b_filter 70918\n",
      "2019-08-28 12:31:39.100868 Loading model: 4900_6_ctx_coref_coh\n",
      "2019-08-28 12:31:39.127046 Start evaluation\n",
      "n_estimators: 4900, max_depth: 6, acc_training: 0.9752979882422739, corr_num: 18083\n",
      "n_estimators: 4900, max_depth: 6, acc_validation: 0.8960551033187226, corr_num: 4293\n",
      "n_estimators: 4900, max_depth: 6, acc_test: 0.89520624303233, corr_num: 4015\n",
      "2019-08-28 12:32:00.140781 Evaluation finished\n",
      "=== Top K=25 ===\n",
      "test_a_filter 76153\n",
      "test_b_filter 73419\n",
      "2019-08-28 12:32:07.663020 Loading model: 4900_6_ctx_coref_coh\n",
      "2019-08-28 12:32:07.688986 Start evaluation\n",
      "n_estimators: 4900, max_depth: 6, acc_training: 0.9752979882422739, corr_num: 18083\n",
      "n_estimators: 4900, max_depth: 6, acc_validation: 0.8960551033187226, corr_num: 4293\n",
      "n_estimators: 4900, max_depth: 6, acc_test: 0.89520624303233, corr_num: 4015\n",
      "2019-08-28 12:32:29.142391 Evaluation finished\n",
      "=== Top K=26 ===\n",
      "test_a_filter 78721\n",
      "test_b_filter 75892\n",
      "2019-08-28 12:32:37.464514 Loading model: 4900_6_ctx_coref_coh\n",
      "2019-08-28 12:32:37.481883 Start evaluation\n",
      "n_estimators: 4900, max_depth: 6, acc_training: 0.9752979882422739, corr_num: 18083\n",
      "n_estimators: 4900, max_depth: 6, acc_validation: 0.8960551033187226, corr_num: 4293\n",
      "n_estimators: 4900, max_depth: 6, acc_test: 0.89520624303233, corr_num: 4015\n",
      "2019-08-28 12:32:58.261378 Evaluation finished\n",
      "=== Top K=27 ===\n",
      "test_a_filter 81279\n",
      "test_b_filter 78353\n",
      "2019-08-28 12:33:06.168294 Loading model: 4900_6_ctx_coref_coh\n",
      "2019-08-28 12:33:06.186545 Start evaluation\n",
      "n_estimators: 4900, max_depth: 6, acc_training: 0.9752979882422739, corr_num: 18083\n",
      "n_estimators: 4900, max_depth: 6, acc_validation: 0.8960551033187226, corr_num: 4293\n",
      "n_estimators: 4900, max_depth: 6, acc_test: 0.89520624303233, corr_num: 4015\n",
      "2019-08-28 12:33:27.756621 Evaluation finished\n",
      "=== Top K=28 ===\n",
      "test_a_filter 83817\n",
      "test_b_filter 80801\n",
      "2019-08-28 12:33:35.347741 Loading model: 4900_6_ctx_coref_coh\n",
      "2019-08-28 12:33:35.366021 Start evaluation\n",
      "n_estimators: 4900, max_depth: 6, acc_training: 0.9752979882422739, corr_num: 18083\n",
      "n_estimators: 4900, max_depth: 6, acc_validation: 0.8960551033187226, corr_num: 4293\n",
      "n_estimators: 4900, max_depth: 6, acc_test: 0.89520624303233, corr_num: 4015\n",
      "2019-08-28 12:33:56.537611 Evaluation finished\n",
      "=== Top K=29 ===\n",
      "test_a_filter 86336\n",
      "test_b_filter 83236\n",
      "2019-08-28 12:34:03.711763 Loading model: 4900_6_ctx_coref_coh\n",
      "2019-08-28 12:34:03.729418 Start evaluation\n",
      "n_estimators: 4900, max_depth: 6, acc_training: 0.9752979882422739, corr_num: 18083\n",
      "n_estimators: 4900, max_depth: 6, acc_validation: 0.8960551033187226, corr_num: 4293\n",
      "n_estimators: 4900, max_depth: 6, acc_test: 0.89520624303233, corr_num: 4015\n",
      "2019-08-28 12:34:24.741766 Evaluation finished\n",
      "=== Top K=30 ===\n",
      "test_a_filter 88847\n",
      "test_b_filter 85658\n",
      "2019-08-28 12:34:32.158108 Loading model: 4900_6_ctx_coref_coh\n",
      "2019-08-28 12:34:32.176765 Start evaluation\n",
      "n_estimators: 4900, max_depth: 6, acc_training: 0.9752979882422739, corr_num: 18083\n",
      "n_estimators: 4900, max_depth: 6, acc_validation: 0.8960551033187226, corr_num: 4293\n",
      "n_estimators: 4900, max_depth: 6, acc_test: 0.89520624303233, corr_num: 4015\n",
      "2019-08-28 12:34:53.794045 Evaluation finished\n",
      "=== Top K=31 ===\n",
      "test_a_filter 91351\n",
      "test_b_filter 88065\n",
      "2019-08-28 12:35:01.330993 Loading model: 4900_6_ctx_coref_coh\n",
      "2019-08-28 12:35:01.349559 Start evaluation\n",
      "n_estimators: 4900, max_depth: 6, acc_training: 0.9752979882422739, corr_num: 18083\n",
      "n_estimators: 4900, max_depth: 6, acc_validation: 0.8960551033187226, corr_num: 4293\n",
      "n_estimators: 4900, max_depth: 6, acc_test: 0.89520624303233, corr_num: 4015\n",
      "2019-08-28 12:35:22.402526 Evaluation finished\n",
      "=== Top K=32 ===\n",
      "test_a_filter 93843\n",
      "test_b_filter 90464\n",
      "2019-08-28 12:35:29.854224 Loading model: 4900_6_ctx_coref_coh\n",
      "2019-08-28 12:35:29.872418 Start evaluation\n",
      "n_estimators: 4900, max_depth: 6, acc_training: 0.9752979882422739, corr_num: 18083\n",
      "n_estimators: 4900, max_depth: 6, acc_validation: 0.8960551033187226, corr_num: 4293\n",
      "n_estimators: 4900, max_depth: 6, acc_test: 0.89520624303233, corr_num: 4015\n",
      "2019-08-28 12:35:50.879860 Evaluation finished\n",
      "=== Top K=33 ===\n",
      "test_a_filter 96317\n",
      "test_b_filter 92847\n",
      "2019-08-28 12:35:58.446768 Loading model: 4900_6_ctx_coref_coh\n",
      "2019-08-28 12:35:58.463647 Start evaluation\n",
      "n_estimators: 4900, max_depth: 6, acc_training: 0.9752979882422739, corr_num: 18083\n",
      "n_estimators: 4900, max_depth: 6, acc_validation: 0.8960551033187226, corr_num: 4293\n",
      "n_estimators: 4900, max_depth: 6, acc_test: 0.89520624303233, corr_num: 4015\n",
      "2019-08-28 12:36:19.693492 Evaluation finished\n",
      "=== Top K=34 ===\n",
      "test_a_filter 98778\n",
      "test_b_filter 95215\n",
      "2019-08-28 12:36:27.107383 Loading model: 4900_6_ctx_coref_coh\n",
      "2019-08-28 12:36:27.125238 Start evaluation\n",
      "n_estimators: 4900, max_depth: 6, acc_training: 0.9752979882422739, corr_num: 18083\n",
      "n_estimators: 4900, max_depth: 6, acc_validation: 0.8960551033187226, corr_num: 4293\n",
      "n_estimators: 4900, max_depth: 6, acc_test: 0.89520624303233, corr_num: 4015\n",
      "2019-08-28 12:36:48.304954 Evaluation finished\n",
      "=== Top K=35 ===\n",
      "test_a_filter 101219\n",
      "test_b_filter 97577\n",
      "2019-08-28 12:36:55.627991 Loading model: 4900_6_ctx_coref_coh\n",
      "2019-08-28 12:36:55.645581 Start evaluation\n",
      "n_estimators: 4900, max_depth: 6, acc_training: 0.9752979882422739, corr_num: 18083\n",
      "n_estimators: 4900, max_depth: 6, acc_validation: 0.8960551033187226, corr_num: 4293\n",
      "n_estimators: 4900, max_depth: 6, acc_test: 0.89520624303233, corr_num: 4015\n",
      "2019-08-28 12:37:16.796867 Evaluation finished\n",
      "=== Top K=36 ===\n",
      "test_a_filter 103651\n",
      "test_b_filter 99938\n",
      "2019-08-28 12:37:24.612834 Loading model: 4900_6_ctx_coref_coh\n",
      "2019-08-28 12:37:24.632836 Start evaluation\n",
      "n_estimators: 4900, max_depth: 6, acc_training: 0.9752979882422739, corr_num: 18083\n",
      "n_estimators: 4900, max_depth: 6, acc_validation: 0.8960551033187226, corr_num: 4293\n",
      "n_estimators: 4900, max_depth: 6, acc_test: 0.89520624303233, corr_num: 4015\n",
      "2019-08-28 12:37:46.240553 Evaluation finished\n",
      "=== Top K=37 ===\n",
      "test_a_filter 106070\n",
      "test_b_filter 102287\n",
      "2019-08-28 12:37:53.631464 Loading model: 4900_6_ctx_coref_coh\n",
      "2019-08-28 12:37:53.649346 Start evaluation\n",
      "n_estimators: 4900, max_depth: 6, acc_training: 0.9752979882422739, corr_num: 18083\n",
      "n_estimators: 4900, max_depth: 6, acc_validation: 0.8960551033187226, corr_num: 4293\n",
      "n_estimators: 4900, max_depth: 6, acc_test: 0.89520624303233, corr_num: 4015\n",
      "2019-08-28 12:38:14.989020 Evaluation finished\n",
      "=== Top K=38 ===\n",
      "test_a_filter 108469\n",
      "test_b_filter 104625\n",
      "2019-08-28 12:38:22.143215 Loading model: 4900_6_ctx_coref_coh\n",
      "2019-08-28 12:38:22.160939 Start evaluation\n",
      "n_estimators: 4900, max_depth: 6, acc_training: 0.9752979882422739, corr_num: 18083\n",
      "n_estimators: 4900, max_depth: 6, acc_validation: 0.8960551033187226, corr_num: 4293\n",
      "n_estimators: 4900, max_depth: 6, acc_test: 0.89520624303233, corr_num: 4015\n",
      "2019-08-28 12:38:43.416467 Evaluation finished\n",
      "=== Top K=39 ===\n"
     ]
    },
    {
     "name": "stdout",
     "output_type": "stream",
     "text": [
      "test_a_filter 110857\n",
      "test_b_filter 106957\n",
      "2019-08-28 12:38:50.950569 Loading model: 4900_6_ctx_coref_coh\n",
      "2019-08-28 12:38:50.968720 Start evaluation\n",
      "n_estimators: 4900, max_depth: 6, acc_training: 0.9752979882422739, corr_num: 18083\n",
      "n_estimators: 4900, max_depth: 6, acc_validation: 0.8960551033187226, corr_num: 4293\n",
      "n_estimators: 4900, max_depth: 6, acc_test: 0.89520624303233, corr_num: 4015\n",
      "2019-08-28 12:39:12.167914 Evaluation finished\n",
      "=== Top K=40 ===\n",
      "test_a_filter 113238\n",
      "test_b_filter 109275\n",
      "2019-08-28 12:39:19.967589 Loading model: 4900_6_ctx_coref_coh\n",
      "2019-08-28 12:39:19.985259 Start evaluation\n",
      "n_estimators: 4900, max_depth: 6, acc_training: 0.9752979882422739, corr_num: 18083\n",
      "n_estimators: 4900, max_depth: 6, acc_validation: 0.8960551033187226, corr_num: 4293\n",
      "n_estimators: 4900, max_depth: 6, acc_test: 0.89520624303233, corr_num: 4015\n",
      "2019-08-28 12:39:41.204216 Evaluation finished\n",
      "=== Top K=41 ===\n",
      "test_a_filter 115614\n",
      "test_b_filter 111584\n",
      "2019-08-28 12:39:48.695122 Loading model: 4900_6_ctx_coref_coh\n",
      "2019-08-28 12:39:48.714141 Start evaluation\n",
      "n_estimators: 4900, max_depth: 6, acc_training: 0.9752979882422739, corr_num: 18083\n",
      "n_estimators: 4900, max_depth: 6, acc_validation: 0.8960551033187226, corr_num: 4293\n",
      "n_estimators: 4900, max_depth: 6, acc_test: 0.89520624303233, corr_num: 4015\n",
      "2019-08-28 12:40:09.887401 Evaluation finished\n",
      "=== Top K=42 ===\n",
      "test_a_filter 117986\n",
      "test_b_filter 113885\n",
      "2019-08-28 12:40:17.407058 Loading model: 4900_6_ctx_coref_coh\n",
      "2019-08-28 12:40:17.424993 Start evaluation\n",
      "n_estimators: 4900, max_depth: 6, acc_training: 0.9752979882422739, corr_num: 18083\n",
      "n_estimators: 4900, max_depth: 6, acc_validation: 0.8960551033187226, corr_num: 4293\n",
      "n_estimators: 4900, max_depth: 6, acc_test: 0.89520624303233, corr_num: 4015\n",
      "2019-08-28 12:40:38.729001 Evaluation finished\n",
      "=== Top K=43 ===\n",
      "test_a_filter 120310\n",
      "test_b_filter 116174\n",
      "2019-08-28 12:40:46.212143 Loading model: 4900_6_ctx_coref_coh\n",
      "2019-08-28 12:40:46.230665 Start evaluation\n",
      "n_estimators: 4900, max_depth: 6, acc_training: 0.9752979882422739, corr_num: 18083\n",
      "n_estimators: 4900, max_depth: 6, acc_validation: 0.8960551033187226, corr_num: 4293\n",
      "n_estimators: 4900, max_depth: 6, acc_test: 0.89520624303233, corr_num: 4015\n",
      "2019-08-28 12:41:07.813089 Evaluation finished\n",
      "=== Top K=44 ===\n",
      "test_a_filter 122628\n",
      "test_b_filter 118460\n",
      "2019-08-28 12:41:15.650254 Loading model: 4900_6_ctx_coref_coh\n",
      "2019-08-28 12:41:15.668202 Start evaluation\n",
      "n_estimators: 4900, max_depth: 6, acc_training: 0.9752979882422739, corr_num: 18083\n",
      "n_estimators: 4900, max_depth: 6, acc_validation: 0.8960551033187226, corr_num: 4293\n",
      "n_estimators: 4900, max_depth: 6, acc_test: 0.89520624303233, corr_num: 4015\n",
      "2019-08-28 12:41:36.886246 Evaluation finished\n",
      "=== Top K=45 ===\n",
      "test_a_filter 124923\n",
      "test_b_filter 120729\n",
      "2019-08-28 12:41:44.282281 Loading model: 4900_6_ctx_coref_coh\n",
      "2019-08-28 12:41:44.300758 Start evaluation\n",
      "n_estimators: 4900, max_depth: 6, acc_training: 0.9752979882422739, corr_num: 18083\n",
      "n_estimators: 4900, max_depth: 6, acc_validation: 0.8960551033187226, corr_num: 4293\n",
      "n_estimators: 4900, max_depth: 6, acc_test: 0.89520624303233, corr_num: 4015\n",
      "2019-08-28 12:42:05.799574 Evaluation finished\n",
      "=== Top K=46 ===\n",
      "test_a_filter 127214\n",
      "test_b_filter 122983\n",
      "2019-08-28 12:42:13.492091 Loading model: 4900_6_ctx_coref_coh\n",
      "2019-08-28 12:42:13.508943 Start evaluation\n",
      "n_estimators: 4900, max_depth: 6, acc_training: 0.9752979882422739, corr_num: 18083\n",
      "n_estimators: 4900, max_depth: 6, acc_validation: 0.8960551033187226, corr_num: 4293\n",
      "n_estimators: 4900, max_depth: 6, acc_test: 0.89520624303233, corr_num: 4015\n",
      "2019-08-28 12:42:35.137871 Evaluation finished\n",
      "=== Top K=47 ===\n",
      "test_a_filter 129498\n",
      "test_b_filter 125225\n",
      "2019-08-28 12:42:42.531160 Loading model: 4900_6_ctx_coref_coh\n",
      "2019-08-28 12:42:42.548855 Start evaluation\n",
      "n_estimators: 4900, max_depth: 6, acc_training: 0.9752979882422739, corr_num: 18083\n",
      "n_estimators: 4900, max_depth: 6, acc_validation: 0.8960551033187226, corr_num: 4293\n",
      "n_estimators: 4900, max_depth: 6, acc_test: 0.89520624303233, corr_num: 4015\n",
      "2019-08-28 12:43:03.826009 Evaluation finished\n",
      "=== Top K=48 ===\n",
      "test_a_filter 131767\n",
      "test_b_filter 127458\n",
      "2019-08-28 12:43:11.274042 Loading model: 4900_6_ctx_coref_coh\n",
      "2019-08-28 12:43:11.291247 Start evaluation\n",
      "n_estimators: 4900, max_depth: 6, acc_training: 0.9752979882422739, corr_num: 18083\n",
      "n_estimators: 4900, max_depth: 6, acc_validation: 0.8960551033187226, corr_num: 4293\n",
      "n_estimators: 4900, max_depth: 6, acc_test: 0.89520624303233, corr_num: 4015\n",
      "2019-08-28 12:43:32.599656 Evaluation finished\n",
      "=== Top K=49 ===\n",
      "test_a_filter 134020\n",
      "test_b_filter 129680\n",
      "2019-08-28 12:43:40.194495 Loading model: 4900_6_ctx_coref_coh\n",
      "2019-08-28 12:43:40.213267 Start evaluation\n",
      "n_estimators: 4900, max_depth: 6, acc_training: 0.9752979882422739, corr_num: 18083\n",
      "n_estimators: 4900, max_depth: 6, acc_validation: 0.8960551033187226, corr_num: 4293\n",
      "n_estimators: 4900, max_depth: 6, acc_test: 0.89520624303233, corr_num: 4015\n",
      "2019-08-28 12:44:01.933407 Evaluation finished\n",
      "=== Top K=50 ===\n",
      "test_a_filter 136259\n",
      "test_b_filter 131893\n",
      "2019-08-28 12:44:09.286351 Loading model: 4900_6_ctx_coref_coh\n",
      "2019-08-28 12:44:09.303609 Start evaluation\n",
      "n_estimators: 4900, max_depth: 6, acc_training: 0.9752979882422739, corr_num: 18083\n",
      "n_estimators: 4900, max_depth: 6, acc_validation: 0.8960551033187226, corr_num: 4293\n",
      "n_estimators: 4900, max_depth: 6, acc_test: 0.89520624303233, corr_num: 4015\n",
      "2019-08-28 12:44:30.365820 Evaluation finished\n"
     ]
    }
   ],
   "source": [
    "model = load_model('4900_6_ctx_coref')\n",
    "    \n",
    "for top_k in range(21, 51):\n",
    "    print('=== Top K=%d ===' % top_k)\n",
    "    test_a_filter = get_top_k_prediction_indices(model, d_test_a_ctx_coref, \n",
    "                                                 d_test_a_ctx_raw, q_docs_dict, top_k)\n",
    "    test_b_filter = get_top_k_prediction_indices(model, d_test_b_ctx_coref, \n",
    "                                                 d_test_b_ctx_raw, q_docs_dict, top_k)\n",
    "\n",
    "    print('test_a_filter', len(test_a_filter))\n",
    "    print('test_b_filter', len(test_b_filter))\n",
    "\n",
    "    process('ctx_coref_coh', \n",
    "            d_train_ctx_coref_coh, d_test_a_ctx_coref_coh, d_test_b_ctx_coref_coh, \n",
    "            d_train_total, d_test_a_total, d_test_b_total,\n",
    "            n_estimators=[4900], max_depths=[6], train_mode=False, \n",
    "            test_a_filter=test_a_filter, test_b_filter=test_b_filter)"
   ]
  },
  {
   "cell_type": "code",
   "execution_count": 136,
   "metadata": {},
   "outputs": [
    {
     "name": "stdout",
     "output_type": "stream",
     "text": [
      "=== Top K=1 ===\n",
      "test_a_filter 4699\n",
      "test_b_filter 4413\n",
      "2019-08-28 13:19:22.606752 Loading model: 4900_6_ctx_coref_coh_global\n",
      "2019-08-28 13:19:22.646731 Start evaluation\n",
      "n_estimators: 4900, max_depth: 6, acc_training: 0.9756215953832048, corr_num: 18089\n",
      "n_estimators: 4900, max_depth: 6, acc_validation: 0.897307451471509, corr_num: 4299\n",
      "n_estimators: 4900, max_depth: 6, acc_test: 0.8963210702341137, corr_num: 4020\n",
      "2019-08-28 13:19:44.017087 Evaluation finished\n",
      "=== Top K=2 ===\n",
      "test_a_filter 8458\n",
      "test_b_filter 7991\n",
      "2019-08-28 13:19:51.911850 Loading model: 4900_6_ctx_coref_coh_global\n",
      "2019-08-28 13:19:51.930436 Start evaluation\n",
      "n_estimators: 4900, max_depth: 6, acc_training: 0.9756215953832048, corr_num: 18089\n",
      "n_estimators: 4900, max_depth: 6, acc_validation: 0.8966812773951158, corr_num: 4296\n",
      "n_estimators: 4900, max_depth: 6, acc_test: 0.8981047937569677, corr_num: 4028\n",
      "2019-08-28 13:20:12.339815 Evaluation finished\n",
      "=== Top K=3 ===\n",
      "test_a_filter 12008\n",
      "test_b_filter 11383\n",
      "2019-08-28 13:20:20.062084 Loading model: 4900_6_ctx_coref_coh_global\n",
      "2019-08-28 13:20:20.079987 Start evaluation\n",
      "n_estimators: 4900, max_depth: 6, acc_training: 0.9756215953832048, corr_num: 18089\n",
      "n_estimators: 4900, max_depth: 6, acc_validation: 0.8968900020872469, corr_num: 4297\n",
      "n_estimators: 4900, max_depth: 6, acc_test: 0.9010033444816054, corr_num: 4041\n",
      "2019-08-28 13:20:40.648584 Evaluation finished\n",
      "=== Top K=4 ===\n",
      "test_a_filter 15435\n",
      "test_b_filter 14686\n",
      "2019-08-28 13:20:48.366519 Loading model: 4900_6_ctx_coref_coh_global\n",
      "2019-08-28 13:20:48.384170 Start evaluation\n",
      "n_estimators: 4900, max_depth: 6, acc_training: 0.9756215953832048, corr_num: 18089\n",
      "n_estimators: 4900, max_depth: 6, acc_validation: 0.8968900020872469, corr_num: 4297\n",
      "n_estimators: 4900, max_depth: 6, acc_test: 0.9010033444816054, corr_num: 4041\n",
      "2019-08-28 13:21:09.496957 Evaluation finished\n",
      "=== Top K=5 ===\n",
      "test_a_filter 18773\n",
      "test_b_filter 17912\n",
      "2019-08-28 13:21:17.652749 Loading model: 4900_6_ctx_coref_coh_global\n",
      "2019-08-28 13:21:17.671611 Start evaluation\n",
      "n_estimators: 4900, max_depth: 6, acc_training: 0.9756215953832048, corr_num: 18089\n",
      "n_estimators: 4900, max_depth: 6, acc_validation: 0.8977249008557713, corr_num: 4301\n",
      "n_estimators: 4900, max_depth: 6, acc_test: 0.9010033444816054, corr_num: 4041\n",
      "2019-08-28 13:21:37.808221 Evaluation finished\n",
      "=== Top K=6 ===\n",
      "test_a_filter 22049\n",
      "test_b_filter 21074\n",
      "2019-08-28 13:21:45.923411 Loading model: 4900_6_ctx_coref_coh_global\n",
      "2019-08-28 13:21:45.941767 Start evaluation\n",
      "n_estimators: 4900, max_depth: 6, acc_training: 0.9756215953832048, corr_num: 18089\n",
      "n_estimators: 4900, max_depth: 6, acc_validation: 0.8977249008557713, corr_num: 4301\n",
      "n_estimators: 4900, max_depth: 6, acc_test: 0.9012263099219621, corr_num: 4042\n",
      "2019-08-28 13:22:06.077635 Evaluation finished\n",
      "=== Top K=7 ===\n",
      "test_a_filter 25259\n",
      "test_b_filter 24190\n",
      "2019-08-28 13:22:14.280498 Loading model: 4900_6_ctx_coref_coh_global\n",
      "2019-08-28 13:22:14.298938 Start evaluation\n",
      "n_estimators: 4900, max_depth: 6, acc_training: 0.9756215953832048, corr_num: 18089\n",
      "n_estimators: 4900, max_depth: 6, acc_validation: 0.8979336255479023, corr_num: 4302\n",
      "n_estimators: 4900, max_depth: 6, acc_test: 0.9016722408026756, corr_num: 4044\n",
      "2019-08-28 13:22:35.589964 Evaluation finished\n",
      "=== Top K=8 ===\n",
      "test_a_filter 28394\n",
      "test_b_filter 27254\n",
      "2019-08-28 13:22:43.613786 Loading model: 4900_6_ctx_coref_coh_global\n",
      "2019-08-28 13:22:43.631313 Start evaluation\n",
      "n_estimators: 4900, max_depth: 6, acc_training: 0.9756215953832048, corr_num: 18089\n",
      "n_estimators: 4900, max_depth: 6, acc_validation: 0.8979336255479023, corr_num: 4302\n",
      "n_estimators: 4900, max_depth: 6, acc_test: 0.9016722408026756, corr_num: 4044\n",
      "2019-08-28 13:23:03.602567 Evaluation finished\n",
      "=== Top K=9 ===\n",
      "test_a_filter 31478\n",
      "test_b_filter 30274\n",
      "2019-08-28 13:23:11.649149 Loading model: 4900_6_ctx_coref_coh_global\n",
      "2019-08-28 13:23:11.667510 Start evaluation\n",
      "n_estimators: 4900, max_depth: 6, acc_training: 0.9756215953832048, corr_num: 18089\n",
      "n_estimators: 4900, max_depth: 6, acc_validation: 0.8979336255479023, corr_num: 4302\n",
      "n_estimators: 4900, max_depth: 6, acc_test: 0.9016722408026756, corr_num: 4044\n",
      "2019-08-28 13:23:32.259417 Evaluation finished\n",
      "=== Top K=10 ===\n",
      "test_a_filter 34506\n",
      "test_b_filter 33245\n",
      "2019-08-28 13:23:40.605816 Loading model: 4900_6_ctx_coref_coh_global\n",
      "2019-08-28 13:23:40.624203 Start evaluation\n",
      "n_estimators: 4900, max_depth: 6, acc_training: 0.9756215953832048, corr_num: 18089\n",
      "n_estimators: 4900, max_depth: 6, acc_validation: 0.8979336255479023, corr_num: 4302\n",
      "n_estimators: 4900, max_depth: 6, acc_test: 0.9016722408026756, corr_num: 4044\n",
      "2019-08-28 13:24:01.008778 Evaluation finished\n",
      "=== Top K=1 ===\n",
      "test_a_filter 4699\n",
      "test_b_filter 4413\n",
      "2019-08-28 13:24:08.611729 Loading model: 4900_6_ctx_coref_coh_global2\n",
      "2019-08-28 13:24:08.652785 Start evaluation\n",
      "n_estimators: 4900, max_depth: 6, acc_training: 0.9754597918127393, corr_num: 18086\n",
      "n_estimators: 4900, max_depth: 6, acc_validation: 0.8991859737006888, corr_num: 4308\n",
      "n_estimators: 4900, max_depth: 6, acc_test: 0.9027870680044593, corr_num: 4049\n",
      "2019-08-28 13:24:29.538976 Evaluation finished\n",
      "=== Top K=2 ===\n",
      "test_a_filter 8458\n",
      "test_b_filter 7991\n",
      "2019-08-28 13:24:37.515910 Loading model: 4900_6_ctx_coref_coh_global2\n",
      "2019-08-28 13:24:37.533922 Start evaluation\n",
      "n_estimators: 4900, max_depth: 6, acc_training: 0.9754597918127393, corr_num: 18086\n",
      "n_estimators: 4900, max_depth: 6, acc_validation: 0.8985597996242956, corr_num: 4305\n",
      "n_estimators: 4900, max_depth: 6, acc_test: 0.9032329988851728, corr_num: 4051\n",
      "2019-08-28 13:24:58.639710 Evaluation finished\n",
      "=== Top K=3 ===\n",
      "test_a_filter 12008\n",
      "test_b_filter 11383\n",
      "2019-08-28 13:25:06.469600 Loading model: 4900_6_ctx_coref_coh_global2\n",
      "2019-08-28 13:25:06.487549 Start evaluation\n",
      "n_estimators: 4900, max_depth: 6, acc_training: 0.9754597918127393, corr_num: 18086\n",
      "n_estimators: 4900, max_depth: 6, acc_validation: 0.897098726779378, corr_num: 4298\n",
      "n_estimators: 4900, max_depth: 6, acc_test: 0.9036789297658863, corr_num: 4053\n",
      "2019-08-28 13:25:27.208751 Evaluation finished\n",
      "=== Top K=4 ===\n",
      "test_a_filter 15435\n",
      "test_b_filter 14686\n",
      "2019-08-28 13:25:34.820442 Loading model: 4900_6_ctx_coref_coh_global2\n",
      "2019-08-28 13:25:34.839792 Start evaluation\n",
      "n_estimators: 4900, max_depth: 6, acc_training: 0.9754597918127393, corr_num: 18086\n",
      "n_estimators: 4900, max_depth: 6, acc_validation: 0.897098726779378, corr_num: 4298\n",
      "n_estimators: 4900, max_depth: 6, acc_test: 0.9036789297658863, corr_num: 4053\n",
      "2019-08-28 13:25:56.062971 Evaluation finished\n",
      "=== Top K=5 ===\n",
      "test_a_filter 18773\n",
      "test_b_filter 17912\n",
      "2019-08-28 13:26:03.524468 Loading model: 4900_6_ctx_coref_coh_global2\n",
      "2019-08-28 13:26:03.543647 Start evaluation\n",
      "n_estimators: 4900, max_depth: 6, acc_training: 0.9754597918127393, corr_num: 18086\n",
      "n_estimators: 4900, max_depth: 6, acc_validation: 0.897098726779378, corr_num: 4298\n",
      "n_estimators: 4900, max_depth: 6, acc_test: 0.9036789297658863, corr_num: 4053\n",
      "2019-08-28 13:26:25.000848 Evaluation finished\n",
      "=== Top K=6 ===\n",
      "test_a_filter 22049\n",
      "test_b_filter 21074\n",
      "2019-08-28 13:26:32.555752 Loading model: 4900_6_ctx_coref_coh_global2\n",
      "2019-08-28 13:26:32.574754 Start evaluation\n",
      "n_estimators: 4900, max_depth: 6, acc_training: 0.9754597918127393, corr_num: 18086\n",
      "n_estimators: 4900, max_depth: 6, acc_validation: 0.8966812773951158, corr_num: 4296\n",
      "n_estimators: 4900, max_depth: 6, acc_test: 0.9036789297658863, corr_num: 4053\n",
      "2019-08-28 13:26:53.523956 Evaluation finished\n",
      "=== Top K=7 ===\n",
      "test_a_filter 25259\n",
      "test_b_filter 24190\n",
      "2019-08-28 13:27:01.239827 Loading model: 4900_6_ctx_coref_coh_global2\n",
      "2019-08-28 13:27:01.259592 Start evaluation\n",
      "n_estimators: 4900, max_depth: 6, acc_training: 0.9754597918127393, corr_num: 18086\n",
      "n_estimators: 4900, max_depth: 6, acc_validation: 0.8966812773951158, corr_num: 4296\n",
      "n_estimators: 4900, max_depth: 6, acc_test: 0.9036789297658863, corr_num: 4053\n",
      "2019-08-28 13:27:22.380610 Evaluation finished\n",
      "=== Top K=8 ===\n",
      "test_a_filter 28394\n",
      "test_b_filter 27254\n",
      "2019-08-28 13:27:30.352964 Loading model: 4900_6_ctx_coref_coh_global2\n",
      "2019-08-28 13:27:30.371675 Start evaluation\n",
      "n_estimators: 4900, max_depth: 6, acc_training: 0.9754597918127393, corr_num: 18086\n",
      "n_estimators: 4900, max_depth: 6, acc_validation: 0.8966812773951158, corr_num: 4296\n"
     ]
    },
    {
     "name": "stdout",
     "output_type": "stream",
     "text": [
      "n_estimators: 4900, max_depth: 6, acc_test: 0.9036789297658863, corr_num: 4053\n",
      "2019-08-28 13:27:51.633587 Evaluation finished\n",
      "=== Top K=9 ===\n",
      "test_a_filter 31478\n",
      "test_b_filter 30274\n",
      "2019-08-28 13:27:59.188381 Loading model: 4900_6_ctx_coref_coh_global2\n",
      "2019-08-28 13:27:59.207720 Start evaluation\n",
      "n_estimators: 4900, max_depth: 6, acc_training: 0.9754597918127393, corr_num: 18086\n",
      "n_estimators: 4900, max_depth: 6, acc_validation: 0.8966812773951158, corr_num: 4296\n",
      "n_estimators: 4900, max_depth: 6, acc_test: 0.9036789297658863, corr_num: 4053\n",
      "2019-08-28 13:28:19.958914 Evaluation finished\n",
      "=== Top K=10 ===\n",
      "test_a_filter 34506\n",
      "test_b_filter 33245\n",
      "2019-08-28 13:28:27.504432 Loading model: 4900_6_ctx_coref_coh_global2\n",
      "2019-08-28 13:28:27.523718 Start evaluation\n",
      "n_estimators: 4900, max_depth: 6, acc_training: 0.9754597918127393, corr_num: 18086\n",
      "n_estimators: 4900, max_depth: 6, acc_validation: 0.8966812773951158, corr_num: 4296\n",
      "n_estimators: 4900, max_depth: 6, acc_test: 0.9036789297658863, corr_num: 4053\n",
      "2019-08-28 13:28:49.098557 Evaluation finished\n",
      "=== Top K=1 ===\n",
      "test_a_filter 4699\n",
      "test_b_filter 4413\n",
      "2019-08-28 13:28:56.928827 Loading model: 4900_6_ctx_coref_coh_global3\n",
      "2019-08-28 13:28:56.970369 Start evaluation\n",
      "n_estimators: 4900, max_depth: 6, acc_training: 0.9755676608597164, corr_num: 18088\n",
      "n_estimators: 4900, max_depth: 6, acc_validation: 0.8979336255479023, corr_num: 4302\n",
      "n_estimators: 4900, max_depth: 6, acc_test: 0.9047937569676701, corr_num: 4058\n",
      "2019-08-28 13:29:17.332848 Evaluation finished\n",
      "=== Top K=2 ===\n",
      "test_a_filter 8458\n",
      "test_b_filter 7991\n",
      "2019-08-28 13:29:25.276344 Loading model: 4900_6_ctx_coref_coh_global3\n",
      "2019-08-28 13:29:25.294617 Start evaluation\n",
      "n_estimators: 4900, max_depth: 6, acc_training: 0.9755676608597164, corr_num: 18088\n",
      "n_estimators: 4900, max_depth: 6, acc_validation: 0.8960551033187226, corr_num: 4293\n",
      "n_estimators: 4900, max_depth: 6, acc_test: 0.9061315496098105, corr_num: 4064\n",
      "2019-08-28 13:29:45.575843 Evaluation finished\n",
      "=== Top K=3 ===\n",
      "test_a_filter 12008\n",
      "test_b_filter 11383\n",
      "2019-08-28 13:29:53.446715 Loading model: 4900_6_ctx_coref_coh_global3\n",
      "2019-08-28 13:29:53.464806 Start evaluation\n",
      "n_estimators: 4900, max_depth: 6, acc_training: 0.9755676608597164, corr_num: 18088\n",
      "n_estimators: 4900, max_depth: 6, acc_validation: 0.8960551033187226, corr_num: 4293\n",
      "n_estimators: 4900, max_depth: 6, acc_test: 0.9076923076923077, corr_num: 4071\n",
      "2019-08-28 13:30:14.138610 Evaluation finished\n",
      "=== Top K=4 ===\n",
      "test_a_filter 15435\n",
      "test_b_filter 14686\n",
      "2019-08-28 13:30:21.768001 Loading model: 4900_6_ctx_coref_coh_global3\n",
      "2019-08-28 13:30:21.785537 Start evaluation\n",
      "n_estimators: 4900, max_depth: 6, acc_training: 0.9755676608597164, corr_num: 18088\n",
      "n_estimators: 4900, max_depth: 6, acc_validation: 0.8964725527029848, corr_num: 4295\n",
      "n_estimators: 4900, max_depth: 6, acc_test: 0.9076923076923077, corr_num: 4071\n",
      "2019-08-28 13:30:42.629768 Evaluation finished\n",
      "=== Top K=5 ===\n",
      "test_a_filter 18773\n",
      "test_b_filter 17912\n",
      "2019-08-28 13:30:51.007562 Loading model: 4900_6_ctx_coref_coh_global3\n",
      "2019-08-28 13:30:51.026104 Start evaluation\n",
      "n_estimators: 4900, max_depth: 6, acc_training: 0.9755676608597164, corr_num: 18088\n",
      "n_estimators: 4900, max_depth: 6, acc_validation: 0.8964725527029848, corr_num: 4295\n",
      "n_estimators: 4900, max_depth: 6, acc_test: 0.9076923076923077, corr_num: 4071\n",
      "2019-08-28 13:31:11.247614 Evaluation finished\n",
      "=== Top K=6 ===\n",
      "test_a_filter 22049\n",
      "test_b_filter 21074\n",
      "2019-08-28 13:31:19.166219 Loading model: 4900_6_ctx_coref_coh_global3\n",
      "2019-08-28 13:31:19.184779 Start evaluation\n",
      "n_estimators: 4900, max_depth: 6, acc_training: 0.9755676608597164, corr_num: 18088\n",
      "n_estimators: 4900, max_depth: 6, acc_validation: 0.8964725527029848, corr_num: 4295\n",
      "n_estimators: 4900, max_depth: 6, acc_test: 0.9083612040133779, corr_num: 4074\n",
      "2019-08-28 13:31:39.961668 Evaluation finished\n",
      "=== Top K=7 ===\n",
      "test_a_filter 25259\n",
      "test_b_filter 24190\n",
      "2019-08-28 13:31:47.716210 Loading model: 4900_6_ctx_coref_coh_global3\n",
      "2019-08-28 13:31:47.734489 Start evaluation\n",
      "n_estimators: 4900, max_depth: 6, acc_training: 0.9755676608597164, corr_num: 18088\n",
      "n_estimators: 4900, max_depth: 6, acc_validation: 0.8968900020872469, corr_num: 4297\n",
      "n_estimators: 4900, max_depth: 6, acc_test: 0.9083612040133779, corr_num: 4074\n",
      "2019-08-28 13:32:07.850711 Evaluation finished\n",
      "=== Top K=8 ===\n",
      "test_a_filter 28394\n",
      "test_b_filter 27254\n",
      "2019-08-28 13:32:15.808692 Loading model: 4900_6_ctx_coref_coh_global3\n",
      "2019-08-28 13:32:15.826671 Start evaluation\n",
      "n_estimators: 4900, max_depth: 6, acc_training: 0.9755676608597164, corr_num: 18088\n",
      "n_estimators: 4900, max_depth: 6, acc_validation: 0.897307451471509, corr_num: 4299\n",
      "n_estimators: 4900, max_depth: 6, acc_test: 0.9083612040133779, corr_num: 4074\n",
      "2019-08-28 13:32:36.232408 Evaluation finished\n",
      "=== Top K=9 ===\n",
      "test_a_filter 31478\n",
      "test_b_filter 30274\n",
      "2019-08-28 13:32:43.823945 Loading model: 4900_6_ctx_coref_coh_global3\n",
      "2019-08-28 13:32:43.841858 Start evaluation\n",
      "n_estimators: 4900, max_depth: 6, acc_training: 0.9755676608597164, corr_num: 18088\n",
      "n_estimators: 4900, max_depth: 6, acc_validation: 0.897307451471509, corr_num: 4299\n",
      "n_estimators: 4900, max_depth: 6, acc_test: 0.9083612040133779, corr_num: 4074\n",
      "2019-08-28 13:33:05.043804 Evaluation finished\n",
      "=== Top K=10 ===\n",
      "test_a_filter 34506\n",
      "test_b_filter 33245\n",
      "2019-08-28 13:33:13.549581 Loading model: 4900_6_ctx_coref_coh_global3\n",
      "2019-08-28 13:33:13.567657 Start evaluation\n",
      "n_estimators: 4900, max_depth: 6, acc_training: 0.9755676608597164, corr_num: 18088\n",
      "n_estimators: 4900, max_depth: 6, acc_validation: 0.897307451471509, corr_num: 4299\n",
      "n_estimators: 4900, max_depth: 6, acc_test: 0.9083612040133779, corr_num: 4074\n",
      "2019-08-28 13:33:33.993440 Evaluation finished\n",
      "=== Top K=1 ===\n",
      "test_a_filter 4699\n",
      "test_b_filter 4413\n",
      "2019-08-28 13:33:42.117597 Loading model: 4900_6_ctx_coref_coh_global4\n",
      "2019-08-28 13:33:42.158704 Start evaluation\n",
      "n_estimators: 4900, max_depth: 6, acc_training: 0.9755676608597164, corr_num: 18088\n",
      "n_estimators: 4900, max_depth: 6, acc_validation: 0.8985597996242956, corr_num: 4305\n",
      "n_estimators: 4900, max_depth: 6, acc_test: 0.9094760312151616, corr_num: 4079\n",
      "2019-08-28 13:34:03.465497 Evaluation finished\n",
      "=== Top K=2 ===\n",
      "test_a_filter 8458\n",
      "test_b_filter 7991\n",
      "2019-08-28 13:34:11.356795 Loading model: 4900_6_ctx_coref_coh_global4\n",
      "2019-08-28 13:34:11.375235 Start evaluation\n",
      "n_estimators: 4900, max_depth: 6, acc_training: 0.9755676608597164, corr_num: 18088\n",
      "n_estimators: 4900, max_depth: 6, acc_validation: 0.8981423502400334, corr_num: 4303\n",
      "n_estimators: 4900, max_depth: 6, acc_test: 0.9059085841694537, corr_num: 4063\n",
      "2019-08-28 13:34:32.446908 Evaluation finished\n",
      "=== Top K=3 ===\n",
      "test_a_filter 12008\n",
      "test_b_filter 11383\n",
      "2019-08-28 13:34:40.510281 Loading model: 4900_6_ctx_coref_coh_global4\n",
      "2019-08-28 13:34:40.527632 Start evaluation\n",
      "n_estimators: 4900, max_depth: 6, acc_training: 0.9755676608597164, corr_num: 18088\n",
      "n_estimators: 4900, max_depth: 6, acc_validation: 0.8964725527029848, corr_num: 4295\n",
      "n_estimators: 4900, max_depth: 6, acc_test: 0.9059085841694537, corr_num: 4063\n",
      "2019-08-28 13:35:01.642336 Evaluation finished\n",
      "=== Top K=4 ===\n",
      "test_a_filter 15435\n",
      "test_b_filter 14686\n",
      "2019-08-28 13:35:09.292893 Loading model: 4900_6_ctx_coref_coh_global4\n",
      "2019-08-28 13:35:09.311338 Start evaluation\n",
      "n_estimators: 4900, max_depth: 6, acc_training: 0.9755676608597164, corr_num: 18088\n",
      "n_estimators: 4900, max_depth: 6, acc_validation: 0.8964725527029848, corr_num: 4295\n",
      "n_estimators: 4900, max_depth: 6, acc_test: 0.9059085841694537, corr_num: 4063\n",
      "2019-08-28 13:35:30.053678 Evaluation finished\n",
      "=== Top K=5 ===\n",
      "test_a_filter 18773\n",
      "test_b_filter 17912\n",
      "2019-08-28 13:35:37.849202 Loading model: 4900_6_ctx_coref_coh_global4\n",
      "2019-08-28 13:35:37.867523 Start evaluation\n",
      "n_estimators: 4900, max_depth: 6, acc_training: 0.9755676608597164, corr_num: 18088\n",
      "n_estimators: 4900, max_depth: 6, acc_validation: 0.8964725527029848, corr_num: 4295\n",
      "n_estimators: 4900, max_depth: 6, acc_test: 0.9059085841694537, corr_num: 4063\n",
      "2019-08-28 13:35:59.039751 Evaluation finished\n",
      "=== Top K=6 ===\n",
      "test_a_filter 22049\n",
      "test_b_filter 21074\n",
      "2019-08-28 13:36:07.151125 Loading model: 4900_6_ctx_coref_coh_global4\n",
      "2019-08-28 13:36:07.169706 Start evaluation\n"
     ]
    },
    {
     "name": "stdout",
     "output_type": "stream",
     "text": [
      "n_estimators: 4900, max_depth: 6, acc_training: 0.9755676608597164, corr_num: 18088\n",
      "n_estimators: 4900, max_depth: 6, acc_validation: 0.8964725527029848, corr_num: 4295\n",
      "n_estimators: 4900, max_depth: 6, acc_test: 0.9059085841694537, corr_num: 4063\n",
      "2019-08-28 13:36:28.936901 Evaluation finished\n",
      "=== Top K=7 ===\n",
      "test_a_filter 25259\n",
      "test_b_filter 24190\n",
      "2019-08-28 13:36:36.818599 Loading model: 4900_6_ctx_coref_coh_global4\n",
      "2019-08-28 13:36:36.835895 Start evaluation\n",
      "n_estimators: 4900, max_depth: 6, acc_training: 0.9755676608597164, corr_num: 18088\n",
      "n_estimators: 4900, max_depth: 6, acc_validation: 0.8964725527029848, corr_num: 4295\n",
      "n_estimators: 4900, max_depth: 6, acc_test: 0.9059085841694537, corr_num: 4063\n",
      "2019-08-28 13:36:58.453778 Evaluation finished\n",
      "=== Top K=8 ===\n",
      "test_a_filter 28394\n",
      "test_b_filter 27254\n",
      "2019-08-28 13:37:06.496198 Loading model: 4900_6_ctx_coref_coh_global4\n",
      "2019-08-28 13:37:06.514087 Start evaluation\n",
      "n_estimators: 4900, max_depth: 6, acc_training: 0.9755676608597164, corr_num: 18088\n",
      "n_estimators: 4900, max_depth: 6, acc_validation: 0.8964725527029848, corr_num: 4295\n",
      "n_estimators: 4900, max_depth: 6, acc_test: 0.9059085841694537, corr_num: 4063\n",
      "2019-08-28 13:37:27.715309 Evaluation finished\n",
      "=== Top K=9 ===\n",
      "test_a_filter 31478\n",
      "test_b_filter 30274\n",
      "2019-08-28 13:37:35.289476 Loading model: 4900_6_ctx_coref_coh_global4\n",
      "2019-08-28 13:37:35.308681 Start evaluation\n",
      "n_estimators: 4900, max_depth: 6, acc_training: 0.9755676608597164, corr_num: 18088\n",
      "n_estimators: 4900, max_depth: 6, acc_validation: 0.8964725527029848, corr_num: 4295\n",
      "n_estimators: 4900, max_depth: 6, acc_test: 0.9059085841694537, corr_num: 4063\n",
      "2019-08-28 13:37:56.489093 Evaluation finished\n",
      "=== Top K=10 ===\n",
      "test_a_filter 34506\n",
      "test_b_filter 33245\n",
      "2019-08-28 13:38:04.107875 Loading model: 4900_6_ctx_coref_coh_global4\n",
      "2019-08-28 13:38:04.125732 Start evaluation\n",
      "n_estimators: 4900, max_depth: 6, acc_training: 0.9755676608597164, corr_num: 18088\n",
      "n_estimators: 4900, max_depth: 6, acc_validation: 0.8964725527029848, corr_num: 4295\n",
      "n_estimators: 4900, max_depth: 6, acc_test: 0.9059085841694537, corr_num: 4063\n",
      "2019-08-28 13:38:25.198013 Evaluation finished\n"
     ]
    }
   ],
   "source": [
    "def iter_num_to_suffix(num: int):\n",
    "    if num == 0:\n",
    "        return ''\n",
    "    if num == 1:\n",
    "        return '_global'\n",
    "    return '_global%d' % num\n",
    "\n",
    "global_vars = globals()\n",
    "for iter_num in range(1, 5):\n",
    "    iter_suffix = iter_num_to_suffix(iter_num)\n",
    "    prev_iter_suffix = iter_num_to_suffix(iter_num - 1)\n",
    "    \n",
    "    model = load_model('4900_6_ctx_coref_coh' + prev_iter_suffix)\n",
    "    \n",
    "    for top_k in range(1, 11):\n",
    "        print('=== Top K=%d ===' % top_k)\n",
    "        test_a_filter = get_top_k_prediction_indices(model, global_vars['d_test_a_ctx_coref_coh' + prev_iter_suffix], \n",
    "                                                     d_test_a_ctx_raw, q_docs_dict, top_k)\n",
    "        test_b_filter = get_top_k_prediction_indices(model, global_vars['d_test_b_ctx_coref_coh' + prev_iter_suffix], \n",
    "                                                     d_test_b_ctx_raw, q_docs_dict, top_k)\n",
    "\n",
    "        print('test_a_filter', len(test_a_filter))\n",
    "        print('test_b_filter', len(test_b_filter))\n",
    "\n",
    "        process('ctx_coref_coh' + iter_suffix, \n",
    "                global_vars['d_train_ctx_coref_coh' + iter_suffix], \n",
    "                global_vars['d_test_a_ctx_coref_coh' + iter_suffix], \n",
    "                global_vars['d_test_b_ctx_coref_coh' + iter_suffix], \n",
    "                d_train_total, d_test_a_total, d_test_b_total,\n",
    "                n_estimators=[4900], max_depths=[6], train_mode=False, \n",
    "                test_a_filter=test_a_filter, test_b_filter=test_b_filter)"
   ]
  },
  {
   "cell_type": "code",
   "execution_count": 92,
   "metadata": {},
   "outputs": [
    {
     "name": "stdout",
     "output_type": "stream",
     "text": [
      "=== Top K=11 ===\n",
      "test_a_filter 37486\n",
      "test_b_filter 36123\n",
      "2019-08-27 18:19:41.434819 Loading model: 4900_6_ctx_coref_coh_global\n",
      "2019-08-27 18:19:41.475043 Start evaluation\n",
      "n_estimators: 4900, max_depth: 6, acc_training: 0.9756215953832048, corr_num: 18089\n",
      "n_estimators: 4900, max_depth: 6, acc_validation: 0.9386349405134627, corr_num: 4497\n",
      "n_estimators: 4900, max_depth: 6, acc_test: 0.9322185061315497, corr_num: 4181\n",
      "2019-08-27 18:19:58.804028 Evaluation finished\n",
      "=== Top K=12 ===\n",
      "test_a_filter 40426\n",
      "test_b_filter 38967\n",
      "2019-08-27 18:20:07.368266 Loading model: 4900_6_ctx_coref_coh_global\n",
      "2019-08-27 18:20:07.386636 Start evaluation\n",
      "n_estimators: 4900, max_depth: 6, acc_training: 0.9756215953832048, corr_num: 18089\n",
      "n_estimators: 4900, max_depth: 6, acc_validation: 0.9384262158213317, corr_num: 4496\n",
      "n_estimators: 4900, max_depth: 6, acc_test: 0.9322185061315497, corr_num: 4181\n",
      "2019-08-27 18:20:25.266357 Evaluation finished\n",
      "=== Top K=13 ===\n",
      "test_a_filter 43347\n",
      "test_b_filter 41789\n",
      "2019-08-27 18:20:33.714268 Loading model: 4900_6_ctx_coref_coh_global\n",
      "2019-08-27 18:20:33.732468 Start evaluation\n",
      "n_estimators: 4900, max_depth: 6, acc_training: 0.9756215953832048, corr_num: 18089\n",
      "n_estimators: 4900, max_depth: 6, acc_validation: 0.9382174911292006, corr_num: 4495\n",
      "n_estimators: 4900, max_depth: 6, acc_test: 0.9322185061315497, corr_num: 4181\n",
      "2019-08-27 18:20:51.253256 Evaluation finished\n",
      "=== Top K=14 ===\n",
      "test_a_filter 46233\n",
      "test_b_filter 44582\n",
      "2019-08-27 18:21:00.252744 Loading model: 4900_6_ctx_coref_coh_global\n",
      "2019-08-27 18:21:00.271380 Start evaluation\n",
      "n_estimators: 4900, max_depth: 6, acc_training: 0.9756215953832048, corr_num: 18089\n",
      "n_estimators: 4900, max_depth: 6, acc_validation: 0.9382174911292006, corr_num: 4495\n",
      "n_estimators: 4900, max_depth: 6, acc_test: 0.9322185061315497, corr_num: 4181\n",
      "2019-08-27 18:21:17.499887 Evaluation finished\n",
      "=== Top K=15 ===\n",
      "test_a_filter 49098\n",
      "test_b_filter 47362\n",
      "2019-08-27 18:21:26.427799 Loading model: 4900_6_ctx_coref_coh_global\n",
      "2019-08-27 18:21:26.446163 Start evaluation\n",
      "n_estimators: 4900, max_depth: 6, acc_training: 0.9756215953832048, corr_num: 18089\n",
      "n_estimators: 4900, max_depth: 6, acc_validation: 0.9380087664370695, corr_num: 4494\n",
      "n_estimators: 4900, max_depth: 6, acc_test: 0.9322185061315497, corr_num: 4181\n",
      "2019-08-27 18:21:43.844448 Evaluation finished\n",
      "=== Top K=16 ===\n",
      "test_a_filter 51956\n",
      "test_b_filter 50099\n",
      "2019-08-27 18:21:52.679353 Loading model: 4900_6_ctx_coref_coh_global\n",
      "2019-08-27 18:21:52.698724 Start evaluation\n",
      "n_estimators: 4900, max_depth: 6, acc_training: 0.9756215953832048, corr_num: 18089\n",
      "n_estimators: 4900, max_depth: 6, acc_validation: 0.9380087664370695, corr_num: 4494\n",
      "n_estimators: 4900, max_depth: 6, acc_test: 0.9322185061315497, corr_num: 4181\n",
      "2019-08-27 18:22:10.264801 Evaluation finished\n",
      "=== Top K=17 ===\n",
      "test_a_filter 54775\n",
      "test_b_filter 52787\n",
      "2019-08-27 18:22:19.436559 Loading model: 4900_6_ctx_coref_coh_global\n",
      "2019-08-27 18:22:19.454658 Start evaluation\n",
      "n_estimators: 4900, max_depth: 6, acc_training: 0.9756215953832048, corr_num: 18089\n",
      "n_estimators: 4900, max_depth: 6, acc_validation: 0.9380087664370695, corr_num: 4494\n",
      "n_estimators: 4900, max_depth: 6, acc_test: 0.9322185061315497, corr_num: 4181\n",
      "2019-08-27 18:22:36.838346 Evaluation finished\n",
      "=== Top K=18 ===\n",
      "test_a_filter 57545\n",
      "test_b_filter 55450\n",
      "2019-08-27 18:22:45.605791 Loading model: 4900_6_ctx_coref_coh_global\n",
      "2019-08-27 18:22:45.622770 Start evaluation\n",
      "n_estimators: 4900, max_depth: 6, acc_training: 0.9756215953832048, corr_num: 18089\n",
      "n_estimators: 4900, max_depth: 6, acc_validation: 0.9380087664370695, corr_num: 4494\n",
      "n_estimators: 4900, max_depth: 6, acc_test: 0.9324414715719064, corr_num: 4182\n",
      "2019-08-27 18:23:03.628923 Evaluation finished\n",
      "=== Top K=19 ===\n",
      "test_a_filter 60285\n",
      "test_b_filter 58080\n",
      "2019-08-27 18:23:12.047649 Loading model: 4900_6_ctx_coref_coh_global\n",
      "2019-08-27 18:23:12.066415 Start evaluation\n",
      "n_estimators: 4900, max_depth: 6, acc_training: 0.9756215953832048, corr_num: 18089\n",
      "n_estimators: 4900, max_depth: 6, acc_validation: 0.9384262158213317, corr_num: 4496\n",
      "n_estimators: 4900, max_depth: 6, acc_test: 0.9324414715719064, corr_num: 4182\n",
      "2019-08-27 18:23:30.734602 Evaluation finished\n",
      "=== Top K=20 ===\n",
      "test_a_filter 62980\n",
      "test_b_filter 60690\n",
      "2019-08-27 18:23:39.582525 Loading model: 4900_6_ctx_coref_coh_global\n",
      "2019-08-27 18:23:39.600560 Start evaluation\n",
      "n_estimators: 4900, max_depth: 6, acc_training: 0.9756215953832048, corr_num: 18089\n",
      "n_estimators: 4900, max_depth: 6, acc_validation: 0.9386349405134627, corr_num: 4497\n",
      "n_estimators: 4900, max_depth: 6, acc_test: 0.9324414715719064, corr_num: 4182\n",
      "2019-08-27 18:23:58.454151 Evaluation finished\n",
      "=== Top K=11 ===\n",
      "test_a_filter 37486\n",
      "test_b_filter 36123\n",
      "2019-08-27 18:24:06.916561 Loading model: 4900_6_ctx_coref_coh_global2\n",
      "2019-08-27 18:24:06.935663 Start evaluation\n",
      "n_estimators: 4900, max_depth: 6, acc_training: 0.9754597918127393, corr_num: 18086\n",
      "n_estimators: 4900, max_depth: 6, acc_validation: 0.9361302442078898, corr_num: 4485\n",
      "n_estimators: 4900, max_depth: 6, acc_test: 0.9348940914158306, corr_num: 4193\n",
      "2019-08-27 18:24:24.679402 Evaluation finished\n",
      "=== Top K=12 ===\n",
      "test_a_filter 40426\n",
      "test_b_filter 38967\n",
      "2019-08-27 18:24:33.228505 Loading model: 4900_6_ctx_coref_coh_global2\n",
      "2019-08-27 18:24:33.247355 Start evaluation\n",
      "n_estimators: 4900, max_depth: 6, acc_training: 0.9754597918127393, corr_num: 18086\n",
      "n_estimators: 4900, max_depth: 6, acc_validation: 0.9361302442078898, corr_num: 4485\n",
      "n_estimators: 4900, max_depth: 6, acc_test: 0.9355629877369008, corr_num: 4196\n",
      "2019-08-27 18:24:50.199240 Evaluation finished\n",
      "=== Top K=13 ===\n",
      "test_a_filter 43347\n",
      "test_b_filter 41789\n",
      "2019-08-27 18:24:58.219556 Loading model: 4900_6_ctx_coref_coh_global2\n",
      "2019-08-27 18:24:58.237962 Start evaluation\n",
      "n_estimators: 4900, max_depth: 6, acc_training: 0.9754597918127393, corr_num: 18086\n",
      "n_estimators: 4900, max_depth: 6, acc_validation: 0.9363389689000209, corr_num: 4486\n",
      "n_estimators: 4900, max_depth: 6, acc_test: 0.9355629877369008, corr_num: 4196\n",
      "2019-08-27 18:25:15.438757 Evaluation finished\n",
      "=== Top K=14 ===\n",
      "test_a_filter 46233\n",
      "test_b_filter 44582\n",
      "2019-08-27 18:25:24.374122 Loading model: 4900_6_ctx_coref_coh_global2\n",
      "2019-08-27 18:25:24.392486 Start evaluation\n",
      "n_estimators: 4900, max_depth: 6, acc_training: 0.9754597918127393, corr_num: 18086\n",
      "n_estimators: 4900, max_depth: 6, acc_validation: 0.936547693592152, corr_num: 4487\n",
      "n_estimators: 4900, max_depth: 6, acc_test: 0.936231884057971, corr_num: 4199\n",
      "2019-08-27 18:25:42.174935 Evaluation finished\n",
      "=== Top K=15 ===\n",
      "test_a_filter 49098\n",
      "test_b_filter 47362\n",
      "2019-08-27 18:25:50.723522 Loading model: 4900_6_ctx_coref_coh_global2\n",
      "2019-08-27 18:25:50.740808 Start evaluation\n",
      "n_estimators: 4900, max_depth: 6, acc_training: 0.9754597918127393, corr_num: 18086\n",
      "n_estimators: 4900, max_depth: 6, acc_validation: 0.9369651429764141, corr_num: 4489\n",
      "n_estimators: 4900, max_depth: 6, acc_test: 0.9360089186176143, corr_num: 4198\n",
      "2019-08-27 18:26:08.923482 Evaluation finished\n",
      "=== Top K=16 ===\n",
      "test_a_filter 51956\n",
      "test_b_filter 50099\n",
      "2019-08-27 18:26:17.882042 Loading model: 4900_6_ctx_coref_coh_global2\n",
      "2019-08-27 18:26:17.903012 Start evaluation\n",
      "n_estimators: 4900, max_depth: 6, acc_training: 0.9754597918127393, corr_num: 18086\n",
      "n_estimators: 4900, max_depth: 6, acc_validation: 0.9369651429764141, corr_num: 4489\n",
      "n_estimators: 4900, max_depth: 6, acc_test: 0.9360089186176143, corr_num: 4198\n",
      "2019-08-27 18:26:36.681154 Evaluation finished\n",
      "=== Top K=17 ===\n",
      "test_a_filter 54775\n",
      "test_b_filter 52787\n",
      "2019-08-27 18:26:45.458365 Loading model: 4900_6_ctx_coref_coh_global2\n",
      "2019-08-27 18:26:45.476565 Start evaluation\n",
      "n_estimators: 4900, max_depth: 6, acc_training: 0.9754597918127393, corr_num: 18086\n",
      "n_estimators: 4900, max_depth: 6, acc_validation: 0.936756418284283, corr_num: 4488\n",
      "n_estimators: 4900, max_depth: 6, acc_test: 0.9360089186176143, corr_num: 4198\n",
      "2019-08-27 18:27:03.839793 Evaluation finished\n",
      "=== Top K=18 ===\n",
      "test_a_filter 57545\n",
      "test_b_filter 55450\n",
      "2019-08-27 18:27:12.247012 Loading model: 4900_6_ctx_coref_coh_global2\n",
      "2019-08-27 18:27:12.265086 Start evaluation\n",
      "n_estimators: 4900, max_depth: 6, acc_training: 0.9754597918127393, corr_num: 18086\n",
      "n_estimators: 4900, max_depth: 6, acc_validation: 0.936756418284283, corr_num: 4488\n"
     ]
    },
    {
     "name": "stdout",
     "output_type": "stream",
     "text": [
      "n_estimators: 4900, max_depth: 6, acc_test: 0.9360089186176143, corr_num: 4198\n",
      "2019-08-27 18:27:32.102764 Evaluation finished\n",
      "=== Top K=19 ===\n",
      "test_a_filter 60285\n",
      "test_b_filter 58080\n",
      "2019-08-27 18:27:40.427626 Loading model: 4900_6_ctx_coref_coh_global2\n",
      "2019-08-27 18:27:40.445904 Start evaluation\n",
      "n_estimators: 4900, max_depth: 6, acc_training: 0.9754597918127393, corr_num: 18086\n",
      "n_estimators: 4900, max_depth: 6, acc_validation: 0.936756418284283, corr_num: 4488\n",
      "n_estimators: 4900, max_depth: 6, acc_test: 0.9360089186176143, corr_num: 4198\n",
      "2019-08-27 18:27:58.361966 Evaluation finished\n",
      "=== Top K=20 ===\n",
      "test_a_filter 62980\n",
      "test_b_filter 60690\n",
      "2019-08-27 18:28:06.936577 Loading model: 4900_6_ctx_coref_coh_global2\n",
      "2019-08-27 18:28:06.957592 Start evaluation\n",
      "n_estimators: 4900, max_depth: 6, acc_training: 0.9754597918127393, corr_num: 18086\n",
      "n_estimators: 4900, max_depth: 6, acc_validation: 0.936756418284283, corr_num: 4488\n",
      "n_estimators: 4900, max_depth: 6, acc_test: 0.9360089186176143, corr_num: 4198\n",
      "2019-08-27 18:28:26.571644 Evaluation finished\n",
      "=== Top K=11 ===\n",
      "test_a_filter 37486\n",
      "test_b_filter 36123\n",
      "2019-08-27 18:28:35.095936 Loading model: 4900_6_ctx_coref_coh_global3\n",
      "2019-08-27 18:28:35.114015 Start evaluation\n",
      "n_estimators: 4900, max_depth: 6, acc_training: 0.9755676608597164, corr_num: 18088\n",
      "n_estimators: 4900, max_depth: 6, acc_validation: 0.9405134627426425, corr_num: 4506\n",
      "n_estimators: 4900, max_depth: 6, acc_test: 0.9402452619843924, corr_num: 4217\n",
      "2019-08-27 18:28:51.480006 Evaluation finished\n",
      "=== Top K=12 ===\n",
      "test_a_filter 40426\n",
      "test_b_filter 38967\n",
      "2019-08-27 18:29:00.328927 Loading model: 4900_6_ctx_coref_coh_global3\n",
      "2019-08-27 18:29:00.347717 Start evaluation\n",
      "n_estimators: 4900, max_depth: 6, acc_training: 0.9755676608597164, corr_num: 18088\n",
      "n_estimators: 4900, max_depth: 6, acc_validation: 0.9407221874347735, corr_num: 4507\n",
      "n_estimators: 4900, max_depth: 6, acc_test: 0.9402452619843924, corr_num: 4217\n",
      "2019-08-27 18:29:17.841709 Evaluation finished\n",
      "=== Top K=13 ===\n",
      "test_a_filter 43347\n",
      "test_b_filter 41789\n",
      "2019-08-27 18:29:26.105534 Loading model: 4900_6_ctx_coref_coh_global3\n",
      "2019-08-27 18:29:26.123480 Start evaluation\n",
      "n_estimators: 4900, max_depth: 6, acc_training: 0.9755676608597164, corr_num: 18088\n",
      "n_estimators: 4900, max_depth: 6, acc_validation: 0.9407221874347735, corr_num: 4507\n",
      "n_estimators: 4900, max_depth: 6, acc_test: 0.9409141583054627, corr_num: 4220\n",
      "2019-08-27 18:29:43.668538 Evaluation finished\n",
      "=== Top K=14 ===\n",
      "test_a_filter 46233\n",
      "test_b_filter 44582\n",
      "2019-08-27 18:29:52.663669 Loading model: 4900_6_ctx_coref_coh_global3\n",
      "2019-08-27 18:29:52.680797 Start evaluation\n",
      "n_estimators: 4900, max_depth: 6, acc_training: 0.9755676608597164, corr_num: 18088\n",
      "n_estimators: 4900, max_depth: 6, acc_validation: 0.9413483615111667, corr_num: 4510\n",
      "n_estimators: 4900, max_depth: 6, acc_test: 0.9400222965440357, corr_num: 4216\n",
      "2019-08-27 18:30:10.389310 Evaluation finished\n",
      "=== Top K=15 ===\n",
      "test_a_filter 49098\n",
      "test_b_filter 47362\n",
      "2019-08-27 18:30:19.207449 Loading model: 4900_6_ctx_coref_coh_global3\n",
      "2019-08-27 18:30:19.225551 Start evaluation\n",
      "n_estimators: 4900, max_depth: 6, acc_training: 0.9755676608597164, corr_num: 18088\n",
      "n_estimators: 4900, max_depth: 6, acc_validation: 0.9407221874347735, corr_num: 4507\n",
      "n_estimators: 4900, max_depth: 6, acc_test: 0.9402452619843924, corr_num: 4217\n",
      "2019-08-27 18:30:37.337566 Evaluation finished\n",
      "=== Top K=16 ===\n",
      "test_a_filter 51956\n",
      "test_b_filter 50099\n",
      "2019-08-27 18:30:46.685205 Loading model: 4900_6_ctx_coref_coh_global3\n",
      "2019-08-27 18:30:46.703295 Start evaluation\n",
      "n_estimators: 4900, max_depth: 6, acc_training: 0.9755676608597164, corr_num: 18088\n",
      "n_estimators: 4900, max_depth: 6, acc_validation: 0.9407221874347735, corr_num: 4507\n",
      "n_estimators: 4900, max_depth: 6, acc_test: 0.9402452619843924, corr_num: 4217\n",
      "2019-08-27 18:31:04.415886 Evaluation finished\n",
      "=== Top K=17 ===\n",
      "test_a_filter 54775\n",
      "test_b_filter 52787\n",
      "2019-08-27 18:31:13.618117 Loading model: 4900_6_ctx_coref_coh_global3\n",
      "2019-08-27 18:31:13.636528 Start evaluation\n",
      "n_estimators: 4900, max_depth: 6, acc_training: 0.9755676608597164, corr_num: 18088\n",
      "n_estimators: 4900, max_depth: 6, acc_validation: 0.9407221874347735, corr_num: 4507\n",
      "n_estimators: 4900, max_depth: 6, acc_test: 0.9402452619843924, corr_num: 4217\n",
      "2019-08-27 18:31:31.341632 Evaluation finished\n",
      "=== Top K=18 ===\n",
      "test_a_filter 57545\n",
      "test_b_filter 55450\n",
      "2019-08-27 18:31:39.827838 Loading model: 4900_6_ctx_coref_coh_global3\n",
      "2019-08-27 18:31:39.845389 Start evaluation\n",
      "n_estimators: 4900, max_depth: 6, acc_training: 0.9755676608597164, corr_num: 18088\n",
      "n_estimators: 4900, max_depth: 6, acc_validation: 0.9407221874347735, corr_num: 4507\n",
      "n_estimators: 4900, max_depth: 6, acc_test: 0.9402452619843924, corr_num: 4217\n",
      "2019-08-27 18:31:58.197914 Evaluation finished\n",
      "=== Top K=19 ===\n",
      "test_a_filter 60285\n",
      "test_b_filter 58080\n",
      "2019-08-27 18:32:07.513927 Loading model: 4900_6_ctx_coref_coh_global3\n",
      "2019-08-27 18:32:07.532178 Start evaluation\n",
      "n_estimators: 4900, max_depth: 6, acc_training: 0.9755676608597164, corr_num: 18088\n",
      "n_estimators: 4900, max_depth: 6, acc_validation: 0.9407221874347735, corr_num: 4507\n",
      "n_estimators: 4900, max_depth: 6, acc_test: 0.9402452619843924, corr_num: 4217\n",
      "2019-08-27 18:32:25.747490 Evaluation finished\n",
      "=== Top K=20 ===\n",
      "test_a_filter 62980\n",
      "test_b_filter 60690\n",
      "2019-08-27 18:32:34.756223 Loading model: 4900_6_ctx_coref_coh_global3\n",
      "2019-08-27 18:32:34.774029 Start evaluation\n",
      "n_estimators: 4900, max_depth: 6, acc_training: 0.9755676608597164, corr_num: 18088\n",
      "n_estimators: 4900, max_depth: 6, acc_validation: 0.9411396368190357, corr_num: 4509\n",
      "n_estimators: 4900, max_depth: 6, acc_test: 0.9402452619843924, corr_num: 4217\n",
      "2019-08-27 18:32:54.702986 Evaluation finished\n",
      "=== Top K=11 ===\n",
      "test_a_filter 37486\n",
      "test_b_filter 36123\n",
      "2019-08-27 18:33:03.596040 Loading model: 4900_6_ctx_coref_coh_global4\n",
      "2019-08-27 18:33:03.615261 Start evaluation\n",
      "n_estimators: 4900, max_depth: 6, acc_training: 0.9755676608597164, corr_num: 18088\n",
      "n_estimators: 4900, max_depth: 6, acc_validation: 0.9369651429764141, corr_num: 4489\n",
      "n_estimators: 4900, max_depth: 6, acc_test: 0.9384615384615385, corr_num: 4209\n",
      "2019-08-27 18:33:21.427402 Evaluation finished\n",
      "=== Top K=12 ===\n",
      "test_a_filter 40426\n",
      "test_b_filter 38967\n",
      "2019-08-27 18:33:30.012409 Loading model: 4900_6_ctx_coref_coh_global4\n",
      "2019-08-27 18:33:30.031309 Start evaluation\n",
      "n_estimators: 4900, max_depth: 6, acc_training: 0.9755676608597164, corr_num: 18088\n",
      "n_estimators: 4900, max_depth: 6, acc_validation: 0.9373825923606762, corr_num: 4491\n",
      "n_estimators: 4900, max_depth: 6, acc_test: 0.9391304347826087, corr_num: 4212\n",
      "2019-08-27 18:33:47.339546 Evaluation finished\n",
      "=== Top K=13 ===\n",
      "test_a_filter 43347\n",
      "test_b_filter 41789\n",
      "2019-08-27 18:33:55.908794 Loading model: 4900_6_ctx_coref_coh_global4\n",
      "2019-08-27 18:33:55.926715 Start evaluation\n",
      "n_estimators: 4900, max_depth: 6, acc_training: 0.9755676608597164, corr_num: 18088\n",
      "n_estimators: 4900, max_depth: 6, acc_validation: 0.9373825923606762, corr_num: 4491\n",
      "n_estimators: 4900, max_depth: 6, acc_test: 0.9391304347826087, corr_num: 4212\n",
      "2019-08-27 18:34:13.535063 Evaluation finished\n",
      "=== Top K=14 ===\n",
      "test_a_filter 46233\n",
      "test_b_filter 44582\n",
      "2019-08-27 18:34:22.332279 Loading model: 4900_6_ctx_coref_coh_global4\n",
      "2019-08-27 18:34:22.352938 Start evaluation\n",
      "n_estimators: 4900, max_depth: 6, acc_training: 0.9755676608597164, corr_num: 18088\n",
      "n_estimators: 4900, max_depth: 6, acc_validation: 0.9373825923606762, corr_num: 4491\n",
      "n_estimators: 4900, max_depth: 6, acc_test: 0.9384615384615385, corr_num: 4209\n",
      "2019-08-27 18:34:41.490722 Evaluation finished\n",
      "=== Top K=15 ===\n",
      "test_a_filter 49098\n",
      "test_b_filter 47362\n",
      "2019-08-27 18:34:49.634643 Loading model: 4900_6_ctx_coref_coh_global4\n",
      "2019-08-27 18:34:49.653410 Start evaluation\n",
      "n_estimators: 4900, max_depth: 6, acc_training: 0.9755676608597164, corr_num: 18088\n",
      "n_estimators: 4900, max_depth: 6, acc_validation: 0.9373825923606762, corr_num: 4491\n",
      "n_estimators: 4900, max_depth: 6, acc_test: 0.9386845039018952, corr_num: 4210\n",
      "2019-08-27 18:35:07.493868 Evaluation finished\n",
      "=== Top K=16 ===\n",
      "test_a_filter 51956\n",
      "test_b_filter 50099\n",
      "2019-08-27 18:35:16.125266 Loading model: 4900_6_ctx_coref_coh_global4\n",
      "2019-08-27 18:35:16.143704 Start evaluation\n"
     ]
    },
    {
     "name": "stdout",
     "output_type": "stream",
     "text": [
      "n_estimators: 4900, max_depth: 6, acc_training: 0.9755676608597164, corr_num: 18088\n",
      "n_estimators: 4900, max_depth: 6, acc_validation: 0.9375913170528073, corr_num: 4492\n",
      "n_estimators: 4900, max_depth: 6, acc_test: 0.9386845039018952, corr_num: 4210\n",
      "2019-08-27 18:35:34.644705 Evaluation finished\n",
      "=== Top K=17 ===\n",
      "test_a_filter 54775\n",
      "test_b_filter 52787\n",
      "2019-08-27 18:35:43.403473 Loading model: 4900_6_ctx_coref_coh_global4\n",
      "2019-08-27 18:35:43.421477 Start evaluation\n",
      "n_estimators: 4900, max_depth: 6, acc_training: 0.9755676608597164, corr_num: 18088\n",
      "n_estimators: 4900, max_depth: 6, acc_validation: 0.9375913170528073, corr_num: 4492\n",
      "n_estimators: 4900, max_depth: 6, acc_test: 0.9386845039018952, corr_num: 4210\n",
      "2019-08-27 18:36:01.466564 Evaluation finished\n",
      "=== Top K=18 ===\n",
      "test_a_filter 57545\n",
      "test_b_filter 55450\n",
      "2019-08-27 18:36:09.877236 Loading model: 4900_6_ctx_coref_coh_global4\n",
      "2019-08-27 18:36:09.895295 Start evaluation\n",
      "n_estimators: 4900, max_depth: 6, acc_training: 0.9755676608597164, corr_num: 18088\n",
      "n_estimators: 4900, max_depth: 6, acc_validation: 0.9375913170528073, corr_num: 4492\n",
      "n_estimators: 4900, max_depth: 6, acc_test: 0.9386845039018952, corr_num: 4210\n",
      "2019-08-27 18:36:29.098922 Evaluation finished\n",
      "=== Top K=19 ===\n",
      "test_a_filter 60285\n",
      "test_b_filter 58080\n",
      "2019-08-27 18:36:37.828957 Loading model: 4900_6_ctx_coref_coh_global4\n",
      "2019-08-27 18:36:37.847552 Start evaluation\n",
      "n_estimators: 4900, max_depth: 6, acc_training: 0.9755676608597164, corr_num: 18088\n",
      "n_estimators: 4900, max_depth: 6, acc_validation: 0.9375913170528073, corr_num: 4492\n",
      "n_estimators: 4900, max_depth: 6, acc_test: 0.9386845039018952, corr_num: 4210\n",
      "2019-08-27 18:36:56.154428 Evaluation finished\n",
      "=== Top K=20 ===\n",
      "test_a_filter 62980\n",
      "test_b_filter 60690\n",
      "2019-08-27 18:37:05.862044 Loading model: 4900_6_ctx_coref_coh_global4\n",
      "2019-08-27 18:37:05.881433 Start evaluation\n",
      "n_estimators: 4900, max_depth: 6, acc_training: 0.9755676608597164, corr_num: 18088\n",
      "n_estimators: 4900, max_depth: 6, acc_validation: 0.9375913170528073, corr_num: 4492\n",
      "n_estimators: 4900, max_depth: 6, acc_test: 0.9386845039018952, corr_num: 4210\n",
      "2019-08-27 18:37:26.458481 Evaluation finished\n"
     ]
    }
   ],
   "source": [
    "def iter_num_to_suffix(num: int):\n",
    "    if num == 0:\n",
    "        return ''\n",
    "    if num == 1:\n",
    "        return '_global'\n",
    "    return '_global%d' % num\n",
    "\n",
    "global_vars = globals()\n",
    "for iter_num in range(1, 5):\n",
    "    iter_suffix = iter_num_to_suffix(iter_num)\n",
    "    prev_iter_suffix = iter_num_to_suffix(iter_num - 1)\n",
    "    \n",
    "    model = load_model('4900_6_ctx_coref_coh' + prev_iter_suffix)\n",
    "    \n",
    "    for top_k in range(11, 21):\n",
    "        print('=== Top K=%d ===' % top_k)\n",
    "        test_a_filter = get_top_k_prediction_indices(model, global_vars['d_test_a_ctx_coref_coh' + prev_iter_suffix], \n",
    "                                                     d_test_a_ctx_raw, q_docs_dict, top_k)\n",
    "        test_b_filter = get_top_k_prediction_indices(model, global_vars['d_test_b_ctx_coref_coh' + prev_iter_suffix], \n",
    "                                                     d_test_b_ctx_raw, q_docs_dict, top_k)\n",
    "\n",
    "        print('test_a_filter', len(test_a_filter))\n",
    "        print('test_b_filter', len(test_b_filter))\n",
    "\n",
    "        process('ctx_coref_coh' + iter_suffix, \n",
    "                global_vars['d_train_ctx_coref_coh' + iter_suffix], \n",
    "                global_vars['d_test_a_ctx_coref_coh' + iter_suffix], \n",
    "                global_vars['d_test_b_ctx_coref_coh' + iter_suffix], \n",
    "                d_train_total, d_test_a_total, d_test_b_total,\n",
    "                n_estimators=[4900], max_depths=[6], train_mode=False, \n",
    "                test_a_filter=test_a_filter, test_b_filter=test_b_filter)"
   ]
  },
  {
   "cell_type": "code",
   "execution_count": null,
   "metadata": {},
   "outputs": [
    {
     "name": "stdout",
     "output_type": "stream",
     "text": [
      "=== Top K=21 ===\n",
      "test_a_filter 65664\n",
      "test_b_filter 63283\n",
      "2019-08-28 00:28:41.331686 Loading model: 4900_6_ctx_coref_coh_global\n",
      "2019-08-28 00:28:41.359562 Start evaluation\n",
      "n_estimators: 4900, max_depth: 6, acc_training: 0.9756215953832048, corr_num: 18089\n",
      "n_estimators: 4900, max_depth: 6, acc_validation: 0.9386349405134627, corr_num: 4497\n",
      "n_estimators: 4900, max_depth: 6, acc_test: 0.9324414715719064, corr_num: 4182\n",
      "2019-08-28 00:28:59.893939 Evaluation finished\n",
      "=== Top K=22 ===\n",
      "test_a_filter 68325\n",
      "test_b_filter 65857\n",
      "2019-08-28 00:29:09.666117 Loading model: 4900_6_ctx_coref_coh_global\n",
      "2019-08-28 00:29:09.691242 Start evaluation\n",
      "n_estimators: 4900, max_depth: 6, acc_training: 0.9756215953832048, corr_num: 18089\n",
      "n_estimators: 4900, max_depth: 6, acc_validation: 0.9386349405134627, corr_num: 4497\n",
      "n_estimators: 4900, max_depth: 6, acc_test: 0.9328874024526198, corr_num: 4184\n",
      "2019-08-28 00:29:32.820072 Evaluation finished\n",
      "=== Top K=23 ===\n",
      "test_a_filter 70961\n",
      "test_b_filter 68401\n",
      "2019-08-28 00:29:42.567975 Loading model: 4900_6_ctx_coref_coh_global\n",
      "2019-08-28 00:29:42.587685 Start evaluation\n",
      "n_estimators: 4900, max_depth: 6, acc_training: 0.9756215953832048, corr_num: 18089\n",
      "n_estimators: 4900, max_depth: 6, acc_validation: 0.9382174911292006, corr_num: 4495\n",
      "n_estimators: 4900, max_depth: 6, acc_test: 0.9328874024526198, corr_num: 4184\n",
      "2019-08-28 00:30:05.617211 Evaluation finished\n",
      "=== Top K=24 ===\n",
      "test_a_filter 73575\n",
      "test_b_filter 70918\n",
      "2019-08-28 00:30:15.474304 Loading model: 4900_6_ctx_coref_coh_global\n",
      "2019-08-28 00:30:15.493838 Start evaluation\n",
      "n_estimators: 4900, max_depth: 6, acc_training: 0.9756215953832048, corr_num: 18089\n",
      "n_estimators: 4900, max_depth: 6, acc_validation: 0.9382174911292006, corr_num: 4495\n",
      "n_estimators: 4900, max_depth: 6, acc_test: 0.9328874024526198, corr_num: 4184\n",
      "2019-08-28 00:30:38.797424 Evaluation finished\n",
      "=== Top K=25 ===\n",
      "test_a_filter 76153\n",
      "test_b_filter 73419\n",
      "2019-08-28 00:30:48.600212 Loading model: 4900_6_ctx_coref_coh_global\n",
      "2019-08-28 00:30:48.620401 Start evaluation\n",
      "n_estimators: 4900, max_depth: 6, acc_training: 0.9756215953832048, corr_num: 18089\n",
      "n_estimators: 4900, max_depth: 6, acc_validation: 0.9382174911292006, corr_num: 4495\n",
      "n_estimators: 4900, max_depth: 6, acc_test: 0.9328874024526198, corr_num: 4184\n",
      "2019-08-28 00:31:12.228850 Evaluation finished\n",
      "=== Top K=26 ===\n",
      "test_a_filter 78721\n",
      "test_b_filter 75892\n",
      "2019-08-28 00:31:21.897382 Loading model: 4900_6_ctx_coref_coh_global\n",
      "2019-08-28 00:31:21.917801 Start evaluation\n",
      "n_estimators: 4900, max_depth: 6, acc_training: 0.9756215953832048, corr_num: 18089\n",
      "n_estimators: 4900, max_depth: 6, acc_validation: 0.9382174911292006, corr_num: 4495\n",
      "n_estimators: 4900, max_depth: 6, acc_test: 0.9328874024526198, corr_num: 4184\n",
      "2019-08-28 00:31:45.849896 Evaluation finished\n",
      "=== Top K=27 ===\n",
      "test_a_filter 81279\n",
      "test_b_filter 78353\n",
      "2019-08-28 00:31:55.674347 Loading model: 4900_6_ctx_coref_coh_global\n",
      "2019-08-28 00:31:55.693974 Start evaluation\n",
      "n_estimators: 4900, max_depth: 6, acc_training: 0.9756215953832048, corr_num: 18089\n",
      "n_estimators: 4900, max_depth: 6, acc_validation: 0.9384262158213317, corr_num: 4496\n",
      "n_estimators: 4900, max_depth: 6, acc_test: 0.9328874024526198, corr_num: 4184\n",
      "2019-08-28 00:32:19.543684 Evaluation finished\n",
      "=== Top K=28 ===\n",
      "test_a_filter 83817\n",
      "test_b_filter 80801\n",
      "2019-08-28 00:32:29.293640 Loading model: 4900_6_ctx_coref_coh_global\n",
      "2019-08-28 00:32:29.314371 Start evaluation\n",
      "n_estimators: 4900, max_depth: 6, acc_training: 0.9756215953832048, corr_num: 18089\n",
      "n_estimators: 4900, max_depth: 6, acc_validation: 0.9384262158213317, corr_num: 4496\n",
      "n_estimators: 4900, max_depth: 6, acc_test: 0.9328874024526198, corr_num: 4184\n",
      "2019-08-28 00:32:53.928937 Evaluation finished\n",
      "=== Top K=29 ===\n",
      "test_a_filter 86336\n",
      "test_b_filter 83236\n",
      "2019-08-28 00:33:03.912263 Loading model: 4900_6_ctx_coref_coh_global\n",
      "2019-08-28 00:33:03.931688 Start evaluation\n",
      "n_estimators: 4900, max_depth: 6, acc_training: 0.9756215953832048, corr_num: 18089\n",
      "n_estimators: 4900, max_depth: 6, acc_validation: 0.9384262158213317, corr_num: 4496\n",
      "n_estimators: 4900, max_depth: 6, acc_test: 0.9328874024526198, corr_num: 4184\n",
      "2019-08-28 00:33:28.461597 Evaluation finished\n",
      "=== Top K=30 ===\n",
      "test_a_filter 88847\n",
      "test_b_filter 85658\n",
      "2019-08-28 00:33:38.325993 Loading model: 4900_6_ctx_coref_coh_global\n",
      "2019-08-28 00:33:38.345704 Start evaluation\n",
      "n_estimators: 4900, max_depth: 6, acc_training: 0.9756215953832048, corr_num: 18089\n",
      "n_estimators: 4900, max_depth: 6, acc_validation: 0.9384262158213317, corr_num: 4496\n",
      "n_estimators: 4900, max_depth: 6, acc_test: 0.9328874024526198, corr_num: 4184\n",
      "2019-08-28 00:34:03.076636 Evaluation finished\n",
      "=== Top K=31 ===\n",
      "test_a_filter 91351\n",
      "test_b_filter 88065\n",
      "2019-08-28 00:34:13.044500 Loading model: 4900_6_ctx_coref_coh_global\n",
      "2019-08-28 00:34:13.063308 Start evaluation\n",
      "n_estimators: 4900, max_depth: 6, acc_training: 0.9756215953832048, corr_num: 18089\n",
      "n_estimators: 4900, max_depth: 6, acc_validation: 0.9384262158213317, corr_num: 4496\n",
      "n_estimators: 4900, max_depth: 6, acc_test: 0.9328874024526198, corr_num: 4184\n",
      "2019-08-28 00:34:37.594699 Evaluation finished\n",
      "=== Top K=32 ===\n",
      "test_a_filter 93843\n",
      "test_b_filter 90464\n",
      "2019-08-28 00:34:47.379311 Loading model: 4900_6_ctx_coref_coh_global\n",
      "2019-08-28 00:34:47.399360 Start evaluation\n",
      "n_estimators: 4900, max_depth: 6, acc_training: 0.9756215953832048, corr_num: 18089\n",
      "n_estimators: 4900, max_depth: 6, acc_validation: 0.9384262158213317, corr_num: 4496\n",
      "n_estimators: 4900, max_depth: 6, acc_test: 0.9328874024526198, corr_num: 4184\n",
      "2019-08-28 00:35:12.538045 Evaluation finished\n",
      "=== Top K=33 ===\n",
      "test_a_filter 96317\n",
      "test_b_filter 92847\n",
      "2019-08-28 00:35:22.377968 Loading model: 4900_6_ctx_coref_coh_global\n",
      "2019-08-28 00:35:22.397094 Start evaluation\n",
      "n_estimators: 4900, max_depth: 6, acc_training: 0.9756215953832048, corr_num: 18089\n",
      "n_estimators: 4900, max_depth: 6, acc_validation: 0.9384262158213317, corr_num: 4496\n",
      "n_estimators: 4900, max_depth: 6, acc_test: 0.9328874024526198, corr_num: 4184\n",
      "2019-08-28 00:35:47.526262 Evaluation finished\n",
      "=== Top K=34 ===\n",
      "test_a_filter 98778\n",
      "test_b_filter 95215\n",
      "2019-08-28 00:35:57.375810 Loading model: 4900_6_ctx_coref_coh_global\n",
      "2019-08-28 00:35:57.396053 Start evaluation\n",
      "n_estimators: 4900, max_depth: 6, acc_training: 0.9756215953832048, corr_num: 18089\n",
      "n_estimators: 4900, max_depth: 6, acc_validation: 0.9384262158213317, corr_num: 4496\n",
      "n_estimators: 4900, max_depth: 6, acc_test: 0.9328874024526198, corr_num: 4184\n",
      "2019-08-28 00:36:22.363741 Evaluation finished\n",
      "=== Top K=35 ===\n",
      "test_a_filter 101219\n",
      "test_b_filter 97577\n",
      "2019-08-28 00:36:32.124864 Loading model: 4900_6_ctx_coref_coh_global\n",
      "2019-08-28 00:36:32.144351 Start evaluation\n",
      "n_estimators: 4900, max_depth: 6, acc_training: 0.9756215953832048, corr_num: 18089\n",
      "n_estimators: 4900, max_depth: 6, acc_validation: 0.9384262158213317, corr_num: 4496\n",
      "n_estimators: 4900, max_depth: 6, acc_test: 0.9328874024526198, corr_num: 4184\n",
      "2019-08-28 00:36:57.605086 Evaluation finished\n",
      "=== Top K=36 ===\n",
      "test_a_filter 103651\n",
      "test_b_filter 99938\n",
      "2019-08-28 00:37:08.084179 Loading model: 4900_6_ctx_coref_coh_global\n",
      "2019-08-28 00:37:08.103588 Start evaluation\n",
      "n_estimators: 4900, max_depth: 6, acc_training: 0.9756215953832048, corr_num: 18089\n",
      "n_estimators: 4900, max_depth: 6, acc_validation: 0.9384262158213317, corr_num: 4496\n",
      "n_estimators: 4900, max_depth: 6, acc_test: 0.9328874024526198, corr_num: 4184\n",
      "2019-08-28 00:37:33.901582 Evaluation finished\n",
      "=== Top K=37 ===\n",
      "test_a_filter 106070\n",
      "test_b_filter 102287\n",
      "2019-08-28 00:37:43.852208 Loading model: 4900_6_ctx_coref_coh_global\n",
      "2019-08-28 00:37:43.872008 Start evaluation\n",
      "n_estimators: 4900, max_depth: 6, acc_training: 0.9756215953832048, corr_num: 18089\n",
      "n_estimators: 4900, max_depth: 6, acc_validation: 0.9384262158213317, corr_num: 4496\n",
      "n_estimators: 4900, max_depth: 6, acc_test: 0.9328874024526198, corr_num: 4184\n",
      "2019-08-28 00:38:09.386500 Evaluation finished\n",
      "=== Top K=38 ===\n",
      "test_a_filter 108469\n",
      "test_b_filter 104625\n",
      "2019-08-28 00:38:19.204538 Loading model: 4900_6_ctx_coref_coh_global\n",
      "2019-08-28 00:38:19.227783 Start evaluation\n",
      "n_estimators: 4900, max_depth: 6, acc_training: 0.9756215953832048, corr_num: 18089\n",
      "n_estimators: 4900, max_depth: 6, acc_validation: 0.9384262158213317, corr_num: 4496\n"
     ]
    },
    {
     "name": "stdout",
     "output_type": "stream",
     "text": [
      "n_estimators: 4900, max_depth: 6, acc_test: 0.9328874024526198, corr_num: 4184\n",
      "2019-08-28 00:38:44.593928 Evaluation finished\n",
      "=== Top K=39 ===\n",
      "test_a_filter 110857\n",
      "test_b_filter 106957\n",
      "2019-08-28 00:38:54.372904 Loading model: 4900_6_ctx_coref_coh_global\n",
      "2019-08-28 00:38:54.392578 Start evaluation\n",
      "n_estimators: 4900, max_depth: 6, acc_training: 0.9756215953832048, corr_num: 18089\n",
      "n_estimators: 4900, max_depth: 6, acc_validation: 0.9384262158213317, corr_num: 4496\n",
      "n_estimators: 4900, max_depth: 6, acc_test: 0.9331103678929766, corr_num: 4185\n",
      "2019-08-28 00:39:20.789968 Evaluation finished\n",
      "=== Top K=40 ===\n",
      "test_a_filter 113238\n",
      "test_b_filter 109275\n",
      "2019-08-28 00:39:31.075212 Loading model: 4900_6_ctx_coref_coh_global\n",
      "2019-08-28 00:39:31.095234 Start evaluation\n",
      "n_estimators: 4900, max_depth: 6, acc_training: 0.9756215953832048, corr_num: 18089\n",
      "n_estimators: 4900, max_depth: 6, acc_validation: 0.9384262158213317, corr_num: 4496\n",
      "n_estimators: 4900, max_depth: 6, acc_test: 0.9331103678929766, corr_num: 4185\n",
      "2019-08-28 00:39:58.695157 Evaluation finished\n",
      "=== Top K=41 ===\n",
      "test_a_filter 115614\n",
      "test_b_filter 111584\n",
      "2019-08-28 00:40:09.151054 Loading model: 4900_6_ctx_coref_coh_global\n",
      "2019-08-28 00:40:09.173048 Start evaluation\n",
      "n_estimators: 4900, max_depth: 6, acc_training: 0.9756215953832048, corr_num: 18089\n",
      "n_estimators: 4900, max_depth: 6, acc_validation: 0.9384262158213317, corr_num: 4496\n",
      "n_estimators: 4900, max_depth: 6, acc_test: 0.9331103678929766, corr_num: 4185\n",
      "2019-08-28 00:40:36.784422 Evaluation finished\n",
      "=== Top K=42 ===\n",
      "test_a_filter 117986\n",
      "test_b_filter 113885\n",
      "2019-08-28 00:40:47.593989 Loading model: 4900_6_ctx_coref_coh_global\n",
      "2019-08-28 00:40:47.615786 Start evaluation\n",
      "n_estimators: 4900, max_depth: 6, acc_training: 0.9756215953832048, corr_num: 18089\n",
      "n_estimators: 4900, max_depth: 6, acc_validation: 0.9384262158213317, corr_num: 4496\n",
      "n_estimators: 4900, max_depth: 6, acc_test: 0.9331103678929766, corr_num: 4185\n",
      "2019-08-28 00:41:14.877207 Evaluation finished\n",
      "=== Top K=43 ===\n",
      "test_a_filter 120310\n",
      "test_b_filter 116174\n",
      "2019-08-28 00:41:25.543971 Loading model: 4900_6_ctx_coref_coh_global\n",
      "2019-08-28 00:41:25.564822 Start evaluation\n",
      "n_estimators: 4900, max_depth: 6, acc_training: 0.9756215953832048, corr_num: 18089\n",
      "n_estimators: 4900, max_depth: 6, acc_validation: 0.9384262158213317, corr_num: 4496\n",
      "n_estimators: 4900, max_depth: 6, acc_test: 0.9331103678929766, corr_num: 4185\n",
      "2019-08-28 00:41:53.839419 Evaluation finished\n",
      "=== Top K=44 ===\n",
      "test_a_filter 122628\n",
      "test_b_filter 118460\n",
      "2019-08-28 00:42:04.383533 Loading model: 4900_6_ctx_coref_coh_global\n",
      "2019-08-28 00:42:04.404198 Start evaluation\n",
      "n_estimators: 4900, max_depth: 6, acc_training: 0.9756215953832048, corr_num: 18089\n",
      "n_estimators: 4900, max_depth: 6, acc_validation: 0.9384262158213317, corr_num: 4496\n",
      "n_estimators: 4900, max_depth: 6, acc_test: 0.9331103678929766, corr_num: 4185\n",
      "2019-08-28 00:42:33.170691 Evaluation finished\n",
      "=== Top K=45 ===\n",
      "test_a_filter 124923\n",
      "test_b_filter 120729\n",
      "2019-08-28 00:42:43.885160 Loading model: 4900_6_ctx_coref_coh_global\n",
      "2019-08-28 00:42:43.908974 Start evaluation\n",
      "n_estimators: 4900, max_depth: 6, acc_training: 0.9756215953832048, corr_num: 18089\n",
      "n_estimators: 4900, max_depth: 6, acc_validation: 0.9384262158213317, corr_num: 4496\n",
      "n_estimators: 4900, max_depth: 6, acc_test: 0.9331103678929766, corr_num: 4185\n",
      "2019-08-28 00:43:12.435737 Evaluation finished\n",
      "=== Top K=46 ===\n",
      "test_a_filter 127214\n",
      "test_b_filter 122983\n",
      "2019-08-28 00:43:23.412495 Loading model: 4900_6_ctx_coref_coh_global\n",
      "2019-08-28 00:43:23.433796 Start evaluation\n",
      "n_estimators: 4900, max_depth: 6, acc_training: 0.9756215953832048, corr_num: 18089\n",
      "n_estimators: 4900, max_depth: 6, acc_validation: 0.9384262158213317, corr_num: 4496\n",
      "n_estimators: 4900, max_depth: 6, acc_test: 0.9331103678929766, corr_num: 4185\n",
      "2019-08-28 00:43:51.484481 Evaluation finished\n",
      "=== Top K=47 ===\n",
      "test_a_filter 129498\n",
      "test_b_filter 125225\n",
      "2019-08-28 00:44:01.820811 Loading model: 4900_6_ctx_coref_coh_global\n",
      "2019-08-28 00:44:01.840834 Start evaluation\n",
      "n_estimators: 4900, max_depth: 6, acc_training: 0.9756215953832048, corr_num: 18089\n",
      "n_estimators: 4900, max_depth: 6, acc_validation: 0.9384262158213317, corr_num: 4496\n",
      "n_estimators: 4900, max_depth: 6, acc_test: 0.9331103678929766, corr_num: 4185\n",
      "2019-08-28 00:44:30.972804 Evaluation finished\n",
      "=== Top K=48 ===\n",
      "test_a_filter 131767\n",
      "test_b_filter 127458\n",
      "2019-08-28 00:44:41.473888 Loading model: 4900_6_ctx_coref_coh_global\n",
      "2019-08-28 00:44:41.495966 Start evaluation\n",
      "n_estimators: 4900, max_depth: 6, acc_training: 0.9756215953832048, corr_num: 18089\n",
      "n_estimators: 4900, max_depth: 6, acc_validation: 0.9384262158213317, corr_num: 4496\n",
      "n_estimators: 4900, max_depth: 6, acc_test: 0.9331103678929766, corr_num: 4185\n",
      "2019-08-28 00:45:10.848332 Evaluation finished\n",
      "=== Top K=49 ===\n",
      "test_a_filter 134020\n",
      "test_b_filter 129680\n",
      "2019-08-28 00:45:21.396373 Loading model: 4900_6_ctx_coref_coh_global\n",
      "2019-08-28 00:45:21.416328 Start evaluation\n",
      "n_estimators: 4900, max_depth: 6, acc_training: 0.9756215953832048, corr_num: 18089\n",
      "n_estimators: 4900, max_depth: 6, acc_validation: 0.9384262158213317, corr_num: 4496\n",
      "n_estimators: 4900, max_depth: 6, acc_test: 0.9331103678929766, corr_num: 4185\n",
      "2019-08-28 00:45:50.443453 Evaluation finished\n",
      "=== Top K=50 ===\n",
      "test_a_filter 136259\n",
      "test_b_filter 131893\n",
      "2019-08-28 00:46:00.865793 Loading model: 4900_6_ctx_coref_coh_global\n",
      "2019-08-28 00:46:00.885787 Start evaluation\n",
      "n_estimators: 4900, max_depth: 6, acc_training: 0.9756215953832048, corr_num: 18089\n",
      "n_estimators: 4900, max_depth: 6, acc_validation: 0.9384262158213317, corr_num: 4496\n",
      "n_estimators: 4900, max_depth: 6, acc_test: 0.9331103678929766, corr_num: 4185\n",
      "2019-08-28 00:46:29.825439 Evaluation finished\n",
      "=== Top K=21 ===\n",
      "test_a_filter 65664\n",
      "test_b_filter 63283\n",
      "2019-08-28 00:46:40.351314 Loading model: 4900_6_ctx_coref_coh_global2\n",
      "2019-08-28 00:46:40.382729 Start evaluation\n",
      "n_estimators: 4900, max_depth: 6, acc_training: 0.9754597918127393, corr_num: 18086\n",
      "n_estimators: 4900, max_depth: 6, acc_validation: 0.9369651429764141, corr_num: 4489\n",
      "n_estimators: 4900, max_depth: 6, acc_test: 0.9360089186176143, corr_num: 4198\n",
      "2019-08-28 00:47:03.742562 Evaluation finished\n",
      "=== Top K=22 ===\n",
      "test_a_filter 68325\n",
      "test_b_filter 65857\n",
      "2019-08-28 00:47:14.469361 Loading model: 4900_6_ctx_coref_coh_global2\n",
      "2019-08-28 00:47:14.489934 Start evaluation\n",
      "n_estimators: 4900, max_depth: 6, acc_training: 0.9754597918127393, corr_num: 18086\n",
      "n_estimators: 4900, max_depth: 6, acc_validation: 0.9369651429764141, corr_num: 4489\n",
      "n_estimators: 4900, max_depth: 6, acc_test: 0.9360089186176143, corr_num: 4198\n",
      "2019-08-28 00:47:38.036602 Evaluation finished\n",
      "=== Top K=23 ===\n",
      "test_a_filter 70961\n",
      "test_b_filter 68401\n",
      "2019-08-28 00:47:48.614397 Loading model: 4900_6_ctx_coref_coh_global2\n",
      "2019-08-28 00:47:48.633480 Start evaluation\n",
      "n_estimators: 4900, max_depth: 6, acc_training: 0.9754597918127393, corr_num: 18086\n",
      "n_estimators: 4900, max_depth: 6, acc_validation: 0.9369651429764141, corr_num: 4489\n",
      "n_estimators: 4900, max_depth: 6, acc_test: 0.9360089186176143, corr_num: 4198\n",
      "2019-08-28 00:48:12.090089 Evaluation finished\n",
      "=== Top K=24 ===\n",
      "test_a_filter 73575\n",
      "test_b_filter 70918\n",
      "2019-08-28 00:48:22.927605 Loading model: 4900_6_ctx_coref_coh_global2\n",
      "2019-08-28 00:48:22.946140 Start evaluation\n",
      "n_estimators: 4900, max_depth: 6, acc_training: 0.9754597918127393, corr_num: 18086\n",
      "n_estimators: 4900, max_depth: 6, acc_validation: 0.9373825923606762, corr_num: 4491\n",
      "n_estimators: 4900, max_depth: 6, acc_test: 0.9360089186176143, corr_num: 4198\n",
      "2019-08-28 00:48:46.569553 Evaluation finished\n",
      "=== Top K=25 ===\n",
      "test_a_filter 76153\n",
      "test_b_filter 73419\n",
      "2019-08-28 00:48:56.951807 Loading model: 4900_6_ctx_coref_coh_global2\n",
      "2019-08-28 00:48:56.971175 Start evaluation\n",
      "n_estimators: 4900, max_depth: 6, acc_training: 0.9754597918127393, corr_num: 18086\n",
      "n_estimators: 4900, max_depth: 6, acc_validation: 0.9371738676685452, corr_num: 4490\n",
      "n_estimators: 4900, max_depth: 6, acc_test: 0.9360089186176143, corr_num: 4198\n",
      "2019-08-28 00:49:20.887783 Evaluation finished\n",
      "=== Top K=26 ===\n",
      "test_a_filter 78721\n",
      "test_b_filter 75892\n",
      "2019-08-28 00:49:31.605213 Loading model: 4900_6_ctx_coref_coh_global2\n",
      "2019-08-28 00:49:31.627928 Start evaluation\n"
     ]
    },
    {
     "name": "stdout",
     "output_type": "stream",
     "text": [
      "n_estimators: 4900, max_depth: 6, acc_training: 0.9754597918127393, corr_num: 18086\n",
      "n_estimators: 4900, max_depth: 6, acc_validation: 0.9371738676685452, corr_num: 4490\n",
      "n_estimators: 4900, max_depth: 6, acc_test: 0.9360089186176143, corr_num: 4198\n",
      "2019-08-28 00:49:56.020677 Evaluation finished\n",
      "=== Top K=27 ===\n",
      "test_a_filter 81279\n",
      "test_b_filter 78353\n",
      "2019-08-28 00:50:06.997009 Loading model: 4900_6_ctx_coref_coh_global2\n",
      "2019-08-28 00:50:07.016142 Start evaluation\n",
      "n_estimators: 4900, max_depth: 6, acc_training: 0.9754597918127393, corr_num: 18086\n",
      "n_estimators: 4900, max_depth: 6, acc_validation: 0.9371738676685452, corr_num: 4490\n",
      "n_estimators: 4900, max_depth: 6, acc_test: 0.9360089186176143, corr_num: 4198\n",
      "2019-08-28 00:50:31.472904 Evaluation finished\n",
      "=== Top K=28 ===\n",
      "test_a_filter 83817\n",
      "test_b_filter 80801\n",
      "2019-08-28 00:50:42.180117 Loading model: 4900_6_ctx_coref_coh_global2\n",
      "2019-08-28 00:50:42.199060 Start evaluation\n",
      "n_estimators: 4900, max_depth: 6, acc_training: 0.9754597918127393, corr_num: 18086\n",
      "n_estimators: 4900, max_depth: 6, acc_validation: 0.9371738676685452, corr_num: 4490\n",
      "n_estimators: 4900, max_depth: 6, acc_test: 0.9360089186176143, corr_num: 4198\n",
      "2019-08-28 00:51:06.957675 Evaluation finished\n",
      "=== Top K=29 ===\n",
      "test_a_filter 86336\n",
      "test_b_filter 83236\n",
      "2019-08-28 00:51:17.685884 Loading model: 4900_6_ctx_coref_coh_global2\n",
      "2019-08-28 00:51:17.708354 Start evaluation\n",
      "n_estimators: 4900, max_depth: 6, acc_training: 0.9754597918127393, corr_num: 18086\n",
      "n_estimators: 4900, max_depth: 6, acc_validation: 0.936756418284283, corr_num: 4488\n",
      "n_estimators: 4900, max_depth: 6, acc_test: 0.9360089186176143, corr_num: 4198\n",
      "2019-08-28 00:51:42.755961 Evaluation finished\n",
      "=== Top K=30 ===\n",
      "test_a_filter 88847\n",
      "test_b_filter 85658\n",
      "2019-08-28 00:51:53.817473 Loading model: 4900_6_ctx_coref_coh_global2\n",
      "2019-08-28 00:51:53.839727 Start evaluation\n",
      "n_estimators: 4900, max_depth: 6, acc_training: 0.9754597918127393, corr_num: 18086\n",
      "n_estimators: 4900, max_depth: 6, acc_validation: 0.936756418284283, corr_num: 4488\n",
      "n_estimators: 4900, max_depth: 6, acc_test: 0.9360089186176143, corr_num: 4198\n",
      "2019-08-28 00:52:19.059340 Evaluation finished\n",
      "=== Top K=31 ===\n",
      "test_a_filter 91351\n",
      "test_b_filter 88065\n",
      "2019-08-28 00:52:30.378103 Loading model: 4900_6_ctx_coref_coh_global2\n",
      "2019-08-28 00:52:30.398082 Start evaluation\n",
      "n_estimators: 4900, max_depth: 6, acc_training: 0.9754597918127393, corr_num: 18086\n",
      "n_estimators: 4900, max_depth: 6, acc_validation: 0.936756418284283, corr_num: 4488\n",
      "n_estimators: 4900, max_depth: 6, acc_test: 0.9360089186176143, corr_num: 4198\n",
      "2019-08-28 00:52:54.925907 Evaluation finished\n",
      "=== Top K=32 ===\n",
      "test_a_filter 93843\n",
      "test_b_filter 90464\n",
      "2019-08-28 00:53:06.091184 Loading model: 4900_6_ctx_coref_coh_global2\n",
      "2019-08-28 00:53:06.110217 Start evaluation\n",
      "n_estimators: 4900, max_depth: 6, acc_training: 0.9754597918127393, corr_num: 18086\n",
      "n_estimators: 4900, max_depth: 6, acc_validation: 0.936756418284283, corr_num: 4488\n",
      "n_estimators: 4900, max_depth: 6, acc_test: 0.9360089186176143, corr_num: 4198\n",
      "2019-08-28 00:53:31.423749 Evaluation finished\n",
      "=== Top K=33 ===\n",
      "test_a_filter 96317\n",
      "test_b_filter 92847\n",
      "2019-08-28 00:53:42.548660 Loading model: 4900_6_ctx_coref_coh_global2\n",
      "2019-08-28 00:53:42.568966 Start evaluation\n",
      "n_estimators: 4900, max_depth: 6, acc_training: 0.9754597918127393, corr_num: 18086\n",
      "n_estimators: 4900, max_depth: 6, acc_validation: 0.936756418284283, corr_num: 4488\n",
      "n_estimators: 4900, max_depth: 6, acc_test: 0.9360089186176143, corr_num: 4198\n",
      "2019-08-28 00:54:07.599374 Evaluation finished\n",
      "=== Top K=34 ===\n",
      "test_a_filter 98778\n",
      "test_b_filter 95215\n",
      "2019-08-28 00:54:18.294637 Loading model: 4900_6_ctx_coref_coh_global2\n",
      "2019-08-28 00:54:18.316137 Start evaluation\n",
      "n_estimators: 4900, max_depth: 6, acc_training: 0.9754597918127393, corr_num: 18086\n",
      "n_estimators: 4900, max_depth: 6, acc_validation: 0.936756418284283, corr_num: 4488\n",
      "n_estimators: 4900, max_depth: 6, acc_test: 0.9360089186176143, corr_num: 4198\n",
      "2019-08-28 00:54:43.945107 Evaluation finished\n",
      "=== Top K=35 ===\n",
      "test_a_filter 101219\n",
      "test_b_filter 97577\n",
      "2019-08-28 00:54:55.075187 Loading model: 4900_6_ctx_coref_coh_global2\n",
      "2019-08-28 00:54:55.097215 Start evaluation\n",
      "n_estimators: 4900, max_depth: 6, acc_training: 0.9754597918127393, corr_num: 18086\n",
      "n_estimators: 4900, max_depth: 6, acc_validation: 0.936756418284283, corr_num: 4488\n",
      "n_estimators: 4900, max_depth: 6, acc_test: 0.9360089186176143, corr_num: 4198\n",
      "2019-08-28 00:55:20.380819 Evaluation finished\n",
      "=== Top K=36 ===\n",
      "test_a_filter 103651\n",
      "test_b_filter 99938\n",
      "2019-08-28 00:55:31.222186 Loading model: 4900_6_ctx_coref_coh_global2\n",
      "2019-08-28 00:55:31.266478 Start evaluation\n",
      "n_estimators: 4900, max_depth: 6, acc_training: 0.9754597918127393, corr_num: 18086\n",
      "n_estimators: 4900, max_depth: 6, acc_validation: 0.936756418284283, corr_num: 4488\n",
      "n_estimators: 4900, max_depth: 6, acc_test: 0.9360089186176143, corr_num: 4198\n",
      "2019-08-28 00:55:57.268811 Evaluation finished\n",
      "=== Top K=37 ===\n",
      "test_a_filter 106070\n",
      "test_b_filter 102287\n",
      "2019-08-28 00:56:08.288488 Loading model: 4900_6_ctx_coref_coh_global2\n",
      "2019-08-28 00:56:08.307184 Start evaluation\n",
      "n_estimators: 4900, max_depth: 6, acc_training: 0.9754597918127393, corr_num: 18086\n",
      "n_estimators: 4900, max_depth: 6, acc_validation: 0.936756418284283, corr_num: 4488\n",
      "n_estimators: 4900, max_depth: 6, acc_test: 0.936231884057971, corr_num: 4199\n",
      "2019-08-28 00:56:29.268390 Evaluation finished\n",
      "=== Top K=38 ===\n",
      "test_a_filter 108469\n",
      "test_b_filter 104625\n",
      "2019-08-28 00:56:39.254949 Loading model: 4900_6_ctx_coref_coh_global2\n",
      "2019-08-28 00:56:39.288172 Start evaluation\n",
      "n_estimators: 4900, max_depth: 6, acc_training: 0.9754597918127393, corr_num: 18086\n",
      "n_estimators: 4900, max_depth: 6, acc_validation: 0.936756418284283, corr_num: 4488\n",
      "n_estimators: 4900, max_depth: 6, acc_test: 0.936231884057971, corr_num: 4199\n",
      "2019-08-28 00:57:03.975044 Evaluation finished\n",
      "=== Top K=39 ===\n",
      "test_a_filter 110857\n",
      "test_b_filter 106957\n",
      "2019-08-28 00:57:14.214698 Loading model: 4900_6_ctx_coref_coh_global2\n",
      "2019-08-28 00:57:14.233471 Start evaluation\n",
      "n_estimators: 4900, max_depth: 6, acc_training: 0.9754597918127393, corr_num: 18086\n",
      "n_estimators: 4900, max_depth: 6, acc_validation: 0.936756418284283, corr_num: 4488\n",
      "n_estimators: 4900, max_depth: 6, acc_test: 0.936231884057971, corr_num: 4199\n",
      "2019-08-28 00:57:39.549690 Evaluation finished\n",
      "=== Top K=40 ===\n",
      "test_a_filter 113238\n",
      "test_b_filter 109275\n",
      "2019-08-28 00:57:49.893401 Loading model: 4900_6_ctx_coref_coh_global2\n",
      "2019-08-28 00:57:49.912570 Start evaluation\n",
      "n_estimators: 4900, max_depth: 6, acc_training: 0.9754597918127393, corr_num: 18086\n",
      "n_estimators: 4900, max_depth: 6, acc_validation: 0.936756418284283, corr_num: 4488\n",
      "n_estimators: 4900, max_depth: 6, acc_test: 0.936231884057971, corr_num: 4199\n",
      "2019-08-28 00:58:16.367933 Evaluation finished\n",
      "=== Top K=41 ===\n",
      "test_a_filter 115614\n",
      "test_b_filter 111584\n",
      "2019-08-28 00:58:27.453720 Loading model: 4900_6_ctx_coref_coh_global2\n",
      "2019-08-28 00:58:27.478793 Start evaluation\n",
      "n_estimators: 4900, max_depth: 6, acc_training: 0.9754597918127393, corr_num: 18086\n",
      "n_estimators: 4900, max_depth: 6, acc_validation: 0.936756418284283, corr_num: 4488\n",
      "n_estimators: 4900, max_depth: 6, acc_test: 0.936231884057971, corr_num: 4199\n",
      "2019-08-28 00:58:54.115822 Evaluation finished\n",
      "=== Top K=42 ===\n",
      "test_a_filter 117986\n",
      "test_b_filter 113885\n",
      "2019-08-28 00:59:04.950257 Loading model: 4900_6_ctx_coref_coh_global2\n",
      "2019-08-28 00:59:04.973582 Start evaluation\n",
      "n_estimators: 4900, max_depth: 6, acc_training: 0.9754597918127393, corr_num: 18086\n",
      "n_estimators: 4900, max_depth: 6, acc_validation: 0.936756418284283, corr_num: 4488\n",
      "n_estimators: 4900, max_depth: 6, acc_test: 0.936231884057971, corr_num: 4199\n",
      "2019-08-28 00:59:31.225702 Evaluation finished\n",
      "=== Top K=43 ===\n",
      "test_a_filter 120310\n",
      "test_b_filter 116174\n",
      "2019-08-28 00:59:42.244935 Loading model: 4900_6_ctx_coref_coh_global2\n",
      "2019-08-28 00:59:42.265522 Start evaluation\n",
      "n_estimators: 4900, max_depth: 6, acc_training: 0.9754597918127393, corr_num: 18086\n",
      "n_estimators: 4900, max_depth: 6, acc_validation: 0.936756418284283, corr_num: 4488\n",
      "n_estimators: 4900, max_depth: 6, acc_test: 0.936231884057971, corr_num: 4199\n",
      "2019-08-28 01:00:09.267815 Evaluation finished\n",
      "=== Top K=44 ===\n"
     ]
    },
    {
     "name": "stdout",
     "output_type": "stream",
     "text": [
      "test_a_filter 122628\n",
      "test_b_filter 118460\n",
      "2019-08-28 01:00:19.945138 Loading model: 4900_6_ctx_coref_coh_global2\n",
      "2019-08-28 01:00:19.965205 Start evaluation\n",
      "n_estimators: 4900, max_depth: 6, acc_training: 0.9754597918127393, corr_num: 18086\n",
      "n_estimators: 4900, max_depth: 6, acc_validation: 0.936756418284283, corr_num: 4488\n",
      "n_estimators: 4900, max_depth: 6, acc_test: 0.936231884057971, corr_num: 4199\n",
      "2019-08-28 01:00:46.683612 Evaluation finished\n",
      "=== Top K=45 ===\n",
      "test_a_filter 124923\n",
      "test_b_filter 120729\n",
      "2019-08-28 01:00:57.366791 Loading model: 4900_6_ctx_coref_coh_global2\n",
      "2019-08-28 01:00:57.386303 Start evaluation\n",
      "n_estimators: 4900, max_depth: 6, acc_training: 0.9754597918127393, corr_num: 18086\n",
      "n_estimators: 4900, max_depth: 6, acc_validation: 0.936756418284283, corr_num: 4488\n",
      "n_estimators: 4900, max_depth: 6, acc_test: 0.936231884057971, corr_num: 4199\n",
      "2019-08-28 01:01:25.753894 Evaluation finished\n",
      "=== Top K=46 ===\n",
      "test_a_filter 127214\n",
      "test_b_filter 122983\n",
      "2019-08-28 01:01:36.587569 Loading model: 4900_6_ctx_coref_coh_global2\n",
      "2019-08-28 01:01:36.607661 Start evaluation\n",
      "n_estimators: 4900, max_depth: 6, acc_training: 0.9754597918127393, corr_num: 18086\n",
      "n_estimators: 4900, max_depth: 6, acc_validation: 0.936756418284283, corr_num: 4488\n",
      "n_estimators: 4900, max_depth: 6, acc_test: 0.936231884057971, corr_num: 4199\n",
      "2019-08-28 01:02:03.808691 Evaluation finished\n",
      "=== Top K=47 ===\n",
      "test_a_filter 129498\n",
      "test_b_filter 125225\n",
      "2019-08-28 01:02:14.769805 Loading model: 4900_6_ctx_coref_coh_global2\n",
      "2019-08-28 01:02:14.789602 Start evaluation\n",
      "n_estimators: 4900, max_depth: 6, acc_training: 0.9754597918127393, corr_num: 18086\n",
      "n_estimators: 4900, max_depth: 6, acc_validation: 0.936756418284283, corr_num: 4488\n",
      "n_estimators: 4900, max_depth: 6, acc_test: 0.936231884057971, corr_num: 4199\n",
      "2019-08-28 01:02:42.526444 Evaluation finished\n",
      "=== Top K=48 ===\n",
      "test_a_filter 131767\n",
      "test_b_filter 127458\n",
      "2019-08-28 01:02:53.357018 Loading model: 4900_6_ctx_coref_coh_global2\n",
      "2019-08-28 01:02:53.380481 Start evaluation\n",
      "n_estimators: 4900, max_depth: 6, acc_training: 0.9754597918127393, corr_num: 18086\n",
      "n_estimators: 4900, max_depth: 6, acc_validation: 0.936756418284283, corr_num: 4488\n",
      "n_estimators: 4900, max_depth: 6, acc_test: 0.936231884057971, corr_num: 4199\n",
      "2019-08-28 01:03:21.677740 Evaluation finished\n",
      "=== Top K=49 ===\n",
      "test_a_filter 134020\n",
      "test_b_filter 129680\n",
      "2019-08-28 01:03:32.504371 Loading model: 4900_6_ctx_coref_coh_global2\n",
      "2019-08-28 01:03:32.523829 Start evaluation\n",
      "n_estimators: 4900, max_depth: 6, acc_training: 0.9754597918127393, corr_num: 18086\n",
      "n_estimators: 4900, max_depth: 6, acc_validation: 0.936756418284283, corr_num: 4488\n",
      "n_estimators: 4900, max_depth: 6, acc_test: 0.936231884057971, corr_num: 4199\n",
      "2019-08-28 01:04:00.235245 Evaluation finished\n",
      "=== Top K=50 ===\n",
      "test_a_filter 136259\n",
      "test_b_filter 131893\n",
      "2019-08-28 01:04:10.897340 Loading model: 4900_6_ctx_coref_coh_global2\n",
      "2019-08-28 01:04:10.916916 Start evaluation\n",
      "n_estimators: 4900, max_depth: 6, acc_training: 0.9754597918127393, corr_num: 18086\n",
      "n_estimators: 4900, max_depth: 6, acc_validation: 0.936756418284283, corr_num: 4488\n",
      "n_estimators: 4900, max_depth: 6, acc_test: 0.936231884057971, corr_num: 4199\n",
      "2019-08-28 01:04:38.584952 Evaluation finished\n",
      "=== Top K=21 ===\n",
      "test_a_filter 65664\n",
      "test_b_filter 63283\n",
      "2019-08-28 01:04:49.285958 Loading model: 4900_6_ctx_coref_coh_global3\n",
      "2019-08-28 01:04:49.314737 Start evaluation\n",
      "n_estimators: 4900, max_depth: 6, acc_training: 0.9755676608597164, corr_num: 18088\n",
      "n_estimators: 4900, max_depth: 6, acc_validation: 0.9411396368190357, corr_num: 4509\n",
      "n_estimators: 4900, max_depth: 6, acc_test: 0.9402452619843924, corr_num: 4217\n",
      "2019-08-28 01:05:13.476279 Evaluation finished\n",
      "=== Top K=22 ===\n",
      "test_a_filter 68325\n",
      "test_b_filter 65857\n",
      "2019-08-28 01:05:23.773862 Loading model: 4900_6_ctx_coref_coh_global3\n",
      "2019-08-28 01:05:23.794718 Start evaluation\n",
      "n_estimators: 4900, max_depth: 6, acc_training: 0.9755676608597164, corr_num: 18088\n",
      "n_estimators: 4900, max_depth: 6, acc_validation: 0.9407221874347735, corr_num: 4507\n",
      "n_estimators: 4900, max_depth: 6, acc_test: 0.9402452619843924, corr_num: 4217\n",
      "2019-08-28 01:05:48.222964 Evaluation finished\n",
      "=== Top K=23 ===\n",
      "test_a_filter 70961\n",
      "test_b_filter 68401\n",
      "2019-08-28 01:05:58.613471 Loading model: 4900_6_ctx_coref_coh_global3\n",
      "2019-08-28 01:05:58.637805 Start evaluation\n",
      "n_estimators: 4900, max_depth: 6, acc_training: 0.9755676608597164, corr_num: 18088\n",
      "n_estimators: 4900, max_depth: 6, acc_validation: 0.9407221874347735, corr_num: 4507\n",
      "n_estimators: 4900, max_depth: 6, acc_test: 0.9402452619843924, corr_num: 4217\n",
      "2019-08-28 01:06:23.982708 Evaluation finished\n",
      "=== Top K=24 ===\n",
      "test_a_filter 73575\n",
      "test_b_filter 70918\n",
      "2019-08-28 01:06:34.420431 Loading model: 4900_6_ctx_coref_coh_global3\n",
      "2019-08-28 01:06:34.442677 Start evaluation\n",
      "n_estimators: 4900, max_depth: 6, acc_training: 0.9755676608597164, corr_num: 18088\n",
      "n_estimators: 4900, max_depth: 6, acc_validation: 0.9407221874347735, corr_num: 4507\n",
      "n_estimators: 4900, max_depth: 6, acc_test: 0.9402452619843924, corr_num: 4217\n",
      "2019-08-28 01:06:59.591557 Evaluation finished\n",
      "=== Top K=25 ===\n",
      "test_a_filter 76153\n",
      "test_b_filter 73419\n",
      "2019-08-28 01:07:10.149500 Loading model: 4900_6_ctx_coref_coh_global3\n",
      "2019-08-28 01:07:10.171596 Start evaluation\n",
      "n_estimators: 4900, max_depth: 6, acc_training: 0.9755676608597164, corr_num: 18088\n",
      "n_estimators: 4900, max_depth: 6, acc_validation: 0.9407221874347735, corr_num: 4507\n",
      "n_estimators: 4900, max_depth: 6, acc_test: 0.9402452619843924, corr_num: 4217\n",
      "2019-08-28 01:07:35.337553 Evaluation finished\n",
      "=== Top K=26 ===\n",
      "test_a_filter 78721\n",
      "test_b_filter 75892\n",
      "2019-08-28 01:07:45.851395 Loading model: 4900_6_ctx_coref_coh_global3\n",
      "2019-08-28 01:07:45.872883 Start evaluation\n",
      "n_estimators: 4900, max_depth: 6, acc_training: 0.9755676608597164, corr_num: 18088\n",
      "n_estimators: 4900, max_depth: 6, acc_validation: 0.9407221874347735, corr_num: 4507\n",
      "n_estimators: 4900, max_depth: 6, acc_test: 0.9402452619843924, corr_num: 4217\n",
      "2019-08-28 01:08:11.690805 Evaluation finished\n",
      "=== Top K=27 ===\n",
      "test_a_filter 81279\n",
      "test_b_filter 78353\n",
      "2019-08-28 01:08:22.394458 Loading model: 4900_6_ctx_coref_coh_global3\n",
      "2019-08-28 01:08:22.419143 Start evaluation\n",
      "n_estimators: 4900, max_depth: 6, acc_training: 0.9755676608597164, corr_num: 18088\n",
      "n_estimators: 4900, max_depth: 6, acc_validation: 0.9407221874347735, corr_num: 4507\n",
      "n_estimators: 4900, max_depth: 6, acc_test: 0.9402452619843924, corr_num: 4217\n",
      "2019-08-28 01:08:47.429443 Evaluation finished\n",
      "=== Top K=28 ===\n",
      "test_a_filter 83817\n",
      "test_b_filter 80801\n",
      "2019-08-28 01:08:57.804594 Loading model: 4900_6_ctx_coref_coh_global3\n",
      "2019-08-28 01:08:57.825597 Start evaluation\n",
      "n_estimators: 4900, max_depth: 6, acc_training: 0.9755676608597164, corr_num: 18088\n",
      "n_estimators: 4900, max_depth: 6, acc_validation: 0.9409309121269046, corr_num: 4508\n",
      "n_estimators: 4900, max_depth: 6, acc_test: 0.9402452619843924, corr_num: 4217\n",
      "2019-08-28 01:09:23.573369 Evaluation finished\n",
      "=== Top K=29 ===\n",
      "test_a_filter 86336\n",
      "test_b_filter 83236\n",
      "2019-08-28 01:09:34.173512 Loading model: 4900_6_ctx_coref_coh_global3\n",
      "2019-08-28 01:09:34.193731 Start evaluation\n",
      "n_estimators: 4900, max_depth: 6, acc_training: 0.9755676608597164, corr_num: 18088\n",
      "n_estimators: 4900, max_depth: 6, acc_validation: 0.9409309121269046, corr_num: 4508\n",
      "n_estimators: 4900, max_depth: 6, acc_test: 0.9402452619843924, corr_num: 4217\n",
      "2019-08-28 01:09:59.972762 Evaluation finished\n",
      "=== Top K=30 ===\n",
      "test_a_filter 88847\n",
      "test_b_filter 85658\n",
      "2019-08-28 01:10:10.356954 Loading model: 4900_6_ctx_coref_coh_global3\n",
      "2019-08-28 01:10:10.378041 Start evaluation\n",
      "n_estimators: 4900, max_depth: 6, acc_training: 0.9755676608597164, corr_num: 18088\n",
      "n_estimators: 4900, max_depth: 6, acc_validation: 0.9409309121269046, corr_num: 4508\n",
      "n_estimators: 4900, max_depth: 6, acc_test: 0.9402452619843924, corr_num: 4217\n",
      "2019-08-28 01:10:36.782436 Evaluation finished\n",
      "=== Top K=31 ===\n",
      "test_a_filter 91351\n",
      "test_b_filter 88065\n",
      "2019-08-28 01:10:47.171389 Loading model: 4900_6_ctx_coref_coh_global3\n",
      "2019-08-28 01:10:47.191671 Start evaluation\n",
      "n_estimators: 4900, max_depth: 6, acc_training: 0.9755676608597164, corr_num: 18088\n",
      "n_estimators: 4900, max_depth: 6, acc_validation: 0.9409309121269046, corr_num: 4508\n"
     ]
    },
    {
     "name": "stdout",
     "output_type": "stream",
     "text": [
      "n_estimators: 4900, max_depth: 6, acc_test: 0.9402452619843924, corr_num: 4217\n",
      "2019-08-28 01:11:13.225435 Evaluation finished\n",
      "=== Top K=32 ===\n",
      "test_a_filter 93843\n",
      "test_b_filter 90464\n",
      "2019-08-28 01:11:23.742155 Loading model: 4900_6_ctx_coref_coh_global3\n",
      "2019-08-28 01:11:23.763697 Start evaluation\n",
      "n_estimators: 4900, max_depth: 6, acc_training: 0.9755676608597164, corr_num: 18088\n",
      "n_estimators: 4900, max_depth: 6, acc_validation: 0.9409309121269046, corr_num: 4508\n",
      "n_estimators: 4900, max_depth: 6, acc_test: 0.9402452619843924, corr_num: 4217\n",
      "2019-08-28 01:11:49.668804 Evaluation finished\n",
      "=== Top K=33 ===\n",
      "test_a_filter 96317\n",
      "test_b_filter 92847\n",
      "2019-08-28 01:12:00.632969 Loading model: 4900_6_ctx_coref_coh_global3\n",
      "2019-08-28 01:12:00.658127 Start evaluation\n",
      "n_estimators: 4900, max_depth: 6, acc_training: 0.9755676608597164, corr_num: 18088\n",
      "n_estimators: 4900, max_depth: 6, acc_validation: 0.9409309121269046, corr_num: 4508\n",
      "n_estimators: 4900, max_depth: 6, acc_test: 0.9402452619843924, corr_num: 4217\n",
      "2019-08-28 01:12:26.944843 Evaluation finished\n",
      "=== Top K=34 ===\n",
      "test_a_filter 98778\n",
      "test_b_filter 95215\n",
      "2019-08-28 01:12:37.129510 Loading model: 4900_6_ctx_coref_coh_global3\n",
      "2019-08-28 01:12:37.149434 Start evaluation\n",
      "n_estimators: 4900, max_depth: 6, acc_training: 0.9755676608597164, corr_num: 18088\n",
      "n_estimators: 4900, max_depth: 6, acc_validation: 0.9409309121269046, corr_num: 4508\n",
      "n_estimators: 4900, max_depth: 6, acc_test: 0.9404682274247491, corr_num: 4218\n",
      "2019-08-28 01:13:03.804366 Evaluation finished\n",
      "=== Top K=35 ===\n",
      "test_a_filter 101219\n",
      "test_b_filter 97577\n",
      "2019-08-28 01:13:14.186392 Loading model: 4900_6_ctx_coref_coh_global3\n",
      "2019-08-28 01:13:14.208894 Start evaluation\n",
      "n_estimators: 4900, max_depth: 6, acc_training: 0.9755676608597164, corr_num: 18088\n",
      "n_estimators: 4900, max_depth: 6, acc_validation: 0.9409309121269046, corr_num: 4508\n",
      "n_estimators: 4900, max_depth: 6, acc_test: 0.9404682274247491, corr_num: 4218\n",
      "2019-08-28 01:13:40.558699 Evaluation finished\n",
      "=== Top K=36 ===\n",
      "test_a_filter 103651\n",
      "test_b_filter 99938\n",
      "2019-08-28 01:13:51.217255 Loading model: 4900_6_ctx_coref_coh_global3\n",
      "2019-08-28 01:13:51.238399 Start evaluation\n",
      "n_estimators: 4900, max_depth: 6, acc_training: 0.9755676608597164, corr_num: 18088\n",
      "n_estimators: 4900, max_depth: 6, acc_validation: 0.9409309121269046, corr_num: 4508\n",
      "n_estimators: 4900, max_depth: 6, acc_test: 0.9404682274247491, corr_num: 4218\n",
      "2019-08-28 01:14:17.913594 Evaluation finished\n",
      "=== Top K=37 ===\n",
      "test_a_filter 106070\n",
      "test_b_filter 102287\n",
      "2019-08-28 01:14:28.392058 Loading model: 4900_6_ctx_coref_coh_global3\n",
      "2019-08-28 01:14:28.413003 Start evaluation\n",
      "n_estimators: 4900, max_depth: 6, acc_training: 0.9755676608597164, corr_num: 18088\n",
      "n_estimators: 4900, max_depth: 6, acc_validation: 0.9409309121269046, corr_num: 4508\n",
      "n_estimators: 4900, max_depth: 6, acc_test: 0.9404682274247491, corr_num: 4218\n",
      "2019-08-28 01:14:56.115682 Evaluation finished\n",
      "=== Top K=38 ===\n",
      "test_a_filter 108469\n",
      "test_b_filter 104625\n",
      "2019-08-28 01:15:06.457768 Loading model: 4900_6_ctx_coref_coh_global3\n",
      "2019-08-28 01:15:06.478449 Start evaluation\n",
      "n_estimators: 4900, max_depth: 6, acc_training: 0.9755676608597164, corr_num: 18088\n",
      "n_estimators: 4900, max_depth: 6, acc_validation: 0.9409309121269046, corr_num: 4508\n",
      "n_estimators: 4900, max_depth: 6, acc_test: 0.9404682274247491, corr_num: 4218\n",
      "2019-08-28 01:15:34.514280 Evaluation finished\n",
      "=== Top K=39 ===\n",
      "test_a_filter 110857\n",
      "test_b_filter 106957\n",
      "2019-08-28 01:15:44.876909 Loading model: 4900_6_ctx_coref_coh_global3\n",
      "2019-08-28 01:15:44.897997 Start evaluation\n",
      "n_estimators: 4900, max_depth: 6, acc_training: 0.9755676608597164, corr_num: 18088\n",
      "n_estimators: 4900, max_depth: 6, acc_validation: 0.9409309121269046, corr_num: 4508\n",
      "n_estimators: 4900, max_depth: 6, acc_test: 0.9404682274247491, corr_num: 4218\n",
      "2019-08-28 01:16:12.177986 Evaluation finished\n",
      "=== Top K=40 ===\n",
      "test_a_filter 113238\n",
      "test_b_filter 109275\n",
      "2019-08-28 01:16:22.793969 Loading model: 4900_6_ctx_coref_coh_global3\n",
      "2019-08-28 01:16:22.814085 Start evaluation\n",
      "n_estimators: 4900, max_depth: 6, acc_training: 0.9755676608597164, corr_num: 18088\n",
      "n_estimators: 4900, max_depth: 6, acc_validation: 0.9409309121269046, corr_num: 4508\n",
      "n_estimators: 4900, max_depth: 6, acc_test: 0.9404682274247491, corr_num: 4218\n",
      "2019-08-28 01:16:50.517540 Evaluation finished\n",
      "=== Top K=41 ===\n",
      "test_a_filter 115614\n",
      "test_b_filter 111584\n",
      "2019-08-28 01:17:01.479297 Loading model: 4900_6_ctx_coref_coh_global3\n",
      "2019-08-28 01:17:01.500176 Start evaluation\n",
      "n_estimators: 4900, max_depth: 6, acc_training: 0.9755676608597164, corr_num: 18088\n",
      "n_estimators: 4900, max_depth: 6, acc_validation: 0.9409309121269046, corr_num: 4508\n",
      "n_estimators: 4900, max_depth: 6, acc_test: 0.9404682274247491, corr_num: 4218\n",
      "2019-08-28 01:17:28.775476 Evaluation finished\n",
      "=== Top K=42 ===\n",
      "test_a_filter 117986\n",
      "test_b_filter 113885\n",
      "2019-08-28 01:17:39.387281 Loading model: 4900_6_ctx_coref_coh_global3\n",
      "2019-08-28 01:17:39.408828 Start evaluation\n",
      "n_estimators: 4900, max_depth: 6, acc_training: 0.9755676608597164, corr_num: 18088\n",
      "n_estimators: 4900, max_depth: 6, acc_validation: 0.9409309121269046, corr_num: 4508\n",
      "n_estimators: 4900, max_depth: 6, acc_test: 0.9404682274247491, corr_num: 4218\n",
      "2019-08-28 01:18:06.853488 Evaluation finished\n",
      "=== Top K=43 ===\n",
      "test_a_filter 120310\n",
      "test_b_filter 116174\n",
      "2019-08-28 01:18:17.250624 Loading model: 4900_6_ctx_coref_coh_global3\n",
      "2019-08-28 01:18:17.271255 Start evaluation\n",
      "n_estimators: 4900, max_depth: 6, acc_training: 0.9755676608597164, corr_num: 18088\n",
      "n_estimators: 4900, max_depth: 6, acc_validation: 0.9409309121269046, corr_num: 4508\n",
      "n_estimators: 4900, max_depth: 6, acc_test: 0.9404682274247491, corr_num: 4218\n",
      "2019-08-28 01:18:45.062794 Evaluation finished\n",
      "=== Top K=44 ===\n",
      "test_a_filter 122628\n",
      "test_b_filter 118460\n",
      "2019-08-28 01:18:55.445970 Loading model: 4900_6_ctx_coref_coh_global3\n",
      "2019-08-28 01:18:55.466531 Start evaluation\n",
      "n_estimators: 4900, max_depth: 6, acc_training: 0.9755676608597164, corr_num: 18088\n",
      "n_estimators: 4900, max_depth: 6, acc_validation: 0.9409309121269046, corr_num: 4508\n",
      "n_estimators: 4900, max_depth: 6, acc_test: 0.9404682274247491, corr_num: 4218\n",
      "2019-08-28 01:19:23.703640 Evaluation finished\n",
      "=== Top K=45 ===\n",
      "test_a_filter 124923\n",
      "test_b_filter 120729\n",
      "2019-08-28 01:19:34.169738 Loading model: 4900_6_ctx_coref_coh_global3\n",
      "2019-08-28 01:19:34.190797 Start evaluation\n",
      "n_estimators: 4900, max_depth: 6, acc_training: 0.9755676608597164, corr_num: 18088\n",
      "n_estimators: 4900, max_depth: 6, acc_validation: 0.9409309121269046, corr_num: 4508\n",
      "n_estimators: 4900, max_depth: 6, acc_test: 0.9404682274247491, corr_num: 4218\n",
      "2019-08-28 01:20:02.476176 Evaluation finished\n",
      "=== Top K=46 ===\n",
      "test_a_filter 127214\n",
      "test_b_filter 122983\n",
      "2019-08-28 01:20:13.409146 Loading model: 4900_6_ctx_coref_coh_global3\n",
      "2019-08-28 01:20:13.456944 Start evaluation\n",
      "n_estimators: 4900, max_depth: 6, acc_training: 0.9755676608597164, corr_num: 18088\n",
      "n_estimators: 4900, max_depth: 6, acc_validation: 0.9409309121269046, corr_num: 4508\n",
      "n_estimators: 4900, max_depth: 6, acc_test: 0.9404682274247491, corr_num: 4218\n",
      "2019-08-28 01:20:42.233236 Evaluation finished\n",
      "=== Top K=47 ===\n",
      "test_a_filter 129498\n",
      "test_b_filter 125225\n",
      "2019-08-28 01:20:53.006814 Loading model: 4900_6_ctx_coref_coh_global3\n",
      "2019-08-28 01:20:53.029010 Start evaluation\n",
      "n_estimators: 4900, max_depth: 6, acc_training: 0.9755676608597164, corr_num: 18088\n",
      "n_estimators: 4900, max_depth: 6, acc_validation: 0.9409309121269046, corr_num: 4508\n",
      "n_estimators: 4900, max_depth: 6, acc_test: 0.9404682274247491, corr_num: 4218\n",
      "2019-08-28 01:21:21.810076 Evaluation finished\n",
      "=== Top K=48 ===\n",
      "test_a_filter 131767\n",
      "test_b_filter 127458\n",
      "2019-08-28 01:21:32.158371 Loading model: 4900_6_ctx_coref_coh_global3\n",
      "2019-08-28 01:21:32.178346 Start evaluation\n",
      "n_estimators: 4900, max_depth: 6, acc_training: 0.9755676608597164, corr_num: 18088\n",
      "n_estimators: 4900, max_depth: 6, acc_validation: 0.9409309121269046, corr_num: 4508\n",
      "n_estimators: 4900, max_depth: 6, acc_test: 0.9404682274247491, corr_num: 4218\n",
      "2019-08-28 01:22:00.812725 Evaluation finished\n",
      "=== Top K=49 ===\n",
      "test_a_filter 134020\n",
      "test_b_filter 129680\n",
      "2019-08-28 01:22:11.285738 Loading model: 4900_6_ctx_coref_coh_global3\n",
      "2019-08-28 01:22:11.326652 Start evaluation\n"
     ]
    },
    {
     "name": "stdout",
     "output_type": "stream",
     "text": [
      "n_estimators: 4900, max_depth: 6, acc_training: 0.9755676608597164, corr_num: 18088\n",
      "n_estimators: 4900, max_depth: 6, acc_validation: 0.9409309121269046, corr_num: 4508\n",
      "n_estimators: 4900, max_depth: 6, acc_test: 0.9404682274247491, corr_num: 4218\n",
      "2019-08-28 01:22:39.663466 Evaluation finished\n",
      "=== Top K=50 ===\n",
      "test_a_filter 136259\n",
      "test_b_filter 131893\n",
      "2019-08-28 01:22:50.156348 Loading model: 4900_6_ctx_coref_coh_global3\n",
      "2019-08-28 01:22:50.185999 Start evaluation\n",
      "n_estimators: 4900, max_depth: 6, acc_training: 0.9755676608597164, corr_num: 18088\n",
      "n_estimators: 4900, max_depth: 6, acc_validation: 0.9409309121269046, corr_num: 4508\n",
      "n_estimators: 4900, max_depth: 6, acc_test: 0.9404682274247491, corr_num: 4218\n",
      "2019-08-28 01:23:17.624569 Evaluation finished\n",
      "=== Top K=21 ===\n",
      "test_a_filter 65664\n",
      "test_b_filter 63283\n",
      "2019-08-28 01:23:28.211888 Loading model: 4900_6_ctx_coref_coh_global4\n",
      "2019-08-28 01:23:28.235133 Start evaluation\n",
      "n_estimators: 4900, max_depth: 6, acc_training: 0.9755676608597164, corr_num: 18088\n",
      "n_estimators: 4900, max_depth: 6, acc_validation: 0.9375913170528073, corr_num: 4492\n",
      "n_estimators: 4900, max_depth: 6, acc_test: 0.9386845039018952, corr_num: 4210\n",
      "2019-08-28 01:23:50.333657 Evaluation finished\n",
      "=== Top K=22 ===\n",
      "test_a_filter 68325\n",
      "test_b_filter 65857\n",
      "2019-08-28 01:23:59.393613 Loading model: 4900_6_ctx_coref_coh_global4\n",
      "2019-08-28 01:23:59.411973 Start evaluation\n",
      "n_estimators: 4900, max_depth: 6, acc_training: 0.9755676608597164, corr_num: 18088\n",
      "n_estimators: 4900, max_depth: 6, acc_validation: 0.9378000417449385, corr_num: 4493\n",
      "n_estimators: 4900, max_depth: 6, acc_test: 0.9386845039018952, corr_num: 4210\n",
      "2019-08-28 01:24:17.836887 Evaluation finished\n",
      "=== Top K=23 ===\n",
      "test_a_filter 70961\n",
      "test_b_filter 68401\n",
      "2019-08-28 01:24:27.775698 Loading model: 4900_6_ctx_coref_coh_global4\n",
      "2019-08-28 01:24:27.794071 Start evaluation\n",
      "n_estimators: 4900, max_depth: 6, acc_training: 0.9755676608597164, corr_num: 18088\n",
      "n_estimators: 4900, max_depth: 6, acc_validation: 0.9378000417449385, corr_num: 4493\n",
      "n_estimators: 4900, max_depth: 6, acc_test: 0.9386845039018952, corr_num: 4210\n",
      "2019-08-28 01:24:49.859406 Evaluation finished\n",
      "=== Top K=24 ===\n",
      "test_a_filter 73575\n",
      "test_b_filter 70918\n",
      "2019-08-28 01:25:00.093976 Loading model: 4900_6_ctx_coref_coh_global4\n",
      "2019-08-28 01:25:00.111792 Start evaluation\n",
      "n_estimators: 4900, max_depth: 6, acc_training: 0.9755676608597164, corr_num: 18088\n",
      "n_estimators: 4900, max_depth: 6, acc_validation: 0.9382174911292006, corr_num: 4495\n",
      "n_estimators: 4900, max_depth: 6, acc_test: 0.9386845039018952, corr_num: 4210\n",
      "2019-08-28 01:25:22.994182 Evaluation finished\n",
      "=== Top K=25 ===\n",
      "test_a_filter 76153\n",
      "test_b_filter 73419\n",
      "2019-08-28 01:25:33.155200 Loading model: 4900_6_ctx_coref_coh_global4\n",
      "2019-08-28 01:25:33.174300 Start evaluation\n",
      "n_estimators: 4900, max_depth: 6, acc_training: 0.9755676608597164, corr_num: 18088\n",
      "n_estimators: 4900, max_depth: 6, acc_validation: 0.9384262158213317, corr_num: 4496\n",
      "n_estimators: 4900, max_depth: 6, acc_test: 0.9386845039018952, corr_num: 4210\n",
      "2019-08-28 01:25:56.198372 Evaluation finished\n",
      "=== Top K=26 ===\n",
      "test_a_filter 78721\n",
      "test_b_filter 75892\n",
      "2019-08-28 01:26:06.360212 Loading model: 4900_6_ctx_coref_coh_global4\n",
      "2019-08-28 01:26:06.380201 Start evaluation\n",
      "n_estimators: 4900, max_depth: 6, acc_training: 0.9755676608597164, corr_num: 18088\n",
      "n_estimators: 4900, max_depth: 6, acc_validation: 0.9378000417449385, corr_num: 4493\n",
      "n_estimators: 4900, max_depth: 6, acc_test: 0.9386845039018952, corr_num: 4210\n",
      "2019-08-28 01:26:29.051368 Evaluation finished\n",
      "=== Top K=27 ===\n",
      "test_a_filter 81279\n",
      "test_b_filter 78353\n",
      "2019-08-28 01:26:39.096321 Loading model: 4900_6_ctx_coref_coh_global4\n",
      "2019-08-28 01:26:39.115900 Start evaluation\n",
      "n_estimators: 4900, max_depth: 6, acc_training: 0.9755676608597164, corr_num: 18088\n",
      "n_estimators: 4900, max_depth: 6, acc_validation: 0.9378000417449385, corr_num: 4493\n",
      "n_estimators: 4900, max_depth: 6, acc_test: 0.9386845039018952, corr_num: 4210\n",
      "2019-08-28 01:27:02.796750 Evaluation finished\n",
      "=== Top K=28 ===\n",
      "test_a_filter 83817\n",
      "test_b_filter 80801\n",
      "2019-08-28 01:27:12.988983 Loading model: 4900_6_ctx_coref_coh_global4\n",
      "2019-08-28 01:27:13.011844 Start evaluation\n",
      "n_estimators: 4900, max_depth: 6, acc_training: 0.9755676608597164, corr_num: 18088\n",
      "n_estimators: 4900, max_depth: 6, acc_validation: 0.9378000417449385, corr_num: 4493\n",
      "n_estimators: 4900, max_depth: 6, acc_test: 0.9386845039018952, corr_num: 4210\n",
      "2019-08-28 01:27:35.939573 Evaluation finished\n",
      "=== Top K=29 ===\n",
      "test_a_filter 86336\n",
      "test_b_filter 83236\n",
      "2019-08-28 01:27:46.021460 Loading model: 4900_6_ctx_coref_coh_global4\n",
      "2019-08-28 01:27:46.041236 Start evaluation\n",
      "n_estimators: 4900, max_depth: 6, acc_training: 0.9755676608597164, corr_num: 18088\n",
      "n_estimators: 4900, max_depth: 6, acc_validation: 0.9378000417449385, corr_num: 4493\n",
      "n_estimators: 4900, max_depth: 6, acc_test: 0.9386845039018952, corr_num: 4210\n",
      "2019-08-28 01:28:09.752046 Evaluation finished\n",
      "=== Top K=30 ===\n",
      "test_a_filter 88847\n",
      "test_b_filter 85658\n",
      "2019-08-28 01:28:20.031859 Loading model: 4900_6_ctx_coref_coh_global4\n",
      "2019-08-28 01:28:20.052476 Start evaluation\n",
      "n_estimators: 4900, max_depth: 6, acc_training: 0.9755676608597164, corr_num: 18088\n",
      "n_estimators: 4900, max_depth: 6, acc_validation: 0.9378000417449385, corr_num: 4493\n",
      "n_estimators: 4900, max_depth: 6, acc_test: 0.9386845039018952, corr_num: 4210\n",
      "2019-08-28 01:28:43.340795 Evaluation finished\n",
      "=== Top K=31 ===\n",
      "test_a_filter 91351\n",
      "test_b_filter 88065\n",
      "2019-08-28 01:28:53.620642 Loading model: 4900_6_ctx_coref_coh_global4\n",
      "2019-08-28 01:28:53.639100 Start evaluation\n",
      "n_estimators: 4900, max_depth: 6, acc_training: 0.9755676608597164, corr_num: 18088\n",
      "n_estimators: 4900, max_depth: 6, acc_validation: 0.9378000417449385, corr_num: 4493\n",
      "n_estimators: 4900, max_depth: 6, acc_test: 0.9386845039018952, corr_num: 4210\n",
      "2019-08-28 01:29:16.820478 Evaluation finished\n",
      "=== Top K=32 ===\n",
      "test_a_filter 93843\n",
      "test_b_filter 90464\n",
      "2019-08-28 01:29:27.051473 Loading model: 4900_6_ctx_coref_coh_global4\n",
      "2019-08-28 01:29:27.069417 Start evaluation\n",
      "n_estimators: 4900, max_depth: 6, acc_training: 0.9755676608597164, corr_num: 18088\n",
      "n_estimators: 4900, max_depth: 6, acc_validation: 0.9378000417449385, corr_num: 4493\n",
      "n_estimators: 4900, max_depth: 6, acc_test: 0.9386845039018952, corr_num: 4210\n",
      "2019-08-28 01:29:50.791430 Evaluation finished\n",
      "=== Top K=33 ===\n",
      "test_a_filter 96317\n",
      "test_b_filter 92847\n",
      "2019-08-28 01:30:00.821410 Loading model: 4900_6_ctx_coref_coh_global4\n",
      "2019-08-28 01:30:00.840006 Start evaluation\n",
      "n_estimators: 4900, max_depth: 6, acc_training: 0.9755676608597164, corr_num: 18088\n",
      "n_estimators: 4900, max_depth: 6, acc_validation: 0.9378000417449385, corr_num: 4493\n",
      "n_estimators: 4900, max_depth: 6, acc_test: 0.9386845039018952, corr_num: 4210\n",
      "2019-08-28 01:30:24.595503 Evaluation finished\n",
      "=== Top K=34 ===\n",
      "test_a_filter 98778\n",
      "test_b_filter 95215\n",
      "2019-08-28 01:30:35.266124 Loading model: 4900_6_ctx_coref_coh_global4\n",
      "2019-08-28 01:30:35.285774 Start evaluation\n",
      "n_estimators: 4900, max_depth: 6, acc_training: 0.9755676608597164, corr_num: 18088\n",
      "n_estimators: 4900, max_depth: 6, acc_validation: 0.9378000417449385, corr_num: 4493\n",
      "n_estimators: 4900, max_depth: 6, acc_test: 0.938907469342252, corr_num: 4211\n",
      "2019-08-28 01:30:59.432875 Evaluation finished\n",
      "=== Top K=35 ===\n",
      "test_a_filter 101219\n",
      "test_b_filter 97577\n",
      "2019-08-28 01:31:09.748606 Loading model: 4900_6_ctx_coref_coh_global4\n",
      "2019-08-28 01:31:09.767612 Start evaluation\n",
      "n_estimators: 4900, max_depth: 6, acc_training: 0.9755676608597164, corr_num: 18088\n",
      "n_estimators: 4900, max_depth: 6, acc_validation: 0.9378000417449385, corr_num: 4493\n",
      "n_estimators: 4900, max_depth: 6, acc_test: 0.938907469342252, corr_num: 4211\n",
      "2019-08-28 01:31:33.661360 Evaluation finished\n",
      "=== Top K=36 ===\n",
      "test_a_filter 103651\n",
      "test_b_filter 99938\n",
      "2019-08-28 01:31:44.147098 Loading model: 4900_6_ctx_coref_coh_global4\n",
      "2019-08-28 01:31:44.166118 Start evaluation\n",
      "n_estimators: 4900, max_depth: 6, acc_training: 0.9755676608597164, corr_num: 18088\n",
      "n_estimators: 4900, max_depth: 6, acc_validation: 0.9378000417449385, corr_num: 4493\n",
      "n_estimators: 4900, max_depth: 6, acc_test: 0.938907469342252, corr_num: 4211\n",
      "2019-08-28 01:32:08.817360 Evaluation finished\n",
      "=== Top K=37 ===\n"
     ]
    },
    {
     "name": "stdout",
     "output_type": "stream",
     "text": [
      "test_a_filter 106070\n",
      "test_b_filter 102287\n",
      "2019-08-28 01:32:19.201908 Loading model: 4900_6_ctx_coref_coh_global4\n",
      "2019-08-28 01:32:19.222641 Start evaluation\n",
      "n_estimators: 4900, max_depth: 6, acc_training: 0.9755676608597164, corr_num: 18088\n",
      "n_estimators: 4900, max_depth: 6, acc_validation: 0.9378000417449385, corr_num: 4493\n",
      "n_estimators: 4900, max_depth: 6, acc_test: 0.938907469342252, corr_num: 4211\n",
      "2019-08-28 01:32:43.674022 Evaluation finished\n",
      "=== Top K=38 ===\n",
      "test_a_filter 108469\n",
      "test_b_filter 104625\n",
      "2019-08-28 01:32:53.919511 Loading model: 4900_6_ctx_coref_coh_global4\n",
      "2019-08-28 01:32:53.938331 Start evaluation\n",
      "n_estimators: 4900, max_depth: 6, acc_training: 0.9755676608597164, corr_num: 18088\n",
      "n_estimators: 4900, max_depth: 6, acc_validation: 0.9378000417449385, corr_num: 4493\n",
      "n_estimators: 4900, max_depth: 6, acc_test: 0.938907469342252, corr_num: 4211\n",
      "2019-08-28 01:33:19.130731 Evaluation finished\n",
      "=== Top K=39 ===\n",
      "test_a_filter 110857\n",
      "test_b_filter 106957\n",
      "2019-08-28 01:33:29.410518 Loading model: 4900_6_ctx_coref_coh_global4\n",
      "2019-08-28 01:33:29.433835 Start evaluation\n",
      "n_estimators: 4900, max_depth: 6, acc_training: 0.9755676608597164, corr_num: 18088\n",
      "n_estimators: 4900, max_depth: 6, acc_validation: 0.9378000417449385, corr_num: 4493\n",
      "n_estimators: 4900, max_depth: 6, acc_test: 0.938907469342252, corr_num: 4211\n",
      "2019-08-28 01:33:55.013907 Evaluation finished\n",
      "=== Top K=40 ===\n",
      "test_a_filter 113238\n",
      "test_b_filter 109275\n",
      "2019-08-28 01:34:05.213761 Loading model: 4900_6_ctx_coref_coh_global4\n",
      "2019-08-28 01:34:05.232206 Start evaluation\n",
      "n_estimators: 4900, max_depth: 6, acc_training: 0.9755676608597164, corr_num: 18088\n",
      "n_estimators: 4900, max_depth: 6, acc_validation: 0.9378000417449385, corr_num: 4493\n",
      "n_estimators: 4900, max_depth: 6, acc_test: 0.938907469342252, corr_num: 4211\n",
      "2019-08-28 01:34:30.614065 Evaluation finished\n",
      "=== Top K=41 ===\n",
      "test_a_filter 115614\n",
      "test_b_filter 111584\n",
      "2019-08-28 01:34:40.952590 Loading model: 4900_6_ctx_coref_coh_global4\n",
      "2019-08-28 01:34:40.972032 Start evaluation\n",
      "n_estimators: 4900, max_depth: 6, acc_training: 0.9755676608597164, corr_num: 18088\n",
      "n_estimators: 4900, max_depth: 6, acc_validation: 0.9378000417449385, corr_num: 4493\n",
      "n_estimators: 4900, max_depth: 6, acc_test: 0.938907469342252, corr_num: 4211\n",
      "2019-08-28 01:35:06.121058 Evaluation finished\n",
      "=== Top K=42 ===\n",
      "test_a_filter 117986\n",
      "test_b_filter 113885\n",
      "2019-08-28 01:35:16.317664 Loading model: 4900_6_ctx_coref_coh_global4\n",
      "2019-08-28 01:35:16.337045 Start evaluation\n",
      "n_estimators: 4900, max_depth: 6, acc_training: 0.9755676608597164, corr_num: 18088\n",
      "n_estimators: 4900, max_depth: 6, acc_validation: 0.9378000417449385, corr_num: 4493\n",
      "n_estimators: 4900, max_depth: 6, acc_test: 0.938907469342252, corr_num: 4211\n",
      "2019-08-28 01:35:42.015599 Evaluation finished\n",
      "=== Top K=43 ===\n",
      "test_a_filter 120310\n",
      "test_b_filter 116174\n",
      "2019-08-28 01:35:52.385799 Loading model: 4900_6_ctx_coref_coh_global4\n",
      "2019-08-28 01:35:52.405397 Start evaluation\n",
      "n_estimators: 4900, max_depth: 6, acc_training: 0.9755676608597164, corr_num: 18088\n",
      "n_estimators: 4900, max_depth: 6, acc_validation: 0.9378000417449385, corr_num: 4493\n",
      "n_estimators: 4900, max_depth: 6, acc_test: 0.938907469342252, corr_num: 4211\n",
      "2019-08-28 01:36:17.680432 Evaluation finished\n",
      "=== Top K=44 ===\n",
      "test_a_filter 122628\n",
      "test_b_filter 118460\n",
      "2019-08-28 01:36:28.043938 Loading model: 4900_6_ctx_coref_coh_global4\n",
      "2019-08-28 01:36:28.064139 Start evaluation\n",
      "n_estimators: 4900, max_depth: 6, acc_training: 0.9755676608597164, corr_num: 18088\n",
      "n_estimators: 4900, max_depth: 6, acc_validation: 0.9378000417449385, corr_num: 4493\n",
      "n_estimators: 4900, max_depth: 6, acc_test: 0.938907469342252, corr_num: 4211\n",
      "2019-08-28 01:36:53.854148 Evaluation finished\n",
      "=== Top K=45 ===\n",
      "test_a_filter 124923\n",
      "test_b_filter 120729\n",
      "2019-08-28 01:37:04.209301 Loading model: 4900_6_ctx_coref_coh_global4\n",
      "2019-08-28 01:37:04.227773 Start evaluation\n",
      "n_estimators: 4900, max_depth: 6, acc_training: 0.9755676608597164, corr_num: 18088\n",
      "n_estimators: 4900, max_depth: 6, acc_validation: 0.9378000417449385, corr_num: 4493\n",
      "n_estimators: 4900, max_depth: 6, acc_test: 0.938907469342252, corr_num: 4211\n",
      "2019-08-28 01:37:30.576487 Evaluation finished\n",
      "=== Top K=46 ===\n",
      "test_a_filter 127214\n",
      "test_b_filter 122983\n",
      "2019-08-28 01:37:40.766693 Loading model: 4900_6_ctx_coref_coh_global4\n",
      "2019-08-28 01:37:40.785664 Start evaluation\n"
     ]
    }
   ],
   "source": [
    "def iter_num_to_suffix(num: int):\n",
    "    if num == 0:\n",
    "        return ''\n",
    "    if num == 1:\n",
    "        return '_global'\n",
    "    return '_global%d' % num\n",
    "\n",
    "global_vars = globals()\n",
    "for iter_num in range(1, 5):\n",
    "    iter_suffix = iter_num_to_suffix(iter_num)\n",
    "    prev_iter_suffix = iter_num_to_suffix(iter_num - 1)\n",
    "    \n",
    "    model = load_model('4900_6_ctx_coref_coh' + prev_iter_suffix)\n",
    "    \n",
    "    for top_k in range(21, 51):\n",
    "        print('=== Top K=%d ===' % top_k)\n",
    "        test_a_filter = get_top_k_prediction_indices(model, global_vars['d_test_a_ctx_coref_coh' + prev_iter_suffix], \n",
    "                                                     d_test_a_ctx_raw, q_docs_dict, top_k)\n",
    "        test_b_filter = get_top_k_prediction_indices(model, global_vars['d_test_b_ctx_coref_coh' + prev_iter_suffix], \n",
    "                                                     d_test_b_ctx_raw, q_docs_dict, top_k)\n",
    "\n",
    "        print('test_a_filter', len(test_a_filter))\n",
    "        print('test_b_filter', len(test_b_filter))\n",
    "\n",
    "        process('ctx_coref_coh' + iter_suffix, \n",
    "                global_vars['d_train_ctx_coref_coh' + iter_suffix], \n",
    "                global_vars['d_test_a_ctx_coref_coh' + iter_suffix], \n",
    "                global_vars['d_test_b_ctx_coref_coh' + iter_suffix], \n",
    "                d_train_total, d_test_a_total, d_test_b_total,\n",
    "                n_estimators=[4900], max_depths=[6], train_mode=False, \n",
    "                test_a_filter=test_a_filter, test_b_filter=test_b_filter)"
   ]
  },
  {
   "cell_type": "code",
   "execution_count": 100,
   "metadata": {},
   "outputs": [
    {
     "name": "stdout",
     "output_type": "stream",
     "text": [
      "=== Top K=46 ===\n",
      "test_a_filter 127214\n",
      "test_b_filter 122983\n",
      "2019-08-28 02:21:02.223642 Loading model: 4900_6_ctx_coref_coh_global4\n",
      "2019-08-28 02:21:02.252691 Start evaluation\n",
      "n_estimators: 4900, max_depth: 6, acc_training: 0.9755676608597164, corr_num: 18088\n",
      "n_estimators: 4900, max_depth: 6, acc_validation: 0.9378000417449385, corr_num: 4493\n",
      "n_estimators: 4900, max_depth: 6, acc_test: 0.938907469342252, corr_num: 4211\n",
      "2019-08-28 02:21:28.011231 Evaluation finished\n",
      "=== Top K=47 ===\n",
      "test_a_filter 129498\n",
      "test_b_filter 125225\n",
      "2019-08-28 02:21:37.940905 Loading model: 4900_6_ctx_coref_coh_global4\n",
      "2019-08-28 02:21:37.959363 Start evaluation\n",
      "n_estimators: 4900, max_depth: 6, acc_training: 0.9755676608597164, corr_num: 18088\n",
      "n_estimators: 4900, max_depth: 6, acc_validation: 0.9378000417449385, corr_num: 4493\n",
      "n_estimators: 4900, max_depth: 6, acc_test: 0.938907469342252, corr_num: 4211\n",
      "2019-08-28 02:22:03.900481 Evaluation finished\n",
      "=== Top K=48 ===\n",
      "test_a_filter 131767\n",
      "test_b_filter 127458\n",
      "2019-08-28 02:22:14.197141 Loading model: 4900_6_ctx_coref_coh_global4\n",
      "2019-08-28 02:22:14.216819 Start evaluation\n",
      "n_estimators: 4900, max_depth: 6, acc_training: 0.9755676608597164, corr_num: 18088\n",
      "n_estimators: 4900, max_depth: 6, acc_validation: 0.9378000417449385, corr_num: 4493\n",
      "n_estimators: 4900, max_depth: 6, acc_test: 0.938907469342252, corr_num: 4211\n",
      "2019-08-28 02:22:40.397640 Evaluation finished\n",
      "=== Top K=49 ===\n",
      "test_a_filter 134020\n",
      "test_b_filter 129680\n",
      "2019-08-28 02:22:50.695613 Loading model: 4900_6_ctx_coref_coh_global4\n",
      "2019-08-28 02:22:50.714272 Start evaluation\n",
      "n_estimators: 4900, max_depth: 6, acc_training: 0.9755676608597164, corr_num: 18088\n",
      "n_estimators: 4900, max_depth: 6, acc_validation: 0.9378000417449385, corr_num: 4493\n",
      "n_estimators: 4900, max_depth: 6, acc_test: 0.938907469342252, corr_num: 4211\n",
      "2019-08-28 02:23:16.692706 Evaluation finished\n",
      "=== Top K=50 ===\n",
      "test_a_filter 136259\n",
      "test_b_filter 131893\n",
      "2019-08-28 02:23:24.923183 Loading model: 4900_6_ctx_coref_coh_global4\n",
      "2019-08-28 02:23:24.941433 Start evaluation\n",
      "n_estimators: 4900, max_depth: 6, acc_training: 0.9755676608597164, corr_num: 18088\n",
      "n_estimators: 4900, max_depth: 6, acc_validation: 0.9378000417449385, corr_num: 4493\n",
      "n_estimators: 4900, max_depth: 6, acc_test: 0.938907469342252, corr_num: 4211\n",
      "2019-08-28 02:23:49.528604 Evaluation finished\n"
     ]
    }
   ],
   "source": [
    "def iter_num_to_suffix(num: int):\n",
    "    if num == 0:\n",
    "        return ''\n",
    "    if num == 1:\n",
    "        return '_global'\n",
    "    return '_global%d' % num\n",
    "\n",
    "global_vars = globals()\n",
    "for iter_num in range(4, 5):\n",
    "    iter_suffix = iter_num_to_suffix(iter_num)\n",
    "    prev_iter_suffix = iter_num_to_suffix(iter_num - 1)\n",
    "    \n",
    "    model = load_model('4900_6_ctx_coref_coh' + prev_iter_suffix)\n",
    "    \n",
    "    for top_k in range(46, 51):\n",
    "        print('=== Top K=%d ===' % top_k)\n",
    "        test_a_filter = get_top_k_prediction_indices(model, global_vars['d_test_a_ctx_coref_coh' + prev_iter_suffix], \n",
    "                                                     d_test_a_ctx_raw, q_docs_dict, top_k)\n",
    "        test_b_filter = get_top_k_prediction_indices(model, global_vars['d_test_b_ctx_coref_coh' + prev_iter_suffix], \n",
    "                                                     d_test_b_ctx_raw, q_docs_dict, top_k)\n",
    "\n",
    "        print('test_a_filter', len(test_a_filter))\n",
    "        print('test_b_filter', len(test_b_filter))\n",
    "\n",
    "        process('ctx_coref_coh' + iter_suffix, \n",
    "                global_vars['d_train_ctx_coref_coh' + iter_suffix], \n",
    "                global_vars['d_test_a_ctx_coref_coh' + iter_suffix], \n",
    "                global_vars['d_test_b_ctx_coref_coh' + iter_suffix], \n",
    "                d_train_total, d_test_a_total, d_test_b_total,\n",
    "                n_estimators=[4900], max_depths=[6], train_mode=False, \n",
    "                test_a_filter=test_a_filter, test_b_filter=test_b_filter)"
   ]
  },
  {
   "cell_type": "code",
   "execution_count": 172,
   "metadata": {},
   "outputs": [],
   "source": [
    "def get_prediction_scores(model, data):\n",
    "    data_xg = trans_data(data)\n",
    "    return model.predict(data_xg)"
   ]
  },
  {
   "cell_type": "code",
   "execution_count": 173,
   "metadata": {},
   "outputs": [
    {
     "name": "stdout",
     "output_type": "stream",
     "text": [
      "(531835, 3)\n",
      "(136259, 3)\n",
      "(131893, 3)\n"
     ]
    }
   ],
   "source": [
    "model = load_model('4900_6_ctx_coref')\n",
    "d_train_pred_score = np.vstack([d_train_ctx[:, 0], 523332\n",
    "                                get_prediction_scores(mod4el, d_train_ctx_coref), \n",
    "                                d_train_ctx[:, -1]]).T\n",
    "d_test_a_pred_score = np.vstack([d_test_a_ctx[:, 0], \n",
    "                                get_prediction_scores(model, d_test_a_ctx_coref), \n",
    "                                d_test_a_ctx[:, -1]]).T\n",
    "d_test_b_pred_score = np.vstack([d_test_b_ctx[:, 0], \n",
    "                                get_prediction_scores(model, d_test_b_ctx_coref), \n",
    "                                d_test_b_ctx[:, -1]]).T\n",
    "\n",
    "print(d_train_pred_score.shape)\n",
    "print(d_test_a_pred_score.shape)\n",
    "print(d_test_b_pred_score.shape)"
   ]
  },
  {
   "cell_type": "code",
   "execution_count": 165,
   "metadata": {},
   "outputs": [
    {
     "name": "stdout",
     "output_type": "stream",
     "text": [
      "True\n"
     ]
    }
   ],
   "source": [
    "print(d_train_ctx[0][0] == 371183)"
   ]
  },
  {
   "cell_type": "code",
   "execution_count": 166,
   "metadata": {},
   "outputs": [
    {
     "name": "stdout",
     "output_type": "stream",
     "text": [
      "(531835, 35)\n",
      "(136259, 35)\n",
      "(131893, 35)\n",
      "Building idx for new features...\n",
      "Combine original and new features...\n",
      "Building idx for new features...\n",
      "Combine original and new features...\n",
      "Building idx for new features...\n",
      "Combine original and new features...\n",
      "(531835, 65)\n",
      "(136259, 65)\n",
      "(131893, 65)\n"
     ]
    }
   ],
   "source": [
    "d_train_coh_ext3 = fetch_all_features('basic_fea_coh_ext3', 'train', 'aida_conll')\n",
    "d_test_a_coh_ext3 = fetch_all_features('basic_fea_coh_ext3', 'testa', 'aida_conll')\n",
    "d_test_b_coh_ext3 = fetch_all_features('basic_fea_coh_ext3', 'testb', 'aida_conll')\n",
    "print(d_train_coh_ext3.shape)\n",
    "print(d_test_a_coh_ext3.shape)\n",
    "print(d_test_b_coh_ext3.shape)\n",
    "d_train_ctx_coref_coh_ext3  = combine_features(d_train_ctx_coref, d_train_coh_ext3)\n",
    "d_test_a_ctx_coref_coh_ext3 = combine_features(d_test_a_ctx_coref, d_test_a_coh_ext3)\n",
    "d_test_b_ctx_coref_coh_ext3 = combine_features(d_test_b_ctx_coref, d_test_b_coh_ext3)\n",
    "print(d_train_ctx_coref_coh_ext3.shape)\n",
    "print(d_test_a_ctx_coref_coh_ext3.shape)\n",
    "print(d_test_b_ctx_coref_coh_ext3.shape)"
   ]
  },
  {
   "cell_type": "code",
   "execution_count": 167,
   "metadata": {},
   "outputs": [
    {
     "name": "stderr",
     "output_type": "stream",
     "text": [
      "/home/ymiao/.venvs/nerd/lib/python3.5/site-packages/xgboost/core.py:614: UserWarning: Use subset (sliced data) of np.ndarray is not recommended because it will generate extra copies and increase memory consumption\n",
      "  \"because it will generate extra copies and increase memory consumption\")\n"
     ]
    },
    {
     "name": "stdout",
     "output_type": "stream",
     "text": [
      "2019-08-29 13:12:18.471128 Start training\n",
      "2019-08-29 13:32:53.164550 Training finished\n",
      "2019-08-29 13:32:53.165028 Start evaluation\n",
      "n_estimators: 4900, max_depth: 6, acc_training: 0.9754597918127393, corr_num: 18086\n",
      "n_estimators: 4900, max_depth: 6, acc_validation: 0.9037779169275725, corr_num: 4330\n",
      "n_estimators: 4900, max_depth: 6, acc_test: 0.8996655518394648, corr_num: 4035\n",
      "2019-08-29 13:33:01.436330 Evaluation finished\n",
      "2019-08-29 13:33:01.468096 Model Saved: 4900_6_ctx_coref_coh_ext3\n"
     ]
    }
   ],
   "source": [
    "process('ctx_coref_coh_ext3', \n",
    "        d_train_ctx_coref_coh_ext3, d_test_a_ctx_coref_coh_ext3, d_test_b_ctx_coref_coh_ext3, \n",
    "        d_train_total, d_test_a_total, d_test_b_total,\n",
    "        n_estimators=[4900], max_depths=[6])"
   ]
  },
  {
   "cell_type": "code",
   "execution_count": 174,
   "metadata": {},
   "outputs": [
    {
     "name": "stdout",
     "output_type": "stream",
     "text": [
      "Building idx for new features...\n",
      "Combine original and new features...\n",
      "Building idx for new features...\n",
      "Combine original and new features...\n",
      "Building idx for new features...\n",
      "Combine original and new features...\n",
      "(531835, 55)\n",
      "(136259, 55)\n",
      "(131893, 55)\n"
     ]
    }
   ],
   "source": [
    "d_train_ctx_coref_coh_and_pred_score  = combine_features(d_train_ctx_coref_coh, d_train_pred_score)\n",
    "d_test_a_ctx_coref_coh_and_pred_score = combine_features(d_test_a_ctx_coref_coh, d_test_a_pred_score)\n",
    "d_test_b_ctx_coref_coh_and_pred_score = combine_features(d_test_b_ctx_coref_coh, d_test_b_pred_score)\n",
    "print(d_train_ctx_coref_coh_and_pred_score.shape)\n",
    "print(d_test_a_ctx_coref_coh_and_pred_score.shape)\n",
    "print(d_test_b_ctx_coref_coh_and_pred_score.shape)"
   ]
  },
  {
   "cell_type": "code",
   "execution_count": 175,
   "metadata": {},
   "outputs": [
    {
     "name": "stdout",
     "output_type": "stream",
     "text": [
      "2019-08-29 17:18:44.776039 Start training\n",
      "2019-08-29 19:26:26.705761 Training finished\n",
      "2019-08-29 19:26:26.706374 Start evaluation\n",
      "n_estimators: 4900, max_depth: 6, acc_training: 0.9761609406180897, corr_num: 18099\n",
      "n_estimators: 4900, max_depth: 6, acc_validation: 0.894594030473805, corr_num: 4286\n",
      "n_estimators: 4900, max_depth: 6, acc_test: 0.862876254180602, corr_num: 3870\n",
      "2019-08-29 19:26:34.382995 Evaluation finished\n",
      "2019-08-29 19:26:34.419586 Model Saved: 4900_6_ctx_coref_coh_orig_and_pred_score\n"
     ]
    }
   ],
   "source": [
    "process('ctx_coref_coh_orig_and_pred_score', \n",
    "        d_train_ctx_coref_coh_and_pred_score, \n",
    "        d_test_a_ctx_coref_coh_and_pred_score, \n",
    "        d_test_b_ctx_coref_coh_and_pred_score, \n",
    "        d_train_total, d_test_a_total, d_test_b_total,\n",
    "        n_estimators=[4900], max_depths=[6])"
   ]
  },
  {
   "cell_type": "code",
   "execution_count": 25,
   "metadata": {},
   "outputs": [
    {
     "name": "stdout",
     "output_type": "stream",
     "text": [
      "(531841, 21)\n",
      "(136260, 21)\n",
      "(131893, 21)\n",
      "(531841, 13)\n",
      "(136260, 13)\n",
      "(131893, 13)\n",
      "Building idx for new features...\n",
      "Combine original and new features...\n",
      "Building idx for new features...\n",
      "Combine original and new features...\n",
      "Building idx for new features...\n",
      "Combine original and new features...\n",
      "(531841, 32)\n",
      "(136260, 32)\n",
      "(131893, 32)\n"
     ]
    }
   ],
   "source": [
    "d_train_ctx_can_fixed = fetch_all_features('basic_ctx_can_fixed', 'train', 'aida_conll')\n",
    "d_test_a_ctx_can_fixed = fetch_all_features('basic_ctx_can_fixed', 'testa', 'aida_conll')\n",
    "d_test_b_ctx_can_fixed = fetch_all_features('basic_ctx_can_fixed', 'testb', 'aida_conll')\n",
    "print(d_train_ctx_can_fixed.shape)\n",
    "print(d_test_a_ctx_can_fixed.shape)\n",
    "print(d_test_b_ctx_can_fixed.shape)\n",
    "\n",
    "d_train_coref_can_fixed = fetch_all_features('basic_coref_can_fixed', 'train', 'aida_conll')\n",
    "d_test_a_coref_can_fixed = fetch_all_features('basic_coref_can_fixed', 'testa', 'aida_conll')\n",
    "d_test_b_coref_can_fixed = fetch_all_features('basic_coref_can_fixed', 'testb', 'aida_conll')\n",
    "print(d_train_coref_can_fixed.shape)\n",
    "print(d_test_a_coref_can_fixed.shape)\n",
    "print(d_test_b_coref_can_fixed.shape)\n",
    "\n",
    "d_train_ctx_coref_can_fixed = combine_features(d_train_ctx_can_fixed, d_train_coref_can_fixed)\n",
    "d_test_a_ctx_coref_can_fixed = combine_features(d_test_a_ctx_can_fixed, d_test_a_coref_can_fixed)\n",
    "d_test_b_ctx_coref_can_fixed = combine_features(d_test_b_ctx_can_fixed, d_test_b_coref_can_fixed)\n",
    "print(d_train_ctx_coref_can_fixed.shape)\n",
    "print(d_test_a_ctx_coref_can_fixed.shape)\n",
    "print(d_test_b_ctx_coref_can_fixed.shape)"
   ]
  },
  {
   "cell_type": "code",
   "execution_count": 182,
   "metadata": {},
   "outputs": [
    {
     "name": "stdout",
     "output_type": "stream",
     "text": [
      "2019-08-29 22:48:03.515405 Loading model: 4900_6_ctx_coref\n",
      "2019-08-29 22:48:03.533444 Start evaluation\n",
      "n_estimators: 4900, max_depth: 6, acc_training: 0.960519928806429, corr_num: 17809\n",
      "n_estimators: 4900, max_depth: 6, acc_validation: 0.8864537674806929, corr_num: 4247\n",
      "n_estimators: 4900, max_depth: 6, acc_test: 0.841917502787068, corr_num: 3776\n",
      "2019-08-29 22:48:25.779701 Evaluation finished\n"
     ]
    }
   ],
   "source": [
    "process('ctx_coref', \n",
    "        d_train_ctx_coref_can_fixed, \n",
    "        d_test_a_ctx_coref_can_fixed, \n",
    "        d_test_b_ctx_coref_can_fixed, \n",
    "        d_train_total, d_test_a_total, d_test_b_total, train_mode=False,\n",
    "        n_estimators=[4900], max_depths=[6])"
   ]
  },
  {
   "cell_type": "code",
   "execution_count": 26,
   "metadata": {},
   "outputs": [
    {
     "name": "stdout",
     "output_type": "stream",
     "text": [
      "(531841, 24)\n",
      "(136260, 24)\n",
      "(131893, 24)\n",
      "Building idx for new features...\n",
      "Combine original and new features...\n",
      "Building idx for new features...\n",
      "Combine original and new features...\n",
      "Building idx for new features...\n",
      "Combine original and new features...\n",
      "(531841, 54)\n",
      "(136260, 54)\n",
      "(131893, 54)\n"
     ]
    }
   ],
   "source": [
    "d_train_coh_can_fixed = fetch_all_features('basic_coh_can_fixed', 'train', 'aida_conll')\n",
    "d_test_a_coh_can_fixed = fetch_all_features('basic_coh_can_fixed', 'testa', 'aida_conll')\n",
    "d_test_b_coh_can_fixed = fetch_all_features('basic_coh_can_fixed', 'testb', 'aida_conll')\n",
    "print(d_train_coh_can_fixed.shape)\n",
    "print(d_test_a_coh_can_fixed.shape)\n",
    "print(d_test_b_coh_can_fixed.shape)\n",
    "\n",
    "d_train_ctx_coref_coh_can_fixed = combine_features(d_train_ctx_coref_can_fixed, d_train_coh_can_fixed)\n",
    "d_test_a_ctx_coref_coh_can_fixed = combine_features(d_test_a_ctx_coref_can_fixed, d_test_a_coh_can_fixed)\n",
    "d_test_b_ctx_coref_coh_can_fixed = combine_features(d_test_b_ctx_coref_can_fixed, d_test_b_coh_can_fixed)\n",
    "print(d_train_ctx_coref_coh_can_fixed.shape)\n",
    "print(d_test_a_ctx_coref_coh_can_fixed.shape)\n",
    "print(d_test_b_ctx_coref_coh_can_fixed.shape)"
   ]
  },
  {
   "cell_type": "code",
   "execution_count": 27,
   "metadata": {},
   "outputs": [
    {
     "name": "stderr",
     "output_type": "stream",
     "text": [
      "/home/ymiao/.venvs/nerd/lib/python3.5/site-packages/xgboost/core.py:614: UserWarning: Use subset (sliced data) of np.ndarray is not recommended because it will generate extra copies and increase memory consumption\n",
      "  \"because it will generate extra copies and increase memory consumption\")\n"
     ]
    },
    {
     "name": "stdout",
     "output_type": "stream",
     "text": [
      "2019-08-30 12:45:14.544124 Loading model: 4900_6_ctx_coref_coh\n",
      "2019-08-30 12:45:14.582684 Start evaluation\n",
      "n_estimators: 4900, max_depth: 6, acc_training: 0.9754058572892509, corr_num: 18085\n",
      "n_estimators: 4900, max_depth: 6, acc_validation: 0.8962638280108537, corr_num: 4294\n",
      "n_estimators: 4900, max_depth: 6, acc_test: 0.89520624303233, corr_num: 4015\n",
      "2019-08-30 12:45:34.113089 Evaluation finished\n"
     ]
    }
   ],
   "source": [
    "process('ctx_coref_coh', \n",
    "        d_train_ctx_coref_coh_can_fixed, \n",
    "        d_test_a_ctx_coref_coh_can_fixed, \n",
    "        d_test_b_ctx_coref_coh_can_fixed, \n",
    "        d_train_total, d_test_a_total, d_test_b_total, train_mode=False,\n",
    "        n_estimators=[4900], max_depths=[6])"
   ]
  },
  {
   "cell_type": "code",
   "execution_count": 183,
   "metadata": {},
   "outputs": [
    {
     "name": "stdout",
     "output_type": "stream",
     "text": [
      "2019-08-29 22:59:10.442056 Start training\n",
      "2019-08-30 00:56:05.647429 Training finished\n",
      "2019-08-30 00:56:05.647613 Start evaluation\n",
      "n_estimators: 4900, max_depth: 6, acc_training: 0.9603041907124751, corr_num: 17805\n",
      "n_estimators: 4900, max_depth: 6, acc_validation: 0.8864537674806929, corr_num: 4247\n",
      "n_estimators: 4900, max_depth: 6, acc_test: 0.842809364548495, corr_num: 3780\n",
      "2019-08-30 00:56:13.768130 Evaluation finished\n",
      "2019-08-30 00:56:13.808888 Model Saved: 4900_6_ctx_coref_can_fixed\n"
     ]
    }
   ],
   "source": [
    "process('ctx_coref_can_fixed', \n",
    "        d_train_ctx_coref_can_fixed, \n",
    "        d_test_a_ctx_coref_can_fixed, \n",
    "        d_test_b_ctx_coref_can_fixed, \n",
    "        d_train_total, d_test_a_total, d_test_b_total,\n",
    "        n_estimators=[4900], max_depths=[6])"
   ]
  },
  {
   "cell_type": "code",
   "execution_count": 28,
   "metadata": {},
   "outputs": [
    {
     "name": "stdout",
     "output_type": "stream",
     "text": [
      "(531841, 24)\n",
      "(136260, 24)\n",
      "(131893, 24)\n",
      "Building idx for new features...\n",
      "Combine original and new features...\n",
      "Building idx for new features...\n",
      "Combine original and new features...\n",
      "Building idx for new features...\n",
      "Combine original and new features...\n",
      "(531841, 54)\n",
      "(136260, 54)\n",
      "(131893, 54)\n"
     ]
    }
   ],
   "source": [
    "d_train_coh_can_fixed_retrained = fetch_all_features('basic_fea_coh_can_fixed_retrained', 'train', 'aida_conll')\n",
    "d_test_a_coh_can_fixed_retrained = fetch_all_features('basic_fea_coh_can_fixed_retrained', 'testa', 'aida_conll')\n",
    "d_test_b_coh_can_fixed_retrained = fetch_all_features('basic_fea_coh_can_fixed_retrained', 'testb', 'aida_conll')\n",
    "print(d_train_coh_can_fixed_retrained.shape)\n",
    "print(d_test_a_coh_can_fixed_retrained.shape)\n",
    "print(d_test_b_coh_can_fixed_retrained.shape)\n",
    "\n",
    "d_train_ctx_coref_coh_can_fixed_retrained = combine_features(d_train_ctx_coref_can_fixed, d_train_coh_can_fixed_retrained)\n",
    "d_test_a_ctx_coref_coh_can_fixed_retrained = combine_features(d_test_a_ctx_coref_can_fixed, d_test_a_coh_can_fixed_retrained)\n",
    "d_test_b_ctx_coref_coh_can_fixed_retrained = combine_features(d_test_b_ctx_coref_can_fixed, d_test_b_coh_can_fixed_retrained)\n",
    "print(d_train_ctx_coref_coh_can_fixed_retrained.shape)\n",
    "print(d_test_a_ctx_coref_coh_can_fixed_retrained.shape)\n",
    "print(d_test_b_ctx_coref_coh_can_fixed_retrained.shape)"
   ]
  },
  {
   "cell_type": "code",
   "execution_count": 29,
   "metadata": {},
   "outputs": [
    {
     "name": "stdout",
     "output_type": "stream",
     "text": [
      "2019-08-30 15:09:29.483261 Start training\n"
     ]
    },
    {
     "ename": "KeyboardInterrupt",
     "evalue": "",
     "output_type": "error",
     "traceback": [
      "\u001b[0;31m---------------------------------------------------------------------------\u001b[0m",
      "\u001b[0;31mKeyboardInterrupt\u001b[0m                         Traceback (most recent call last)",
      "\u001b[0;32m<ipython-input-29-42b492041f07>\u001b[0m in \u001b[0;36m<module>\u001b[0;34m\u001b[0m\n\u001b[1;32m      4\u001b[0m         \u001b[0md_test_b_ctx_coref_coh_can_fixed_retrained\u001b[0m\u001b[0;34m,\u001b[0m\u001b[0;34m\u001b[0m\u001b[0m\n\u001b[1;32m      5\u001b[0m         \u001b[0md_train_total\u001b[0m\u001b[0;34m,\u001b[0m \u001b[0md_test_a_total\u001b[0m\u001b[0;34m,\u001b[0m \u001b[0md_test_b_total\u001b[0m\u001b[0;34m,\u001b[0m\u001b[0;34m\u001b[0m\u001b[0m\n\u001b[0;32m----> 6\u001b[0;31m         n_estimators=[4900], max_depths=[6])\n\u001b[0m",
      "\u001b[0;32m<ipython-input-12-172c3566dfc4>\u001b[0m in \u001b[0;36mprocess\u001b[0;34m(process_name, train_set, testa_set, testb_set, train_total, testa_total, testb_total, n_estimators, max_depths, train_mode, test_a_filter, test_b_filter, eval_func)\u001b[0m\n\u001b[1;32m     19\u001b[0m                 \u001b[0mprint\u001b[0m\u001b[0;34m(\u001b[0m\u001b[0mdatetime\u001b[0m\u001b[0;34m.\u001b[0m\u001b[0mnow\u001b[0m\u001b[0;34m(\u001b[0m\u001b[0;34m)\u001b[0m\u001b[0;34m,\u001b[0m \u001b[0;34m'Start training'\u001b[0m\u001b[0;34m)\u001b[0m\u001b[0;34m\u001b[0m\u001b[0m\n\u001b[1;32m     20\u001b[0m                 \u001b[0mparam\u001b[0m \u001b[0;34m=\u001b[0m \u001b[0;34m{\u001b[0m\u001b[0;34m'max_depth'\u001b[0m\u001b[0;34m:\u001b[0m\u001b[0mdep\u001b[0m\u001b[0;34m,\u001b[0m \u001b[0;34m'eta'\u001b[0m\u001b[0;34m:\u001b[0m\u001b[0;36m0.01\u001b[0m\u001b[0;34m,\u001b[0m \u001b[0;34m'silent'\u001b[0m\u001b[0;34m:\u001b[0m\u001b[0;36m1\u001b[0m\u001b[0;34m,\u001b[0m \u001b[0;34m'objective'\u001b[0m\u001b[0;34m:\u001b[0m\u001b[0;34m'rank:pairwise'\u001b[0m\u001b[0;34m,\u001b[0m \u001b[0;34m'min_child_weight'\u001b[0m\u001b[0;34m:\u001b[0m\u001b[0;36m0.01\u001b[0m\u001b[0;34m}\u001b[0m\u001b[0;34m\u001b[0m\u001b[0m\n\u001b[0;32m---> 21\u001b[0;31m                 \u001b[0mbst\u001b[0m \u001b[0;34m=\u001b[0m \u001b[0mxgb\u001b[0m\u001b[0;34m.\u001b[0m\u001b[0mtrain\u001b[0m\u001b[0;34m(\u001b[0m\u001b[0mparam\u001b[0m\u001b[0;34m,\u001b[0m \u001b[0mdtrain_xgboost\u001b[0m\u001b[0;34m,\u001b[0m \u001b[0mnum_round\u001b[0m\u001b[0;34m)\u001b[0m\u001b[0;34m\u001b[0m\u001b[0m\n\u001b[0m\u001b[1;32m     22\u001b[0m                 \u001b[0mprint\u001b[0m\u001b[0;34m(\u001b[0m\u001b[0mdatetime\u001b[0m\u001b[0;34m.\u001b[0m\u001b[0mnow\u001b[0m\u001b[0;34m(\u001b[0m\u001b[0;34m)\u001b[0m\u001b[0;34m,\u001b[0m \u001b[0;34m'Training finished'\u001b[0m\u001b[0;34m)\u001b[0m\u001b[0;34m\u001b[0m\u001b[0m\n\u001b[1;32m     23\u001b[0m             \u001b[0;32melse\u001b[0m\u001b[0;34m:\u001b[0m\u001b[0;34m\u001b[0m\u001b[0m\n",
      "\u001b[0;32m~/.venvs/nerd/lib/python3.5/site-packages/xgboost/training.py\u001b[0m in \u001b[0;36mtrain\u001b[0;34m(params, dtrain, num_boost_round, evals, obj, feval, maximize, early_stopping_rounds, evals_result, verbose_eval, xgb_model, callbacks, learning_rates)\u001b[0m\n\u001b[1;32m    214\u001b[0m                            \u001b[0mevals\u001b[0m\u001b[0;34m=\u001b[0m\u001b[0mevals\u001b[0m\u001b[0;34m,\u001b[0m\u001b[0;34m\u001b[0m\u001b[0m\n\u001b[1;32m    215\u001b[0m                            \u001b[0mobj\u001b[0m\u001b[0;34m=\u001b[0m\u001b[0mobj\u001b[0m\u001b[0;34m,\u001b[0m \u001b[0mfeval\u001b[0m\u001b[0;34m=\u001b[0m\u001b[0mfeval\u001b[0m\u001b[0;34m,\u001b[0m\u001b[0;34m\u001b[0m\u001b[0m\n\u001b[0;32m--> 216\u001b[0;31m                            xgb_model=xgb_model, callbacks=callbacks)\n\u001b[0m\u001b[1;32m    217\u001b[0m \u001b[0;34m\u001b[0m\u001b[0m\n\u001b[1;32m    218\u001b[0m \u001b[0;34m\u001b[0m\u001b[0m\n",
      "\u001b[0;32m~/.venvs/nerd/lib/python3.5/site-packages/xgboost/training.py\u001b[0m in \u001b[0;36m_train_internal\u001b[0;34m(params, dtrain, num_boost_round, evals, obj, feval, xgb_model, callbacks)\u001b[0m\n\u001b[1;32m     72\u001b[0m         \u001b[0;31m# Skip the first update if it is a recovery step.\u001b[0m\u001b[0;34m\u001b[0m\u001b[0;34m\u001b[0m\u001b[0m\n\u001b[1;32m     73\u001b[0m         \u001b[0;32mif\u001b[0m \u001b[0mversion\u001b[0m \u001b[0;34m%\u001b[0m \u001b[0;36m2\u001b[0m \u001b[0;34m==\u001b[0m \u001b[0;36m0\u001b[0m\u001b[0;34m:\u001b[0m\u001b[0;34m\u001b[0m\u001b[0m\n\u001b[0;32m---> 74\u001b[0;31m             \u001b[0mbst\u001b[0m\u001b[0;34m.\u001b[0m\u001b[0mupdate\u001b[0m\u001b[0;34m(\u001b[0m\u001b[0mdtrain\u001b[0m\u001b[0;34m,\u001b[0m \u001b[0mi\u001b[0m\u001b[0;34m,\u001b[0m \u001b[0mobj\u001b[0m\u001b[0;34m)\u001b[0m\u001b[0;34m\u001b[0m\u001b[0m\n\u001b[0m\u001b[1;32m     75\u001b[0m             \u001b[0mbst\u001b[0m\u001b[0;34m.\u001b[0m\u001b[0msave_rabit_checkpoint\u001b[0m\u001b[0;34m(\u001b[0m\u001b[0;34m)\u001b[0m\u001b[0;34m\u001b[0m\u001b[0m\n\u001b[1;32m     76\u001b[0m             \u001b[0mversion\u001b[0m \u001b[0;34m+=\u001b[0m \u001b[0;36m1\u001b[0m\u001b[0;34m\u001b[0m\u001b[0m\n",
      "\u001b[0;32m~/.venvs/nerd/lib/python3.5/site-packages/xgboost/core.py\u001b[0m in \u001b[0;36mupdate\u001b[0;34m(self, dtrain, iteration, fobj)\u001b[0m\n\u001b[1;32m   1107\u001b[0m         \u001b[0;32mif\u001b[0m \u001b[0mfobj\u001b[0m \u001b[0;32mis\u001b[0m \u001b[0;32mNone\u001b[0m\u001b[0;34m:\u001b[0m\u001b[0;34m\u001b[0m\u001b[0m\n\u001b[1;32m   1108\u001b[0m             _check_call(_LIB.XGBoosterUpdateOneIter(self.handle, ctypes.c_int(iteration),\n\u001b[0;32m-> 1109\u001b[0;31m                                                     dtrain.handle))\n\u001b[0m\u001b[1;32m   1110\u001b[0m         \u001b[0;32melse\u001b[0m\u001b[0;34m:\u001b[0m\u001b[0;34m\u001b[0m\u001b[0m\n\u001b[1;32m   1111\u001b[0m             \u001b[0mpred\u001b[0m \u001b[0;34m=\u001b[0m \u001b[0mself\u001b[0m\u001b[0;34m.\u001b[0m\u001b[0mpredict\u001b[0m\u001b[0;34m(\u001b[0m\u001b[0mdtrain\u001b[0m\u001b[0;34m)\u001b[0m\u001b[0;34m\u001b[0m\u001b[0m\n",
      "\u001b[0;31mKeyboardInterrupt\u001b[0m: "
     ]
    }
   ],
   "source": [
    "process('ctx_coref_coh_can_fixed', \n",
    "        d_train_ctx_coref_coh_can_fixed_retrained, \n",
    "        d_test_a_ctx_coref_coh_can_fixed_retrained, \n",
    "        d_test_b_ctx_coref_coh_can_fixed_retrained, \n",
    "        d_train_total, d_test_a_total, d_test_b_total,\n",
    "        n_estimators=[4900], max_depths=[6])"
   ]
  },
  {
   "cell_type": "code",
   "execution_count": 31,
   "metadata": {},
   "outputs": [
    {
     "name": "stderr",
     "output_type": "stream",
     "text": [
      "/home/ymiao/.venvs/nerd/lib/python3.5/site-packages/xgboost/core.py:614: UserWarning: Use subset (sliced data) of np.ndarray is not recommended because it will generate extra copies and increase memory consumption\n",
      "  \"because it will generate extra copies and increase memory consumption\")\n"
     ]
    },
    {
     "name": "stdout",
     "output_type": "stream",
     "text": [
      "2019-08-31 03:16:30.484111 Start training\n",
      "2019-08-31 03:17:48.503374 Training finished\n",
      "2019-08-31 03:17:48.503862 Start evaluation\n",
      "n_estimators: 4900, max_depth: 6, acc_training: 0.9528612264710641, corr_num: 17667\n",
      "n_estimators: 4900, max_depth: 6, acc_validation: 0.8718430390315174, corr_num: 4177\n",
      "n_estimators: 4900, max_depth: 6, acc_test: 0.8749163879598663, corr_num: 3924\n",
      "2019-08-31 03:18:07.102404 Evaluation finished\n",
      "2019-08-31 03:18:07.157746 Model Saved: 4900_6_ctx_coref_coh_top3\n"
     ]
    }
   ],
   "source": [
    "model = load_model('4900_6_ctx_coref')\n",
    "train_filters = get_top_k_prediction_indices(model, d_train_ctx_coref, d_train_ctx_raw, q_docs_dict, 3)\n",
    "\n",
    "# use top-k rows predicted by local models for training global model\n",
    "process('ctx_coref_coh_top3', d_train_ctx_coref_coh, d_test_a_ctx_coref_coh, d_test_b_ctx_coref_coh, \n",
    "        d_train_total, d_test_a_total, d_test_b_total,\n",
    "        n_estimators=[4900], max_depths=[6], train_filter=train_filters)"
   ]
  },
  {
   "cell_type": "code",
   "execution_count": 33,
   "metadata": {},
   "outputs": [
    {
     "name": "stdout",
     "output_type": "stream",
     "text": [
      "(71664, 21)\n",
      "(18172, 21)\n",
      "(17177, 21)\n"
     ]
    }
   ],
   "source": [
    "d_train_ctx_local_top5 = fetch_all_features('basic_fea_ctx_local_top5', 'train', 'aida_conll')\n",
    "d_test_a_ctx_local_top5 = fetch_all_features('basic_fea_ctx_local_top5', 'testa', 'aida_conll')\n",
    "d_test_b_ctx_local_top5 = fetch_all_features('basic_fea_ctx_local_top5', 'testb', 'aida_conll')\n",
    "print(d_train_ctx_local_top5.shape)\n",
    "print(d_test_a_ctx_local_top5.shape)\n",
    "print(d_test_b_ctx_local_top5.shape)"
   ]
  },
  {
   "cell_type": "code",
   "execution_count": 34,
   "metadata": {},
   "outputs": [
    {
     "name": "stdout",
     "output_type": "stream",
     "text": [
      "(71664, 13)\n",
      "(18172, 13)\n",
      "(17177, 13)\n"
     ]
    }
   ],
   "source": [
    "d_train_coref_local_top5 = fetch_all_features('basic_fea_coref_local_top5', 'train', 'aida_conll')\n",
    "d_test_a_coref_local_top5 = fetch_all_features('basic_fea_coref_local_top5', 'testa', 'aida_conll')\n",
    "d_test_b_coref_local_top5 = fetch_all_features('basic_fea_coref_local_top5', 'testb', 'aida_conll')\n",
    "print(d_train_coref_local_top5.shape)\n",
    "print(d_test_a_coref_local_top5.shape)\n",
    "print(d_test_b_coref_local_top5.shape)"
   ]
  },
  {
   "cell_type": "code",
   "execution_count": 35,
   "metadata": {},
   "outputs": [
    {
     "name": "stdout",
     "output_type": "stream",
     "text": [
      "Building idx for new features...\n",
      "Combine original and new features...\n",
      "Building idx for new features...\n",
      "Combine original and new features...\n",
      "Building idx for new features...\n",
      "Combine original and new features...\n",
      "(71664, 32)\n",
      "(18172, 32)\n",
      "(17177, 32)\n"
     ]
    }
   ],
   "source": [
    "d_train_ctx_coref_local_top5 = combine_features(d_train_ctx_local_top5, d_train_coref_local_top5)\n",
    "d_test_a_ctx_coref_local_top5 = combine_features(d_test_a_ctx_local_top5, d_test_a_coref_local_top5)\n",
    "d_test_b_ctx_coref_local_top5 = combine_features(d_test_b_ctx_local_top5, d_test_b_coref_local_top5)\n",
    "print(d_train_ctx_coref_local_top5.shape)\n",
    "print(d_test_a_ctx_coref_local_top5.shape)\n",
    "print(d_test_b_ctx_coref_local_top5.shape)"
   ]
  },
  {
   "cell_type": "code",
   "execution_count": 41,
   "metadata": {},
   "outputs": [
    {
     "name": "stdout",
     "output_type": "stream",
     "text": [
      "2019-08-31 23:45:21.719299 Start training\n",
      "2019-09-01 00:22:18.446003 Training finished\n",
      "2019-09-01 00:22:18.446502 Start evaluation\n",
      "n_estimators: 4900, max_depth: 6, acc_training: 0.9607896014238714, corr_num: 17814\n",
      "n_estimators: 4900, max_depth: 6, acc_validation: 0.8841577958672511, corr_num: 4236\n",
      "n_estimators: 4900, max_depth: 6, acc_test: 0.8401337792642141, corr_num: 3768\n",
      "2019-09-01 00:22:19.675920 Evaluation finished\n",
      "2019-09-01 00:22:19.711191 Model Saved: 4900_6_ctx_coref_local_top5\n"
     ]
    }
   ],
   "source": [
    "process('ctx_coref_local_top5', \n",
    "        d_train_ctx_coref_local_top5, \n",
    "        d_test_a_ctx_coref_local_top5, \n",
    "        d_test_b_ctx_coref_local_top5, \n",
    "        d_train_total, d_test_a_total, d_test_b_total,\n",
    "        n_estimators=[4900], max_depths=[6])"
   ]
  },
  {
   "cell_type": "code",
   "execution_count": 37,
   "metadata": {},
   "outputs": [
    {
     "name": "stdout",
     "output_type": "stream",
     "text": [
      "(71664, 21)\n",
      "(18172, 21)\n",
      "(17177, 21)\n"
     ]
    }
   ],
   "source": [
    "d_train_ctx_local_top5_recomputed = fetch_all_features('basic_fea_ctx_local_top5_recomputed', 'train', 'aida_conll')\n",
    "d_test_a_ctx_local_top5_recomputed = fetch_all_features('basic_fea_ctx_local_top5_recomputed', 'testa', 'aida_conll')\n",
    "d_test_b_ctx_local_top5_recomputed = fetch_all_features('basic_fea_ctx_local_top5_recomputed', 'testb', 'aida_conll')\n",
    "print(d_train_ctx_local_top5_recomputed.shape)\n",
    "print(d_test_a_ctx_local_top5_recomputed.shape)\n",
    "print(d_test_b_ctx_local_top5_recomputed.shape)"
   ]
  },
  {
   "cell_type": "code",
   "execution_count": 38,
   "metadata": {},
   "outputs": [
    {
     "name": "stdout",
     "output_type": "stream",
     "text": [
      "Building idx for new features...\n",
      "Combine original and new features...\n",
      "Building idx for new features...\n",
      "Combine original and new features...\n",
      "Building idx for new features...\n",
      "Combine original and new features...\n",
      "(71664, 32)\n",
      "(18172, 32)\n",
      "(17177, 32)\n"
     ]
    }
   ],
   "source": [
    "d_train_ctx_coref_local_top5_recomputed = combine_features(d_train_ctx_local_top5_recomputed, d_train_coref_local_top5)\n",
    "d_test_a_ctx_coref_local_top5_recomputed = combine_features(d_test_a_ctx_local_top5_recomputed, d_test_a_coref_local_top5)\n",
    "d_test_b_ctx_coref_local_top5_recomputed = combine_features(d_test_b_ctx_local_top5_recomputed, d_test_b_coref_local_top5)\n",
    "print(d_train_ctx_coref_local_top5_recomputed.shape)\n",
    "print(d_test_a_ctx_coref_local_top5_recomputed.shape)\n",
    "print(d_test_b_ctx_coref_local_top5_recomputed.shape)"
   ]
  },
  {
   "cell_type": "code",
   "execution_count": 42,
   "metadata": {},
   "outputs": [
    {
     "name": "stdout",
     "output_type": "stream",
     "text": [
      "2019-09-01 00:22:19.747046 Start training\n",
      "2019-09-01 00:26:37.042169 Training finished\n",
      "2019-09-01 00:26:37.042669 Start evaluation\n",
      "n_estimators: 4900, max_depth: 6, acc_training: 0.969419125182029, corr_num: 17974\n",
      "n_estimators: 4900, max_depth: 6, acc_validation: 0.8897933625547902, corr_num: 4263\n",
      "n_estimators: 4900, max_depth: 6, acc_test: 0.854180602006689, corr_num: 3831\n",
      "2019-09-01 00:26:38.234061 Evaluation finished\n",
      "2019-09-01 00:26:38.272593 Model Saved: 4900_6_ctx_coref_local_top5_recomputed\n"
     ]
    }
   ],
   "source": [
    "process('ctx_coref_local_top5_recomputed', \n",
    "        d_train_ctx_coref_local_top5_recomputed, \n",
    "        d_test_a_ctx_coref_local_top5_recomputed, \n",
    "        d_test_b_ctx_coref_local_top5_recomputed, \n",
    "        d_train_total, d_test_a_total, d_test_b_total,\n",
    "        n_estimators=[4900], max_depths=[6])"
   ]
  },
  {
   "cell_type": "code",
   "execution_count": 43,
   "metadata": {},
   "outputs": [
    {
     "name": "stdout",
     "output_type": "stream",
     "text": [
      "(71664, 24)\n",
      "(18172, 24)\n",
      "(17177, 24)\n"
     ]
    }
   ],
   "source": [
    "d_train_coh_local_top5_recomputed = fetch_all_features('basic_fea_coh_local_top5_recomputed', 'train', 'aida_conll')\n",
    "d_test_a_coh_local_top5_recomputed = fetch_all_features('basic_fea_coh_local_top5_recomputed', 'testa', 'aida_conll')\n",
    "d_test_b_coh_local_top5_recomputed = fetch_all_features('basic_fea_coh_local_top5_recomputed', 'testb', 'aida_conll')\n",
    "print(d_train_coh_local_top5_recomputed.shape)\n",
    "print(d_test_a_coh_local_top5_recomputed.shape)\n",
    "print(d_test_b_coh_local_top5_recomputed.shape)"
   ]
  },
  {
   "cell_type": "code",
   "execution_count": 44,
   "metadata": {},
   "outputs": [
    {
     "name": "stdout",
     "output_type": "stream",
     "text": [
      "Building idx for new features...\n",
      "Combine original and new features...\n",
      "Building idx for new features...\n",
      "Combine original and new features...\n",
      "Building idx for new features...\n",
      "Combine original and new features...\n",
      "(71664, 54)\n",
      "(18172, 54)\n",
      "(17177, 54)\n"
     ]
    }
   ],
   "source": [
    "d_train_ctx_coref_coh_local_top5_recomputed = combine_features(d_train_ctx_coref_local_top5_recomputed, d_train_coh_local_top5_recomputed)\n",
    "d_test_a_ctx_coref_coh_local_top5_recomputed = combine_features(d_test_a_ctx_coref_local_top5_recomputed, d_test_a_coh_local_top5_recomputed)\n",
    "d_test_b_ctx_coref_coh_local_top5_recomputed = combine_features(d_test_b_ctx_coref_local_top5_recomputed, d_test_b_coh_local_top5_recomputed)\n",
    "print(d_train_ctx_coref_coh_local_top5_recomputed.shape)\n",
    "print(d_test_a_ctx_coref_coh_local_top5_recomputed.shape)\n",
    "print(d_test_b_ctx_coref_coh_local_top5_recomputed.shape)"
   ]
  },
  {
   "cell_type": "code",
   "execution_count": 45,
   "metadata": {},
   "outputs": [
    {
     "name": "stdout",
     "output_type": "stream",
     "text": [
      "2019-09-01 16:36:22.278439 Start training\n",
      "2019-09-01 16:38:26.329463 Training finished\n",
      "2019-09-01 16:38:26.329965 Start evaluation\n",
      "n_estimators: 4900, max_depth: 6, acc_training: 0.9715765061215684, corr_num: 18014\n",
      "n_estimators: 4900, max_depth: 6, acc_validation: 0.8958463786265916, corr_num: 4292\n",
      "n_estimators: 4900, max_depth: 6, acc_test: 0.8965440356744705, corr_num: 4021\n",
      "2019-09-01 16:38:27.467853 Evaluation finished\n",
      "2019-09-01 16:38:27.513430 Model Saved: 4900_6_ctx_coref_coh_local_top5_recomputed\n"
     ]
    }
   ],
   "source": [
    "process('ctx_coref_coh_local_top5_recomputed', \n",
    "        d_train_ctx_coref_coh_local_top5_recomputed, \n",
    "        d_test_a_ctx_coref_coh_local_top5_recomputed, \n",
    "        d_test_b_ctx_coref_coh_local_top5_recomputed, \n",
    "        d_train_total, d_test_a_total, d_test_b_total,\n",
    "        n_estimators=[4900], max_depths=[6])"
   ]
  },
  {
   "cell_type": "code",
   "execution_count": 48,
   "metadata": {},
   "outputs": [
    {
     "name": "stdout",
     "output_type": "stream",
     "text": [
      "18158\n",
      "4630\n",
      "4312\n"
     ]
    }
   ],
   "source": [
    "print(true_labels(d_train_ctx_local_top5))\n",
    "print(true_labels(d_test_a_ctx_local_top5))\n",
    "print(true_labels(d_test_b_ctx_local_top5))"
   ]
  },
  {
   "cell_type": "code",
   "execution_count": 51,
   "metadata": {},
   "outputs": [
    {
     "name": "stderr",
     "output_type": "stream",
     "text": [
      "/home/ymiao/.venvs/nerd/lib/python3.5/site-packages/xgboost/core.py:614: UserWarning: Use subset (sliced data) of np.ndarray is not recommended because it will generate extra copies and increase memory consumption\n",
      "  \"because it will generate extra copies and increase memory consumption\")\n"
     ]
    },
    {
     "name": "stdout",
     "output_type": "stream",
     "text": [
      "2019-09-01 16:51:10.104591 Loading model: 4900_6_ctx_coref_coh_local_top5_recomputed\n",
      "2019-09-01 16:51:10.140302 Start evaluation\n",
      "18154 18158 0.9791273394099563 0.9793430775039103\n",
      "7.084683110633787 0.4595391193611754\n",
      "n_estimators: 4900, max_depth: 6, acc_training: 0.9715765061215684, corr_num: 18014\n",
      "4577 4614 0.9553329158839491 0.963055729492799\n",
      "6.805830977846009 2.3499018877039295\n",
      "n_estimators: 4900, max_depth: 6, acc_validation: 0.8958463786265916, corr_num: 4292\n",
      "4263 4297 0.9505016722408027 0.958082497212932\n",
      "6.552477043442432 2.1328936287832425\n",
      "n_estimators: 4900, max_depth: 6, acc_test: 0.8965440356744705, corr_num: 4021\n",
      "2019-09-01 16:51:13.608142 Evaluation finished\n"
     ]
    }
   ],
   "source": [
    "process('ctx_coref_coh_local_top5_recomputed', \n",
    "        d_train_ctx_coref_coh_local_top5_recomputed, \n",
    "        d_test_a_ctx_coref_coh_local_top5_recomputed, \n",
    "        d_test_b_ctx_coref_coh_local_top5_recomputed, \n",
    "        d_train_total, d_test_a_total, d_test_b_total, train_mode=False,\n",
    "        n_estimators=[4900], max_depths=[6], eval_func=evalerror_detail_log_xl)"
   ]
  },
  {
   "cell_type": "code",
   "execution_count": 53,
   "metadata": {},
   "outputs": [
    {
     "name": "stdout",
     "output_type": "stream",
     "text": [
      "2019-09-01 17:03:13.094113 Loading model: 4900_6_ctx_coref_coh\n",
      "2019-09-01 17:03:13.121013 Start evaluation\n",
      "18283 18288 0.9860848929399709 0.9863545655574133\n",
      "6.436028399506393 0.5458581280377176\n",
      "n_estimators: 4900, max_depth: 6, acc_training: 0.9752979882422739, corr_num: 18083\n",
      "4593 4641 0.9586725109580463 0.9686912961803381\n",
      "6.195311459096339 2.27208551093936\n",
      "n_estimators: 4900, max_depth: 6, acc_validation: 0.8960551033187226, corr_num: 4293\n",
      "4296 4366 0.9578595317725752 0.9734671125975474\n",
      "5.945393253159973 2.0214627251673596\n",
      "n_estimators: 4900, max_depth: 6, acc_test: 0.89520624303233, corr_num: 4015\n",
      "2019-09-01 17:03:31.947729 Evaluation finished\n"
     ]
    }
   ],
   "source": [
    "process('ctx_coref_coh', \n",
    "        d_train_ctx_coref_coh, \n",
    "        d_test_a_ctx_coref_coh, \n",
    "        d_test_b_ctx_coref_coh, \n",
    "        d_train_total, d_test_a_total, d_test_b_total, train_mode=False,\n",
    "        n_estimators=[4900], max_depths=[6], eval_func=evalerror_detail_log_xl)"
   ]
  },
  {
   "cell_type": "code",
   "execution_count": 54,
   "metadata": {},
   "outputs": [
    {
     "name": "stdout",
     "output_type": "stream",
     "text": [
      "(46467, 21)\n",
      "(11756, 21)\n",
      "(11043, 21)\n"
     ]
    }
   ],
   "source": [
    "d_train_ctx_global_top3 = fetch_all_features('basic_fea_ctx_global_top3', 'train', 'aida_conll')\n",
    "d_test_a_ctx_global_top3 = fetch_all_features('basic_fea_ctx_global_top3', 'testa', 'aida_conll')\n",
    "d_test_b_ctx_global_top3 = fetch_all_features('basic_fea_ctx_global_top3', 'testb', 'aida_conll')\n",
    "print(d_train_ctx_global_top3.shape)\n",
    "print(d_test_a_ctx_global_top3.shape)\n",
    "print(d_test_b_ctx_global_top3.shape)"
   ]
  },
  {
   "cell_type": "code",
   "execution_count": 56,
   "metadata": {},
   "outputs": [
    {
     "name": "stdout",
     "output_type": "stream",
     "text": [
      "(46467, 13)\n",
      "(11756, 13)\n",
      "(11043, 13)\n"
     ]
    }
   ],
   "source": [
    "d_train_coref_global_top3 = fetch_all_features('basic_fea_coref_global_top3', 'train', 'aida_conll')\n",
    "d_test_a_coref_global_top3 = fetch_all_features('basic_fea_coref_global_top3', 'testa', 'aida_conll')\n",
    "d_test_b_coref_global_top3 = fetch_all_features('basic_fea_coref_global_top3', 'testb', 'aida_conll')\n",
    "print(d_train_coref_global_top3.shape)\n",
    "print(d_test_a_coref_global_top3.shape)\n",
    "print(d_test_b_coref_global_top3.shape)"
   ]
  },
  {
   "cell_type": "code",
   "execution_count": 57,
   "metadata": {},
   "outputs": [
    {
     "name": "stdout",
     "output_type": "stream",
     "text": [
      "Building idx for new features...\n",
      "Combine original and new features...\n",
      "Building idx for new features...\n",
      "Combine original and new features...\n",
      "Building idx for new features...\n",
      "Combine original and new features...\n",
      "(46467, 32)\n",
      "(11756, 32)\n",
      "(11043, 32)\n"
     ]
    }
   ],
   "source": [
    "d_train_ctx_coref_global_top3 = combine_features(d_train_ctx_global_top3, d_train_coref_global_top3)\n",
    "d_test_a_ctx_coref_global_top3 = combine_features(d_test_a_ctx_global_top3, d_test_a_coref_global_top3)\n",
    "d_test_b_ctx_coref_global_top3 = combine_features(d_test_b_ctx_global_top3, d_test_b_coref_global_top3)\n",
    "print(d_train_ctx_coref_global_top3.shape)\n",
    "print(d_test_a_ctx_coref_global_top3.shape)\n",
    "print(d_test_b_ctx_coref_global_top3.shape)"
   ]
  },
  {
   "cell_type": "code",
   "execution_count": 58,
   "metadata": {},
   "outputs": [
    {
     "name": "stderr",
     "output_type": "stream",
     "text": [
      "/home/ymiao/.venvs/nerd/lib/python3.5/site-packages/xgboost/core.py:614: UserWarning: Use subset (sliced data) of np.ndarray is not recommended because it will generate extra copies and increase memory consumption\n",
      "  \"because it will generate extra copies and increase memory consumption\")\n"
     ]
    },
    {
     "name": "stdout",
     "output_type": "stream",
     "text": [
      "2019-09-01 18:00:14.719965 Start training\n",
      "2019-09-01 18:01:03.894624 Training finished\n",
      "2019-09-01 18:01:03.895503 Start evaluation\n",
      "n_estimators: 4900, max_depth: 6, acc_training: 0.969526994229006, corr_num: 17976\n",
      "n_estimators: 4900, max_depth: 6, acc_validation: 0.8874973909413484, corr_num: 4252\n",
      "n_estimators: 4900, max_depth: 6, acc_test: 0.8472686733556298, corr_num: 3800\n",
      "2019-09-01 18:01:04.647782 Evaluation finished\n",
      "2019-09-01 18:01:04.677222 Model Saved: 4900_6_ctx_coref_global_top3\n"
     ]
    }
   ],
   "source": [
    "process('ctx_coref_global_top3', \n",
    "        d_train_ctx_coref_global_top3, \n",
    "        d_test_a_ctx_coref_global_top3, \n",
    "        d_test_b_ctx_coref_global_top3, \n",
    "        d_train_total, d_test_a_total, d_test_b_total,\n",
    "        n_estimators=[4900], max_depths=[6])"
   ]
  },
  {
   "cell_type": "code",
   "execution_count": 59,
   "metadata": {},
   "outputs": [
    {
     "name": "stdout",
     "output_type": "stream",
     "text": [
      "(46467, 24)\n",
      "(11756, 24)\n",
      "(11043, 24)\n"
     ]
    }
   ],
   "source": [
    "d_train_coh_global_top3 = fetch_all_features('basic_fea_coh_global_top3', 'train', 'aida_conll')\n",
    "d_test_a_coh_global_top3 = fetch_all_features('basic_fea_coh_global_top3', 'testa', 'aida_conll')\n",
    "d_test_b_coh_global_top3 = fetch_all_features('basic_fea_coh_global_top3', 'testb', 'aida_conll')\n",
    "print(d_train_coh_global_top3.shape)\n",
    "print(d_test_a_coh_global_top3.shape)\n",
    "print(d_test_b_coh_global_top3.shape)"
   ]
  },
  {
   "cell_type": "code",
   "execution_count": 60,
   "metadata": {},
   "outputs": [
    {
     "name": "stdout",
     "output_type": "stream",
     "text": [
      "Building idx for new features...\n",
      "Combine original and new features...\n",
      "Building idx for new features...\n",
      "Combine original and new features...\n",
      "Building idx for new features...\n",
      "Combine original and new features...\n",
      "(46467, 54)\n",
      "(11756, 54)\n",
      "(11043, 54)\n"
     ]
    }
   ],
   "source": [
    "d_train_ctx_coref_coh_global_top3 = combine_features(d_train_ctx_coref_global_top3, d_train_coh_global_top3)\n",
    "d_test_a_ctx_coref_coh_global_top3 = combine_features(d_test_a_ctx_coref_global_top3, d_test_a_coh_global_top3)\n",
    "d_test_b_ctx_coref_coh_global_top3 = combine_features(d_test_b_ctx_coref_global_top3, d_test_b_coh_global_top3)\n",
    "print(d_train_ctx_coref_coh_global_top3.shape)\n",
    "print(d_test_a_ctx_coref_coh_global_top3.shape)\n",
    "print(d_test_b_ctx_coref_coh_global_top3.shape)"
   ]
  },
  {
   "cell_type": "code",
   "execution_count": 61,
   "metadata": {},
   "outputs": [
    {
     "name": "stdout",
     "output_type": "stream",
     "text": [
      "2019-09-01 18:19:01.208889 Start training\n",
      "2019-09-01 18:20:20.765258 Training finished\n",
      "2019-09-01 18:20:20.765764 Start evaluation\n",
      "n_estimators: 4900, max_depth: 6, acc_training: 0.9724394584973842, corr_num: 18030\n",
      "n_estimators: 4900, max_depth: 6, acc_validation: 0.8931329576288874, corr_num: 4279\n",
      "n_estimators: 4900, max_depth: 6, acc_test: 0.893422519509476, corr_num: 4007\n",
      "2019-09-01 18:20:21.516661 Evaluation finished\n",
      "2019-09-01 18:20:21.542425 Model Saved: 4900_6_ctx_coref_coh_global_top3\n"
     ]
    }
   ],
   "source": [
    "process('ctx_coref_coh_global_top3', \n",
    "        d_train_ctx_coref_coh_global_top3, \n",
    "        d_test_a_ctx_coref_coh_global_top3, \n",
    "        d_test_b_ctx_coref_coh_global_top3, \n",
    "        d_train_total, d_test_a_total, d_test_b_total,\n",
    "        n_estimators=[4900], max_depths=[6])"
   ]
  },
  {
   "cell_type": "code",
   "execution_count": 63,
   "metadata": {},
   "outputs": [
    {
     "name": "stderr",
     "output_type": "stream",
     "text": [
      "/home/ymiao/.venvs/nerd/lib/python3.5/site-packages/xgboost/core.py:614: UserWarning: Use subset (sliced data) of np.ndarray is not recommended because it will generate extra copies and increase memory consumption\n",
      "  \"because it will generate extra copies and increase memory consumption\")\n"
     ]
    },
    {
     "name": "stdout",
     "output_type": "stream",
     "text": [
      "2019-09-01 18:31:54.127177 Loading model: 4900_6_ctx_coref_coh_global_top3\n",
      "2019-09-01 18:31:54.159686 Start evaluation\n",
      "18156 18158 0.9792352084569332 0.9793430775039103\n",
      "6.927968150472532 0.4268307213205844\n",
      "n_estimators: 4900, max_depth: 6, acc_training: 0.9724394584973842, corr_num: 18030\n",
      "4582 4614 0.9563765393446044 0.963055729492799\n",
      "6.659764653868764 2.466221240029406\n",
      "n_estimators: 4900, max_depth: 6, acc_validation: 0.8931329576288874, corr_num: 4279\n",
      "4259 4297 0.9496098104793756 0.958082497212932\n",
      "6.4027682420096514 2.0277612530979616\n",
      "n_estimators: 4900, max_depth: 6, acc_test: 0.893422519509476, corr_num: 4007\n",
      "2019-09-01 18:31:57.909345 Evaluation finished\n"
     ]
    }
   ],
   "source": [
    "process('ctx_coref_coh_global_top3', \n",
    "        d_train_ctx_coref_coh_global_top3, \n",
    "        d_test_a_ctx_coref_coh_global_top3, \n",
    "        d_test_b_ctx_coref_coh_global_top3, \n",
    "        d_train_total, d_test_a_total, d_test_b_total, train_mode=False,\n",
    "        n_estimators=[4900], max_depths=[6], eval_func=evalerror_detail_log_xl)"
   ]
  },
  {
   "cell_type": "code",
   "execution_count": 67,
   "metadata": {},
   "outputs": [
    {
     "name": "stdout",
     "output_type": "stream",
     "text": [
      "(71664, 21)\n",
      "(18172, 21)\n",
      "(17177, 21)\n",
      "(71664, 13)\n",
      "(18172, 13)\n",
      "(17177, 13)\n",
      "Building idx for new features...\n",
      "Combine original and new features...\n",
      "Building idx for new features...\n",
      "Combine original and new features...\n",
      "Building idx for new features...\n",
      "Combine original and new features...\n",
      "(71664, 32)\n",
      "(18172, 32)\n",
      "(17177, 32)\n"
     ]
    }
   ],
   "source": [
    "d_train_ctx_global_top5 = fetch_all_features('basic_fea_ctx_global_top5', 'train', 'aida_conll')\n",
    "d_test_a_ctx_global_top5 = fetch_all_features('basic_fea_ctx_global_top5', 'testa', 'aida_conll')\n",
    "d_test_b_ctx_global_top5 = fetch_all_features('basic_fea_ctx_global_top5', 'testb', 'aida_conll')\n",
    "print(d_train_ctx_global_top5.shape)\n",
    "print(d_test_a_ctx_global_top5.shape)\n",
    "print(d_test_b_ctx_global_top5.shape)\n",
    "\n",
    "d_train_coref_global_top5 = fetch_all_features('basic_fea_coref_global_top5', 'train', 'aida_conll')\n",
    "d_test_a_coref_global_top5 = fetch_all_features('basic_fea_coref_global_top5', 'testa', 'aida_conll')\n",
    "d_test_b_coref_global_top5 = fetch_all_features('basic_fea_coref_global_top5', 'testb', 'aida_conll')\n",
    "print(d_train_coref_global_top5.shape)\n",
    "print(d_test_a_coref_global_top5.shape)\n",
    "print(d_test_b_coref_global_top5.shape)\n",
    "\n",
    "d_train_ctx_coref_global_top5 = combine_features(d_train_ctx_global_top5, d_train_coref_global_top5)\n",
    "d_test_a_ctx_coref_global_top5 = combine_features(d_test_a_ctx_global_top5, d_test_a_coref_global_top5)\n",
    "d_test_b_ctx_coref_global_top5 = combine_features(d_test_b_ctx_global_top5, d_test_b_coref_global_top5)\n",
    "print(d_train_ctx_coref_global_top5.shape)\n",
    "print(d_test_a_ctx_coref_global_top5.shape)\n",
    "print(d_test_b_ctx_coref_global_top5.shape)"
   ]
  },
  {
   "cell_type": "code",
   "execution_count": 68,
   "metadata": {},
   "outputs": [
    {
     "name": "stdout",
     "output_type": "stream",
     "text": [
      "2019-09-01 21:15:04.543463 Start training\n",
      "2019-09-01 21:16:19.847759 Training finished\n",
      "2019-09-01 21:16:19.848264 Start evaluation\n",
      "n_estimators: 4900, max_depth: 6, acc_training: 0.9695809287524945, corr_num: 17977\n",
      "n_estimators: 4900, max_depth: 6, acc_validation: 0.8879148403256105, corr_num: 4254\n",
      "n_estimators: 4900, max_depth: 6, acc_test: 0.8539576365663322, corr_num: 3830\n",
      "2019-09-01 21:16:20.928129 Evaluation finished\n",
      "2019-09-01 21:16:20.965270 Model Saved: 4900_6_ctx_coref_global_top5\n"
     ]
    }
   ],
   "source": [
    "process('ctx_coref_global_top5', \n",
    "        d_train_ctx_coref_global_top5, \n",
    "        d_test_a_ctx_coref_global_top5, \n",
    "        d_test_b_ctx_coref_global_top5, \n",
    "        d_train_total, d_test_a_total, d_test_b_total,\n",
    "        n_estimators=[4900], max_depths=[6])"
   ]
  },
  {
   "cell_type": "code",
   "execution_count": 69,
   "metadata": {},
   "outputs": [
    {
     "name": "stdout",
     "output_type": "stream",
     "text": [
      "(71664, 24)\n",
      "(18172, 24)\n",
      "(17177, 24)\n",
      "Building idx for new features...\n",
      "Combine original and new features...\n",
      "Building idx for new features...\n",
      "Combine original and new features...\n",
      "Building idx for new features...\n",
      "Combine original and new features...\n",
      "(71664, 54)\n",
      "(18172, 54)\n",
      "(17177, 54)\n"
     ]
    }
   ],
   "source": [
    "d_train_coh_global_top5 = fetch_all_features('basic_fea_coh_global_top5', 'train', 'aida_conll')\n",
    "d_test_a_coh_global_top5 = fetch_all_features('basic_fea_coh_global_top5', 'testa', 'aida_conll')\n",
    "d_test_b_coh_global_top5 = fetch_all_features('basic_fea_coh_global_top5', 'testb', 'aida_conll')\n",
    "print(d_train_coh_global_top5.shape)\n",
    "print(d_test_a_coh_global_top5.shape)\n",
    "print(d_test_b_coh_global_top5.shape)\n",
    "\n",
    "d_train_ctx_coref_coh_global_top5 = combine_features(d_train_ctx_coref_global_top5, d_train_coh_global_top5)\n",
    "d_test_a_ctx_coref_coh_global_top5 = combine_features(d_test_a_ctx_coref_global_top5, d_test_a_coh_global_top5)\n",
    "d_test_b_ctx_coref_coh_global_top5 = combine_features(d_test_b_ctx_coref_global_top5, d_test_b_coh_global_top5)\n",
    "print(d_train_ctx_coref_coh_global_top5.shape)\n",
    "print(d_test_a_ctx_coref_coh_global_top5.shape)\n",
    "print(d_test_b_ctx_coref_coh_global_top5.shape)"
   ]
  },
  {
   "cell_type": "code",
   "execution_count": 70,
   "metadata": {},
   "outputs": [
    {
     "name": "stdout",
     "output_type": "stream",
     "text": [
      "2019-09-01 22:18:47.823605 Start training\n",
      "2019-09-01 22:20:53.947961 Training finished\n",
      "2019-09-01 22:20:53.948465 Start evaluation\n",
      "n_estimators: 4900, max_depth: 6, acc_training: 0.9716304406450569, corr_num: 18015\n",
      "n_estimators: 4900, max_depth: 6, acc_validation: 0.897098726779378, corr_num: 4298\n",
      "n_estimators: 4900, max_depth: 6, acc_test: 0.893422519509476, corr_num: 4007\n",
      "2019-09-01 22:20:55.102850 Evaluation finished\n",
      "2019-09-01 22:20:55.134239 Model Saved: 4900_6_ctx_coref_coh_global_top5\n"
     ]
    }
   ],
   "source": [
    "process('ctx_coref_coh_global_top5', \n",
    "        d_train_ctx_coref_coh_global_top5, \n",
    "        d_test_a_ctx_coref_coh_global_top5, \n",
    "        d_test_b_ctx_coref_coh_global_top5, \n",
    "        d_train_total, d_test_a_total, d_test_b_total,\n",
    "        n_estimators=[4900], max_depths=[6])"
   ]
  },
  {
   "cell_type": "code",
   "execution_count": 47,
   "metadata": {},
   "outputs": [],
   "source": [
    "def get_wiki_articles(ids):\n",
    "    prefix = 'en.wikipedia.org/wiki/'\n",
    "    with conn_psql_kongzi2.cursor() as cursor:\n",
    "        sql = 'select _id, text from wikipedia_articles_2014 where _id in (%s)' % (','.join(['%s'] * len(ids)))\n",
    "        cursor.execute(sql, tuple(prefix + _id for _id in ids))\n",
    "        return {row[0][len(prefix):]:row[1] for row in cursor.fetchall()}"
   ]
  },
  {
   "cell_type": "code",
   "execution_count": 59,
   "metadata": {},
   "outputs": [],
   "source": [
    "def extract_wiki_articles(ids_file_path: str, output_dir: str, batch_size:int=500):\n",
    "    def save_article(_id, text):\n",
    "        text_path = os.path.join(output_dir, _id)\n",
    "        if '/' in _id:  # slash exists in the id\n",
    "            _dir = os.path.dirname(text_path)\n",
    "            if not os.path.exists(_dir):\n",
    "                os.makedirs(_dir)\n",
    "        with open(text_path, 'w') as fo:\n",
    "            fo.write(text)\n",
    "            \n",
    "    if not os.path.exists(output_dir):\n",
    "        os.makedirs(output_dir)\n",
    "        \n",
    "    ids = []\n",
    "    with open(ids_file_path) as f:\n",
    "        for line in f:\n",
    "            _id = line.strip()\n",
    "            ids.append(_id)\n",
    "            if len(ids) == batch_size:\n",
    "                for _id, text in get_wiki_articles(ids).items():\n",
    "                    save_article(_id, text)\n",
    "                ids = []\n",
    "        if ids:\n",
    "            for _id, text in get_wiki_articles(ids):\n",
    "                save_article(_id, text)"
   ]
  },
  {
   "cell_type": "code",
   "execution_count": 61,
   "metadata": {},
   "outputs": [],
   "source": [
    "def extract_wiki_articles_json(ids_file_path: str, output_file: str, batch_size:int=500):\n",
    "    results = {}\n",
    "    ids = []\n",
    "    with open(ids_file_path) as f:\n",
    "        for line in f:\n",
    "            _id = line.strip()\n",
    "            ids.append(_id)\n",
    "            if len(ids) == batch_size:\n",
    "                results.update(get_wiki_articles(ids))\n",
    "                ids = []\n",
    "        if ids:\n",
    "            results.update(get_wiki_articles(ids))\n",
    "    \n",
    "    with open(output_file, 'w') as f:\n",
    "        json.dump(results, f, indent=2)"
   ]
  },
  {
   "cell_type": "code",
   "execution_count": 62,
   "metadata": {},
   "outputs": [],
   "source": [
    "extract_wiki_articles_json('/home/ymiao/candidate_list.txt', '/home/ymiao/candidate_wiki_articles.json')"
   ]
  },
  {
   "cell_type": "code",
   "execution_count": 54,
   "metadata": {},
   "outputs": [
    {
     "data": {
      "text/plain": [
       "'abc\\\\/def'"
      ]
     },
     "execution_count": 54,
     "metadata": {},
     "output_type": "execute_result"
    }
   ],
   "source": [
    "os.path.normpath('abc\\/def')"
   ]
  },
  {
   "cell_type": "code",
   "execution_count": null,
   "metadata": {},
   "outputs": [],
   "source": []
  }
 ],
 "metadata": {
  "kernelspec": {
   "display_name": "Python 3",
   "language": "python",
   "name": "python3"
  },
  "language_info": {
   "codemirror_mode": {
    "name": "ipython",
    "version": 3
   },
   "file_extension": ".py",
   "mimetype": "text/x-python",
   "name": "python",
   "nbconvert_exporter": "python",
   "pygments_lexer": "ipython3",
   "version": "3.5.2"
  }
 },
 "nbformat": 4,
 "nbformat_minor": 2
}
